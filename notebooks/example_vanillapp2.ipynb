{
 "cells": [
  {
   "cell_type": "code",
   "execution_count": null,
   "id": "a49e51aa",
   "metadata": {},
   "outputs": [],
   "source": [
    "import anndata\n",
    "import numpy as np\n",
    "import scvelo as scv\n",
    "import sys\n",
    "import torch\n",
    "\n",
    "sys.path.append('../')\n",
    "import velovae as vv"
   ]
  },
  {
   "cell_type": "code",
   "execution_count": null,
   "id": "2dbb8099",
   "metadata": {},
   "outputs": [],
   "source": [
    "#filename = '/nfs/turbo/umms-welchjd/yichen/data/scRNA/3423-MV-2_adata_postpro.h5ad'\n",
    "filename = '/nfs/turbo/umms-welchjd/yichen/data/scRNA/braindev_pp.h5ad'\n",
    "adata = anndata.read_h5ad(filename)\n",
    "#adata2 = anndata.read_h5ad('/scratch/blaauw_root/blaauw1/gyichen/output.h5ad')"
   ]
  },
  {
   "cell_type": "code",
   "execution_count": null,
   "id": "8e750c66",
   "metadata": {},
   "outputs": [],
   "source": [
    "Ngene = 1000\n",
    "vv.preprocess(adata, Ngene)"
   ]
  },
  {
   "cell_type": "code",
   "execution_count": null,
   "id": "34070fe8",
   "metadata": {},
   "outputs": [],
   "source": [
    "figure_path = '../figures/Braindev/Rho'\n",
    "model_path = '../checkpoints/Braindev/Rho'\n",
    "data_path = '/scratch/blaauw_root/blaauw1/gyichen/'\n",
    "#data_path = '../data/Dentategyrus'\n",
    "#adata.obs['clusters'] = adata.obs['leiden'].to_numpy()\n",
    "#adata.var.keys()\n",
    "#np.unique(adata.obs['phase'].to_numpy())"
   ]
  },
  {
   "cell_type": "code",
   "execution_count": null,
   "id": "f947dfb9",
   "metadata": {},
   "outputs": [],
   "source": [
    "scv.pl.umap(adata, save='blood_umap.png')"
   ]
  },
  {
   "cell_type": "code",
   "execution_count": null,
   "id": "10844502",
   "metadata": {},
   "outputs": [],
   "source": [
    "Cz = 5\n",
    "model = vv.VanillaVAEpp(adata, 20, Cz, hidden_size=(500,250,250,500), tprior=None, device='gpu')"
   ]
  },
  {
   "cell_type": "code",
   "execution_count": null,
   "id": "5628bc78",
   "metadata": {},
   "outputs": [],
   "source": [
    "config_vae = {'num_epochs':500, 'test_epoch':50, 'save_epoch':50, \n",
    "                  'learning_rate':2e-4, 'learning_rate_ode':2e-4, 'lambda':1e-3, \n",
    "                  'neg_slope':0, 'reg_t':1.0, 'reg_z':1.0, 'batch_size':256,\n",
    "    }"
   ]
  },
  {
   "cell_type": "code",
   "execution_count": null,
   "id": "b5fde96a",
   "metadata": {},
   "outputs": [],
   "source": [
    "def sampleGenes(adata, n):\n",
    "    variable = adata.var['highly_variable'].to_numpy()\n",
    "    total = adata.var['mean_counts'].to_numpy()\n",
    "    idx_sort = np.flip(np.argsort(total))\n",
    "    genes = adata.var_names.to_numpy()\n",
    "    #sort genes based total counts\n",
    "    variable = variable[idx_sort]\n",
    "    genes = genes[idx_sort]\n",
    "    \n",
    "    genes = genes[variable]\n",
    "    idx = np.random.choice(np.sum(variable), n, replace=False)\n",
    "    return genes[idx]"
   ]
  },
  {
   "cell_type": "code",
   "execution_count": null,
   "id": "f1f9c705",
   "metadata": {},
   "outputs": [],
   "source": [
    "gene_plot = ['Auts2', 'Dync1i1', 'Gm3764', 'Mapt', 'Nfib', 'Rbfox1', 'Satb2', 'Slc6a13', 'Srrm4', 'Tcf4']\n",
    "#gene_plot = ['Pcsk2','Dcdc2a','Gng12','Cpe','Smoc1','Tmem163','Ank', 'Ppp3ca']\n",
    "#gene_plot = ['Ppp3ca','Ak5','Btbd9','Tmsb10','Hn1','Dlg2','Tcea1','Herc2']\n",
    "#gene_plot = sampleGenes(adata, 8)\n",
    "print(gene_plot)\n",
    "model.train(adata, config=config_vae, gene_plot=gene_plot, figure_path=figure_path)"
   ]
  },
  {
   "cell_type": "code",
   "execution_count": null,
   "id": "3ad8a9c8",
   "metadata": {},
   "outputs": [],
   "source": [
    "model.saveModel(model_path, 'encoder_vanillapp', 'decoder_vanillapp')\n",
    "model.saveAnnData(adata, 'vanillapp', data_path, file_name='output_vanillapp.h5ad')"
   ]
  },
  {
   "cell_type": "code",
   "execution_count": null,
   "id": "f651293d",
   "metadata": {},
   "outputs": [],
   "source": [
    "from sklearn.decomposition import PCA\n",
    "import torch\n",
    "import torch.nn.functional as F\n",
    "import matplotlib.pyplot as plt"
   ]
  },
  {
   "cell_type": "code",
   "execution_count": null,
   "id": "fdf5b16a",
   "metadata": {},
   "outputs": [],
   "source": [
    "colors = ['blue', 'orange', 'green', 'red', 'purple', 'brown', 'lime', 'grey', \\\n",
    "   'olive', 'cyan', 'pink', 'gold', 'teal', 'steelblue', 'salmon',  \\\n",
    "   'magenta', 'rosybrown', 'darkorange', 'yellow', 'greenyellow', 'darkseagreen', 'yellowgreen', 'palegreen', \\\n",
    "   'hotpink', 'navajowhite', 'aqua', 'navy', 'saddlebrown', 'maroon',  'black']"
   ]
  },
  {
   "cell_type": "code",
   "execution_count": null,
   "id": "76cbaea5",
   "metadata": {},
   "outputs": [],
   "source": [
    "filename = '../data/Dentategyrus/output_vanillapp.h5ad'\n",
    "adata = anndata.read_h5ad(filename)"
   ]
  },
  {
   "cell_type": "code",
   "execution_count": null,
   "id": "e0824ed4",
   "metadata": {},
   "outputs": [],
   "source": [
    "Cz = 5\n",
    "model = vv.VanillaVAEpp(adata, 20, Cz, hidden_size=(500,250,250,500), tprior=None, device='gpu')"
   ]
  },
  {
   "cell_type": "code",
   "execution_count": null,
   "id": "238cb72f",
   "metadata": {},
   "outputs": [],
   "source": [
    "checkpoint1 = '../checkpoints/Dentategyrus/VanillaVAEpp/encoder_vanillapp.pt'\n",
    "model.encoder.load_state_dict(torch.load(checkpoint1,map_location=model.device))\n",
    "checkpoint2 = '../checkpoints/Dentategyrus/VanillaVAEpp/decoder_vanillapp.pt'\n",
    "model.decoder.load_state_dict(torch.load(checkpoint2,map_location=model.device))"
   ]
  },
  {
   "cell_type": "code",
   "execution_count": null,
   "id": "b62fe1ac",
   "metadata": {},
   "outputs": [],
   "source": [
    "z = adata.obsm['vanillapp_z']\n",
    "z_ts = torch.tensor(z).to(model.device)\n",
    "rho = F.sigmoid(model.decoder.fc_out1(model.decoder.net(z_ts)))"
   ]
  },
  {
   "cell_type": "code",
   "execution_count": null,
   "id": "3b3aee60",
   "metadata": {},
   "outputs": [],
   "source": [
    "rho = rho.detach().cpu().numpy()\n",
    "rho"
   ]
  },
  {
   "cell_type": "code",
   "execution_count": null,
   "id": "cab5f5ad",
   "metadata": {},
   "outputs": [],
   "source": [
    "pca = PCA(n_components=3)\n",
    "rho_pca = pca.fit_transform(rho)\n",
    "rho_pca"
   ]
  },
  {
   "cell_type": "code",
   "execution_count": null,
   "id": "4dc2a64f",
   "metadata": {
    "scrolled": false
   },
   "outputs": [],
   "source": [
    "cell_labels = adata.obs['clusters'].to_numpy()\n",
    "cell_types = np.unique(cell_labels)\n",
    "fig=plt.figure(figsize=(10,10))\n",
    "ax = fig.add_subplot(projection='3d')\n",
    "ax.view_init(30, 30)\n",
    "for i,x in enumerate((cell_types)):\n",
    "    ax.scatter(rho_pca[cell_labels==x,0], rho_pca[cell_labels==x,1], rho_pca[cell_labels==x,2], label=x, color=colors[i])\n",
    "    \n",
    "ax.set_xlabel('PC1')\n",
    "ax.set_ylabel('PC2')\n",
    "ax.set_zlabel('PC3')\n",
    "plt.legend(bbox_to_anchor=(-0.15,1.0), loc='upper right')\n",
    "plt.show()\n",
    "fig.savefig(figure_path+'/rho.png')"
   ]
  },
  {
   "cell_type": "code",
   "execution_count": null,
   "id": "f06dfa62",
   "metadata": {},
   "outputs": [],
   "source": [
    "import umap\n",
    "umap_obj = umap.UMAP(n_neighbors=30, n_components=2, min_dist=0.25)\n",
    "z_umap = umap_obj.fit_transform(z)\n",
    "cell_labels = adata.obs['clusters'].to_numpy()\n",
    "cell_types = np.unique(cell_labels)\n",
    "fig=plt.figure(figsize=(10,10))\n",
    "for i,x in enumerate((cell_types)):\n",
    "    plt.scatter(z_umap[cell_labels==x,0], z_umap[cell_labels==x,1], label=x, color=colors[i])\n",
    "plt.legend(bbox_to_anchor=(-0.15,1.0), loc='upper right')\n",
    "plt.show()\n",
    "fig.savefig(figure_path+'/z.png')"
   ]
  },
  {
   "cell_type": "code",
   "execution_count": null,
   "id": "dac601cf",
   "metadata": {},
   "outputs": [],
   "source": [
    "umap_obj = umap.UMAP(n_neighbors=30, n_components=2, min_dist=0.25)\n",
    "rho_umap = umap_obj.fit_transform(rho)\n",
    "fig=plt.figure(figsize=(10,10))\n",
    "for i,x in enumerate((cell_types)):\n",
    "    plt.scatter(rho_umap[cell_labels==x,0], rho_umap[cell_labels==x,1], label=x, color=colors[i])\n",
    "plt.legend(bbox_to_anchor=(-0.15,1.0), loc='upper right')\n",
    "plt.show()"
   ]
  },
  {
   "cell_type": "code",
   "execution_count": null,
   "id": "4423b404",
   "metadata": {},
   "outputs": [],
   "source": [
    "adata.obsm['X_z'] = z_umap\n",
    "#adata2.obsm['X_z'] = z_umap\n",
    "adata.obsm['X_rho'] = rho_umap\n",
    "#adata2.obsm['X_rho'] = rho_umap"
   ]
  },
  {
   "cell_type": "code",
   "execution_count": null,
   "id": "d6dedfbe",
   "metadata": {},
   "outputs": [],
   "source": [
    "gidx = np.where(adata.var_names=='Cpe')\n",
    "rho_g = rho[:, gidx]\n",
    "ton = adata.var['vanillapp_ton'].to_numpy()\n",
    "t = adata.obs['vanillapp_time'].to_numpy()\n",
    "print(ton[gidx])\n",
    "for i,x in enumerate(np.flip(cell_types)):\n",
    "    tmask = t[cell_labels==x]>ton[gidx]\n",
    "    if(np.any(tmask)):\n",
    "        print(x,': ', rho_g[(cell_labels==x)&(t>=ton[gidx])].mean(), rho_g[(cell_labels==x)&(t>=ton[gidx])].std())"
   ]
  },
  {
   "cell_type": "code",
   "execution_count": null,
   "id": "78bea199",
   "metadata": {},
   "outputs": [],
   "source": [
    "def predSteadyNumpy(ts,alpha,beta,gamma):\n",
    "    \"\"\"\n",
    "    (Numpy Version)\n",
    "    Predict the steady states.\n",
    "    ts: [G] switching time, when the kinetics enters the repression phase\n",
    "    alpha, beta, gamma: [G] generation, splicing and degradation rates\n",
    "    \"\"\"\n",
    "    alpha_, beta_, gamma_ = np.clip(alpha,a_min=0,a_max=None), np.clip(beta,a_min=0,a_max=None), np.clip(gamma,a_min=0,a_max=None)\n",
    "    eps = 1e-6\n",
    "    unstability = np.abs(beta-gamma) < 1e-3\n",
    "    \n",
    "    ts_ = ts.squeeze()\n",
    "    expb, expg = np.exp(-beta*ts_), np.exp(-gamma*ts_)\n",
    "    u0 = alpha/(beta+eps)*(1.0-expb)\n",
    "    s0 = alpha/(gamma+eps)*(1.0-expg)+alpha/(gamma-beta+eps)*(expg-expb)*(1-unstability)+alpha*ts_*expg*unstability\n",
    "    return u0,s0\n",
    "def odeNumpy(t,alpha,beta,gamma,to,ts,scaling=None):\n",
    "    \"\"\"\n",
    "    (Numpy Version)\n",
    "    ODE Solution\n",
    "    \n",
    "    t: [B x 1] cell time\n",
    "    alpha, beta, gamma: [G] generation, splicing and degradation rates\n",
    "    to, ts: [G] switch-on and -off time\n",
    "    \"\"\"\n",
    "    unstability = (np.abs(beta - gamma) < 1e-3)\n",
    "    eps = 1e-6\n",
    "    \n",
    "    o = (t<=ts).astype(int)\n",
    "    #Induction\n",
    "    tau_on = np.clip(t-to,a_min=0,a_max=None)\n",
    "    expb, expg = np.exp(-beta*tau_on), np.exp(-gamma*tau_on)\n",
    "    uhat_on = alpha/(beta+eps)*(1.0-expb)\n",
    "    shat_on = alpha/(gamma+eps)*(1.0-expg)+alpha/(gamma-beta+eps)*(expg-expb)*(1-unstability)+alpha*tau_on*unstability\n",
    "    \n",
    "    #Repression\n",
    "    u0_,s0_ = predSteadyNumpy(ts-to,alpha,beta,gamma) #[G]\n",
    "    if(ts.ndim==2 and to.ndim==2):\n",
    "        u0_ = u0_.reshape(-1,1)\n",
    "        s0_ = s0_.reshape(-1,1)\n",
    "    tau_off = np.clip(t-ts,a_min=0,a_max=None)\n",
    "    expb, expg = np.exp(-beta*tau_off), np.exp(-gamma*tau_off)\n",
    "    uhat_off = u0_*expb\n",
    "    shat_off = s0_*expg+(-beta*u0_)/(gamma-beta+eps)*(expg-expb)*(1-unstability)\n",
    "    \n",
    "    uhat, shat = (uhat_on*o + uhat_off*(1-o)),(shat_on*o + shat_off*(1-o))\n",
    "    if(scaling is not None):\n",
    "        uhat *= scaling\n",
    "    return uhat, shat\n",
    "def rnaVelocity(adata, key, rho, use_raw=False, use_scv_genes=False):\n",
    "    \"\"\"\n",
    "    Compute the velocity based on:\n",
    "    ds/dt = beta * u - gamma * s\n",
    "    \"\"\"\n",
    "    alpha = adata.var[f\"{key}_alpha\"].to_numpy()\n",
    "    beta = adata.var[f\"{key}_beta\"].to_numpy()\n",
    "    gamma = adata.var[f\"{key}_gamma\"].to_numpy()\n",
    "    t = adata.obs[f\"{key}_time\"].to_numpy()\n",
    "    ton = adata.var[f\"{key}_ton\"].to_numpy()\n",
    "    toff = adata.var[f\"{key}_t_\"].to_numpy()\n",
    "    scaling = adata.var[f\"{key}_scaling\"].to_numpy()\n",
    "    if(use_raw):\n",
    "        U, S = adata.layers['Mu'], adata.layers['Ms']\n",
    "    else:\n",
    "        U, S = odeNumpy(t.reshape(-1,1),alpha * rho,beta,gamma,ton,toff, None) #don't need scaling here\n",
    "        adata.layers[\"Uhat\"] = U\n",
    "        adata.layers[\"Shat\"] = S\n",
    "    \n",
    "    V = (beta * U - gamma * S)*(t.reshape(-1,1) >= ton)\n",
    "    adata.layers[f\"{key}_velocity\"] = V\n",
    "    if(use_scv_genes):\n",
    "        gene_mask = np.isnan(adata.var['fit_scaling'].to_numpy())\n",
    "        V[:, gene_mask] = np.nan\n",
    "    return V, U, S"
   ]
  },
  {
   "cell_type": "code",
   "execution_count": null,
   "id": "dbf8cfb5",
   "metadata": {},
   "outputs": [],
   "source": [
    "key='vanillapp'\n",
    "figure_path = '../figures/Blood'\n",
    "V, U, S = rnaVelocity(adata, 'vanillapp', rho, use_raw=False, use_scv_genes=False)\n",
    "scv.tl.velocity_graph(adata, vkey=f'{key}_velocity', basis='umap', n_jobs=2)\n",
    "scv.tl.velocity_embedding(adata, vkey=f'{key}_velocity', basis='umap')\n",
    "scv.pl.velocity_embedding_stream(adata, vkey=f'{key}_velocity', basis='umap', figsize=(8,6), save=figure_path+f'/blood_{key}velz.png')"
   ]
  },
  {
   "cell_type": "code",
   "execution_count": null,
   "id": "9d8a820b",
   "metadata": {},
   "outputs": [],
   "source": []
  }
 ],
 "metadata": {
  "kernelspec": {
   "display_name": "Python 3",
   "language": "python",
   "name": "python3"
  },
  "language_info": {
   "codemirror_mode": {
    "name": "ipython",
    "version": 3
   },
   "file_extension": ".py",
   "mimetype": "text/x-python",
   "name": "python",
   "nbconvert_exporter": "python",
   "pygments_lexer": "ipython3",
   "version": "3.6.5"
  }
 },
 "nbformat": 4,
 "nbformat_minor": 5
}
