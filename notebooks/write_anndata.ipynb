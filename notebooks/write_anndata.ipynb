{
 "cells": [
  {
   "cell_type": "code",
   "execution_count": 1,
   "id": "234e5c23",
   "metadata": {},
   "outputs": [],
   "source": [
    "import anndata\n",
    "import numpy as np\n",
    "import scipy as sp\n",
    "import matplotlib.pyplot as plt\n",
    "import scanpy as sc\n",
    "import scvelo as scv\n",
    "import pandas as pd\n",
    "import pyreadr"
   ]
  },
  {
   "cell_type": "markdown",
   "id": "ed7f7051",
   "metadata": {},
   "source": [
    "# Mouse Embryo Dataset\n",
    "Cao, J., Spielmann, M., Qiu, X. et al. The single-cell transcriptional landscape of mammalian organogenesis. Nature 566, 496–502 (2019). https://doi.org/10.1038/s41586-019-0969-x"
   ]
  },
  {
   "cell_type": "code",
   "execution_count": 4,
   "id": "a3cd20a5",
   "metadata": {},
   "outputs": [],
   "source": [
    "#Load Gene and Cell IDs\n",
    "genes_u = pd.read_csv(\"/scratch/blaauw_root/blaauw1/gyichen/gene_name_u.csv\")\n",
    "cells_u = pd.read_csv(\"/scratch/blaauw_root/blaauw1/gyichen/cell_name_u.csv\")\n",
    "genes_s = pd.read_csv(\"/scratch/blaauw_root/blaauw1/gyichen/gene_name_s.csv\")\n",
    "cells_s = pd.read_csv(\"/scratch/blaauw_root/blaauw1/gyichen/cell_name_s.csv\")"
   ]
  },
  {
   "cell_type": "code",
   "execution_count": 6,
   "id": "150944fa",
   "metadata": {},
   "outputs": [],
   "source": [
    "genes_u = genes_u['genes'].to_numpy() \n",
    "cells_u = cells_u['cells'].to_numpy()\n",
    "genes_s = genes_s['genes'].to_numpy() \n",
    "cells_s = cells_s['cells'].to_numpy()"
   ]
  },
  {
   "cell_type": "code",
   "execution_count": 7,
   "id": "6d13fbb2",
   "metadata": {},
   "outputs": [
    {
     "name": "stdout",
     "output_type": "stream",
     "text": [
      "True True\n"
     ]
    }
   ],
   "source": [
    "print(np.all(genes_u==genes_s), np.all(cells_u==cells_s))"
   ]
  },
  {
   "cell_type": "code",
   "execution_count": 8,
   "id": "fc8968ef",
   "metadata": {},
   "outputs": [],
   "source": [
    "# rows are genes\n",
    "U_ix = pd.read_csv(\"/scratch/blaauw_root/blaauw1/gyichen/U_ix.csv\")\n",
    "S_ix = pd.read_csv(\"/scratch/blaauw_root/blaauw1/gyichen/S_ix.csv\")\n",
    "row_u = U_ix['row'].to_numpy()\n",
    "val_u = U_ix['val'].to_numpy()\n",
    "row_s = S_ix['row'].to_numpy()\n",
    "val_s = S_ix['val'].to_numpy()"
   ]
  },
  {
   "cell_type": "code",
   "execution_count": 9,
   "id": "a7cc620c",
   "metadata": {},
   "outputs": [
    {
     "data": {
      "text/plain": [
       "24551"
      ]
     },
     "execution_count": 9,
     "metadata": {},
     "output_type": "execute_result"
    }
   ],
   "source": [
    "row_s.max()"
   ]
  },
  {
   "cell_type": "markdown",
   "id": "77abf67e",
   "metadata": {},
   "source": [
    "$U_j,S_j$ contains the cumulative number of nonzero elements until each column. "
   ]
  },
  {
   "cell_type": "code",
   "execution_count": 10,
   "id": "75038891",
   "metadata": {},
   "outputs": [],
   "source": [
    "# columns are cells\n",
    "U_j = pd.read_csv(\"/scratch/blaauw_root/blaauw1/gyichen/U_j.csv\")\n",
    "S_j = pd.read_csv(\"/scratch/blaauw_root/blaauw1/gyichen/S_j.csv\")\n",
    "col_u_sum = U_j['col'].to_numpy()\n",
    "col_u_sum = np.diff(col_u_sum)\n",
    "col_s_sum = S_j['col'].to_numpy()\n",
    "col_s_sum = np.diff(col_s_sum)"
   ]
  },
  {
   "cell_type": "code",
   "execution_count": 36,
   "id": "3a64aaad",
   "metadata": {},
   "outputs": [],
   "source": [
    "anno = pyreadr.read_r(\"/nfs/turbo/umms-welchjd/yichen/data/scRNA/MOCA_df_cell.rds\")\n",
    "anno = anno[None]\n",
    "anno.columns = ['clusters','day']"
   ]
  },
  {
   "cell_type": "code",
   "execution_count": 37,
   "id": "7f23fff9",
   "metadata": {},
   "outputs": [
    {
     "name": "stdout",
     "output_type": "stream",
     "text": [
      "True\n"
     ]
    }
   ],
   "source": [
    "print(np.all(np.array(anno.index)==cells_s))"
   ]
  },
  {
   "cell_type": "code",
   "execution_count": 15,
   "id": "fe18ff2b",
   "metadata": {},
   "outputs": [
    {
     "name": "stdout",
     "output_type": "stream",
     "text": [
      "Number of cells: 1393565, Number of Genes: 24552\n"
     ]
    }
   ],
   "source": [
    "N = len(cells_s)\n",
    "G = len(genes_s)\n",
    "print(f\"Number of cells: {N}, Number of Genes: {G}\")"
   ]
  },
  {
   "cell_type": "code",
   "execution_count": 16,
   "id": "e23fad98",
   "metadata": {},
   "outputs": [],
   "source": [
    "col_u, col_s = np.zeros((len(row_u))), np.zeros((len(row_s)))\n",
    "ptr = 0\n",
    "for i in range(N):\n",
    "    col_u[ptr:ptr+col_u_sum[i]] = i\n",
    "    ptr += col_u_sum[i]\n",
    "\n",
    "ptr = 0\n",
    "for i in range(N):\n",
    "    col_s[ptr:ptr+col_s_sum[i]] = i\n",
    "    ptr += col_s_sum[i]\n",
    "\n",
    "U = sp.sparse.csr_matrix((val_u, (col_u, row_u)), shape=(N,G))\n",
    "S = sp.sparse.csr_matrix((val_s, (col_s, row_s)), shape=(N,G))"
   ]
  },
  {
   "cell_type": "code",
   "execution_count": 17,
   "id": "cf57be71",
   "metadata": {},
   "outputs": [],
   "source": [
    "X = U+S"
   ]
  },
  {
   "cell_type": "code",
   "execution_count": 38,
   "id": "7f1d1a39",
   "metadata": {},
   "outputs": [],
   "source": [
    "adata = anndata.AnnData(X=X,\n",
    "                        obs=anno,\n",
    "                        var=pd.DataFrame({},index=pd.Index(genes_s)),\n",
    "                        layers={'unspliced':U, 'spliced':S})"
   ]
  },
  {
   "cell_type": "code",
   "execution_count": 39,
   "id": "1a1478ad",
   "metadata": {},
   "outputs": [
    {
     "data": {
      "text/html": [
       "<div>\n",
       "<style scoped>\n",
       "    .dataframe tbody tr th:only-of-type {\n",
       "        vertical-align: middle;\n",
       "    }\n",
       "\n",
       "    .dataframe tbody tr th {\n",
       "        vertical-align: top;\n",
       "    }\n",
       "\n",
       "    .dataframe thead th {\n",
       "        text-align: right;\n",
       "    }\n",
       "</style>\n",
       "<table border=\"1\" class=\"dataframe\">\n",
       "  <thead>\n",
       "    <tr style=\"text-align: right;\">\n",
       "      <th></th>\n",
       "      <th>clusters</th>\n",
       "      <th>day</th>\n",
       "    </tr>\n",
       "    <tr>\n",
       "      <th>rownames</th>\n",
       "      <th></th>\n",
       "      <th></th>\n",
       "    </tr>\n",
       "  </thead>\n",
       "  <tbody>\n",
       "    <tr>\n",
       "      <th>sci3-me-001.ATTAGTCTGTGTATAATACG</th>\n",
       "      <td>E11.5:Endothelium</td>\n",
       "      <td>E11.5</td>\n",
       "    </tr>\n",
       "    <tr>\n",
       "      <th>sci3-me-001.GAGGAACTTAATACCATCC</th>\n",
       "      <td>E10.5:Early chondrocytes</td>\n",
       "      <td>E10.5</td>\n",
       "    </tr>\n",
       "    <tr>\n",
       "      <th>sci3-me-001.TGGTCGAATGATCGCTTCT</th>\n",
       "      <td>E10.5:Limb mesenchyme progenitors</td>\n",
       "      <td>E10.5</td>\n",
       "    </tr>\n",
       "    <tr>\n",
       "      <th>sci3-me-001.GTCGGAGTTTAGACTTCTT</th>\n",
       "      <td>E11.5:Limb mesenchyme progenitors</td>\n",
       "      <td>E11.5</td>\n",
       "    </tr>\n",
       "    <tr>\n",
       "      <th>sci3-me-001.CTTCATGCTTTACGATGAA</th>\n",
       "      <td>E11.5:Myocytes</td>\n",
       "      <td>E11.5</td>\n",
       "    </tr>\n",
       "    <tr>\n",
       "      <th>...</th>\n",
       "      <td>...</td>\n",
       "      <td>...</td>\n",
       "    </tr>\n",
       "    <tr>\n",
       "      <th>sci3-me-760.ATTACCATCTACTTCCGAAT</th>\n",
       "      <td>E13.5:Connective tissue progenitors</td>\n",
       "      <td>E13.5</td>\n",
       "    </tr>\n",
       "    <tr>\n",
       "      <th>sci3-me-760.TCAGGAGATCGTAATGCAG</th>\n",
       "      <td>E11.5:Spinal cord inhibitory neurons</td>\n",
       "      <td>E11.5</td>\n",
       "    </tr>\n",
       "    <tr>\n",
       "      <th>sci3-me-760.ATTCGCAATTGCCGCAACGA</th>\n",
       "      <td>E9.5:Di/telencephalon</td>\n",
       "      <td>E9.5</td>\n",
       "    </tr>\n",
       "    <tr>\n",
       "      <th>sci3-me-760.CTAGTACGTCGTAGTTACC</th>\n",
       "      <td>E10.5:Chondrocyte and osteoblast progenitors</td>\n",
       "      <td>E10.5</td>\n",
       "    </tr>\n",
       "    <tr>\n",
       "      <th>sci3-me-760.GTCGTAACTCGGAGATCCG</th>\n",
       "      <td>E12.5:Osteoblast progenitors B</td>\n",
       "      <td>E12.5</td>\n",
       "    </tr>\n",
       "  </tbody>\n",
       "</table>\n",
       "<p>1393565 rows × 2 columns</p>\n",
       "</div>"
      ],
      "text/plain": [
       "                                                                      clusters  \\\n",
       "rownames                                                                         \n",
       "sci3-me-001.ATTAGTCTGTGTATAATACG                             E11.5:Endothelium   \n",
       "sci3-me-001.GAGGAACTTAATACCATCC                       E10.5:Early chondrocytes   \n",
       "sci3-me-001.TGGTCGAATGATCGCTTCT              E10.5:Limb mesenchyme progenitors   \n",
       "sci3-me-001.GTCGGAGTTTAGACTTCTT              E11.5:Limb mesenchyme progenitors   \n",
       "sci3-me-001.CTTCATGCTTTACGATGAA                                 E11.5:Myocytes   \n",
       "...                                                                        ...   \n",
       "sci3-me-760.ATTACCATCTACTTCCGAAT           E13.5:Connective tissue progenitors   \n",
       "sci3-me-760.TCAGGAGATCGTAATGCAG           E11.5:Spinal cord inhibitory neurons   \n",
       "sci3-me-760.ATTCGCAATTGCCGCAACGA                         E9.5:Di/telencephalon   \n",
       "sci3-me-760.CTAGTACGTCGTAGTTACC   E10.5:Chondrocyte and osteoblast progenitors   \n",
       "sci3-me-760.GTCGTAACTCGGAGATCCG                 E12.5:Osteoblast progenitors B   \n",
       "\n",
       "                                    day  \n",
       "rownames                                 \n",
       "sci3-me-001.ATTAGTCTGTGTATAATACG  E11.5  \n",
       "sci3-me-001.GAGGAACTTAATACCATCC   E10.5  \n",
       "sci3-me-001.TGGTCGAATGATCGCTTCT   E10.5  \n",
       "sci3-me-001.GTCGGAGTTTAGACTTCTT   E11.5  \n",
       "sci3-me-001.CTTCATGCTTTACGATGAA   E11.5  \n",
       "...                                 ...  \n",
       "sci3-me-760.ATTACCATCTACTTCCGAAT  E13.5  \n",
       "sci3-me-760.TCAGGAGATCGTAATGCAG   E11.5  \n",
       "sci3-me-760.ATTCGCAATTGCCGCAACGA   E9.5  \n",
       "sci3-me-760.CTAGTACGTCGTAGTTACC   E10.5  \n",
       "sci3-me-760.GTCGTAACTCGGAGATCCG   E12.5  \n",
       "\n",
       "[1393565 rows x 2 columns]"
      ]
     },
     "execution_count": 39,
     "metadata": {},
     "output_type": "execute_result"
    }
   ],
   "source": [
    "adata.obs"
   ]
  },
  {
   "cell_type": "code",
   "execution_count": 43,
   "id": "ea998508",
   "metadata": {},
   "outputs": [
    {
     "name": "stderr",
     "output_type": "stream",
     "text": [
      "... storing 'clusters' as categorical\n",
      "... storing 'day' as categorical\n"
     ]
    }
   ],
   "source": [
    "adata.write_h5ad(\"/nfs/turbo/umms-welchjd/yichen/data/scRNA/mouse_E9_13.h5ad\")"
   ]
  },
  {
   "cell_type": "markdown",
   "id": "b740a3b6",
   "metadata": {},
   "source": [
    "## Add Major Cell Type Annotation"
   ]
  },
  {
   "cell_type": "code",
   "execution_count": 2,
   "id": "50f56997",
   "metadata": {},
   "outputs": [],
   "source": [
    "cell_anno = pd.read_csv(\"/scratch/blaauw_root/blaauw1/gyichen/cell_annotate.csv\")"
   ]
  },
  {
   "cell_type": "code",
   "execution_count": 4,
   "id": "4bf01e9f",
   "metadata": {},
   "outputs": [
    {
     "data": {
      "text/plain": [
       "Index(['sample', 'all_exon_count', 'all_intron_count', 'all_read_count',\n",
       "       'intergenic_rate', 'embryo_id', 'embryo_sex', 'nuclei_extraction_date',\n",
       "       'development_stage', 'Total_mRNAs', 'num_genes_expressed',\n",
       "       'Size_Factor', 'Main_Cluster', 'Main_cluster_tsne_1',\n",
       "       'Main_cluster_tsne_2', 'Sub_cluster', 'Sub_cluster_tsne_1',\n",
       "       'Sub_cluster_tsne_2', 'doublet_score', 'detected_doublet',\n",
       "       'doublet_cluster', 'sub_cluster_id', 'Main_cell_type',\n",
       "       'Main_trajectory', 'Main_trajectory_umap_1', 'Main_trajectory_umap_2',\n",
       "       'Main_trajectory_umap_3', 'Main_trajectory_refined_by_cluster',\n",
       "       'Main_trajectory_refined_umap_1', 'Main_trajectory_refined_umap_2',\n",
       "       'Main_trajectory_refined_umap_3', 'Sub_trajectory_name',\n",
       "       'Sub_trajectory_umap_1', 'Sub_trajectory_umap_2',\n",
       "       'Sub_trajectory_louvain_component', 'Sub_trajectory_Pseudotime'],\n",
       "      dtype='object')"
      ]
     },
     "execution_count": 4,
     "metadata": {},
     "output_type": "execute_result"
    }
   ],
   "source": [
    "cell_anno.keys()"
   ]
  },
  {
   "cell_type": "code",
   "execution_count": 17,
   "id": "ca81dd11",
   "metadata": {},
   "outputs": [
    {
     "data": {
      "text/plain": [
       "10"
      ]
     },
     "execution_count": 17,
     "metadata": {},
     "output_type": "execute_result"
    }
   ],
   "source": [
    "x = cell_anno[\"Main_trajectory\"].to_numpy()\n",
    "isstr = np.array([isinstance(x[i], str) for i in range(len(x))])\n",
    "x = x[isstr]\n",
    "len(np.unique(x))"
   ]
  },
  {
   "cell_type": "code",
   "execution_count": 21,
   "id": "306db584",
   "metadata": {},
   "outputs": [],
   "source": [
    "adata = anndata.read_h5ad(\"/nfs/turbo/umms-welchjd/yichen/data/scRNA/mouse_E9_13.h5ad\")"
   ]
  },
  {
   "cell_type": "code",
   "execution_count": 29,
   "id": "db999747",
   "metadata": {},
   "outputs": [],
   "source": [
    "cell_id_anno = cell_anno['sample'].to_numpy()\n",
    "cell_id = adata.obs.index.to_numpy()"
   ]
  },
  {
   "cell_type": "code",
   "execution_count": null,
   "id": "a2068212",
   "metadata": {},
   "outputs": [],
   "source": [
    "is_in_adata = np.array([x in cell_id for x in cell_id_anno])\n",
    "cell_labels = cell_anno[\"Main_trajectory\"][is_in_adata].to_numpy()"
   ]
  },
  {
   "cell_type": "code",
   "execution_count": null,
   "id": "05bafc99",
   "metadata": {},
   "outputs": [],
   "source": []
  }
 ],
 "metadata": {
  "kernelspec": {
   "display_name": "Python 3",
   "language": "python",
   "name": "python3"
  },
  "language_info": {
   "codemirror_mode": {
    "name": "ipython",
    "version": 3
   },
   "file_extension": ".py",
   "mimetype": "text/x-python",
   "name": "python",
   "nbconvert_exporter": "python",
   "pygments_lexer": "ipython3",
   "version": "3.6.5"
  }
 },
 "nbformat": 4,
 "nbformat_minor": 5
}
