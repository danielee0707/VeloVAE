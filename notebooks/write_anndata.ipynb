{
 "cells": [
  {
   "cell_type": "code",
   "execution_count": null,
   "id": "234e5c23",
   "metadata": {},
   "outputs": [],
   "source": [
    "import anndata\n",
    "import numpy as np\n",
    "import scipy as sp\n",
    "import matplotlib.pyplot as plt\n",
    "import scanpy as sc\n",
    "import scvelo as scv\n",
    "import pandas as pd\n",
    "import pyreadr"
   ]
  },
  {
   "cell_type": "markdown",
   "id": "ed7f7051",
   "metadata": {},
   "source": [
    "# Mouse Embryo Dataset\n",
    "Cao, J., Spielmann, M., Qiu, X. et al. The single-cell transcriptional landscape of mammalian organogenesis. Nature 566, 496–502 (2019). https://doi.org/10.1038/s41586-019-0969-x"
   ]
  },
  {
   "cell_type": "code",
   "execution_count": null,
   "id": "a3cd20a5",
   "metadata": {},
   "outputs": [],
   "source": [
    "#Load Gene and Cell IDs\n",
    "genes_u = pd.read_csv(\"/scratch/blaauw_root/blaauw1/gyichen/gene_name_u.csv\")\n",
    "cells_u = pd.read_csv(\"/scratch/blaauw_root/blaauw1/gyichen/cell_name_u.csv\")\n",
    "genes_s = pd.read_csv(\"/scratch/blaauw_root/blaauw1/gyichen/gene_name_s.csv\")\n",
    "cells_s = pd.read_csv(\"/scratch/blaauw_root/blaauw1/gyichen/cell_name_s.csv\")"
   ]
  },
  {
   "cell_type": "code",
   "execution_count": null,
   "id": "150944fa",
   "metadata": {},
   "outputs": [],
   "source": [
    "genes_u = genes_u['genes'].to_numpy() \n",
    "cells_u = cells_u['cells'].to_numpy()\n",
    "genes_s = genes_s['genes'].to_numpy() \n",
    "cells_s = cells_s['cells'].to_numpy()"
   ]
  },
  {
   "cell_type": "code",
   "execution_count": null,
   "id": "6d13fbb2",
   "metadata": {},
   "outputs": [],
   "source": [
    "print(np.all(genes_u==genes_s), np.all(cells_u==cells_s))"
   ]
  },
  {
   "cell_type": "code",
   "execution_count": null,
   "id": "fc8968ef",
   "metadata": {},
   "outputs": [],
   "source": [
    "# rows are genes\n",
    "U_ix = pd.read_csv(\"/scratch/blaauw_root/blaauw1/gyichen/U_ix.csv\")\n",
    "S_ix = pd.read_csv(\"/scratch/blaauw_root/blaauw1/gyichen/S_ix.csv\")\n",
    "row_u = U_ix['row'].to_numpy()\n",
    "val_u = U_ix['val'].to_numpy()\n",
    "row_s = S_ix['row'].to_numpy()\n",
    "val_s = S_ix['val'].to_numpy()"
   ]
  },
  {
   "cell_type": "code",
   "execution_count": null,
   "id": "a7cc620c",
   "metadata": {},
   "outputs": [],
   "source": [
    "row_s.max()"
   ]
  },
  {
   "cell_type": "markdown",
   "id": "77abf67e",
   "metadata": {},
   "source": [
    "$U_j,S_j$ contains the cumulative number of nonzero elements until each column. "
   ]
  },
  {
   "cell_type": "code",
   "execution_count": null,
   "id": "75038891",
   "metadata": {},
   "outputs": [],
   "source": [
    "# columns are cells\n",
    "U_j = pd.read_csv(\"/scratch/blaauw_root/blaauw1/gyichen/U_j.csv\")\n",
    "S_j = pd.read_csv(\"/scratch/blaauw_root/blaauw1/gyichen/S_j.csv\")\n",
    "col_u_sum = U_j['col'].to_numpy()\n",
    "col_u_sum = np.diff(col_u_sum)\n",
    "col_s_sum = S_j['col'].to_numpy()\n",
    "col_s_sum = np.diff(col_s_sum)"
   ]
  },
  {
   "cell_type": "code",
   "execution_count": null,
   "id": "3a64aaad",
   "metadata": {},
   "outputs": [],
   "source": [
    "anno = pyreadr.read_r(\"/nfs/turbo/umms-welchjd/yichen/data/scRNA/MOCA_df_cell.rds\")\n",
    "anno = anno[None]\n",
    "anno.columns = ['clusters','day']"
   ]
  },
  {
   "cell_type": "code",
   "execution_count": null,
   "id": "7f23fff9",
   "metadata": {},
   "outputs": [],
   "source": [
    "print(np.all(np.array(anno.index)==cells_s))"
   ]
  },
  {
   "cell_type": "code",
   "execution_count": null,
   "id": "fe18ff2b",
   "metadata": {},
   "outputs": [],
   "source": [
    "N = len(cells_s)\n",
    "G = len(genes_s)\n",
    "print(f\"Number of cells: {N}, Number of Genes: {G}\")"
   ]
  },
  {
   "cell_type": "code",
   "execution_count": null,
   "id": "e23fad98",
   "metadata": {},
   "outputs": [],
   "source": [
    "col_u, col_s = np.zeros((len(row_u))), np.zeros((len(row_s)))\n",
    "ptr = 0\n",
    "for i in range(N):\n",
    "    col_u[ptr:ptr+col_u_sum[i]] = i\n",
    "    ptr += col_u_sum[i]\n",
    "\n",
    "ptr = 0\n",
    "for i in range(N):\n",
    "    col_s[ptr:ptr+col_s_sum[i]] = i\n",
    "    ptr += col_s_sum[i]\n",
    "\n",
    "U = sp.sparse.csr_matrix((val_u, (col_u, row_u)), shape=(N,G))\n",
    "S = sp.sparse.csr_matrix((val_s, (col_s, row_s)), shape=(N,G))"
   ]
  },
  {
   "cell_type": "code",
   "execution_count": null,
   "id": "cf57be71",
   "metadata": {},
   "outputs": [],
   "source": [
    "X = U+S"
   ]
  },
  {
   "cell_type": "code",
   "execution_count": null,
   "id": "7f1d1a39",
   "metadata": {},
   "outputs": [],
   "source": [
    "adata = anndata.AnnData(X=X,\n",
    "                        obs=anno,\n",
    "                        var=pd.DataFrame({},index=pd.Index(genes_s)),\n",
    "                        layers={'unspliced':U, 'spliced':S})"
   ]
  },
  {
   "cell_type": "code",
   "execution_count": null,
   "id": "1a1478ad",
   "metadata": {},
   "outputs": [],
   "source": [
    "adata.obs"
   ]
  },
  {
   "cell_type": "code",
   "execution_count": null,
   "id": "ea998508",
   "metadata": {},
   "outputs": [],
   "source": [
    "adata.write_h5ad(\"/nfs/turbo/umms-welchjd/yichen/data/scRNA/mouse_E9_13.h5ad\")"
   ]
  },
  {
   "cell_type": "markdown",
   "id": "a72a5479",
   "metadata": {},
   "source": [
    "## Add Major Cell Type Annotation"
   ]
  },
  {
   "cell_type": "code",
   "execution_count": null,
   "id": "b6f3de67",
   "metadata": {},
   "outputs": [],
   "source": [
    "cell_anno = pd.read_csv(\"/scratch/blaauw_root/blaauw1/gyichen/cell_annotate.csv\")"
   ]
  },
  {
   "cell_type": "code",
   "execution_count": null,
   "id": "5c48d998",
   "metadata": {},
   "outputs": [],
   "source": [
    "cell_anno.keys()"
   ]
  },
  {
   "cell_type": "code",
   "execution_count": null,
   "id": "3fc63be7",
   "metadata": {},
   "outputs": [],
   "source": [
    "x = cell_anno[\"Main_trajectory\"].to_numpy()\n",
    "isstr = np.array([isinstance(x[i], str) for i in range(len(x))])\n",
    "x = x[isstr]\n",
    "len(np.unique(x))"
   ]
  },
  {
   "cell_type": "code",
   "execution_count": null,
   "id": "8256be06",
   "metadata": {},
   "outputs": [],
   "source": [
    "adata = anndata.read_h5ad(\"/nfs/turbo/umms-welchjd/yichen/data/scRNA/mouse_E9_13.h5ad\")"
   ]
  },
  {
   "cell_type": "code",
   "execution_count": null,
   "id": "2fb59178",
   "metadata": {},
   "outputs": [],
   "source": [
    "cell_id_anno = cell_anno['sample'].to_numpy()\n",
    "cell_id = adata.obs.index.to_numpy()"
   ]
  },
  {
   "cell_type": "code",
   "execution_count": null,
   "id": "41886190",
   "metadata": {},
   "outputs": [],
   "source": [
    "is_in_adata = np.array([x in cell_id for x in cell_id_anno])\n",
    "cell_labels = cell_anno[\"Main_trajectory\"][is_in_adata].to_numpy()"
   ]
  },
  {
   "cell_type": "code",
   "execution_count": null,
   "id": "52b77363",
   "metadata": {},
   "outputs": [],
   "source": []
  }
 ],
 "metadata": {
  "kernelspec": {
   "display_name": "Python 3",
   "language": "python",
   "name": "python3"
  },
  "language_info": {
   "codemirror_mode": {
    "name": "ipython",
    "version": 3
   },
   "file_extension": ".py",
   "mimetype": "text/x-python",
   "name": "python",
   "nbconvert_exporter": "python",
   "pygments_lexer": "ipython3",
   "version": "3.6.5"
  }
 },
 "nbformat": 4,
 "nbformat_minor": 5
}
