{
 "cells": [
  {
   "cell_type": "code",
   "execution_count": 1,
   "id": "a49e51aa",
   "metadata": {},
   "outputs": [],
   "source": [
    "import anndata\n",
    "import numpy as np\n",
    "import scvelo as scv\n",
    "import scipy as sp\n",
    "import sys\n",
    "import torch\n",
    "import os\n",
    "\n",
    "sys.path.append('../')\n",
    "import velovae as vv"
   ]
  },
  {
   "cell_type": "code",
   "execution_count": 2,
   "id": "2dbb8099",
   "metadata": {},
   "outputs": [],
   "source": [
    "filename = '../data/Pancreas/output_vanillapp.h5ad'\n",
    "#filename = '/nfs/turbo/umms-welchjd/yichen/data/scRNA/3423-MV-2_adata_postpro.h5ad'\n",
    "adata = anndata.read_h5ad(filename)"
   ]
  },
  {
   "cell_type": "code",
   "execution_count": null,
   "id": "0f90969b",
   "metadata": {},
   "outputs": [],
   "source": [
    "adata.obs['clusters'] = adata.obs['leiden'].to_numpy()\n",
    "#adata.obs[\"tprior\"] = adata.obs.tprior - adata.obs.tprior.min()"
   ]
  },
  {
   "cell_type": "code",
   "execution_count": null,
   "id": "a6bae959",
   "metadata": {},
   "outputs": [],
   "source": [
    "scv.pl.scatter(adata, basis='umap', figsize=(8,6), color='clusters', save='/home/gyichen/velovae/figures/Dentategyrus/umap.png')\n",
    "adata.obs.keys()"
   ]
  },
  {
   "cell_type": "code",
   "execution_count": null,
   "id": "8e750c66",
   "metadata": {},
   "outputs": [],
   "source": [
    "Ngene = 2000\n",
    "vv.preprocess(adata, Ngene)"
   ]
  },
  {
   "cell_type": "code",
   "execution_count": 3,
   "id": "34070fe8",
   "metadata": {},
   "outputs": [
    {
     "data": {
      "text/plain": [
       "(3696, 2000)"
      ]
     },
     "execution_count": 3,
     "metadata": {},
     "output_type": "execute_result"
    }
   ],
   "source": [
    "figure_path = '/home/gyichen/velovae/figures/Pancreas/Rho'\n",
    "model_path = '/home/gyichen/velovae/checkpoints/Pancreas/Rho'\n",
    "#data_path = '/scratch/blaauw_root/blaauw1/gyichen'\n",
    "data_path = '../data/Pancreas/Rho'\n",
    "adata.X.shape"
   ]
  },
  {
   "cell_type": "code",
   "execution_count": 4,
   "id": "10844502",
   "metadata": {},
   "outputs": [],
   "source": [
    "Cz = 4\n",
    "model = vv.VanillaVAEpp(adata, 20, Cz, hidden_size=(500,250,250,500), tprior=None, N_ind=5, device='gpu')"
   ]
  },
  {
   "cell_type": "code",
   "execution_count": 5,
   "id": "5628bc78",
   "metadata": {},
   "outputs": [],
   "source": [
    "config_vae = {'num_epochs':300, 'test_epoch':25, 'save_epoch':50, \n",
    "                  'learning_rate':1e-4, 'learning_rate_ode':1e-4, 'lambda':1e-3, \n",
    "                  'neg_slope':0, 'reg_t':1.0, 'reg_z':1.0, 'batch_size':128,\n",
    "    }"
   ]
  },
  {
   "cell_type": "code",
   "execution_count": null,
   "id": "f0a50465",
   "metadata": {},
   "outputs": [],
   "source": [
    "def sampleGenes(adata, n):\n",
    "    variable = adata.var['highly_variable'].to_numpy()\n",
    "    total = adata.var['mean_counts'].to_numpy()\n",
    "    idx_sort = np.flip(np.argsort(total))\n",
    "    genes = adata.var_names.to_numpy()\n",
    "    #sort genes based total counts\n",
    "    variable = variable[idx_sort]\n",
    "    genes = genes[idx_sort]\n",
    "    \n",
    "    genes = genes[variable]\n",
    "    #idx = np.random.choice(np.sum(variable), n, replace=False)\n",
    "    return genes[:n]"
   ]
  },
  {
   "cell_type": "code",
   "execution_count": null,
   "id": "f1f9c705",
   "metadata": {},
   "outputs": [
    {
     "name": "stdout",
     "output_type": "stream",
     "text": [
      "------------------------- Train a rho-VAE -------------------------\n",
      "***      Creating  Dataset      ***\n",
      "***          Finished.          ***\n",
      "***     Creating optimizers     ***\n",
      "***          Finished.          ***\n",
      "***        Start training       ***\n",
      "Total Number of Iterations Per Epoch: 29\n",
      "Epoch 1: Loss = 143.7578582763672, \t Total Time =   0 h :  0 m : 12 s\n",
      "Epoch 25: Loss = 98.59339904785156, \t Total Time =   0 h :  0 m : 45 s\n",
      "Epoch 50: Loss = 20.189254760742188, \t Total Time =   0 h :  1 m : 29 s\n",
      "Epoch 75: Loss = 13.600556373596191, \t Total Time =   0 h :  2 m :  4 s\n",
      "Epoch 100: Loss = 9.22227954864502, \t Total Time =   0 h :  3 m : 10 s\n",
      "Epoch 125: Loss = 6.140898704528809, \t Total Time =   0 h :  4 m :  9 s\n",
      "Epoch 150: Loss = 4.91689920425415, \t Total Time =   0 h :  5 m : 19 s\n",
      "Epoch 175: Loss = 3.9921822547912598, \t Total Time =   0 h :  6 m : 20 s\n",
      "Epoch 200: Loss = 3.376345157623291, \t Total Time =   0 h :  7 m : 29 s\n"
     ]
    }
   ],
   "source": [
    "#gene_plot = ['Auts2', 'Dync1i1', 'Gm3764', 'Mapt', 'Nfib', 'Rbfox1', 'Satb2', 'Slc6a13', 'Srrm4', 'Tcf4']\n",
    "gene_plot = ['Pcsk2','Dcdc2a','Gng12','Cpe','Smoc1','Tmem163','Ank', 'Ppp3ca']\n",
    "#gene_plot = ['Ank3','Arpp21','Epha3','Grin2b','Grm5','Plxna4','Robo2','Tle4']\n",
    "#gene_plot = ['Ppp3ca','Tmsb10','Hn1','Tcea1']\n",
    "#gene_plot = sampleGenes(adata, 8)\n",
    "model.train(adata, config=config_vae, plot=True,gene_plot=gene_plot, figure_path=figure_path)"
   ]
  },
  {
   "cell_type": "code",
   "execution_count": null,
   "id": "a49d39be",
   "metadata": {},
   "outputs": [],
   "source": [
    "model.decoder.t0.shape"
   ]
  },
  {
   "cell_type": "code",
   "execution_count": null,
   "id": "3ad8a9c8",
   "metadata": {},
   "outputs": [],
   "source": [
    "model.saveModel(model_path, 'encoder_vanillapp', 'decoder_vanillapp')\n",
    "model.saveAnnData(adata, 'vanillapp', data_path, file_name='output_vanillapp.h5ad')\n"
   ]
  },
  {
   "cell_type": "markdown",
   "id": "bf3429d6",
   "metadata": {},
   "source": [
    "# Post Analysis"
   ]
  },
  {
   "cell_type": "code",
   "execution_count": null,
   "id": "f651293d",
   "metadata": {},
   "outputs": [],
   "source": [
    "from sklearn.decomposition import PCA\n",
    "import torch\n",
    "import torch.nn.functional as F\n",
    "import matplotlib.pyplot as plt\n",
    "#figure_path = '../figures/Braindev/VanillaVAEpp'\n",
    "#model_path = '../checkpoints/Braindev/VanillaVAEpp'\n",
    "#data_path = '../data/Braindev'"
   ]
  },
  {
   "cell_type": "code",
   "execution_count": null,
   "id": "3c0345c4",
   "metadata": {},
   "outputs": [],
   "source": [
    "colors = ['blue', 'orange', 'green', 'red', 'purple', 'brown', 'lime', 'grey', \\\n",
    "   'olive', 'cyan', 'pink', 'gold', 'steelblue', 'salmon', 'teal', \\\n",
    "   'magenta', 'rosybrown', 'darkorange', 'yellow', 'greenyellow', 'darkseagreen', 'yellowgreen', 'palegreen', \\\n",
    "   'hotpink', 'navajowhite', 'aqua', 'navy', 'saddlebrown', 'black', 'maroon']"
   ]
  },
  {
   "cell_type": "code",
   "execution_count": null,
   "id": "3461adbd",
   "metadata": {},
   "outputs": [],
   "source": [
    "#adata = anndata.read_h5ad('../data/Pancreas/output_vanillapp.h5ad')\n",
    "adata = anndata.read_h5ad('../data/Pancreas/output.h5ad')"
   ]
  },
  {
   "cell_type": "code",
   "execution_count": null,
   "id": "e33070d7",
   "metadata": {},
   "outputs": [],
   "source": [
    "Cz = 4\n",
    "model = vv.VanillaVAEpp(adata, 20, Cz, hidden_size=(500,250,250,500), tprior=None, device='cpu')"
   ]
  },
  {
   "cell_type": "code",
   "execution_count": null,
   "id": "b3e8adb3",
   "metadata": {},
   "outputs": [],
   "source": [
    "checkpoint1 = '../checkpoints/Pancreas/VanillaVAEpp/encoder_vanillapp.pt'\n",
    "model.encoder.load_state_dict(torch.load(checkpoint1,map_location=model.device))\n",
    "checkpoint2 = '../checkpoints/Pancreas/VanillaVAEpp/decoder_vanillapp.pt'\n",
    "model.decoder.load_state_dict(torch.load(checkpoint2,map_location=model.device))\n",
    "#model.saveAnnData(adata, 'vanillapp', data_path, 'output_braindev.h5ad')"
   ]
  },
  {
   "cell_type": "markdown",
   "id": "94c9bc37",
   "metadata": {},
   "source": [
    "## Analysis 1: Latent Representation"
   ]
  },
  {
   "cell_type": "code",
   "execution_count": null,
   "id": "b62fe1ac",
   "metadata": {},
   "outputs": [],
   "source": [
    "z = adata.obsm['vanillapp_z']\n",
    "t = adata.obs['vanillapp_time'].to_numpy().reshape(-1,1)\n",
    "#t0 = adata.layers['t0']\n",
    "#u0 = adata.layers['u0']\n",
    "#s0 = adata.layers['s0']\n",
    "rho = adata.layers['vanillapp_rho']\n",
    "ton = adata.var['vanillapp_ton'].to_numpy()\n",
    "toff = adata.var['vanillapp_toff'].to_numpy()"
   ]
  },
  {
   "cell_type": "code",
   "execution_count": null,
   "id": "cab5f5ad",
   "metadata": {},
   "outputs": [],
   "source": [
    "pca = PCA(n_components=3)\n",
    "rho_pca = pca.fit_transform(rho)\n",
    "rho_pca"
   ]
  },
  {
   "cell_type": "code",
   "execution_count": null,
   "id": "4dc2a64f",
   "metadata": {
    "scrolled": false
   },
   "outputs": [],
   "source": [
    "cell_labels = adata.obs['clusters'].to_numpy()\n",
    "cell_types = np.unique(cell_labels)\n",
    "fig=plt.figure(figsize=(15,12))\n",
    "ax = fig.add_subplot(projection='3d')\n",
    "ax.view_init(10, 60)\n",
    "for i,x in enumerate((cell_types)):\n",
    "    ax.scatter(rho_pca[cell_labels==x,0], rho_pca[cell_labels==x,1], rho_pca[cell_labels==x,2], label=x, color=colors[i])\n",
    "    \n",
    "ax.set_xlabel('PC1')\n",
    "ax.set_ylabel('PC2')\n",
    "ax.set_zlabel('PC3')\n",
    "plt.legend(bbox_to_anchor=(-0.15,1.0), loc='upper right')\n",
    "plt.show()\n",
    "fig.savefig(figure_path+'/rho_pca.png')"
   ]
  },
  {
   "cell_type": "code",
   "execution_count": null,
   "id": "ad1baf91",
   "metadata": {},
   "outputs": [],
   "source": [
    "import umap"
   ]
  },
  {
   "cell_type": "code",
   "execution_count": null,
   "id": "88f9ba84",
   "metadata": {},
   "outputs": [],
   "source": [
    "umap_obj = umap.UMAP(n_neighbors=50, n_components=2, min_dist=0.5)\n",
    "rho_umap = umap_obj.fit_transform(rho)"
   ]
  },
  {
   "cell_type": "code",
   "execution_count": null,
   "id": "c8ee9271",
   "metadata": {},
   "outputs": [],
   "source": [
    "cell_labels = adata.obs['clusters'].to_numpy()\n",
    "cell_types = np.unique(cell_labels)\n",
    "fig=plt.figure(figsize=(10,10))\n",
    "for i,x in enumerate((cell_types)):\n",
    "    plt.scatter(rho_umap[cell_labels==x,0], rho_umap[cell_labels==x,1], label=x, color=colors[i])\n",
    "plt.legend(bbox_to_anchor=(-0.15,1.0), loc='upper right')\n",
    "plt.show()"
   ]
  },
  {
   "cell_type": "code",
   "execution_count": null,
   "id": "f06dfa62",
   "metadata": {
    "scrolled": false
   },
   "outputs": [],
   "source": [
    "umap_obj = umap.UMAP(n_neighbors=50, n_components=2, min_dist=0.25)\n",
    "z_umap = umap_obj.fit_transform(z)"
   ]
  },
  {
   "cell_type": "code",
   "execution_count": null,
   "id": "248ada93",
   "metadata": {},
   "outputs": [],
   "source": [
    "fig=plt.figure(figsize=(10,10))\n",
    "for i,x in enumerate((cell_types)):\n",
    "    plt.scatter(z_umap[cell_labels==x,0], z_umap[cell_labels==x,1], label=x, color=colors[i])\n",
    "plt.legend(bbox_to_anchor=(-0.15,1.0), loc='upper right')\n",
    "plt.show()\n",
    "fig.savefig(figure_path+'/z_umap.png')"
   ]
  },
  {
   "cell_type": "code",
   "execution_count": null,
   "id": "15bdbea8",
   "metadata": {},
   "outputs": [],
   "source": [
    "adata.obsm['X_z'] = z_umap\n",
    "#adata2.obsm['X_z'] = z_umap\n",
    "adata.obsm['X_rho'] = rho_umap\n",
    "#adata2.obsm['X_rho'] = rho_umap"
   ]
  },
  {
   "cell_type": "markdown",
   "id": "0b89773c",
   "metadata": {},
   "source": [
    "## Analysis 2: Gene Expression"
   ]
  },
  {
   "cell_type": "code",
   "execution_count": null,
   "id": "d6dedfbe",
   "metadata": {},
   "outputs": [],
   "source": [
    "gidx = np.where(adata.var_names=='Cpe')[0][0]\n",
    "#gidx=120\n",
    "rho_g = rho[:, gidx]"
   ]
  },
  {
   "cell_type": "code",
   "execution_count": null,
   "id": "8959ec57",
   "metadata": {},
   "outputs": [],
   "source": [
    "Uhat, Shat = model.decoder.predSU(torch.tensor(t).to(model.device).view(-1,1), torch.tensor(z).to(model.device))\n",
    "uhat, shat = Uhat[:, gidx].detach().cpu().numpy(), Shat[:, gidx].detach().cpu().numpy()"
   ]
  },
  {
   "cell_type": "code",
   "execution_count": null,
   "id": "360979c4",
   "metadata": {},
   "outputs": [],
   "source": [
    "u, s = adata.layers['Mu'][:,gidx].squeeze(), adata.layers['Ms'][:,gidx].squeeze()\n",
    "scaling = adata.var.vanillapp_scaling[gidx]\n",
    "fig, ax = plt.subplots(3,1,figsize=(12,12))\n",
    "L = 50\n",
    "for i,x in enumerate((cell_types)):\n",
    "    ax[0].plot(t[cell_labels==x], u[cell_labels==x]/scaling, '.', color=colors[i])\n",
    "    ax[1].plot(t[cell_labels==x], s[cell_labels==x], '.', color=colors[i])\n",
    "    ax[2].plot(t[cell_labels==x], rho[cell_labels==x, gidx], '.', color=colors[i])\n",
    "\n",
    "\n",
    "ax[0].set_ylabel('U', fontsize=12, rotation=0)\n",
    "ax[1].set_ylabel('S', fontsize=12, rotation=0)\n",
    "ax[2].set_ylabel(r'$\\rho$', fontsize=12, rotation=0)\n",
    "\n",
    "fig.suptitle(adata.var_names[gidx])\n",
    "plt.tight_layout()\n",
    "fig.show()\n",
    "fig.savefig(figure_path+f'/rho_{adata.var_names[gidx]}.png')"
   ]
  },
  {
   "cell_type": "code",
   "execution_count": null,
   "id": "eb0f5527",
   "metadata": {
    "scrolled": false
   },
   "outputs": [],
   "source": [
    "key='vanillapp'\n",
    "V, U, S = vv.rnaVelocityRhoVAE(adata, key, use_raw=False, use_scv_genes=False)"
   ]
  },
  {
   "cell_type": "code",
   "execution_count": null,
   "id": "42eb3664",
   "metadata": {},
   "outputs": [],
   "source": [
    "name = adata.var_names[gidx]\n",
    "v = V[:, gidx]\n",
    "u = U[:, gidx]\n",
    "s = S[:, gidx]\n",
    "dt = 0.2\n",
    "s_ = s + v*dt\n",
    "\n",
    "fig, ax = plt.subplots()\n",
    "#ax.plot(t, s, '.', label='s')\n",
    "#ax.plot(t, s_, '.', label='s+v*dt')\n",
    "for i,x in enumerate(cell_types):\n",
    "    print(x,np.sum(s_[cell_labels==x]-s[cell_labels==x]<0))\n",
    "    ax.quiver(t[cell_labels==x][::10], s[cell_labels==x][::10], dt*np.ones((len(t[cell_labels==x][::10]))), v[cell_labels==x][::10]*dt, angles='xy', scale=0.5, scale_units='inches', headwidth=5.0, headlength=8.0, color=colors[i], label=x)\n",
    "ax.set_title(name)\n",
    "ax.legend(bbox_to_anchor=(1.05,1.0), loc='upper left')\n",
    "fig.show()\n",
    "fig.savefig(figure_path+f'/{name}_{key}_vel.png', bbox_inches='tight')"
   ]
  },
  {
   "cell_type": "markdown",
   "id": "99503971",
   "metadata": {},
   "source": [
    "## Analysis 3: ODE Parameters"
   ]
  },
  {
   "cell_type": "code",
   "execution_count": null,
   "id": "d55394b3",
   "metadata": {},
   "outputs": [],
   "source": [
    "alpha1, beta1, gamma1 = adata.var[\"vanillapp_alpha\"].to_numpy(), adata.var[\"vanillapp_beta\"].to_numpy(), adata.var[\"vanillapp_gamma\"].to_numpy()\n",
    "alpha2, beta2, gamma2 = adata2.var[\"vanilla_alpha\"].to_numpy(), adata2.var[\"vanilla_beta\"].to_numpy(), adata2.var[\"vanilla_gamma\"].to_numpy()\n",
    "alpha3, beta3, gamma3 = adata2.var[\"fit_alpha\"].to_numpy(), adata2.var[\"fit_beta\"].to_numpy(), adata2.var[\"fit_gamma\"].to_numpy()\n",
    "scaling = adata2.var[\"fit_scaling\"].to_numpy()"
   ]
  },
  {
   "cell_type": "code",
   "execution_count": null,
   "id": "3bb3d1ec",
   "metadata": {},
   "outputs": [],
   "source": [
    "gene_mask = ~np.isnan(scaling)\n",
    "alpha1 = alpha1[gene_mask]\n",
    "beta1 = beta1[gene_mask]\n",
    "gamma1 = gamma1[gene_mask]\n",
    "alpha2 = alpha2[gene_mask]\n",
    "beta2 = beta2[gene_mask]\n",
    "gamma2 = gamma2[gene_mask]\n",
    "alpha3 = alpha3[gene_mask]\n",
    "beta3 = beta3[gene_mask] * scaling[gene_mask]\n",
    "gamma3 = gamma3[gene_mask]"
   ]
  },
  {
   "cell_type": "code",
   "execution_count": null,
   "id": "ab5ad5bb",
   "metadata": {},
   "outputs": [],
   "source": [
    "print(np.sum(gene_mask))"
   ]
  },
  {
   "cell_type": "code",
   "execution_count": null,
   "id": "945fb98e",
   "metadata": {},
   "outputs": [],
   "source": [
    "fig, ax = plt.subplots(3,1, figsize=(12,8))\n",
    "ax[0].hist(alpha1, 50, range=(0, np.quantile(alpha1,0.95)), alpha=0.5, label='vanilla +')\n",
    "ax[0].hist(alpha2, 50, range=(0, np.quantile(alpha2,0.95)), alpha=0.5, label='vanilla')\n",
    "ax[0].hist(alpha3, 50, range=(0, np.quantile(alpha3,0.95)), alpha=0.5, label='scvelo')\n",
    "ax[0].set_title(r'$\\alpha$', fontsize=20)\n",
    "ax[1].hist(beta1, 50, range=(0, np.quantile(beta1,0.95)), alpha=0.5)\n",
    "ax[1].hist(beta2, 50, range=(0, np.quantile(beta2,0.95)), alpha=0.5)\n",
    "ax[1].hist(beta3, 50, range=(0, np.quantile(beta3,0.95)), alpha=0.5)\n",
    "ax[1].set_title(r'$\\beta$', fontsize=20)\n",
    "ax[2].hist(gamma1, 50, range=(0, np.quantile(gamma1,0.95)),alpha=0.5)\n",
    "ax[2].hist(gamma2, 50, range=(0, np.quantile(gamma2,0.95)), alpha=0.5)\n",
    "ax[2].hist(gamma3, 50, range=(0, np.quantile(gamma3,0.95)), alpha=0.5)\n",
    "ax[2].set_title(r'$\\gamma$', fontsize=20)\n",
    "plt.tight_layout()\n",
    "fig.legend()\n",
    "fig.show()\n",
    "fig.savefig(figure_path+'/hist_param.png')"
   ]
  },
  {
   "cell_type": "code",
   "execution_count": null,
   "id": "e6b66f05",
   "metadata": {},
   "outputs": [],
   "source": [
    "D=50\n",
    "fig, ax = plt.subplots(3,1, figsize=(12,8))\n",
    "ax[0].stem(alpha1[::D], label='vanilla +')\n",
    "ax[0].stem(alpha2[::D], markerfmt='C1o', label='vanilla')\n",
    "ax[1].stem(beta1[::D])\n",
    "ax[1].stem(beta2[::D], markerfmt='C1o')\n",
    "ax[2].stem(gamma1[::D])\n",
    "ax[2].stem(gamma2[::D], markerfmt='C1o')\n",
    "ax[0].set_ylim(0,np.quantile(alpha1, 0.98))\n",
    "fig.show()"
   ]
  },
  {
   "cell_type": "code",
   "execution_count": null,
   "id": "9c418e01",
   "metadata": {},
   "outputs": [],
   "source": [
    "\n",
    "print(\"Correlation to scvelo: [vanilla +, vanilla]\")\n",
    "print(f\"alpha: {sp.stats.spearmanr(alpha1, alpha3)[0]:.3f}, {sp.stats.spearmanr(alpha2, alpha3)[0]:.3f}\")\n",
    "print(f\"beta: {sp.stats.spearmanr(beta1, beta3)[0]:.3f}, {sp.stats.spearmanr(beta2, beta3)[0]:.3f}\")\n",
    "print(f\"gamma: {sp.stats.spearmanr(gamma1, gamma3)[0]:.3f}, {sp.stats.spearmanr(gamma2, gamma3)[0]:.3f}\")\n",
    "print(\"Cosine Distance to scvelo: \")\n",
    "print(f\"alpha: {sp.spatial.distance.cosine(alpha1,alpha3):.3f}, {sp.spatial.distance.cosine(alpha2,alpha3):.3f}\")\n",
    "print(f\"beta: {sp.spatial.distance.cosine(beta1,beta3):.3f}, {sp.spatial.distance.cosine(beta2,beta3):.3f}\")\n",
    "print(f\"gamma: {sp.spatial.distance.cosine(gamma1,gamma3):.3f}, {sp.spatial.distance.cosine(gamma2,gamma3):.3f}\")"
   ]
  },
  {
   "cell_type": "markdown",
   "id": "fae33fe3",
   "metadata": {},
   "source": [
    "# Project velocity to the UMAP of Z"
   ]
  },
  {
   "cell_type": "code",
   "execution_count": null,
   "id": "1f752542",
   "metadata": {},
   "outputs": [],
   "source": [
    "key='vanillapp'\n",
    "figure_path = '../figures/Pancreas'\n",
    "scv.tl.velocity_graph(adata, vkey=f'{key}_velocity', basis='umap')\n",
    "scv.tl.velocity_embedding(adata, vkey=f'{key}_velocity', basis='umap')\n",
    "scv.pl.velocity_embedding_stream(adata, vkey=f'{key}_velocity', basis='umap', figsize=(8,6), save=figure_path+f'/panc_{key}velrho.png')"
   ]
  },
  {
   "cell_type": "code",
   "execution_count": null,
   "id": "12efdda1",
   "metadata": {},
   "outputs": [],
   "source": [
    "scv.tl.velocity_graph(adata, vkey=f'vanillapp_velocity', basis='rho')\n",
    "scv.tl.velocity_embedding(adata, vkey=f'vanillapp_velocity', basis='rho')\n",
    "scv.pl.velocity_embedding_stream(adata, vkey=f'vanillapp_velocity', basis='rho', figsize=(8,6), save=figure_path+f'/brain_vanillappvelz.png')"
   ]
  },
  {
   "cell_type": "code",
   "execution_count": null,
   "id": "9e28a33b",
   "metadata": {},
   "outputs": [],
   "source": [
    "key='vanillapp'\n",
    "figure_path = '../figures/Pancreas'\n",
    "name='Ppp3ca'\n",
    "gidx = np.where(adata.var_names==name)[0][0]\n",
    "v = adata.layers[f\"{key}_velocity\"][:, gidx]\n",
    "print(np.sum(v<=0))\n",
    "u = adata.layers['Mu'][:, gidx]\n",
    "s = adata.layers['Ms'][:, gidx]\n",
    "t = adata.obs[f\"{key}_time\"].to_numpy()\n",
    "dt = 0.2\n",
    "s_ = s + v*dt\n",
    "fig, ax = plt.subplots()\n",
    "ax.plot(t, s, '.', label='s')\n",
    "ax.plot(t, s_, '.', label='s+v*dt')\n",
    "ax.set_title(name)\n",
    "ax.legend(bbox_to_anchor=(1.05,1.0), loc='upper left')\n",
    "fig.show()\n",
    "fig.savefig(figure_path+f'/{name}_rho_vel.png', bbox_inches='tight')"
   ]
  },
  {
   "cell_type": "code",
   "execution_count": null,
   "id": "33ca980d",
   "metadata": {},
   "outputs": [],
   "source": [
    "scv.tl.velocity_graph(adata, vkey=f'{key}_velocity', basis='umap')\n",
    "scv.tl.velocity_embedding(adata, vkey=f'{key}_velocity', basis='umap')\n",
    "scv.pl.velocity_embedding_stream(adata, vkey=f'{key}_velocity', basis='umap', figsize=(8,6), save=figure_path+f'/panc_velrho.png')"
   ]
  },
  {
   "cell_type": "code",
   "execution_count": null,
   "id": "faebba04",
   "metadata": {},
   "outputs": [],
   "source": [
    "torch.nn.functional.one_hot(np.array([0,2,3]), 5)"
   ]
  }
 ],
 "metadata": {
  "kernelspec": {
   "display_name": "Python 3",
   "language": "python",
   "name": "python3"
  },
  "language_info": {
   "codemirror_mode": {
    "name": "ipython",
    "version": 3
   },
   "file_extension": ".py",
   "mimetype": "text/x-python",
   "name": "python",
   "nbconvert_exporter": "python",
   "pygments_lexer": "ipython3",
   "version": "3.6.5"
  }
 },
 "nbformat": 4,
 "nbformat_minor": 5
}
