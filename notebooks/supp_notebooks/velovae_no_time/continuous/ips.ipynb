{
 "cells": [
  {
   "cell_type": "code",
   "execution_count": 2,
   "id": "544a343d",
   "metadata": {},
   "outputs": [],
   "source": [
    "import anndata\n",
    "import numpy as np\n",
    "import sys\n",
    "import torch\n",
    "sys.path.append('../../../../')\n",
    "import velovae as vv"
   ]
  },
  {
   "cell_type": "code",
   "execution_count": 4,
   "id": "225e7263",
   "metadata": {},
   "outputs": [],
   "source": [
    "dataset = 'IPSC'\n",
    "adata = anndata.read_h5ad(f'data/{dataset}_pp.h5ad')"
   ]
  },
  {
   "cell_type": "code",
   "execution_count": null,
   "id": "71a1b409",
   "metadata": {},
   "outputs": [],
   "source": [
    "#vv.preprocess(adata, n_gene=1000, min_shared_counts=20, compute_umap=True)"
   ]
  },
  {
   "cell_type": "code",
   "execution_count": 5,
   "id": "eca6d730",
   "metadata": {},
   "outputs": [],
   "source": [
    "model_path_base = f'checkpoints/{dataset}_notime'\n",
    "figure_path_base = f'figures/{dataset}_notime'\n",
    "data_path = f'data/velovae/continuous/{dataset}_notime'\n",
    "gene_plot = ['Vim','Nr2f1', 'Krt7', 'H19']"
   ]
  },
  {
   "cell_type": "markdown",
   "id": "d22e5ed8",
   "metadata": {},
   "source": [
    "# Informative Time Prior"
   ]
  },
  {
   "cell_type": "code",
   "execution_count": 7,
   "id": "2eb734a4",
   "metadata": {},
   "outputs": [],
   "source": [
    "tprior = adata.obs[\"day\"].to_numpy()\n",
    "tprior = np.array([float(x) for x in tprior])\n",
    "adata.obs[\"tprior\"] = tprior - tprior.min()"
   ]
  },
  {
   "cell_type": "markdown",
   "id": "050c3695",
   "metadata": {},
   "source": [
    "# Train a Vanilla VAE"
   ]
  },
  {
   "cell_type": "code",
   "execution_count": 8,
   "id": "b0fd3f3c",
   "metadata": {},
   "outputs": [
    {
     "name": "stdout",
     "output_type": "stream",
     "text": [
      "Initialization using prior time.\n",
      "Estimating ODE parameters...\n"
     ]
    },
    {
     "data": {
      "application/vnd.jupyter.widget-view+json": {
       "model_id": "f6e99fe717b94a84941f5c701a3a715b",
       "version_major": 2,
       "version_minor": 0
      },
      "text/plain": [
       "  0%|          | 0/2000 [00:00<?, ?it/s]"
      ]
     },
     "metadata": {},
     "output_type": "display_data"
    },
    {
     "name": "stdout",
     "output_type": "stream",
     "text": [
      "Estimating the variance...\n"
     ]
    },
    {
     "data": {
      "application/vnd.jupyter.widget-view+json": {
       "model_id": "87657882f35b4324858135bbf0517b92",
       "version_major": 2,
       "version_minor": 0
      },
      "text/plain": [
       "  0%|          | 0/2000 [00:00<?, ?it/s]"
      ]
     },
     "metadata": {},
     "output_type": "display_data"
    },
    {
     "name": "stdout",
     "output_type": "stream",
     "text": [
      "Reinitialize the regular ODE parameters based on estimated global latent time.\n"
     ]
    },
    {
     "data": {
      "application/vnd.jupyter.widget-view+json": {
       "model_id": "13b83ad86c9b41b7afd7e9ceff699918",
       "version_major": 2,
       "version_minor": 0
      },
      "text/plain": [
       "  0%|          | 0/2000 [00:00<?, ?it/s]"
      ]
     },
     "metadata": {},
     "output_type": "display_data"
    },
    {
     "name": "stdout",
     "output_type": "stream",
     "text": [
      "Gaussian Prior.\n",
      "------------------------- Train a Vanilla VAE -------------------------\n",
      "*********        Creating Training/Validation Datasets        *********\n",
      "*********                      Finished.                      *********\n",
      "*********                 Creating optimizers                 *********\n",
      "*********                      Finished.                      *********\n",
      "*********                    Start training                   *********\n",
      "Total Number of Iterations Per Epoch: 146, test iteration: 290\n",
      "********* Early Stop Triggered at epoch 136. *********\n",
      "*********              Finished. Total Time =   0 h :  3 m : 53 s             *********\n",
      "Final: Train ELBO = 75.203,           Test ELBO = 74.839\n"
     ]
    }
   ],
   "source": [
    "figure_path = f'{figure_path_base}/Vanilla'\n",
    "model_path = f'{model_path_base}/Vanilla'\n",
    "\n",
    "torch.manual_seed(2022)\n",
    "np.random.seed(2022)\n",
    "\n",
    "vanilla_vae = vv.VanillaVAE(adata, \n",
    "                            tmax=20, \n",
    "                            device='cuda:0',\n",
    "                            init_method='tprior',\n",
    "                            init_key='tprior',\n",
    "                            tprior=None)\n",
    "\n",
    "vanilla_vae.train(adata, plot=False, gene_plot=gene_plot, figure_path=figure_path, embed='embed')\n",
    "\n",
    "vanilla_vae.save_model(model_path, 'encoder', 'decoder')\n",
    "vanilla_vae.save_anndata(adata, 'vanilla', data_path, file_name=f'{dataset}.h5ad')"
   ]
  },
  {
   "cell_type": "markdown",
   "id": "65b87b45",
   "metadata": {},
   "source": [
    "# Train a VeloVAE"
   ]
  },
  {
   "cell_type": "code",
   "execution_count": 9,
   "id": "a0833051",
   "metadata": {},
   "outputs": [
    {
     "name": "stdout",
     "output_type": "stream",
     "text": [
      "Initialization using prior time.\n",
      "Estimating ODE parameters...\n"
     ]
    },
    {
     "data": {
      "application/vnd.jupyter.widget-view+json": {
       "model_id": "66a1847dea4348b58764bd88128de6df",
       "version_major": 2,
       "version_minor": 0
      },
      "text/plain": [
       "  0%|          | 0/2000 [00:00<?, ?it/s]"
      ]
     },
     "metadata": {},
     "output_type": "display_data"
    },
    {
     "name": "stdout",
     "output_type": "stream",
     "text": [
      "Estimating the variance...\n"
     ]
    },
    {
     "data": {
      "application/vnd.jupyter.widget-view+json": {
       "model_id": "33e54841e63e43c2a866d1430fb9d31e",
       "version_major": 2,
       "version_minor": 0
      },
      "text/plain": [
       "  0%|          | 0/2000 [00:00<?, ?it/s]"
      ]
     },
     "metadata": {},
     "output_type": "display_data"
    },
    {
     "name": "stdout",
     "output_type": "stream",
     "text": [
      "Reinitialize the regular ODE parameters based on estimated global latent time.\n"
     ]
    },
    {
     "data": {
      "application/vnd.jupyter.widget-view+json": {
       "model_id": "6dd24604640c4226b412ce6923ecc79f",
       "version_major": 2,
       "version_minor": 0
      },
      "text/plain": [
       "  0%|          | 0/2000 [00:00<?, ?it/s]"
      ]
     },
     "metadata": {},
     "output_type": "display_data"
    },
    {
     "name": "stdout",
     "output_type": "stream",
     "text": [
      "Gaussian Prior.\n",
      "--------------------------- Train a VeloVAE ---------------------------\n",
      "*********        Creating Training/Validation Datasets        *********\n",
      "*********                      Finished.                      *********\n",
      "*********                 Creating optimizers                 *********\n",
      "*********                      Finished.                      *********\n",
      "*********                    Start training                   *********\n",
      "*********                      Stage  1                       *********\n",
      "Total Number of Iterations Per Epoch: 146, test iteration: 290\n",
      "*********       Stage 1: Early Stop Triggered at epoch 346.       *********\n",
      "*********                      Stage  2                       *********\n",
      "Cell-wise KNN Estimation.\n"
     ]
    },
    {
     "data": {
      "application/vnd.jupyter.widget-view+json": {
       "model_id": "fcbbc580afbb4e9bb4ce0d395767212a",
       "version_major": 2,
       "version_minor": 0
      },
      "text/plain": [
       "  0%|          | 0/26682 [00:00<?, ?it/s]"
      ]
     },
     "metadata": {},
     "output_type": "display_data"
    },
    {
     "name": "stdout",
     "output_type": "stream",
     "text": [
      "Percentage of Invalid Sets: 0.018\n",
      "Average Set Size: 783\n",
      "Finished. Actual Time:   0 h :  0 m : 32 s\n",
      "*********       Stage 2: Early Stop Triggered at epoch 581.       *********\n",
      "*********              Finished. Total Time =   0 h : 19 m : 17 s             *********\n",
      "Final: Train ELBO = 1373.614,           Test ELBO = 1376.319\n"
     ]
    }
   ],
   "source": [
    "figure_path = f'{figure_path_base}/VeloVAE'\n",
    "model_path = f'{model_path_base}/VeloVAE'\n",
    "\n",
    "torch.manual_seed(2022)\n",
    "np.random.seed(2022)\n",
    "vae = vv.VAE(adata, \n",
    "             tmax=20, \n",
    "             dim_z=5, \n",
    "             device='cuda:0',\n",
    "             init_method='tprior',\n",
    "             init_key='tprior',\n",
    "             tprior=None,\n",
    "             init_ton_zero=False)\n",
    "\n",
    "vae.train(adata, plot=False, gene_plot=gene_plot, figure_path=figure_path, embed='embed')\n",
    "\n",
    "vae.save_model(model_path, 'encoder', 'decoder')\n",
    "vae.save_anndata(adata, 'velovae', data_path, file_name=f'{dataset}.h5ad')"
   ]
  },
  {
   "cell_type": "markdown",
   "id": "6044ee2c",
   "metadata": {},
   "source": [
    "# Train a FullVB"
   ]
  },
  {
   "cell_type": "code",
   "execution_count": 10,
   "id": "7f65a53d",
   "metadata": {},
   "outputs": [
    {
     "name": "stdout",
     "output_type": "stream",
     "text": [
      "Initialization using prior time.\n",
      "Estimating ODE parameters...\n"
     ]
    },
    {
     "data": {
      "application/vnd.jupyter.widget-view+json": {
       "model_id": "24761026e6ef40c0975b0fc60512b942",
       "version_major": 2,
       "version_minor": 0
      },
      "text/plain": [
       "  0%|          | 0/2000 [00:00<?, ?it/s]"
      ]
     },
     "metadata": {},
     "output_type": "display_data"
    },
    {
     "name": "stdout",
     "output_type": "stream",
     "text": [
      "Estimating the variance...\n"
     ]
    },
    {
     "data": {
      "application/vnd.jupyter.widget-view+json": {
       "model_id": "972760d8203042b2b29f53af990da07e",
       "version_major": 2,
       "version_minor": 0
      },
      "text/plain": [
       "  0%|          | 0/2000 [00:00<?, ?it/s]"
      ]
     },
     "metadata": {},
     "output_type": "display_data"
    },
    {
     "name": "stdout",
     "output_type": "stream",
     "text": [
      "Reinitialize the regular ODE parameters based on estimated global latent time.\n"
     ]
    },
    {
     "data": {
      "application/vnd.jupyter.widget-view+json": {
       "model_id": "33755535554149dabaf3ba056eab5201",
       "version_major": 2,
       "version_minor": 0
      },
      "text/plain": [
       "  0%|          | 0/2000 [00:00<?, ?it/s]"
      ]
     },
     "metadata": {},
     "output_type": "display_data"
    },
    {
     "name": "stdout",
     "output_type": "stream",
     "text": [
      "Gaussian Prior.\n",
      "--------------------------- Train a VeloVAE ---------------------------\n",
      "*********        Creating Training/Validation Datasets        *********\n",
      "*********                      Finished.                      *********\n",
      "*********                 Creating optimizers                 *********\n",
      "*********                      Finished.                      *********\n",
      "*********                    Start training                   *********\n",
      "*********                      Stage  1                       *********\n",
      "Total Number of Iterations Per Epoch: 146, test iteration: 290\n",
      "*********       Stage 1: Early Stop Triggered at epoch 322.       *********\n",
      "*********                      Stage  2                       *********\n",
      "Cell-wise KNN Estimation.\n"
     ]
    },
    {
     "data": {
      "application/vnd.jupyter.widget-view+json": {
       "model_id": "9e343e4f456a46669ab566434d776274",
       "version_major": 2,
       "version_minor": 0
      },
      "text/plain": [
       "  0%|          | 0/26682 [00:00<?, ?it/s]"
      ]
     },
     "metadata": {},
     "output_type": "display_data"
    },
    {
     "name": "stdout",
     "output_type": "stream",
     "text": [
      "Percentage of Invalid Sets: 0.006\n",
      "Average Set Size: 805\n",
      "Finished. Actual Time:   0 h :  0 m : 33 s\n",
      "*********       Stage 2: Early Stop Triggered at epoch 469.       *********\n",
      "*********              Finished. Total Time =   0 h : 18 m : 23 s             *********\n",
      "Final: Train ELBO = 1363.661,           Test ELBO = 1361.417\n"
     ]
    }
   ],
   "source": [
    "figure_path = f'{figure_path_base}/FullVB'\n",
    "model_path = f'{model_path_base}/FullVB'\n",
    "\n",
    "torch.manual_seed(2022)\n",
    "np.random.seed(2022)\n",
    "full_vb = vv.VAEFullVB(adata, \n",
    "                       tmax=20, \n",
    "                       dim_z=5, \n",
    "                       device='cuda:0',\n",
    "                       init_method='tprior',\n",
    "                       init_key='tprior',\n",
    "                       tprior=None,\n",
    "                       init_ton_zero=False)\n",
    "\n",
    "full_vb.train(adata, plot=False, gene_plot=gene_plot, figure_path=figure_path, embed='embed')\n",
    "\n",
    "full_vb.save_model(model_path, 'encoder','decoder')\n",
    "full_vb.save_anndata(adata, 'fullvb', data_path, file_name=f'{dataset}.h5ad')"
   ]
  },
  {
   "cell_type": "markdown",
   "id": "ddc7ad47",
   "metadata": {},
   "source": [
    "# Train a Branching ODE"
   ]
  },
  {
   "cell_type": "code",
   "execution_count": 11,
   "id": "eb8cbbe3",
   "metadata": {},
   "outputs": [
    {
     "name": "stdout",
     "output_type": "stream",
     "text": [
      "Graph Partition\n",
      "Number of partitions:  2\n",
      "Computing type-to-type transition probability\n",
      "Obtaining the MST in each partition\n",
      "Initialization using type-specific dynamical model.\n",
      "Estimating ODE parameters...\n"
     ]
    },
    {
     "data": {
      "application/vnd.jupyter.widget-view+json": {
       "model_id": "6056cc4006b1427f836aab5ec3f3c4c1",
       "version_major": 2,
       "version_minor": 0
      },
      "text/plain": [
       "  0%|          | 0/2000 [00:00<?, ?it/s]"
      ]
     },
     "metadata": {},
     "output_type": "display_data"
    },
    {
     "name": "stdout",
     "output_type": "stream",
     "text": [
      "Estimating the variance...\n"
     ]
    },
    {
     "data": {
      "application/vnd.jupyter.widget-view+json": {
       "model_id": "234b67e7d5a54078a7fc137ab09ca216",
       "version_major": 2,
       "version_minor": 0
      },
      "text/plain": [
       "  0%|          | 0/2000 [00:00<?, ?it/s]"
      ]
     },
     "metadata": {},
     "output_type": "display_data"
    },
    {
     "name": "stdout",
     "output_type": "stream",
     "text": [
      "------------------------ Train a Branching ODE ------------------------\n",
      "             Epithelial  IPS  MET  Neural  Stromal  Trophoblast\n",
      "Epithelial          0.0  0.0  1.0     0.0      0.0          0.0\n",
      "IPS                 0.0  0.0  1.0     0.0      0.0          0.0\n",
      "MET                 0.0  0.0  1.0     0.0      0.0          0.0\n",
      "Neural              0.0  0.0  1.0     0.0      0.0          0.0\n",
      "Stromal             1.0  0.0  0.0     0.0      0.0          0.0\n",
      "Trophoblast         1.0  0.0  0.0     0.0      0.0          0.0\n",
      "*********        Creating Training/Validation Datasets        *********\n",
      "*********                      Finished.                      *********\n",
      "*********                 Creating optimizers                 *********\n",
      "*********                      Finished.                      *********\n",
      "*********                    Start training                   *********\n",
      "Total Number of Iterations Per Epoch: 146, test iteration: 290\n",
      "*********           Early Stop Triggered at epoch 112.            *********\n",
      "*********              Finished. Total Time =   0 h : 25 m : 55 s             *********\n"
     ]
    }
   ],
   "source": [
    "figure_path = f'{figure_path_base}/BrODE'\n",
    "model_path = f'{model_path_base}/BrODE'\n",
    "\n",
    "torch.manual_seed(2022)\n",
    "np.random.seed(2022)\n",
    "brode = vv.BrODE(adata, 'clusters', 'fullvb_time', 'fullvb_z')\n",
    "\n",
    "brode.train(adata, 'fullvb_time', 'clusters', plot=False, gene_plot=gene_plot, figure_path=figure_path)\n",
    "\n",
    "brode.save_model(model_path, 'brode')\n",
    "brode.save_anndata(adata, 'brode', data_path, file_name=f'{dataset}.h5ad')\n",
    "\n",
    "vv.plot_transition_graph(adata, save=f'{figure_path_base}/transition.png')"
   ]
  },
  {
   "cell_type": "markdown",
   "id": "fcc94af6",
   "metadata": {},
   "source": [
    "# Evaluation"
   ]
  },
  {
   "cell_type": "code",
   "execution_count": null,
   "id": "e6bda897",
   "metadata": {
    "scrolled": false
   },
   "outputs": [],
   "source": [
    "cluster_edges = [('MET','Epithelial'),\n",
    "                 ('Epithelial','IPS'),\n",
    "                 ('Epithelial','Neural'),\n",
    "                 ('Epithelial','Trophoblast'),\n",
    "                 ('Epithelial','Stromal')]\n",
    "vv.post_analysis(adata,\n",
    "                 'eval',\n",
    "                 ['Vanilla VAE', 'VeloVAE','FullVB','BrODE'],\n",
    "                 ['vanilla', 'velovae','fullvb','brode'],\n",
    "                 compute_metrics=True,\n",
    "                 genes=gene_plot,\n",
    "                 grid_size=(1,4),\n",
    "                 plot_type=['all'],\n",
    "                 save_path=figure_path_base,\n",
    "                 cluster_edges=cluster_edges)"
   ]
  }
 ],
 "metadata": {
  "kernelspec": {
   "display_name": "Python 3",
   "language": "python",
   "name": "python3"
  },
  "language_info": {
   "codemirror_mode": {
    "name": "ipython",
    "version": 3
   },
   "file_extension": ".py",
   "mimetype": "text/x-python",
   "name": "python",
   "nbconvert_exporter": "python",
   "pygments_lexer": "ipython3",
   "version": "3.9.7"
  }
 },
 "nbformat": 4,
 "nbformat_minor": 5
}
