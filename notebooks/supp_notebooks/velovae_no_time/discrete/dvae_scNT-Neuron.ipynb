{
 "cells": [
  {
   "cell_type": "code",
   "execution_count": 1,
   "id": "a399ad5a",
   "metadata": {},
   "outputs": [],
   "source": [
    "import anndata\n",
    "import numpy as np\n",
    "import sys\n",
    "import torch\n",
    "sys.path.append('../../../../')\n",
    "import velovae as vv"
   ]
  },
  {
   "cell_type": "code",
   "execution_count": 2,
   "id": "9605c5e6",
   "metadata": {},
   "outputs": [],
   "source": [
    "dataset = 'Neuron_scNT'\n",
    "adata = anndata.read_h5ad(f'data/{dataset}_pp.h5ad')\n",
    "adata.obs['clusters'] = adata.obs['time'].astype(str)"
   ]
  },
  {
   "cell_type": "code",
   "execution_count": null,
   "id": "49216819",
   "metadata": {},
   "outputs": [],
   "source": [
    "genes_retain = ['Jun','Fos','Srf','Maff','Bhlhe40','Fosb','Egr4','Egr1','Egr2','Mef2d',\\\n",
    "                'Cebpb','Rfx3','Hspa5','Pou3f1','Rfxap','Klf9','Cebpg','Klf16']\n",
    "vv.preprocess(adata, n_gene=2000, gene_retain=genes_retain, min_shared_counts=20)\n",
    "adata.write_h5ad(f'data/{dataset}_pp.h5ad')"
   ]
  },
  {
   "cell_type": "code",
   "execution_count": 5,
   "id": "0815755c",
   "metadata": {},
   "outputs": [],
   "source": [
    "model_path_base = f'checkpoints/{dataset}_notime'\n",
    "figure_path_base = f'figures/{dataset}_notime'\n",
    "data_path = f'data/velovae/discrete/{dataset}_notime'\n",
    "gene_plot = ['Fosb','Rfx3','Cebpg','Homer1']"
   ]
  },
  {
   "cell_type": "markdown",
   "id": "49b7da36",
   "metadata": {},
   "source": [
    "# Informative Time Prior"
   ]
  },
  {
   "cell_type": "code",
   "execution_count": 4,
   "id": "88b2568d",
   "metadata": {},
   "outputs": [],
   "source": [
    "adata.obs['tprior'] = adata.obs['time'].to_numpy().astype(float)"
   ]
  },
  {
   "cell_type": "markdown",
   "id": "9e89124f",
   "metadata": {},
   "source": [
    "# Discrete VeloVAE"
   ]
  },
  {
   "cell_type": "code",
   "execution_count": 6,
   "id": "afdd5193",
   "metadata": {},
   "outputs": [
    {
     "name": "stdout",
     "output_type": "stream",
     "text": [
      "Detecting zero scaling factors: 0, 0\n",
      "Initialization using prior time.\n"
     ]
    },
    {
     "data": {
      "application/vnd.jupyter.widget-view+json": {
       "model_id": "9a604dd22c60471fb7d46987ac8ec0dd",
       "version_major": 2,
       "version_minor": 0
      },
      "text/plain": [
       "  0%|          | 0/2000 [00:00<?, ?it/s]"
      ]
     },
     "metadata": {},
     "output_type": "display_data"
    },
    {
     "name": "stdout",
     "output_type": "stream",
     "text": [
      "Reinitialize the regular ODE parameters based on estimated global latent time.\n"
     ]
    },
    {
     "data": {
      "application/vnd.jupyter.widget-view+json": {
       "model_id": "e569b487d8704980bc7abc0c4259c68f",
       "version_major": 2,
       "version_minor": 0
      },
      "text/plain": [
       "  0%|          | 0/2000 [00:00<?, ?it/s]"
      ]
     },
     "metadata": {},
     "output_type": "display_data"
    },
    {
     "name": "stdout",
     "output_type": "stream",
     "text": [
      "Gaussian Prior.\n",
      "Library scale (U): Max=2.92, Min=0.48, Mean=1.03\n",
      "Library scale (S): Max=2.50, Min=0.59, Mean=1.04\n",
      "--------------------------- Train a VeloVAE ---------------------------\n",
      "*********        Creating Training/Validation Datasets        *********\n",
      "*********                      Finished.                      *********\n",
      "*********                 Creating optimizers                 *********\n",
      "*********                      Finished.                      *********\n",
      "*********                    Start training                   *********\n",
      "*********                      Stage  1                       *********\n",
      "Total Number of Iterations Per Epoch: 17, test iteration: 32\n",
      "*********       Stage 1: Early Stop Triggered at epoch 501.       *********\n",
      "*********                      Stage  2                       *********\n"
     ]
    },
    {
     "data": {
      "application/vnd.jupyter.widget-view+json": {
       "model_id": "4c88e4ea0cb64036be022c2f2fb62d8c",
       "version_major": 2,
       "version_minor": 0
      },
      "text/plain": [
       "  0%|          | 0/3066 [00:00<?, ?it/s]"
      ]
     },
     "metadata": {},
     "output_type": "display_data"
    },
    {
     "name": "stdout",
     "output_type": "stream",
     "text": [
      "Percentage of Invalid Sets: 0.031\n",
      "Average Set Size: 126\n",
      "*********       Stage 2: Early Stop Triggered at epoch 534.       *********\n",
      "*********              Finished. Total Time =   0 h :  2 m :  9 s             *********\n",
      "Final: Train ELBO = -2408.449,           Test ELBO = -3195.844\n",
      "       Training MSE = 1.823, Test MSE = 2.928\n"
     ]
    }
   ],
   "source": [
    "figure_path = f'{figure_path_base}/DVAE'\n",
    "model_path = f'{model_path_base}/DVAE'\n",
    "\n",
    "torch.manual_seed(2022)\n",
    "np.random.seed(2022)\n",
    "dvae = vv.DVAE(adata, \n",
    "               tmax=20, \n",
    "               dim_z=5, \n",
    "               device='cuda:0',\n",
    "               init_method='tprior',\n",
    "               init_key='tprior',\n",
    "               tprior=None,\n",
    "               init_ton_zero=False)\n",
    "\n",
    "dvae.train(adata, plot=False, gene_plot=gene_plot, figure_path=figure_path)\n",
    "\n",
    "dvae.save_model(model_path, 'encoder', 'decoder')\n",
    "dvae.save_anndata(adata, 'dvae', data_path, file_name=f'{dataset}.h5ad')"
   ]
  },
  {
   "cell_type": "markdown",
   "id": "0cca41ca",
   "metadata": {},
   "source": [
    "# Discrete Full VB"
   ]
  },
  {
   "cell_type": "code",
   "execution_count": 7,
   "id": "b23f94f8",
   "metadata": {},
   "outputs": [
    {
     "name": "stdout",
     "output_type": "stream",
     "text": [
      "Detecting zero scaling factors: 0, 0\n",
      "Initialization using prior time.\n"
     ]
    },
    {
     "data": {
      "application/vnd.jupyter.widget-view+json": {
       "model_id": "303162f3357847d9b4e80e5df399b5fc",
       "version_major": 2,
       "version_minor": 0
      },
      "text/plain": [
       "  0%|          | 0/2000 [00:00<?, ?it/s]"
      ]
     },
     "metadata": {},
     "output_type": "display_data"
    },
    {
     "name": "stdout",
     "output_type": "stream",
     "text": [
      "Reinitialize the regular ODE parameters based on estimated global latent time.\n"
     ]
    },
    {
     "data": {
      "application/vnd.jupyter.widget-view+json": {
       "model_id": "1799b937e9754c8ba44c6a9ef80d70e5",
       "version_major": 2,
       "version_minor": 0
      },
      "text/plain": [
       "  0%|          | 0/2000 [00:00<?, ?it/s]"
      ]
     },
     "metadata": {},
     "output_type": "display_data"
    },
    {
     "name": "stdout",
     "output_type": "stream",
     "text": [
      "Gaussian Prior.\n",
      "Using informative time prior.\n",
      "Library scale (U): Max=2.92, Min=0.48, Mean=1.03\n",
      "Library scale (S): Max=2.50, Min=0.59, Mean=1.04\n",
      "--------------------------- Train a VeloVAE ---------------------------\n",
      "*********        Creating Training/Validation Datasets        *********\n",
      "*********                      Finished.                      *********\n",
      "*********                 Creating optimizers                 *********\n",
      "*********                      Finished.                      *********\n",
      "*********                    Start training                   *********\n",
      "*********                      Stage  1                       *********\n",
      "Total Number of Iterations Per Epoch: 17, test iteration: 32\n",
      "*********       Stage 1: Early Stop Triggered at epoch 405.       *********\n",
      "*********                      Stage  2                       *********\n"
     ]
    },
    {
     "data": {
      "application/vnd.jupyter.widget-view+json": {
       "model_id": "17f9662155584880b2ad3c541a5f0be3",
       "version_major": 2,
       "version_minor": 0
      },
      "text/plain": [
       "  0%|          | 0/3066 [00:00<?, ?it/s]"
      ]
     },
     "metadata": {},
     "output_type": "display_data"
    },
    {
     "name": "stdout",
     "output_type": "stream",
     "text": [
      "Percentage of Invalid Sets: 0.041\n",
      "Average Set Size: 125\n",
      "*********       Stage 2: Early Stop Triggered at epoch 671.       *********\n",
      "*********              Finished. Total Time =   0 h :  3 m :  8 s             *********\n",
      "Final: Train ELBO = -2569.436,           Test ELBO = -3506.016\n",
      "       Training MSE = 3.618, Test MSE = 4.504\n"
     ]
    }
   ],
   "source": [
    "figure_path = f'{figure_path_base}/DFullVB'\n",
    "model_path = f'{model_path_base}/DFullVB'\n",
    "\n",
    "torch.manual_seed(2022)\n",
    "np.random.seed(2022)\n",
    "full_vb = vv.DVAEFullVB(adata, \n",
    "                        tmax=20, \n",
    "                        dim_z=5, \n",
    "                        device='cuda:0',\n",
    "                        init_method='tprior',\n",
    "                        init_key='tprior',\n",
    "                        tprior='tprior',\n",
    "                        init_ton_zero=False)\n",
    "\n",
    "full_vb.train(adata, plot=False, gene_plot=gene_plot, figure_path=figure_path)\n",
    "\n",
    "full_vb.save_model(model_path, 'encoder', 'decoder')\n",
    "full_vb.save_anndata(adata, 'dfullvb', data_path, file_name=f'{dataset}.h5ad')"
   ]
  },
  {
   "cell_type": "markdown",
   "id": "e81dcf47",
   "metadata": {},
   "source": [
    "# Evaluation"
   ]
  },
  {
   "cell_type": "code",
   "execution_count": null,
   "id": "8d2a2738",
   "metadata": {},
   "outputs": [],
   "source": [
    "cluster_edges = [('0' , '15'), \n",
    "                 ('15', '30'), \n",
    "                 ('30', '60'), \n",
    "                 ('60', '120')]\n",
    "vv.post_analysis(adata,\n",
    "                 'eval',\n",
    "                 ['Discrete VeloVAE','Discrete FullVB'],\n",
    "                 ['dvae','dfullvb'],\n",
    "                 compute_metrics=True,\n",
    "                 genes=gene_plot,\n",
    "                 grid_size=(1,4),\n",
    "                 plot_type=['all'],\n",
    "                 save_path=data_path,\n",
    "                 cluster_edges=cluster_edges)"
   ]
  }
 ],
 "metadata": {
  "kernelspec": {
   "display_name": "Python 3",
   "language": "python",
   "name": "python3"
  },
  "language_info": {
   "codemirror_mode": {
    "name": "ipython",
    "version": 3
   },
   "file_extension": ".py",
   "mimetype": "text/x-python",
   "name": "python",
   "nbconvert_exporter": "python",
   "pygments_lexer": "ipython3",
   "version": "3.9.7"
  }
 },
 "nbformat": 4,
 "nbformat_minor": 5
}
