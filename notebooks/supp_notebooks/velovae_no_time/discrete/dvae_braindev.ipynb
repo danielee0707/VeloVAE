{
 "cells": [
  {
   "cell_type": "code",
   "execution_count": 1,
   "id": "0bc80261",
   "metadata": {},
   "outputs": [],
   "source": [
    "import anndata\n",
    "import numpy as np\n",
    "import sys\n",
    "import torch\n",
    "sys.path.append('../../../../')\n",
    "import velovae as vv"
   ]
  },
  {
   "cell_type": "code",
   "execution_count": 2,
   "id": "d130b785",
   "metadata": {},
   "outputs": [],
   "source": [
    "dataset = 'Braindev'\n",
    "adata = anndata.read_h5ad(f'data/{dataset}_pp.h5ad')\n",
    "adata.obs['clusters'] = adata.obs['Class'].to_numpy()"
   ]
  },
  {
   "cell_type": "code",
   "execution_count": null,
   "id": "02b1117a",
   "metadata": {},
   "outputs": [],
   "source": [
    "#vv.preprocess(adata, n_gene=2000, min_shared_counts=20, compute_umap=True)"
   ]
  },
  {
   "cell_type": "code",
   "execution_count": 3,
   "id": "c4313cc6",
   "metadata": {},
   "outputs": [],
   "source": [
    "model_path_base = f'checkpoints/{dataset}_notime'\n",
    "figure_path_base = f'figures/{dataset}_notime'\n",
    "data_path = f'data/velovae/discrete/{dataset}_notime'\n",
    "gene_plot = ['Mapt', 'Tmsb10', 'Fabp7', 'Npm1']"
   ]
  },
  {
   "cell_type": "markdown",
   "id": "8eba73f6",
   "metadata": {},
   "source": [
    "# Informative Time Prior"
   ]
  },
  {
   "cell_type": "code",
   "execution_count": 4,
   "id": "8b7139b2",
   "metadata": {},
   "outputs": [],
   "source": [
    "capture_time = adata.obs['Age'].to_numpy()\n",
    "tprior = np.array([float(x[1:]) for x in capture_time])\n",
    "adata.obs['tprior'] = tprior - tprior.min()"
   ]
  },
  {
   "cell_type": "markdown",
   "id": "80c843d6",
   "metadata": {},
   "source": [
    "## Discrete VAE"
   ]
  },
  {
   "cell_type": "code",
   "execution_count": 5,
   "id": "2e4648e6",
   "metadata": {},
   "outputs": [
    {
     "name": "stdout",
     "output_type": "stream",
     "text": [
      "Detecting zero scaling factors: 5, 0\n",
      "Initialization using prior time.\n"
     ]
    },
    {
     "data": {
      "application/vnd.jupyter.widget-view+json": {
       "model_id": "b10c45e271aa43e8bd1f7309bfa8049e",
       "version_major": 2,
       "version_minor": 0
      },
      "text/plain": [
       "  0%|          | 0/2000 [00:00<?, ?it/s]"
      ]
     },
     "metadata": {},
     "output_type": "display_data"
    },
    {
     "name": "stdout",
     "output_type": "stream",
     "text": [
      "Reinitialize the regular ODE parameters based on estimated global latent time.\n"
     ]
    },
    {
     "data": {
      "application/vnd.jupyter.widget-view+json": {
       "model_id": "726cf992a4544393a4e1bfba44c87bed",
       "version_major": 2,
       "version_minor": 0
      },
      "text/plain": [
       "  0%|          | 0/2000 [00:00<?, ?it/s]"
      ]
     },
     "metadata": {},
     "output_type": "display_data"
    },
    {
     "name": "stdout",
     "output_type": "stream",
     "text": [
      "Gaussian Prior.\n",
      "Library scale (U): Max=10.47, Min=0.00, Mean=0.94\n",
      "Library scale (S): Max=17.49, Min=0.16, Mean=1.00\n",
      "--------------------------- Train a VeloVAE ---------------------------\n",
      "*********        Creating Training/Validation Datasets        *********\n",
      "*********                      Finished.                      *********\n",
      "*********                 Creating optimizers                 *********\n",
      "*********                      Finished.                      *********\n",
      "*********                    Start training                   *********\n",
      "*********                      Stage  1                       *********\n",
      "Total Number of Iterations Per Epoch: 164, test iteration: 326\n",
      "Epoch 1: Train ELBO = -2578.790, Test ELBO = -19158.982, \t Total Time =   0 h :  0 m : 12 s\n",
      "Epoch 100: Train ELBO = -1289.482, Test ELBO = -1306.258, \t Total Time =   0 h :  3 m : 20 s\n",
      "Epoch 200: Train ELBO = -1256.141, Test ELBO = -1272.202, \t Total Time =   0 h :  6 m : 29 s\n",
      "*********       Stage 1: Early Stop Triggered at epoch 249.       *********\n",
      "*********                      Stage  2                       *********\n"
     ]
    },
    {
     "data": {
      "application/vnd.jupyter.widget-view+json": {
       "model_id": "ae631fff975a480bac2bb3af7420fdac",
       "version_major": 2,
       "version_minor": 0
      },
      "text/plain": [
       "  0%|          | 0/29948 [00:00<?, ?it/s]"
      ]
     },
     "metadata": {},
     "output_type": "display_data"
    },
    {
     "name": "stdout",
     "output_type": "stream",
     "text": [
      "Percentage of Invalid Sets: 0.000\n",
      "Average Set Size: 1208\n",
      "Epoch 250: Train ELBO = -1297.613, Test ELBO = -1680.720, \t Total Time =   0 h :  8 m : 45 s\n",
      "*********       Stage 2: Early Stop Triggered at epoch 265.       *********\n",
      "*********              Finished. Total Time =   0 h : 10 m : 59 s             *********\n",
      "Final: Train ELBO = -1284.454,           Test ELBO = -1287.634\n",
      "       Training MSE = 2.804, Test MSE = 2.664\n"
     ]
    }
   ],
   "source": [
    "figure_path = f'{figure_path_base}/DVAE'\n",
    "model_path = f'{model_path_base}/DVAE'\n",
    "\n",
    "\n",
    "torch.manual_seed(2022)\n",
    "np.random.seed(2022)\n",
    "\n",
    "dvae = vv.model.DVAE(adata, \n",
    "                     tmax=20, \n",
    "                     dim_z=5, \n",
    "                     device='cuda:0',\n",
    "                     init_method='tprior',\n",
    "                     init_key='tprior',\n",
    "                     tprior=None,\n",
    "                     init_ton_zero=False)\n",
    "\n",
    "dvae.train(adata, plot=True, gene_plot=gene_plot, figure_path=figure_path)\n",
    "\n",
    "dvae.save_model(model_path, 'encoder', 'decoder')\n",
    "dvae.save_anndata(adata, 'dvae', data_path, f'{dataset}.h5ad')"
   ]
  },
  {
   "cell_type": "markdown",
   "id": "eb84f68a",
   "metadata": {},
   "source": [
    "# Discrete FullVB"
   ]
  },
  {
   "cell_type": "code",
   "execution_count": 6,
   "id": "23791e45",
   "metadata": {},
   "outputs": [
    {
     "name": "stdout",
     "output_type": "stream",
     "text": [
      "Detecting zero scaling factors: 5, 0\n",
      "Initialization using prior time.\n"
     ]
    },
    {
     "data": {
      "application/vnd.jupyter.widget-view+json": {
       "model_id": "7895d217a12f46208e3e74eef5de7778",
       "version_major": 2,
       "version_minor": 0
      },
      "text/plain": [
       "  0%|          | 0/2000 [00:00<?, ?it/s]"
      ]
     },
     "metadata": {},
     "output_type": "display_data"
    },
    {
     "name": "stdout",
     "output_type": "stream",
     "text": [
      "Reinitialize the regular ODE parameters based on estimated global latent time.\n"
     ]
    },
    {
     "data": {
      "application/vnd.jupyter.widget-view+json": {
       "model_id": "50e1486dcad746ea9fcd660262863334",
       "version_major": 2,
       "version_minor": 0
      },
      "text/plain": [
       "  0%|          | 0/2000 [00:00<?, ?it/s]"
      ]
     },
     "metadata": {},
     "output_type": "display_data"
    },
    {
     "name": "stdout",
     "output_type": "stream",
     "text": [
      "Gaussian Prior.\n",
      "Library scale (U): Max=10.47, Min=0.00, Mean=0.94\n",
      "Library scale (S): Max=17.49, Min=0.16, Mean=1.00\n",
      "--------------------------- Train a VeloVAE ---------------------------\n",
      "*********        Creating Training/Validation Datasets        *********\n",
      "*********                      Finished.                      *********\n",
      "*********                 Creating optimizers                 *********\n",
      "*********                      Finished.                      *********\n",
      "*********                    Start training                   *********\n",
      "*********                      Stage  1                       *********\n",
      "Total Number of Iterations Per Epoch: 164, test iteration: 326\n",
      "Epoch 1: Train ELBO = -2595.597, Test ELBO = -19268.738, \t Total Time =   0 h :  0 m :  9 s\n",
      "*********       Stage 1: Early Stop Triggered at epoch 44.       *********\n",
      "*********                      Stage  2                       *********\n"
     ]
    },
    {
     "data": {
      "application/vnd.jupyter.widget-view+json": {
       "model_id": "adcfe1650dbd4dd4b87186346b7505e2",
       "version_major": 2,
       "version_minor": 0
      },
      "text/plain": [
       "  0%|          | 0/29948 [00:00<?, ?it/s]"
      ]
     },
     "metadata": {},
     "output_type": "display_data"
    },
    {
     "name": "stdout",
     "output_type": "stream",
     "text": [
      "Percentage of Invalid Sets: 0.000\n",
      "Average Set Size: 2203\n",
      "Epoch 45: Train ELBO = -1404.056, Test ELBO = -5654.775, \t Total Time =   0 h :  2 m : 42 s\n",
      "*********       Stage 2: Early Stop Triggered at epoch 60.       *********\n",
      "*********              Finished. Total Time =   0 h :  5 m :  0 s             *********\n",
      "Final: Train ELBO = -1390.051,           Test ELBO = -1395.322\n",
      "       Training MSE = 3.732, Test MSE = 3.482\n"
     ]
    }
   ],
   "source": [
    "figure_path = f'{figure_path_base}/DFullVB'\n",
    "model_path = f'{model_path_base}/DFullVB'\n",
    "\n",
    "torch.manual_seed(2022)\n",
    "np.random.seed(2022)\n",
    "dfullvb = vv.model.DVAEFullVB(adata, \n",
    "                              tmax=20, \n",
    "                              dim_z=5, \n",
    "                              device='cuda:0',\n",
    "                              init_method=\"tprior\",\n",
    "                              init_key=\"tprior\",\n",
    "                              tprior=None,\n",
    "                              init_ton_zero=False)\n",
    "\n",
    "dfullvb.train(adata, plot=True, gene_plot=gene_plot, figure_path=figure_path)\n",
    "\n",
    "dfullvb.save_model(model_path, 'encoder', 'decoder')\n",
    "dfullvb.save_anndata(adata, 'dfullvb', data_path, f'{dataset}.h5ad')"
   ]
  },
  {
   "cell_type": "markdown",
   "id": "79158389",
   "metadata": {},
   "source": [
    "# Evaluation"
   ]
  },
  {
   "cell_type": "code",
   "execution_count": null,
   "id": "86a181c5",
   "metadata": {},
   "outputs": [],
   "source": [
    "cluster_edges = [('Neural tube','Radial glia'),\n",
    "                 ('Radial glia', 'Neuroblast'),\n",
    "                 ('Radial glia', 'Glioblast'),\n",
    "                 ('Radial glia', 'Oligodendrocyte'),\n",
    "                 ('Radial glia', 'Ependymal'),\n",
    "                 ('Neural crest', 'Mesenchyme'),\n",
    "                 ('Mesenchyme','Fibroblast')]\n",
    "vv.post_analysis(adata,\n",
    "                 'eval',\n",
    "                 ['Discrete VeloVAE','Discrete FullVB'],\n",
    "                 ['dvae','dfullvb'],\n",
    "                 compute_metrics=True,\n",
    "                 genes=gene_plot,\n",
    "                 grid_size=(1,4),\n",
    "                 plot_type=['all'],\n",
    "                 save_path=data_path,\n",
    "                 cluster_edges=cluster_edges)"
   ]
  }
 ],
 "metadata": {
  "kernelspec": {
   "display_name": "Python 3",
   "language": "python",
   "name": "python3"
  },
  "language_info": {
   "codemirror_mode": {
    "name": "ipython",
    "version": 3
   },
   "file_extension": ".py",
   "mimetype": "text/x-python",
   "name": "python",
   "nbconvert_exporter": "python",
   "pygments_lexer": "ipython3",
   "version": "3.9.7"
  }
 },
 "nbformat": 4,
 "nbformat_minor": 5
}
