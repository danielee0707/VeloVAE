{
 "cells": [
  {
   "cell_type": "code",
   "execution_count": 1,
   "id": "30d19482",
   "metadata": {},
   "outputs": [],
   "source": [
    "import anndata\n",
    "import numpy as np\n",
    "import sys\n",
    "import torch\n",
    "sys.path.append('../../../../')\n",
    "import velovae as vv"
   ]
  },
  {
   "cell_type": "code",
   "execution_count": 2,
   "id": "226bc9e0",
   "metadata": {},
   "outputs": [],
   "source": [
    "dataset = 'HIO'\n",
    "adata = anndata.read_h5ad('/nfs/turbo/umms-welchjd/yichen/data/scRNA/HIO_Spence/HIO_pp.h5ad')"
   ]
  },
  {
   "cell_type": "code",
   "execution_count": null,
   "id": "a318d27a",
   "metadata": {},
   "outputs": [],
   "source": [
    "#marker_genes = ['S100B','PLP1','STMN2','ELAVL4','CDH5','KDR','ECSCR','CLDN5','COL1A1','COL1A2',\\\n",
    "#                'DCN','ACTA2','TAGLN','ACTG2','MYLK','EPCAM','CDH1','CDX2','CLDN4']\n",
    "#vv.preprocess(adata, \n",
    "#              n_gene=2000, \n",
    "#              min_shared_counts=20, \n",
    "#              genes_retain=marker_genes, \n",
    "#              compute_umap=True, \n",
    "#              keep_raw=True)"
   ]
  },
  {
   "cell_type": "code",
   "execution_count": 8,
   "id": "df66c63b",
   "metadata": {},
   "outputs": [],
   "source": [
    "model_path_base = f'checkpoints/{dataset}_notime'\n",
    "figure_path_base = f'figures/{dataset}_notime'\n",
    "data_path = f'data/velovae/discrete/{dataset}_notime'\n",
    "gene_plot = ['PLP1', 'ECSCR', 'COL1A1', 'EPCAM']"
   ]
  },
  {
   "cell_type": "markdown",
   "id": "ccb1af72",
   "metadata": {},
   "source": [
    "# Informative Time Prior"
   ]
  },
  {
   "cell_type": "code",
   "execution_count": 9,
   "id": "1393881b",
   "metadata": {},
   "outputs": [],
   "source": [
    "day = adata.obs['Day']\n",
    "tprior = np.array([float(x[1:]) for x in day])\n",
    "adata.obs['tprior'] = tprior - tprior.min()"
   ]
  },
  {
   "cell_type": "markdown",
   "id": "0e9dd783",
   "metadata": {},
   "source": [
    "# Discrete VeloVAE"
   ]
  },
  {
   "cell_type": "code",
   "execution_count": 10,
   "id": "30e2929b",
   "metadata": {},
   "outputs": [
    {
     "name": "stdout",
     "output_type": "stream",
     "text": [
      "Detecting zero scaling factors: 18, 0\n",
      "Initialization using prior time.\n"
     ]
    },
    {
     "data": {
      "application/vnd.jupyter.widget-view+json": {
       "model_id": "37c5bc6931674e7e9cbc6a5dc100b25c",
       "version_major": 2,
       "version_minor": 0
      },
      "text/plain": [
       "  0%|          | 0/2002 [00:00<?, ?it/s]"
      ]
     },
     "metadata": {},
     "output_type": "display_data"
    },
    {
     "name": "stdout",
     "output_type": "stream",
     "text": [
      "Reinitialize the regular ODE parameters based on estimated global latent time.\n"
     ]
    },
    {
     "data": {
      "application/vnd.jupyter.widget-view+json": {
       "model_id": "70b81ce3ab2c40459c9c8fdcaa50bf5c",
       "version_major": 2,
       "version_minor": 0
      },
      "text/plain": [
       "  0%|          | 0/2002 [00:00<?, ?it/s]"
      ]
     },
     "metadata": {},
     "output_type": "display_data"
    },
    {
     "name": "stdout",
     "output_type": "stream",
     "text": [
      "Gaussian Prior.\n",
      "Library scale (U): Max=24.07, Min=0.01, Mean=0.87\n",
      "Library scale (S): Max=48.52, Min=0.02, Mean=1.10\n",
      "--------------------------- Train a VeloVAE ---------------------------\n",
      "*********        Creating Training/Validation Datasets        *********\n",
      "*********                      Finished.                      *********\n",
      "*********                 Creating optimizers                 *********\n",
      "*********                      Finished.                      *********\n",
      "*********                    Start training                   *********\n",
      "*********                      Stage  1                       *********\n",
      "Total Number of Iterations Per Epoch: 149, test iteration: 296\n",
      "*********       Stage 1: Early Stop Triggered at epoch 223.       *********\n",
      "*********                      Stage  2                       *********\n"
     ]
    },
    {
     "data": {
      "application/vnd.jupyter.widget-view+json": {
       "model_id": "c313ba94ec804c30bbe1817ef992d6f2",
       "version_major": 2,
       "version_minor": 0
      },
      "text/plain": [
       "  0%|          | 0/27086 [00:00<?, ?it/s]"
      ]
     },
     "metadata": {},
     "output_type": "display_data"
    },
    {
     "name": "stdout",
     "output_type": "stream",
     "text": [
      "Percentage of Invalid Sets: 0.000\n",
      "Average Set Size: 1048\n",
      "*********       Stage 2: Early Stop Triggered at epoch 331.       *********\n",
      "*********              Finished. Total Time =   0 h : 12 m : 46 s             *********\n",
      "Final: Train ELBO = -1160.647,           Test ELBO = -1182.563\n",
      "       Training MSE = 10.867, Test MSE = 15.033\n"
     ]
    }
   ],
   "source": [
    "figure_path = f'{figure_path_base}/DVAE'\n",
    "model_path = f'{model_path_base}/DVAE'\n",
    "\n",
    "torch.manual_seed(2022)\n",
    "np.random.seed(2022)\n",
    "dvae = vv.DVAE(adata, \n",
    "               tmax=20, \n",
    "               dim_z=5, \n",
    "               device='cuda:0',\n",
    "               init_method='tprior',\n",
    "               init_key='tprior',\n",
    "               tprior=None,\n",
    "               init_ton_zero=False)\n",
    "\n",
    "\n",
    "dvae.train(adata, plot=False, gene_plot=gene_plot, figure_path=figure_path)\n",
    "\n",
    "dvae.save_model(model_path, 'encoder', 'decoder')\n",
    "dvae.save_anndata(adata, 'dvae', data_path, file_name=f'{dataset}.h5ad')"
   ]
  },
  {
   "cell_type": "markdown",
   "id": "e27a19a3",
   "metadata": {},
   "source": [
    "# Full VB"
   ]
  },
  {
   "cell_type": "code",
   "execution_count": 11,
   "id": "d2c932ae",
   "metadata": {},
   "outputs": [
    {
     "name": "stdout",
     "output_type": "stream",
     "text": [
      "Detecting zero scaling factors: 18, 0\n",
      "Initialization using prior time.\n"
     ]
    },
    {
     "data": {
      "application/vnd.jupyter.widget-view+json": {
       "model_id": "4f8cd0247545472e9f93198cd639db40",
       "version_major": 2,
       "version_minor": 0
      },
      "text/plain": [
       "  0%|          | 0/2002 [00:00<?, ?it/s]"
      ]
     },
     "metadata": {},
     "output_type": "display_data"
    },
    {
     "name": "stdout",
     "output_type": "stream",
     "text": [
      "Reinitialize the regular ODE parameters based on estimated global latent time.\n"
     ]
    },
    {
     "data": {
      "application/vnd.jupyter.widget-view+json": {
       "model_id": "d4f9e9c1a2ec48aa89971cdea5898fda",
       "version_major": 2,
       "version_minor": 0
      },
      "text/plain": [
       "  0%|          | 0/2002 [00:00<?, ?it/s]"
      ]
     },
     "metadata": {},
     "output_type": "display_data"
    },
    {
     "name": "stdout",
     "output_type": "stream",
     "text": [
      "Gaussian Prior.\n",
      "Library scale (U): Max=24.07, Min=0.01, Mean=0.87\n",
      "Library scale (S): Max=48.52, Min=0.02, Mean=1.10\n",
      "--------------------------- Train a VeloVAE ---------------------------\n",
      "*********        Creating Training/Validation Datasets        *********\n",
      "*********                      Finished.                      *********\n",
      "*********                 Creating optimizers                 *********\n",
      "*********                      Finished.                      *********\n",
      "*********                    Start training                   *********\n",
      "*********                      Stage  1                       *********\n",
      "Total Number of Iterations Per Epoch: 149, test iteration: 296\n",
      "*********       Stage 1: Early Stop Triggered at epoch 175.       *********\n",
      "*********                      Stage  2                       *********\n"
     ]
    },
    {
     "data": {
      "application/vnd.jupyter.widget-view+json": {
       "model_id": "30b8b13a158549aaa22d8a9dede420e2",
       "version_major": 2,
       "version_minor": 0
      },
      "text/plain": [
       "  0%|          | 0/27086 [00:00<?, ?it/s]"
      ]
     },
     "metadata": {},
     "output_type": "display_data"
    },
    {
     "name": "stdout",
     "output_type": "stream",
     "text": [
      "Percentage of Invalid Sets: 0.000\n",
      "Average Set Size: 1273\n",
      "*********       Stage 2: Early Stop Triggered at epoch 191.       *********\n",
      "*********              Finished. Total Time =   0 h :  8 m : 42 s             *********\n",
      "Final: Train ELBO = -1223.188,           Test ELBO = -1227.890\n",
      "       Training MSE = 16.911, Test MSE = 20.328\n"
     ]
    }
   ],
   "source": [
    "figure_path = f'{figure_path_base}/DFullVB'\n",
    "model_path = f'{model_path_base}/DFullVB'\n",
    "\n",
    "torch.manual_seed(2022)\n",
    "np.random.seed(2022)\n",
    "dfull_vb = vv.DVAEFullVB(adata, \n",
    "                         tmax=20, \n",
    "                         dim_z=5, \n",
    "                         device='cuda:0',\n",
    "                         init_method='tprior',\n",
    "                         init_key='tprior',\n",
    "                         tprior=None,\n",
    "                         init_ton_zero=False)\n",
    "\n",
    "dfull_vb.train(adata, plot=False, gene_plot=gene_plot, figure_path=figure_path)\n",
    "\n",
    "dfull_vb.save_model(model_path, 'encoder','decoder')\n",
    "dfull_vb.save_anndata(adata, 'dfullvb', data_path, file_name=f'{dataset}.h5ad')"
   ]
  },
  {
   "cell_type": "markdown",
   "id": "28188e24",
   "metadata": {},
   "source": [
    "# Evaluation"
   ]
  },
  {
   "cell_type": "code",
   "execution_count": null,
   "id": "4524ecd0",
   "metadata": {
    "scrolled": false
   },
   "outputs": [],
   "source": [
    "vv.post_analysis(adata,\n",
    "                 'eval',\n",
    "                 ['Discrete VeloVAE','Discrete FullVB'],\n",
    "                 ['dvae', 'dfullvb'],\n",
    "                 compute_metrics=False,\n",
    "                 plot_type=['all'],\n",
    "                 genes=gene_plot,\n",
    "                 grid_size=(1,4),\n",
    "                 save_path=data_path)"
   ]
  }
 ],
 "metadata": {
  "kernelspec": {
   "display_name": "Python 3",
   "language": "python",
   "name": "python3"
  },
  "language_info": {
   "codemirror_mode": {
    "name": "ipython",
    "version": 3
   },
   "file_extension": ".py",
   "mimetype": "text/x-python",
   "name": "python",
   "nbconvert_exporter": "python",
   "pygments_lexer": "ipython3",
   "version": "3.9.7"
  }
 },
 "nbformat": 4,
 "nbformat_minor": 5
}
