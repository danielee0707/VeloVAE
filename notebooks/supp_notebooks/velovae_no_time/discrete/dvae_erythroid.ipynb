{
 "cells": [
  {
   "cell_type": "code",
   "execution_count": 1,
   "id": "544a343d",
   "metadata": {},
   "outputs": [],
   "source": [
    "import anndata\n",
    "import numpy as np\n",
    "import sys\n",
    "import torch\n",
    "sys.path.append('../../../../')\n",
    "import velovae as vv"
   ]
  },
  {
   "cell_type": "code",
   "execution_count": 2,
   "id": "225e7263",
   "metadata": {},
   "outputs": [],
   "source": [
    "dataset = 'Erythroid'\n",
    "adata = anndata.read_h5ad(f'data/{dataset}_pp.h5ad')\n",
    "adata.obs[\"clusters\"] = adata.obs[\"celltype\"].to_numpy()"
   ]
  },
  {
   "cell_type": "code",
   "execution_count": null,
   "id": "30870e3c",
   "metadata": {},
   "outputs": [],
   "source": [
    "vv.preprocess(adata, n_gene=2000, min_shared_counts=20, keep_raw=True)"
   ]
  },
  {
   "cell_type": "code",
   "execution_count": 6,
   "id": "202b3fd2",
   "metadata": {},
   "outputs": [],
   "source": [
    "model_path_base = f'checkpoints/{dataset}_notime'\n",
    "figure_path_base = f'figures/{dataset}_notime'\n",
    "data_path = f'data/velovae/discrete/{dataset}_notime'\n",
    "gene_plot = ['Smim1', 'Blvrb', 'Hba-x', 'Lmo2']"
   ]
  },
  {
   "cell_type": "markdown",
   "id": "e2498ad3",
   "metadata": {},
   "source": [
    "# Informative Time Prior"
   ]
  },
  {
   "cell_type": "code",
   "execution_count": 7,
   "id": "f5bc8e69",
   "metadata": {},
   "outputs": [],
   "source": [
    "capture_time = adata.obs['stage'].to_numpy()\n",
    "tprior = np.array([float(x[1:]) for x in capture_time])\n",
    "adata.obs['tprior'] = tprior - tprior.min()"
   ]
  },
  {
   "cell_type": "markdown",
   "id": "eab459c1",
   "metadata": {},
   "source": [
    "# Discrete VAE"
   ]
  },
  {
   "cell_type": "code",
   "execution_count": 8,
   "id": "89dbcec2",
   "metadata": {},
   "outputs": [
    {
     "name": "stdout",
     "output_type": "stream",
     "text": [
      "Detecting zero scaling factors: 0, 0\n",
      "Initialization using prior time.\n"
     ]
    },
    {
     "data": {
      "application/vnd.jupyter.widget-view+json": {
       "model_id": "45c04ab055f347e3855c1f84ececea74",
       "version_major": 2,
       "version_minor": 0
      },
      "text/plain": [
       "  0%|          | 0/1000 [00:00<?, ?it/s]"
      ]
     },
     "metadata": {},
     "output_type": "display_data"
    },
    {
     "name": "stdout",
     "output_type": "stream",
     "text": [
      "Reinitialize the regular ODE parameters based on estimated global latent time.\n"
     ]
    },
    {
     "data": {
      "application/vnd.jupyter.widget-view+json": {
       "model_id": "e281391f5a3c4834bcbfbfdef011b321",
       "version_major": 2,
       "version_minor": 0
      },
      "text/plain": [
       "  0%|          | 0/1000 [00:00<?, ?it/s]"
      ]
     },
     "metadata": {},
     "output_type": "display_data"
    },
    {
     "name": "stdout",
     "output_type": "stream",
     "text": [
      "Gaussian Prior.\n",
      "Library scale (U): Max=5.92, Min=0.06, Mean=0.99\n",
      "Library scale (S): Max=4.65, Min=0.26, Mean=1.05\n",
      "--------------------------- Train a VeloVAE ---------------------------\n",
      "*********        Creating Training/Validation Datasets        *********\n",
      "*********                      Finished.                      *********\n",
      "*********                 Creating optimizers                 *********\n",
      "*********                      Finished.                      *********\n",
      "*********                    Start training                   *********\n",
      "*********                      Stage  1                       *********\n",
      "Total Number of Iterations Per Epoch: 54, test iteration: 106\n",
      "*********       Stage 1: Early Stop Triggered at epoch 1013.       *********\n",
      "*********                      Stage  2                       *********\n"
     ]
    },
    {
     "data": {
      "application/vnd.jupyter.widget-view+json": {
       "model_id": "f2c8a05777954cbaa59e4428fa25de85",
       "version_major": 2,
       "version_minor": 0
      },
      "text/plain": [
       "  0%|          | 0/9815 [00:00<?, ?it/s]"
      ]
     },
     "metadata": {},
     "output_type": "display_data"
    },
    {
     "name": "stdout",
     "output_type": "stream",
     "text": [
      "Percentage of Invalid Sets: 0.006\n",
      "Average Set Size: 233\n",
      "*********       Stage 2: Early Stop Triggered at epoch 2138.       *********\n",
      "*********              Finished. Total Time =   0 h : 21 m : 39 s             *********\n",
      "Final: Train ELBO = -1193.887,           Test ELBO = -1271.903\n",
      "       Training MSE = 18.295, Test MSE = 49.423\n"
     ]
    }
   ],
   "source": [
    "figure_path = f'{figure_path_base}/DVAE'\n",
    "model_path = f'{model_path_base}/DVAE'\n",
    "\n",
    "torch.manual_seed(2022)\n",
    "np.random.seed(2022)\n",
    "\n",
    "dvae = vv.model.DVAE(adata, \n",
    "                     tmax=20, \n",
    "                     dim_z=5, \n",
    "                     device='cuda:0',\n",
    "                     init_method='tprior',\n",
    "                     init_key='tprior',\n",
    "                     tprior=None,\n",
    "                     init_ton_zero=False)\n",
    "\n",
    "dvae.train(adata, plot=False, gene_plot=gene_plot, figure_path=figure_path)\n",
    "\n",
    "dvae.save_model(model_path, 'encoder', 'decoder')\n",
    "dvae.save_anndata(adata, 'dvae', data_path, f'{dataset}.h5ad')"
   ]
  },
  {
   "cell_type": "markdown",
   "id": "214e67ab",
   "metadata": {},
   "source": [
    "# Full VB"
   ]
  },
  {
   "cell_type": "code",
   "execution_count": 9,
   "id": "6e32a925",
   "metadata": {},
   "outputs": [
    {
     "name": "stdout",
     "output_type": "stream",
     "text": [
      "Detecting zero scaling factors: 0, 0\n",
      "Initialization using prior time.\n"
     ]
    },
    {
     "data": {
      "application/vnd.jupyter.widget-view+json": {
       "model_id": "55f4d4a8ce79450298fa453748a4b7e3",
       "version_major": 2,
       "version_minor": 0
      },
      "text/plain": [
       "  0%|          | 0/1000 [00:00<?, ?it/s]"
      ]
     },
     "metadata": {},
     "output_type": "display_data"
    },
    {
     "name": "stdout",
     "output_type": "stream",
     "text": [
      "Reinitialize the regular ODE parameters based on estimated global latent time.\n"
     ]
    },
    {
     "data": {
      "application/vnd.jupyter.widget-view+json": {
       "model_id": "f3426ad42345402e98cf098c0fd6a611",
       "version_major": 2,
       "version_minor": 0
      },
      "text/plain": [
       "  0%|          | 0/1000 [00:00<?, ?it/s]"
      ]
     },
     "metadata": {},
     "output_type": "display_data"
    },
    {
     "name": "stdout",
     "output_type": "stream",
     "text": [
      "Gaussian Prior.\n",
      "Library scale (U): Max=5.92, Min=0.06, Mean=0.99\n",
      "Library scale (S): Max=4.65, Min=0.26, Mean=1.05\n",
      "--------------------------- Train a VeloVAE ---------------------------\n",
      "*********        Creating Training/Validation Datasets        *********\n",
      "*********                      Finished.                      *********\n",
      "*********                 Creating optimizers                 *********\n",
      "*********                      Finished.                      *********\n",
      "*********                    Start training                   *********\n",
      "*********                      Stage  1                       *********\n",
      "Total Number of Iterations Per Epoch: 54, test iteration: 106\n",
      "*********       Stage 1: Early Stop Triggered at epoch 878.       *********\n",
      "*********                      Stage  2                       *********\n"
     ]
    },
    {
     "data": {
      "application/vnd.jupyter.widget-view+json": {
       "model_id": "b66615801a6b47cbb042e84a48ec51d2",
       "version_major": 2,
       "version_minor": 0
      },
      "text/plain": [
       "  0%|          | 0/9815 [00:00<?, ?it/s]"
      ]
     },
     "metadata": {},
     "output_type": "display_data"
    },
    {
     "name": "stdout",
     "output_type": "stream",
     "text": [
      "Percentage of Invalid Sets: 0.007\n",
      "Average Set Size: 223\n",
      "*********       Stage 2: Early Stop Triggered at epoch 1208.       *********\n",
      "*********              Finished. Total Time =   0 h : 14 m :  9 s             *********\n",
      "Final: Train ELBO = -1226.870,           Test ELBO = -1272.119\n",
      "       Training MSE = 28.330, Test MSE = 55.291\n"
     ]
    }
   ],
   "source": [
    "figure_path = f'{figure_path_base}/DFullVB'\n",
    "model_path = f'{model_path_base}/DFullVB'\n",
    "\n",
    "torch.manual_seed(2022)\n",
    "np.random.seed(2022)\n",
    "\n",
    "dvae = vv.model.DVAEFullVB(adata, \n",
    "                           tmax=20, \n",
    "                           dim_z=5, \n",
    "                           device='cuda:0',\n",
    "                           init_method='tprior',\n",
    "                           init_key='tprior',\n",
    "                           tprior=None,\n",
    "                           init_ton_zero=False)\n",
    "\n",
    "dvae.train(adata, plot=False, gene_plot=gene_plot, figure_path=figure_path)\n",
    "\n",
    "dvae.save_model(model_path, 'encoder', 'decoder')\n",
    "dvae.save_anndata(adata, 'dfullvb', data_path, f'{dataset}.h5ad')"
   ]
  },
  {
   "cell_type": "markdown",
   "id": "fa4a69d7",
   "metadata": {},
   "source": [
    "# Evaluation"
   ]
  },
  {
   "cell_type": "code",
   "execution_count": null,
   "id": "fe196dfb",
   "metadata": {},
   "outputs": [],
   "source": [
    "cluster_edges = [('Blood progenitors 1', 'Blood progenitors 2'),\n",
    "                 ('Blood progenitors 2', 'Erythroid1'),\n",
    "                 ('Erythroid1', 'Erythroid2'),\n",
    "                 ('Erythroid2', 'Erythroid3')]\n",
    "vv.post_analysis(adata,\n",
    "                 'eval',\n",
    "                 ['Discrete VeloVAE', 'Discrete FullVB'],\n",
    "                 ['dvae', 'dfullvb'],\n",
    "                 compute_metrics=True,\n",
    "                 genes=gene_plot,\n",
    "                 grid_size=(1,4),\n",
    "                 plot_type=['all'],\n",
    "                 save_path=data_path,\n",
    "                 cluster_edges=cluster_edges)"
   ]
  }
 ],
 "metadata": {
  "kernelspec": {
   "display_name": "Python 3",
   "language": "python",
   "name": "python3"
  },
  "language_info": {
   "codemirror_mode": {
    "name": "ipython",
    "version": 3
   },
   "file_extension": ".py",
   "mimetype": "text/x-python",
   "name": "python",
   "nbconvert_exporter": "python",
   "pygments_lexer": "ipython3",
   "version": "3.9.7"
  }
 },
 "nbformat": 4,
 "nbformat_minor": 5
}
