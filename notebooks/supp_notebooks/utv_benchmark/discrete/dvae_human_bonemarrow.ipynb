{
 "cells": [
  {
   "cell_type": "code",
   "execution_count": 9,
   "id": "9e5200ee",
   "metadata": {},
   "outputs": [],
   "source": [
    "import anndata\n",
    "import numpy as np\n",
    "import sys\n",
    "import torch\n",
    "sys.path.append('../../../../')\n",
    "import velovae as vv\n",
    "%load_ext autoreload\n",
    "%autoreload 2"
   ]
  },
  {
   "cell_type": "code",
   "execution_count": 2,
   "id": "4b2c0e1a",
   "metadata": {},
   "outputs": [],
   "source": [
    "import scvelo as scv\n",
    "dataset = 'Bonemarrow'\n",
    "root = '/scratch/blaauw_root/blaauw1/gyichen'\n",
    "#adata = scv.datasets.bonemarrow(file_path=f'data/download/{dataset}.h5ad')\n",
    "adata = anndata.read_h5ad(f'{root}/data/{dataset}_pp.h5ad')"
   ]
  },
  {
   "cell_type": "code",
   "execution_count": null,
   "id": "ef445eae",
   "metadata": {},
   "outputs": [],
   "source": [
    "#vv.preprocess(adata, n_gene=2000, min_shared_counts=20, keep_raw=True)"
   ]
  },
  {
   "cell_type": "code",
   "execution_count": 3,
   "id": "cea2e1cf",
   "metadata": {},
   "outputs": [],
   "source": [
    "model_path_base = f'{root}/checkpoints/{dataset}'\n",
    "figure_path_base = f'{root}/figures/{dataset}'\n",
    "data_path = f'{root}/data/velovae/discrete/{dataset}'\n",
    "gene_plot = ['CD44','CELF2','TAOK3']"
   ]
  },
  {
   "cell_type": "markdown",
   "id": "5f87d846",
   "metadata": {},
   "source": [
    "# Discrete VeloVAE"
   ]
  },
  {
   "cell_type": "code",
   "execution_count": 22,
   "id": "7a724a23",
   "metadata": {},
   "outputs": [
    {
     "name": "stdout",
     "output_type": "stream",
     "text": [
      "10\n",
      "Detecting zero scaling factors: 0, 0\n",
      "Estimating ODE parameters...\n"
     ]
    },
    {
     "data": {
      "application/vnd.jupyter.widget-view+json": {
       "model_id": "90861d130e854af28a0a4402ec69757a",
       "version_major": 2,
       "version_minor": 0
      },
      "text/plain": [
       "  0%|          | 0/2000 [00:00<?, ?it/s]"
      ]
     },
     "metadata": {},
     "output_type": "display_data"
    },
    {
     "name": "stdout",
     "output_type": "stream",
     "text": [
      "Detected 463 velocity genes.\n",
      "Estimating the variance...\n"
     ]
    },
    {
     "data": {
      "application/vnd.jupyter.widget-view+json": {
       "model_id": "b42a35c609564026933b502351834217",
       "version_major": 2,
       "version_minor": 0
      },
      "text/plain": [
       "  0%|          | 0/2000 [00:00<?, ?it/s]"
      ]
     },
     "metadata": {},
     "output_type": "display_data"
    },
    {
     "name": "stdout",
     "output_type": "stream",
     "text": [
      "3 clusters detected based on gene co-expression.\n",
      "(0.57, 0.7916349487492567), (0.43, 0.36095607263242335)\n",
      "KS-test result: [0. 1. 1.]\n",
      "Initial induction: 483, repression: 1517/2000\n",
      "Initialization using the steady-state and dynamical models.\n",
      "Reinitialize the regular ODE parameters based on estimated global latent time.\n"
     ]
    },
    {
     "data": {
      "application/vnd.jupyter.widget-view+json": {
       "model_id": "af77db44e3ec4aa99290862e4ed4e5dd",
       "version_major": 2,
       "version_minor": 0
      },
      "text/plain": [
       "  0%|          | 0/2000 [00:00<?, ?it/s]"
      ]
     },
     "metadata": {},
     "output_type": "display_data"
    },
    {
     "name": "stdout",
     "output_type": "stream",
     "text": [
      "Gaussian Prior.\n",
      "Mean dispersion: u=1.54, s=1.58\n",
      "Over-Dispersion = 0.91 => Using NB to model count data.\n",
      "Learning Rate based on Data Sparsity: 0.0004\n",
      "--------------------------- Train a VeloVAE ---------------------------\n",
      "*********        Creating Training/Validation Datasets        *********\n",
      "*********                      Finished.                      *********\n",
      "*********                 Creating optimizers                 *********\n",
      "*********                      Finished.                      *********\n",
      "*********                    Start training                   *********\n",
      "*********                      Stage  1                       *********\n",
      "Total Number of Iterations Per Epoch: 28, test iteration: 54\n",
      "*********       Stage 1: Early Stop Triggered at epoch 201.       *********\n",
      "*********                      Stage  2                       *********\n",
      "*********             Velocity Refinement Round 1              *********\n",
      "Cell-wise KNN Estimation.\n"
     ]
    },
    {
     "data": {
      "application/vnd.jupyter.widget-view+json": {
       "model_id": "26c2df21c31c44749766b36329d9aece",
       "version_major": 2,
       "version_minor": 0
      },
      "text/plain": [
       "  0%|          | 0/5028 [00:00<?, ?it/s]"
      ]
     },
     "metadata": {},
     "output_type": "display_data"
    },
    {
     "name": "stdout",
     "output_type": "stream",
     "text": [
      "Percentage of Invalid Sets: 0.059\n",
      "Average Set Size: 118\n",
      "Finished. Actual Time:   0 h :  0 m :  4 s\n",
      "*********       Round 1: Early Stop Triggered at epoch 211.       *********\n",
      "*********             Velocity Refinement Round 2              *********\n",
      "Cell-wise KNN Estimation.\n"
     ]
    },
    {
     "data": {
      "application/vnd.jupyter.widget-view+json": {
       "model_id": "d810ce2e263447a3ace0b7c006a8611f",
       "version_major": 2,
       "version_minor": 0
      },
      "text/plain": [
       "  0%|          | 0/5028 [00:00<?, ?it/s]"
      ]
     },
     "metadata": {},
     "output_type": "display_data"
    },
    {
     "name": "stdout",
     "output_type": "stream",
     "text": [
      "Percentage of Invalid Sets: 0.059\n",
      "Average Set Size: 118\n",
      "Finished. Actual Time:   0 h :  0 m :  4 s\n",
      "*********       Round 2: Early Stop Triggered at epoch 219.       *********\n",
      "Change in x0: 0.6050318901971731\n",
      "*********             Velocity Refinement Round 3              *********\n",
      "Cell-wise KNN Estimation.\n"
     ]
    },
    {
     "data": {
      "application/vnd.jupyter.widget-view+json": {
       "model_id": "3bfb27a6783b4999a78229f200d959d7",
       "version_major": 2,
       "version_minor": 0
      },
      "text/plain": [
       "  0%|          | 0/5028 [00:00<?, ?it/s]"
      ]
     },
     "metadata": {},
     "output_type": "display_data"
    },
    {
     "name": "stdout",
     "output_type": "stream",
     "text": [
      "Percentage of Invalid Sets: 0.059\n",
      "Average Set Size: 118\n",
      "Finished. Actual Time:   0 h :  0 m :  4 s\n",
      "*********       Round 3: Early Stop Triggered at epoch 227.       *********\n",
      "Change in x0: 0.47821882975859464\n",
      "*********             Velocity Refinement Round 4              *********\n",
      "Cell-wise KNN Estimation.\n"
     ]
    },
    {
     "data": {
      "application/vnd.jupyter.widget-view+json": {
       "model_id": "d99ab01a26c94a86b783f1cce5ddcf48",
       "version_major": 2,
       "version_minor": 0
      },
      "text/plain": [
       "  0%|          | 0/5028 [00:00<?, ?it/s]"
      ]
     },
     "metadata": {},
     "output_type": "display_data"
    },
    {
     "name": "stdout",
     "output_type": "stream",
     "text": [
      "Percentage of Invalid Sets: 0.059\n",
      "Average Set Size: 118\n",
      "Finished. Actual Time:   0 h :  0 m :  4 s\n",
      "*********       Round 4: Early Stop Triggered at epoch 235.       *********\n",
      "Change in x0: 0.3941680856164208\n",
      "*********             Velocity Refinement Round 5              *********\n",
      "Cell-wise KNN Estimation.\n"
     ]
    },
    {
     "data": {
      "application/vnd.jupyter.widget-view+json": {
       "model_id": "7f593d24052f4130aad261447f210bb4",
       "version_major": 2,
       "version_minor": 0
      },
      "text/plain": [
       "  0%|          | 0/5028 [00:00<?, ?it/s]"
      ]
     },
     "metadata": {},
     "output_type": "display_data"
    },
    {
     "name": "stdout",
     "output_type": "stream",
     "text": [
      "Percentage of Invalid Sets: 0.059\n",
      "Average Set Size: 118\n",
      "Finished. Actual Time:   0 h :  0 m :  4 s\n",
      "*********       Round 5: Early Stop Triggered at epoch 243.       *********\n",
      "Change in x0: 0.3470723298402407\n",
      "*********             Velocity Refinement Round 6              *********\n",
      "Cell-wise KNN Estimation.\n"
     ]
    },
    {
     "data": {
      "application/vnd.jupyter.widget-view+json": {
       "model_id": "089cee92d89b451aa244e1ea0b3df15e",
       "version_major": 2,
       "version_minor": 0
      },
      "text/plain": [
       "  0%|          | 0/5028 [00:00<?, ?it/s]"
      ]
     },
     "metadata": {},
     "output_type": "display_data"
    },
    {
     "name": "stdout",
     "output_type": "stream",
     "text": [
      "Percentage of Invalid Sets: 0.059\n",
      "Average Set Size: 118\n",
      "Finished. Actual Time:   0 h :  0 m :  4 s\n",
      "*********       Round 6: Early Stop Triggered at epoch 251.       *********\n",
      "Change in x0: 0.31834886512638505\n",
      "*********             Velocity Refinement Round 7              *********\n",
      "Cell-wise KNN Estimation.\n"
     ]
    },
    {
     "data": {
      "application/vnd.jupyter.widget-view+json": {
       "model_id": "ac82351823a44f2da95fb91245fe0328",
       "version_major": 2,
       "version_minor": 0
      },
      "text/plain": [
       "  0%|          | 0/5028 [00:00<?, ?it/s]"
      ]
     },
     "metadata": {},
     "output_type": "display_data"
    },
    {
     "name": "stdout",
     "output_type": "stream",
     "text": [
      "Percentage of Invalid Sets: 0.059\n",
      "Average Set Size: 118\n",
      "Finished. Actual Time:   0 h :  0 m :  4 s\n",
      "*********       Round 7: Early Stop Triggered at epoch 259.       *********\n",
      "Change in x0: 0.3051461126402072\n",
      "*********             Velocity Refinement Round 8              *********\n",
      "Cell-wise KNN Estimation.\n"
     ]
    },
    {
     "data": {
      "application/vnd.jupyter.widget-view+json": {
       "model_id": "b4d56223192e4e2a9175d1c4094bdb9e",
       "version_major": 2,
       "version_minor": 0
      },
      "text/plain": [
       "  0%|          | 0/5028 [00:00<?, ?it/s]"
      ]
     },
     "metadata": {},
     "output_type": "display_data"
    },
    {
     "name": "stdout",
     "output_type": "stream",
     "text": [
      "Percentage of Invalid Sets: 0.059\n",
      "Average Set Size: 118\n",
      "Finished. Actual Time:   0 h :  0 m :  4 s\n",
      "*********       Round 8: Early Stop Triggered at epoch 267.       *********\n",
      "Change in x0: 0.2907935000903155\n",
      "*********             Velocity Refinement Round 9              *********\n",
      "Cell-wise KNN Estimation.\n"
     ]
    },
    {
     "data": {
      "application/vnd.jupyter.widget-view+json": {
       "model_id": "371f1c711a7141a9abfa120251a4ab2a",
       "version_major": 2,
       "version_minor": 0
      },
      "text/plain": [
       "  0%|          | 0/5028 [00:00<?, ?it/s]"
      ]
     },
     "metadata": {},
     "output_type": "display_data"
    },
    {
     "name": "stdout",
     "output_type": "stream",
     "text": [
      "Percentage of Invalid Sets: 0.059\n",
      "Average Set Size: 118\n",
      "Finished. Actual Time:   0 h :  0 m :  4 s\n",
      "*********       Round 9: Early Stop Triggered at epoch 275.       *********\n",
      "Change in x0: 0.2768856643700645\n",
      "*********             Velocity Refinement Round 10              *********\n",
      "Cell-wise KNN Estimation.\n"
     ]
    },
    {
     "data": {
      "application/vnd.jupyter.widget-view+json": {
       "model_id": "7903786c2c1e4adb965aa7a5fded2fef",
       "version_major": 2,
       "version_minor": 0
      },
      "text/plain": [
       "  0%|          | 0/5028 [00:00<?, ?it/s]"
      ]
     },
     "metadata": {},
     "output_type": "display_data"
    },
    {
     "name": "stdout",
     "output_type": "stream",
     "text": [
      "Percentage of Invalid Sets: 0.059\n",
      "Average Set Size: 118\n",
      "Finished. Actual Time:   0 h :  0 m :  4 s\n",
      "*********       Round 10: Early Stop Triggered at epoch 283.       *********\n",
      "Change in x0: 0.2786224793475539\n",
      "*********             Velocity Refinement Round 11              *********\n",
      "Stage 2: Early Stop Triggered at round 10.\n",
      "*********              Finished. Total Time =   0 h :  3 m : 33 s             *********\n",
      "Final: Train ELBO = -2090.910,\tTest ELBO = -2101.708\n"
     ]
    }
   ],
   "source": [
    "figure_path = f'{figure_path_base}/DVAE'\n",
    "model_path = f'{model_path_base}/DVAE'\n",
    "\n",
    "torch.manual_seed(2022)\n",
    "np.random.seed(2022)\n",
    "n_type = len(np.unique(adata.obs['clusters']))\n",
    "print(n_type)\n",
    "dvae = vv.VAE(adata, \n",
    "              tmax=20, \n",
    "              dim_z=n_type, \n",
    "              discrete=True,\n",
    "              device='cuda:0',\n",
    "              init_method='steady',\n",
    "              count_distribution='auto',\n",
    "              reverse_gene_mode=True)\n",
    "\n",
    "dvae.train(adata, plot=False, gene_plot=gene_plot, figure_path=figure_path, embed='tsne')\n",
    "\n",
    "dvae.save_model(model_path, 'encoder', 'decoder')\n",
    "dvae.save_anndata(adata, 'dvae', data_path, file_name=f'{dataset}.h5ad')"
   ]
  },
  {
   "cell_type": "markdown",
   "id": "6cc80351",
   "metadata": {},
   "source": [
    "# Full VB"
   ]
  },
  {
   "cell_type": "code",
   "execution_count": 35,
   "id": "8fe15e92",
   "metadata": {},
   "outputs": [
    {
     "data": {
      "text/plain": [
       "-0.07517271488904953"
      ]
     },
     "execution_count": 35,
     "metadata": {},
     "output_type": "execute_result"
    }
   ],
   "source": [
    "np.log(adata.var['dvae_beta']).mean()"
   ]
  },
  {
   "cell_type": "code",
   "execution_count": 51,
   "id": "a5fd7b60",
   "metadata": {},
   "outputs": [
    {
     "name": "stdout",
     "output_type": "stream",
     "text": [
      "Detecting zero scaling factors: 0, 0\n",
      "Estimating ODE parameters...\n"
     ]
    },
    {
     "data": {
      "application/vnd.jupyter.widget-view+json": {
       "model_id": "0a01e37817bb468ea6b968ed6111cd2e",
       "version_major": 2,
       "version_minor": 0
      },
      "text/plain": [
       "  0%|          | 0/2000 [00:00<?, ?it/s]"
      ]
     },
     "metadata": {},
     "output_type": "display_data"
    },
    {
     "name": "stdout",
     "output_type": "stream",
     "text": [
      "Detected 463 velocity genes.\n",
      "Estimating the variance...\n"
     ]
    },
    {
     "data": {
      "application/vnd.jupyter.widget-view+json": {
       "model_id": "24bb83e288cd4ce3b0e0a8682e6c703f",
       "version_major": 2,
       "version_minor": 0
      },
      "text/plain": [
       "  0%|          | 0/2000 [00:00<?, ?it/s]"
      ]
     },
     "metadata": {},
     "output_type": "display_data"
    },
    {
     "name": "stdout",
     "output_type": "stream",
     "text": [
      "3 clusters detected based on gene co-expression.\n",
      "(0.57, 0.7916349487492567), (0.43, 0.36095607263242335)\n",
      "KS-test result: [0. 1. 1.]\n",
      "Initial induction: 483, repression: 1517/2000\n",
      "Initialization using the steady-state and dynamical models.\n",
      "Reinitialize the regular ODE parameters based on estimated global latent time.\n"
     ]
    },
    {
     "data": {
      "application/vnd.jupyter.widget-view+json": {
       "model_id": "d50ba31396c7457492f97d200d704e54",
       "version_major": 2,
       "version_minor": 0
      },
      "text/plain": [
       "  0%|          | 0/2000 [00:00<?, ?it/s]"
      ]
     },
     "metadata": {},
     "output_type": "display_data"
    },
    {
     "name": "stdout",
     "output_type": "stream",
     "text": [
      "Gaussian Prior.\n",
      "Mean dispersion: u=1.54, s=1.58\n",
      "Over-Dispersion = 0.91 => Using NB to model count data.\n",
      "--------------------------- Train a VeloVAE ---------------------------\n",
      "*********        Creating Training/Validation Datasets        *********\n",
      "*********                      Finished.                      *********\n",
      "*********                 Creating optimizers                 *********\n",
      "*********                      Finished.                      *********\n",
      "*********                    Start training                   *********\n",
      "*********                      Stage  1                       *********\n",
      "Total Number of Iterations Per Epoch: 28, test iteration: 54\n",
      "*********       Stage 1: Early Stop Triggered at epoch 116.       *********\n",
      "*********                      Stage  2                       *********\n",
      "*********             Velocity Refinement Round 1              *********\n",
      "Cell-wise KNN Estimation.\n"
     ]
    },
    {
     "data": {
      "application/vnd.jupyter.widget-view+json": {
       "model_id": "b43bcc8b486545a2a2d9a408d103f5b7",
       "version_major": 2,
       "version_minor": 0
      },
      "text/plain": [
       "  0%|          | 0/5028 [00:00<?, ?it/s]"
      ]
     },
     "metadata": {},
     "output_type": "display_data"
    },
    {
     "name": "stdout",
     "output_type": "stream",
     "text": [
      "Percentage of Invalid Sets: 0.040\n",
      "Average Set Size: 100\n",
      "Finished. Actual Time:   0 h :  0 m :  3 s\n",
      "*********       Round 1: Early Stop Triggered at epoch 128.       *********\n",
      "*********             Velocity Refinement Round 2              *********\n",
      "Cell-wise KNN Estimation.\n"
     ]
    },
    {
     "data": {
      "application/vnd.jupyter.widget-view+json": {
       "model_id": "57dd4b48d66d4d828000c11c1d009207",
       "version_major": 2,
       "version_minor": 0
      },
      "text/plain": [
       "  0%|          | 0/5028 [00:00<?, ?it/s]"
      ]
     },
     "metadata": {},
     "output_type": "display_data"
    },
    {
     "name": "stdout",
     "output_type": "stream",
     "text": [
      "Percentage of Invalid Sets: 0.040\n",
      "Average Set Size: 100\n",
      "Finished. Actual Time:   0 h :  0 m :  3 s\n",
      "*********       Round 2: Early Stop Triggered at epoch 136.       *********\n",
      "Change in x0: 0.9237970287899715\n",
      "*********             Velocity Refinement Round 3              *********\n",
      "Cell-wise KNN Estimation.\n"
     ]
    },
    {
     "data": {
      "application/vnd.jupyter.widget-view+json": {
       "model_id": "72324e0ed8b54d378267f33bd3d26dea",
       "version_major": 2,
       "version_minor": 0
      },
      "text/plain": [
       "  0%|          | 0/5028 [00:00<?, ?it/s]"
      ]
     },
     "metadata": {},
     "output_type": "display_data"
    },
    {
     "name": "stdout",
     "output_type": "stream",
     "text": [
      "Percentage of Invalid Sets: 0.040\n",
      "Average Set Size: 100\n",
      "Finished. Actual Time:   0 h :  0 m :  3 s\n",
      "*********       Round 3: Early Stop Triggered at epoch 144.       *********\n",
      "Change in x0: 0.6226512443585156\n",
      "*********             Velocity Refinement Round 4              *********\n",
      "Cell-wise KNN Estimation.\n"
     ]
    },
    {
     "data": {
      "application/vnd.jupyter.widget-view+json": {
       "model_id": "81287a84fe6f4923a9c043d5a46e00ca",
       "version_major": 2,
       "version_minor": 0
      },
      "text/plain": [
       "  0%|          | 0/5028 [00:00<?, ?it/s]"
      ]
     },
     "metadata": {},
     "output_type": "display_data"
    },
    {
     "name": "stdout",
     "output_type": "stream",
     "text": [
      "Percentage of Invalid Sets: 0.040\n",
      "Average Set Size: 100\n",
      "Finished. Actual Time:   0 h :  0 m :  3 s\n",
      "*********       Round 4: Early Stop Triggered at epoch 152.       *********\n",
      "Change in x0: 0.5303095834122301\n",
      "*********             Velocity Refinement Round 5              *********\n",
      "Cell-wise KNN Estimation.\n"
     ]
    },
    {
     "data": {
      "application/vnd.jupyter.widget-view+json": {
       "model_id": "3191de07988943beb01dd59e5a8fbfab",
       "version_major": 2,
       "version_minor": 0
      },
      "text/plain": [
       "  0%|          | 0/5028 [00:00<?, ?it/s]"
      ]
     },
     "metadata": {},
     "output_type": "display_data"
    },
    {
     "name": "stdout",
     "output_type": "stream",
     "text": [
      "Percentage of Invalid Sets: 0.040\n",
      "Average Set Size: 100\n",
      "Finished. Actual Time:   0 h :  0 m :  3 s\n",
      "*********       Round 5: Early Stop Triggered at epoch 160.       *********\n",
      "Change in x0: 0.46588270537247634\n",
      "*********             Velocity Refinement Round 6              *********\n",
      "Cell-wise KNN Estimation.\n"
     ]
    },
    {
     "data": {
      "application/vnd.jupyter.widget-view+json": {
       "model_id": "ee589af0ad0c481b9e73e1bae31e6927",
       "version_major": 2,
       "version_minor": 0
      },
      "text/plain": [
       "  0%|          | 0/5028 [00:00<?, ?it/s]"
      ]
     },
     "metadata": {},
     "output_type": "display_data"
    },
    {
     "name": "stdout",
     "output_type": "stream",
     "text": [
      "Percentage of Invalid Sets: 0.040\n",
      "Average Set Size: 100\n",
      "Finished. Actual Time:   0 h :  0 m :  3 s\n",
      "*********       Round 6: Early Stop Triggered at epoch 168.       *********\n",
      "Change in x0: 0.41932543675038103\n",
      "*********             Velocity Refinement Round 7              *********\n",
      "Cell-wise KNN Estimation.\n"
     ]
    },
    {
     "data": {
      "application/vnd.jupyter.widget-view+json": {
       "model_id": "ffe7d5c15bb6447b85ac2610f102c414",
       "version_major": 2,
       "version_minor": 0
      },
      "text/plain": [
       "  0%|          | 0/5028 [00:00<?, ?it/s]"
      ]
     },
     "metadata": {},
     "output_type": "display_data"
    },
    {
     "name": "stdout",
     "output_type": "stream",
     "text": [
      "Percentage of Invalid Sets: 0.040\n",
      "Average Set Size: 100\n",
      "Finished. Actual Time:   0 h :  0 m :  3 s\n",
      "*********       Round 7: Early Stop Triggered at epoch 176.       *********\n",
      "Change in x0: 0.39822205563121804\n",
      "*********             Velocity Refinement Round 8              *********\n",
      "Cell-wise KNN Estimation.\n"
     ]
    },
    {
     "data": {
      "application/vnd.jupyter.widget-view+json": {
       "model_id": "437d827f854d446ea166b26ca6612629",
       "version_major": 2,
       "version_minor": 0
      },
      "text/plain": [
       "  0%|          | 0/5028 [00:00<?, ?it/s]"
      ]
     },
     "metadata": {},
     "output_type": "display_data"
    },
    {
     "name": "stdout",
     "output_type": "stream",
     "text": [
      "Percentage of Invalid Sets: 0.040\n",
      "Average Set Size: 100\n",
      "Finished. Actual Time:   0 h :  0 m :  3 s\n",
      "*********       Round 8: Early Stop Triggered at epoch 184.       *********\n",
      "Change in x0: 0.3688121976521858\n",
      "*********             Velocity Refinement Round 9              *********\n",
      "Cell-wise KNN Estimation.\n"
     ]
    },
    {
     "data": {
      "application/vnd.jupyter.widget-view+json": {
       "model_id": "e428d48b2d3940419d1f2621fdba32e3",
       "version_major": 2,
       "version_minor": 0
      },
      "text/plain": [
       "  0%|          | 0/5028 [00:00<?, ?it/s]"
      ]
     },
     "metadata": {},
     "output_type": "display_data"
    },
    {
     "name": "stdout",
     "output_type": "stream",
     "text": [
      "Percentage of Invalid Sets: 0.040\n",
      "Average Set Size: 100\n",
      "Finished. Actual Time:   0 h :  0 m :  3 s\n",
      "*********       Round 9: Early Stop Triggered at epoch 192.       *********\n",
      "Change in x0: 0.3561235646472405\n",
      "*********             Velocity Refinement Round 10              *********\n",
      "Cell-wise KNN Estimation.\n"
     ]
    },
    {
     "data": {
      "application/vnd.jupyter.widget-view+json": {
       "model_id": "9062e17b908e4e078a4a8798cc9bda66",
       "version_major": 2,
       "version_minor": 0
      },
      "text/plain": [
       "  0%|          | 0/5028 [00:00<?, ?it/s]"
      ]
     },
     "metadata": {},
     "output_type": "display_data"
    },
    {
     "name": "stdout",
     "output_type": "stream",
     "text": [
      "Percentage of Invalid Sets: 0.040\n",
      "Average Set Size: 100\n",
      "Finished. Actual Time:   0 h :  0 m :  3 s\n",
      "*********       Round 10: Early Stop Triggered at epoch 200.       *********\n",
      "Change in x0: 0.35309209257859314\n",
      "*********             Velocity Refinement Round 11              *********\n",
      "Cell-wise KNN Estimation.\n"
     ]
    },
    {
     "data": {
      "application/vnd.jupyter.widget-view+json": {
       "model_id": "6d278f83113e4069930394fd98636eb5",
       "version_major": 2,
       "version_minor": 0
      },
      "text/plain": [
       "  0%|          | 0/5028 [00:00<?, ?it/s]"
      ]
     },
     "metadata": {},
     "output_type": "display_data"
    },
    {
     "name": "stdout",
     "output_type": "stream",
     "text": [
      "Percentage of Invalid Sets: 0.040\n",
      "Average Set Size: 100\n",
      "Finished. Actual Time:   0 h :  0 m :  3 s\n",
      "*********       Round 11: Early Stop Triggered at epoch 208.       *********\n",
      "Change in x0: 0.33937213575415637\n",
      "*********             Velocity Refinement Round 12              *********\n",
      "Cell-wise KNN Estimation.\n"
     ]
    },
    {
     "data": {
      "application/vnd.jupyter.widget-view+json": {
       "model_id": "e28b25249958490b9c2fd9b0ad4c287d",
       "version_major": 2,
       "version_minor": 0
      },
      "text/plain": [
       "  0%|          | 0/5028 [00:00<?, ?it/s]"
      ]
     },
     "metadata": {},
     "output_type": "display_data"
    },
    {
     "name": "stdout",
     "output_type": "stream",
     "text": [
      "Percentage of Invalid Sets: 0.040\n",
      "Average Set Size: 100\n",
      "Finished. Actual Time:   0 h :  0 m :  3 s\n",
      "*********       Round 12: Early Stop Triggered at epoch 216.       *********\n",
      "Change in x0: 0.33821566999647834\n",
      "*********             Velocity Refinement Round 13              *********\n",
      "Cell-wise KNN Estimation.\n"
     ]
    },
    {
     "data": {
      "application/vnd.jupyter.widget-view+json": {
       "model_id": "3589362f4ebe44448dc0c43fc8258975",
       "version_major": 2,
       "version_minor": 0
      },
      "text/plain": [
       "  0%|          | 0/5028 [00:00<?, ?it/s]"
      ]
     },
     "metadata": {},
     "output_type": "display_data"
    },
    {
     "name": "stdout",
     "output_type": "stream",
     "text": [
      "Percentage of Invalid Sets: 0.040\n",
      "Average Set Size: 100\n",
      "Finished. Actual Time:   0 h :  0 m :  3 s\n",
      "*********       Round 13: Early Stop Triggered at epoch 224.       *********\n",
      "Change in x0: 0.33122389247678696\n",
      "*********             Velocity Refinement Round 14              *********\n",
      "Cell-wise KNN Estimation.\n"
     ]
    },
    {
     "data": {
      "application/vnd.jupyter.widget-view+json": {
       "model_id": "4940f9bc5d6446c5be83591ba83f334b",
       "version_major": 2,
       "version_minor": 0
      },
      "text/plain": [
       "  0%|          | 0/5028 [00:00<?, ?it/s]"
      ]
     },
     "metadata": {},
     "output_type": "display_data"
    },
    {
     "name": "stdout",
     "output_type": "stream",
     "text": [
      "Percentage of Invalid Sets: 0.040\n",
      "Average Set Size: 100\n",
      "Finished. Actual Time:   0 h :  0 m :  3 s\n",
      "*********       Round 14: Early Stop Triggered at epoch 232.       *********\n",
      "Change in x0: 0.32855515095281\n",
      "*********             Velocity Refinement Round 15              *********\n",
      "Cell-wise KNN Estimation.\n"
     ]
    },
    {
     "data": {
      "application/vnd.jupyter.widget-view+json": {
       "model_id": "49b7806027744b76ada632fa73c44ed1",
       "version_major": 2,
       "version_minor": 0
      },
      "text/plain": [
       "  0%|          | 0/5028 [00:00<?, ?it/s]"
      ]
     },
     "metadata": {},
     "output_type": "display_data"
    },
    {
     "name": "stdout",
     "output_type": "stream",
     "text": [
      "Percentage of Invalid Sets: 0.040\n",
      "Average Set Size: 100\n",
      "Finished. Actual Time:   0 h :  0 m :  3 s\n",
      "*********       Round 15: Early Stop Triggered at epoch 240.       *********\n",
      "Change in x0: 0.33799899153017954\n",
      "*********             Velocity Refinement Round 16              *********\n",
      "Stage 2: Early Stop Triggered at round 15.\n",
      "*********              Finished. Total Time =   0 h :  3 m : 27 s             *********\n",
      "Final: Train ELBO = -2116.875,\tTest ELBO = -2125.340\n"
     ]
    }
   ],
   "source": [
    "figure_path = f'{figure_path_base}/DFullVB'\n",
    "model_path = f'{model_path_base}/DFullVB'\n",
    "\n",
    "torch.manual_seed(2022)\n",
    "np.random.seed(2022)\n",
    "full_vb = vv.VAE(adata, \n",
    "                 tmax=20, \n",
    "                 dim_z=20, \n",
    "                 device='cuda:0',\n",
    "                 discrete=True,\n",
    "                 full_vb=True,\n",
    "                 init_method='steady',\n",
    "                 count_distribution='auto',\n",
    "                 reverse_gene_mode=True,\n",
    "                 #rate_prior={\n",
    "                 #    'alpha': (3, 1.0),\n",
    "                 #    'beta': (0, 0.5),\n",
    "                 #    'gamma': (0, 0.5)}\n",
    "                 )\n",
    "\n",
    "full_vb.train(adata, plot=False, config=config, gene_plot=gene_plot, figure_path=figure_path, embed='tsne')\n",
    "\n",
    "full_vb.save_model(model_path, 'encoder', 'decoder')\n",
    "full_vb.save_anndata(adata, 'dfullvb', data_path, file_name=f'{dataset}.h5ad')"
   ]
  },
  {
   "cell_type": "markdown",
   "id": "f109de84",
   "metadata": {},
   "source": [
    "# Evaluation"
   ]
  },
  {
   "cell_type": "code",
   "execution_count": null,
   "id": "722e9d08",
   "metadata": {},
   "outputs": [
    {
     "name": "stdout",
     "output_type": "stream",
     "text": [
      "Computing velocity embedding using scVelo\n",
      "computing velocity graph (using 1/32 cores)\n"
     ]
    },
    {
     "data": {
      "application/vnd.jupyter.widget-view+json": {
       "model_id": "d580936f8919443ca41bcf4becc60e97",
       "version_major": 2,
       "version_minor": 0
      },
      "text/plain": [
       "  0%|          | 0/5028 [00:00<?, ?cells/s]"
      ]
     },
     "metadata": {},
     "output_type": "display_data"
    }
   ],
   "source": [
    "cluster_edges = [('HSC_1', 'Ery_1'), \n",
    "                 ('HSC_1', 'HSC_2'), \n",
    "                 ('Ery_1', 'Ery_2')]\n",
    "vv.post_analysis(adata,\n",
    "                 'eval',\n",
    "                 ['Discrete FullVB'],\n",
    "                 ['dfullvb'],\n",
    "                 compute_metrics=True,\n",
    "                 genes=gene_plot,\n",
    "                 grid_size=(1,2),\n",
    "                 plot_type=['stream', 'time'],\n",
    "                 embed='tsne',\n",
    "                 save_path=figure_path,\n",
    "                 cluster_edges=cluster_edges)"
   ]
  },
  {
   "cell_type": "code",
   "execution_count": null,
   "id": "b4933dc8",
   "metadata": {},
   "outputs": [],
   "source": []
  }
 ],
 "metadata": {
  "kernelspec": {
   "display_name": "Python 3",
   "language": "python",
   "name": "python3"
  },
  "language_info": {
   "codemirror_mode": {
    "name": "ipython",
    "version": 3
   },
   "file_extension": ".py",
   "mimetype": "text/x-python",
   "name": "python",
   "nbconvert_exporter": "python",
   "pygments_lexer": "ipython3",
   "version": "3.9.7"
  }
 },
 "nbformat": 4,
 "nbformat_minor": 5
}
