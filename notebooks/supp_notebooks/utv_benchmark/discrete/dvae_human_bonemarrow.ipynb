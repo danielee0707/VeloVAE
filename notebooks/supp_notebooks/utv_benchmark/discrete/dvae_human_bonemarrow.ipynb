{
 "cells": [
  {
   "cell_type": "code",
   "execution_count": 1,
   "id": "9e5200ee",
   "metadata": {},
   "outputs": [],
   "source": [
    "import anndata\n",
    "import numpy as np\n",
    "import sys\n",
    "import torch\n",
    "sys.path.append('../../../../')\n",
    "import velovae as vv"
   ]
  },
  {
   "cell_type": "code",
   "execution_count": 4,
   "id": "4b2c0e1a",
   "metadata": {},
   "outputs": [],
   "source": [
    "import scvelo as scv\n",
    "dataset = 'Bonemarrow'\n",
    "#adata = scv.datasets.bonemarrow(file_path=f'data/download/{dataset}.h5ad')\n",
    "adata = anndata.read_h5ad(f'data/{dataset}_pp.h5ad')"
   ]
  },
  {
   "cell_type": "code",
   "execution_count": null,
   "id": "ef445eae",
   "metadata": {},
   "outputs": [],
   "source": [
    "#vv.preprocess(adata, n_gene=2000, min_shared_counts=20, keep_raw=True)"
   ]
  },
  {
   "cell_type": "code",
   "execution_count": 6,
   "id": "cea2e1cf",
   "metadata": {},
   "outputs": [],
   "source": [
    "model_path_base = f'checkpoints/{dataset}'\n",
    "figure_path_base = f'figures/{dataset}'\n",
    "data_path = f'data/velovae/discrete/{dataset}'\n",
    "gene_plot = ['CD44','CELF2','TAOK3']"
   ]
  },
  {
   "cell_type": "markdown",
   "id": "5f87d846",
   "metadata": {},
   "source": [
    "# Discrete VeloVAE"
   ]
  },
  {
   "cell_type": "code",
   "execution_count": 7,
   "id": "7a724a23",
   "metadata": {},
   "outputs": [
    {
     "name": "stdout",
     "output_type": "stream",
     "text": [
      "Detecting zero scaling factors: 0, 0\n",
      "Initialization using the steady-state and dynamical models.\n"
     ]
    },
    {
     "data": {
      "application/vnd.jupyter.widget-view+json": {
       "model_id": "c454672ec38146bda4813eb9fa91d98f",
       "version_major": 2,
       "version_minor": 0
      },
      "text/plain": [
       "  0%|          | 0/2000 [00:00<?, ?it/s]"
      ]
     },
     "metadata": {},
     "output_type": "display_data"
    },
    {
     "name": "stdout",
     "output_type": "stream",
     "text": [
      "Reinitialize the regular ODE parameters based on estimated global latent time.\n"
     ]
    },
    {
     "data": {
      "application/vnd.jupyter.widget-view+json": {
       "model_id": "d3964d10e6394219bb211635eeec61eb",
       "version_major": 2,
       "version_minor": 0
      },
      "text/plain": [
       "  0%|          | 0/2000 [00:00<?, ?it/s]"
      ]
     },
     "metadata": {},
     "output_type": "display_data"
    },
    {
     "name": "stdout",
     "output_type": "stream",
     "text": [
      "Gaussian Prior.\n",
      "Library scale (U): Max=6.09, Min=0.03, Mean=0.98\n",
      "Library scale (S): Max=8.76, Min=0.35, Mean=1.03\n",
      "--------------------------- Train a VeloVAE ---------------------------\n",
      "*********        Creating Training/Validation Datasets        *********\n",
      "*********                      Finished.                      *********\n",
      "*********                 Creating optimizers                 *********\n",
      "*********                      Finished.                      *********\n",
      "*********                    Start training                   *********\n",
      "*********                      Stage  1                       *********\n",
      "Total Number of Iterations Per Epoch: 28, test iteration: 54\n",
      "*********       Stage 1: Early Stop Triggered at epoch 404.       *********\n",
      "*********                      Stage  2                       *********\n"
     ]
    },
    {
     "data": {
      "application/vnd.jupyter.widget-view+json": {
       "model_id": "8e54b455be6544f1a9aa61765d35e035",
       "version_major": 2,
       "version_minor": 0
      },
      "text/plain": [
       "  0%|          | 0/5028 [00:00<?, ?it/s]"
      ]
     },
     "metadata": {},
     "output_type": "display_data"
    },
    {
     "name": "stdout",
     "output_type": "stream",
     "text": [
      "Percentage of Invalid Sets: 0.011\n",
      "Average Set Size: 229\n",
      "*********       Stage 2: Early Stop Triggered at epoch 576.       *********\n",
      "*********              Finished. Total Time =   0 h :  4 m : 17 s             *********\n",
      "Final: Train ELBO = -2033.331,           Test ELBO = -2103.886\n",
      "       Training MSE = 1.864, Test MSE = 2.644\n"
     ]
    }
   ],
   "source": [
    "figure_path = f'{figure_path_base}/DVAE'\n",
    "model_path = f'{model_path_base}/DVAE'\n",
    "\n",
    "torch.manual_seed(2022)\n",
    "np.random.seed(2022)\n",
    "dvae = vv.DVAE(adata, \n",
    "               tmax=20, \n",
    "               dim_z=5, \n",
    "               device='cuda:0',\n",
    "               init_method='steady')\n",
    "\n",
    "dvae.train(adata, plot=False, gene_plot=gene_plot, figure_path=figure_path, embed='tsne')\n",
    "\n",
    "dvae.save_model(model_path, 'encoder', 'decoder')\n",
    "dvae.save_anndata(adata, 'dvae', data_path, file_name=f'{dataset}.h5ad')"
   ]
  },
  {
   "cell_type": "markdown",
   "id": "6cc80351",
   "metadata": {},
   "source": [
    "# Full VB"
   ]
  },
  {
   "cell_type": "code",
   "execution_count": 8,
   "id": "a5fd7b60",
   "metadata": {},
   "outputs": [
    {
     "name": "stdout",
     "output_type": "stream",
     "text": [
      "Detecting zero scaling factors: 0, 0\n",
      "Initialization using the steady-state and dynamical models.\n"
     ]
    },
    {
     "data": {
      "application/vnd.jupyter.widget-view+json": {
       "model_id": "3fce3ba2603c4122942bec6c0a825f55",
       "version_major": 2,
       "version_minor": 0
      },
      "text/plain": [
       "  0%|          | 0/2000 [00:00<?, ?it/s]"
      ]
     },
     "metadata": {},
     "output_type": "display_data"
    },
    {
     "name": "stdout",
     "output_type": "stream",
     "text": [
      "Reinitialize the regular ODE parameters based on estimated global latent time.\n"
     ]
    },
    {
     "data": {
      "application/vnd.jupyter.widget-view+json": {
       "model_id": "0cb55e7af9854e6b9cb6074888318372",
       "version_major": 2,
       "version_minor": 0
      },
      "text/plain": [
       "  0%|          | 0/2000 [00:00<?, ?it/s]"
      ]
     },
     "metadata": {},
     "output_type": "display_data"
    },
    {
     "name": "stdout",
     "output_type": "stream",
     "text": [
      "Gaussian Prior.\n",
      "Library scale (U): Max=6.09, Min=0.03, Mean=0.98\n",
      "Library scale (S): Max=8.76, Min=0.35, Mean=1.03\n",
      "--------------------------- Train a VeloVAE ---------------------------\n",
      "*********        Creating Training/Validation Datasets        *********\n",
      "*********                      Finished.                      *********\n",
      "*********                 Creating optimizers                 *********\n",
      "*********                      Finished.                      *********\n",
      "*********                    Start training                   *********\n",
      "*********                      Stage  1                       *********\n",
      "Total Number of Iterations Per Epoch: 28, test iteration: 54\n",
      "*********       Stage 1: Early Stop Triggered at epoch 463.       *********\n",
      "*********                      Stage  2                       *********\n"
     ]
    },
    {
     "data": {
      "application/vnd.jupyter.widget-view+json": {
       "model_id": "0f3e63d2143d4acaba75875d8f76d8fd",
       "version_major": 2,
       "version_minor": 0
      },
      "text/plain": [
       "  0%|          | 0/5028 [00:00<?, ?it/s]"
      ]
     },
     "metadata": {},
     "output_type": "display_data"
    },
    {
     "name": "stdout",
     "output_type": "stream",
     "text": [
      "Percentage of Invalid Sets: 0.003\n",
      "Average Set Size: 238\n",
      "*********       Stage 2: Early Stop Triggered at epoch 492.       *********\n",
      "*********              Finished. Total Time =   0 h :  4 m :  4 s             *********\n",
      "Final: Train ELBO = -2054.394,           Test ELBO = -2092.880\n",
      "       Training MSE = 2.143, Test MSE = 2.956\n"
     ]
    }
   ],
   "source": [
    "figure_path = f'{figure_path_base}/DFullVB'\n",
    "model_path = f'{model_path_base}/DFullVB'\n",
    "\n",
    "torch.manual_seed(2022)\n",
    "np.random.seed(2022)\n",
    "full_vb = vv.DVAEFullVB(adata, \n",
    "                        tmax=20, \n",
    "                        dim_z=5, \n",
    "                        device='cuda:0',\n",
    "                        init_method='steady')\n",
    "\n",
    "full_vb.train(adata, plot=False, gene_plot=gene_plot, figure_path=figure_path, embed='tsne')\n",
    "\n",
    "full_vb.save_model(model_path, 'encoder', 'decoder')\n",
    "full_vb.save_anndata(adata, 'dfullvb', data_path, file_name=f'{dataset}.h5ad')"
   ]
  },
  {
   "cell_type": "markdown",
   "id": "f109de84",
   "metadata": {},
   "source": [
    "# Evaluation"
   ]
  },
  {
   "cell_type": "code",
   "execution_count": null,
   "id": "722e9d08",
   "metadata": {},
   "outputs": [],
   "source": [
    "cluster_edges = [('HSC_1', 'Ery_1'), \n",
    "                 ('HSC_1', 'HSC_2'), \n",
    "                 ('Ery_1', 'Ery_2')]\n",
    "vv.post_analysis(adata,\n",
    "                 'eval',\n",
    "                 ['Discrete VeloVAE','Discrete FullVB'],\n",
    "                 ['dvae','dfullvb'],\n",
    "                 compute_metrics=True,\n",
    "                 genes=gene_plot,\n",
    "                 grid_size=(1,4),\n",
    "                 plot_type=['all'],\n",
    "                 embed='tsne',\n",
    "                 save_path=data_path,\n",
    "                 cluster_edges=cluster_edges)"
   ]
  }
 ],
 "metadata": {
  "kernelspec": {
   "display_name": "Python 3",
   "language": "python",
   "name": "python3"
  },
  "language_info": {
   "codemirror_mode": {
    "name": "ipython",
    "version": 3
   },
   "file_extension": ".py",
   "mimetype": "text/x-python",
   "name": "python",
   "nbconvert_exporter": "python",
   "pygments_lexer": "ipython3",
   "version": "3.9.7"
  }
 },
 "nbformat": 4,
 "nbformat_minor": 5
}
