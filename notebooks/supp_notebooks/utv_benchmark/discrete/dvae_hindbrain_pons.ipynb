{
 "cells": [
  {
   "cell_type": "code",
   "execution_count": 1,
   "id": "dd130ad0",
   "metadata": {},
   "outputs": [],
   "source": [
    "import anndata\n",
    "import numpy as np\n",
    "import sys\n",
    "import torch\n",
    "sys.path.append('../../../../')\n",
    "import velovae as vv"
   ]
  },
  {
   "cell_type": "code",
   "execution_count": 2,
   "id": "309fc48a",
   "metadata": {},
   "outputs": [],
   "source": [
    "dataset = \"Hindbrain_pons\"\n",
    "adata = anndata.read_h5ad(f'data/{dataset}_pp.h5ad')\n",
    "adata.obs['cluster']=adata.obs['celltype'].to_numpy()"
   ]
  },
  {
   "cell_type": "code",
   "execution_count": null,
   "id": "bfcd9a07",
   "metadata": {},
   "outputs": [],
   "source": [
    "vv.preprocess(adata, n_gene=2000, min_shared_counts=20)"
   ]
  },
  {
   "cell_type": "code",
   "execution_count": 3,
   "id": "6720396c",
   "metadata": {},
   "outputs": [],
   "source": [
    "model_path_base = f'checkpoints/{dataset}'\n",
    "figure_path_base = f'figures/{dataset}'\n",
    "data_path = f'data/velovae/discrete/{dataset}'\n",
    "gene_plot = ['Ptprz1','Enpp6','Rras2','Mal']"
   ]
  },
  {
   "cell_type": "markdown",
   "id": "02665877",
   "metadata": {},
   "source": [
    "# Discrete VeloVAE"
   ]
  },
  {
   "cell_type": "code",
   "execution_count": 6,
   "id": "148b5c91",
   "metadata": {},
   "outputs": [
    {
     "name": "stdout",
     "output_type": "stream",
     "text": [
      "Detecting zero scaling factors: 0, 0\n",
      "Random Initialization.\n",
      "Gaussian Prior.\n",
      "Library scale (U): Max=4.91, Min=0.10, Mean=0.97\n",
      "Library scale (S): Max=5.28, Min=0.24, Mean=1.00\n",
      "--------------------------- Train a VeloVAE ---------------------------\n",
      "*********        Creating Training/Validation Datasets        *********\n",
      "*********                      Finished.                      *********\n",
      "*********                 Creating optimizers                 *********\n",
      "*********                      Finished.                      *********\n",
      "*********                    Start training                   *********\n",
      "*********                      Stage  1                       *********\n",
      "Total Number of Iterations Per Epoch: 35, test iteration: 68\n",
      "*********       Stage 1: Early Stop Triggered at epoch 991.       *********\n",
      "*********                      Stage  2                       *********\n"
     ]
    },
    {
     "data": {
      "application/vnd.jupyter.widget-view+json": {
       "model_id": "8d186bf8bc5747cfa0db15b42bf8e052",
       "version_major": 2,
       "version_minor": 0
      },
      "text/plain": [
       "  0%|          | 0/6253 [00:00<?, ?it/s]"
      ]
     },
     "metadata": {},
     "output_type": "display_data"
    },
    {
     "name": "stdout",
     "output_type": "stream",
     "text": [
      "Percentage of Invalid Sets: 0.006\n",
      "Average Set Size: 236\n",
      "*********       Stage 2: Early Stop Triggered at epoch 1168.       *********\n",
      "*********              Finished. Total Time =   0 h :  7 m : 56 s             *********\n",
      "Final: Train ELBO = -941.872,           Test ELBO = -971.619\n",
      "       Training MSE = 7.355, Test MSE = 8.335\n"
     ]
    }
   ],
   "source": [
    "figure_path = f'{figure_path_base}/DVAE'\n",
    "model_path = f'{model_path_base}/DVAE'\n",
    "\n",
    "torch.manual_seed(2022)\n",
    "np.random.seed(2022)\n",
    "dvae = vv.DVAE(adata, \n",
    "               tmax=20, \n",
    "               dim_z=5, \n",
    "               device='cuda:0',\n",
    "               init_method='random')\n",
    "\n",
    "dvae.train(adata, plot=False, gene_plot=gene_plot, figure_path=figure_path)\n",
    "\n",
    "dvae.save_model(model_path, 'encoder', 'decoder')\n",
    "dvae.save_anndata(adata, 'dvae', data_path, file_name=f'{dataset}.h5ad')"
   ]
  },
  {
   "cell_type": "markdown",
   "id": "13a031ef",
   "metadata": {},
   "source": [
    "# Discrete Full VB"
   ]
  },
  {
   "cell_type": "code",
   "execution_count": 7,
   "id": "f0e82553",
   "metadata": {},
   "outputs": [
    {
     "name": "stdout",
     "output_type": "stream",
     "text": [
      "Detecting zero scaling factors: 0, 0\n",
      "Random Initialization.\n",
      "Gaussian Prior.\n",
      "Library scale (U): Max=4.91, Min=0.10, Mean=0.97\n",
      "Library scale (S): Max=5.28, Min=0.24, Mean=1.00\n",
      "--------------------------- Train a VeloVAE ---------------------------\n",
      "*********        Creating Training/Validation Datasets        *********\n",
      "*********                      Finished.                      *********\n",
      "*********                 Creating optimizers                 *********\n",
      "*********                      Finished.                      *********\n",
      "*********                    Start training                   *********\n",
      "*********                      Stage  1                       *********\n",
      "Total Number of Iterations Per Epoch: 35, test iteration: 68\n",
      "*********       Stage 1: Early Stop Triggered at epoch 199.       *********\n",
      "*********                      Stage  2                       *********\n"
     ]
    },
    {
     "data": {
      "application/vnd.jupyter.widget-view+json": {
       "model_id": "023f62479f4e4a4f9b1e07248fa4a801",
       "version_major": 2,
       "version_minor": 0
      },
      "text/plain": [
       "  0%|          | 0/6253 [00:00<?, ?it/s]"
      ]
     },
     "metadata": {},
     "output_type": "display_data"
    },
    {
     "name": "stdout",
     "output_type": "stream",
     "text": [
      "Percentage of Invalid Sets: 0.001\n",
      "Average Set Size: 172\n",
      "*********       Stage 2: Early Stop Triggered at epoch 240.       *********\n",
      "*********              Finished. Total Time =   0 h :  1 m : 58 s             *********\n",
      "Final: Train ELBO = -1009.649,           Test ELBO = -1030.642\n",
      "       Training MSE = 16.506, Test MSE = 16.380\n"
     ]
    }
   ],
   "source": [
    "figure_path = f'{figure_path_base}/FullVB'\n",
    "model_path = f'{model_path_base}/FullVB'\n",
    "\n",
    "torch.manual_seed(2022)\n",
    "np.random.seed(2022)\n",
    "full_vb = vv.DVAEFullVB(adata, \n",
    "                        tmax=20, \n",
    "                        dim_z=5, \n",
    "                        device='cuda:0',\n",
    "                        init_method='random')\n",
    "\n",
    "full_vb.train(adata, plot=False, gene_plot=gene_plot, figure_path=figure_path)\n",
    "\n",
    "full_vb.save_model(model_path, 'encoder', 'decoder')\n",
    "full_vb.save_anndata(adata, 'dfullvb', data_path, file_name=f'{dataset}.h5ad')"
   ]
  },
  {
   "cell_type": "markdown",
   "id": "a856542f",
   "metadata": {},
   "source": [
    "# Evaluation"
   ]
  },
  {
   "cell_type": "code",
   "execution_count": null,
   "id": "70e35ac9",
   "metadata": {},
   "outputs": [],
   "source": [
    "cluster_edges = [('COPs', 'NFOLs'), ('NFOLs', 'MFOLs')]\n",
    "vv.post_analysis(adata,\n",
    "                 'eval',\n",
    "                 ['Discrete VeloVAE','Discrete FullVB'],\n",
    "                 ['dvae','dfullvb'],\n",
    "                 compute_metrics=True,\n",
    "                 genes=gene_plot,\n",
    "                 grid_size=(1,4),\n",
    "                 plot_type=['all'],\n",
    "                 save_path=data_path,\n",
    "                 cluster_edges=cluster_edges,\n",
    "                 sparsity_correction=True)"
   ]
  }
 ],
 "metadata": {
  "kernelspec": {
   "display_name": "Python 3",
   "language": "python",
   "name": "python3"
  },
  "language_info": {
   "codemirror_mode": {
    "name": "ipython",
    "version": 3
   },
   "file_extension": ".py",
   "mimetype": "text/x-python",
   "name": "python",
   "nbconvert_exporter": "python",
   "pygments_lexer": "ipython3",
   "version": "3.9.7"
  }
 },
 "nbformat": 4,
 "nbformat_minor": 5
}
