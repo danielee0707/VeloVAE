{
 "cells": [
  {
   "cell_type": "code",
   "execution_count": 1,
   "id": "0b3e97c1",
   "metadata": {},
   "outputs": [],
   "source": [
    "import anndata\n",
    "import numpy as np\n",
    "import scanpy as sc\n",
    "import sys\n",
    "import torch\n",
    "sys.path.append('../../../../')\n",
    "import velovae as vv"
   ]
  },
  {
   "cell_type": "code",
   "execution_count": 2,
   "id": "1a592a6a",
   "metadata": {},
   "outputs": [],
   "source": [
    "dataset = 'Erythroid_Human'\n",
    "adata = anndata.read_h5ad(f'data/{dataset}_pp.h5ad')\n",
    "adata.obs['clusters'] = adata.obs['type2'].to_numpy()"
   ]
  },
  {
   "cell_type": "code",
   "execution_count": null,
   "id": "09e903e2",
   "metadata": {},
   "outputs": [],
   "source": [
    "#vv.preprocess(adata, n_gene=2000, min_shared_counts=20)\n",
    "#adata.write_h5ad(f'data/{dataset}_pp.h5ad')"
   ]
  },
  {
   "cell_type": "code",
   "execution_count": 9,
   "id": "85cc4954",
   "metadata": {},
   "outputs": [],
   "source": [
    "model_path_base = f'checkpoints/{dataset}'\n",
    "figure_path_base = f'figures/{dataset}'\n",
    "data_path = f'data/velovae/discrete/{dataset}'\n",
    "gene_plot = ['CNN3','CYR61','ABCG2','HBA2']"
   ]
  },
  {
   "cell_type": "markdown",
   "id": "6b34d5ea",
   "metadata": {},
   "source": [
    "# Discrete VeloVAE"
   ]
  },
  {
   "cell_type": "code",
   "execution_count": 10,
   "id": "696b9ea0",
   "metadata": {},
   "outputs": [
    {
     "name": "stdout",
     "output_type": "stream",
     "text": [
      "Detecting zero scaling factors: 0, 0\n",
      "Random Initialization.\n",
      "Gaussian Prior.\n",
      "Library scale (U): Max=4.62, Min=0.04, Mean=0.90\n",
      "Library scale (S): Max=5.19, Min=0.14, Mean=0.98\n",
      "--------------------------- Train a VeloVAE ---------------------------\n",
      "*********        Creating Training/Validation Datasets        *********\n",
      "*********                      Finished.                      *********\n",
      "*********                 Creating optimizers                 *********\n",
      "*********                      Finished.                      *********\n",
      "*********                    Start training                   *********\n",
      "*********                      Stage  1                       *********\n",
      "Total Number of Iterations Per Epoch: 197, test iteration: 392\n",
      "*********       Stage 1: Early Stop Triggered at epoch 325.       *********\n",
      "*********                      Stage  2                       *********\n"
     ]
    },
    {
     "data": {
      "application/vnd.jupyter.widget-view+json": {
       "model_id": "f027f275bce94fc1b9fcbb6a3dabe934",
       "version_major": 2,
       "version_minor": 0
      },
      "text/plain": [
       "  0%|          | 0/35877 [00:00<?, ?it/s]"
      ]
     },
     "metadata": {},
     "output_type": "display_data"
    },
    {
     "name": "stdout",
     "output_type": "stream",
     "text": [
      "Percentage of Invalid Sets: 0.007\n",
      "Average Set Size: 853\n",
      "*********       Stage 2: Early Stop Triggered at epoch 467.       *********\n",
      "*********              Finished. Total Time =   0 h : 21 m : 51 s             *********\n",
      "Final: Train ELBO = -2299.200,           Test ELBO = -2345.462\n",
      "       Training MSE = 32.130, Test MSE = 51.681\n"
     ]
    }
   ],
   "source": [
    "figure_path = f'{figure_path_base}/VeloVAE'\n",
    "model_path = f'{model_path_base}/VeloVAE'\n",
    "\n",
    "torch.manual_seed(2022)\n",
    "np.random.seed(2022)\n",
    "dvae = vv.DVAE(adata, \n",
    "               tmax=20, \n",
    "               dim_z=5, \n",
    "               device='cuda:0',\n",
    "               init_method='random')\n",
    "\n",
    "dvae.train(adata, gene_plot=gene_plot, plot=False, figure_path=figure_path)\n",
    "dvae.save_model(model_path, 'encoder', 'decoder')\n",
    "dvae.save_anndata(adata, 'dvae', data_path, file_name=f'{dataset}.h5ad')"
   ]
  },
  {
   "cell_type": "markdown",
   "id": "5fa4df32",
   "metadata": {},
   "source": [
    "# Discrete Full VB"
   ]
  },
  {
   "cell_type": "code",
   "execution_count": 11,
   "id": "3a76c18b",
   "metadata": {},
   "outputs": [
    {
     "name": "stdout",
     "output_type": "stream",
     "text": [
      "Detecting zero scaling factors: 0, 0\n",
      "Random Initialization.\n",
      "Gaussian Prior.\n",
      "Library scale (U): Max=4.62, Min=0.04, Mean=0.90\n",
      "Library scale (S): Max=5.19, Min=0.14, Mean=0.98\n",
      "--------------------------- Train a VeloVAE ---------------------------\n",
      "*********        Creating Training/Validation Datasets        *********\n",
      "*********                      Finished.                      *********\n",
      "*********                 Creating optimizers                 *********\n",
      "*********                      Finished.                      *********\n",
      "*********                    Start training                   *********\n",
      "*********                      Stage  1                       *********\n",
      "Total Number of Iterations Per Epoch: 197, test iteration: 392\n",
      "*********       Stage 1: Early Stop Triggered at epoch 478.       *********\n",
      "*********                      Stage  2                       *********\n"
     ]
    },
    {
     "data": {
      "application/vnd.jupyter.widget-view+json": {
       "model_id": "649d7731500646189a9bc7f09a7a6d76",
       "version_major": 2,
       "version_minor": 0
      },
      "text/plain": [
       "  0%|          | 0/35877 [00:00<?, ?it/s]"
      ]
     },
     "metadata": {},
     "output_type": "display_data"
    },
    {
     "name": "stdout",
     "output_type": "stream",
     "text": [
      "Percentage of Invalid Sets: 0.012\n",
      "Average Set Size: 856\n",
      "*********       Stage 2: Early Stop Triggered at epoch 614.       *********\n",
      "*********              Finished. Total Time =   0 h : 32 m : 15 s             *********\n",
      "Final: Train ELBO = -2304.150,           Test ELBO = -2339.753\n",
      "       Training MSE = 29.743, Test MSE = 47.523\n"
     ]
    }
   ],
   "source": [
    "figure_path = f'{figure_path_base}/FullVB'\n",
    "model_path = f'{model_path_base}/FullVB'\n",
    "\n",
    "torch.manual_seed(2022)\n",
    "np.random.seed(2022)\n",
    "full_vb = vv.DVAEFullVB(adata, \n",
    "                       tmax=20, \n",
    "                       dim_z=5, \n",
    "                       device='cuda:0',\n",
    "                       init_method='random')\n",
    "\n",
    "full_vb.train(adata, plot=False, gene_plot=gene_plot, figure_path=figure_path)\n",
    "\n",
    "full_vb.save_model(model_path, 'encoder', 'decoder')\n",
    "full_vb.save_anndata(adata, 'dfullvb', data_path, file_name=f'{dataset}.h5ad')"
   ]
  },
  {
   "cell_type": "markdown",
   "id": "6df2505c",
   "metadata": {},
   "source": [
    "# Evaluation"
   ]
  },
  {
   "cell_type": "code",
   "execution_count": null,
   "id": "887d0e53",
   "metadata": {},
   "outputs": [],
   "source": [
    "cluster_edges = [('MEMP', 'Early Erythroid'), \n",
    "                 ('Early Erythroid', 'Mid  Erythroid'), \n",
    "                 ('Mid  Erythroid', 'Late Erythroid')]\n",
    "vv.post_analysis(adata,\n",
    "                 'eval',\n",
    "                 ['Discrete VeloVAE','Discrete FullVB'],\n",
    "                 ['dvae','dfullvb'],\n",
    "                 compute_metrics=True,\n",
    "                 genes=gene_plot,\n",
    "                 grid_size=(1,4),\n",
    "                 plot_type=['all'],\n",
    "                 save_path=data_path,\n",
    "                 cluster_edges=cluster_edges)"
   ]
  }
 ],
 "metadata": {
  "kernelspec": {
   "display_name": "Python 3",
   "language": "python",
   "name": "python3"
  },
  "language_info": {
   "codemirror_mode": {
    "name": "ipython",
    "version": 3
   },
   "file_extension": ".py",
   "mimetype": "text/x-python",
   "name": "python",
   "nbconvert_exporter": "python",
   "pygments_lexer": "ipython3",
   "version": "3.9.7"
  }
 },
 "nbformat": 4,
 "nbformat_minor": 5
}
