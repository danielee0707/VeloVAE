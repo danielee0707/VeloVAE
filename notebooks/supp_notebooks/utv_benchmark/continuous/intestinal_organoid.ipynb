{
 "cells": [
  {
   "cell_type": "code",
   "execution_count": 1,
   "id": "d18622f9",
   "metadata": {},
   "outputs": [],
   "source": [
    "import anndata\n",
    "import numpy as np\n",
    "import sys\n",
    "import torch\n",
    "sys.path.append('../../../../')\n",
    "import velovae as vv"
   ]
  },
  {
   "cell_type": "code",
   "execution_count": 2,
   "id": "a6ca98d7",
   "metadata": {},
   "outputs": [],
   "source": [
    "dataset = 'IO_EU'\n",
    "adata = anndata.read_h5ad(f'data/{dataset}_pp.h5ad')\n",
    "adata.obs['clusters'] = adata.obs['cell_type'].to_numpy()\n",
    "import pandas as pd\n",
    "adata.var.index = pd.Index(adata.var['gene'])"
   ]
  },
  {
   "cell_type": "code",
   "execution_count": null,
   "id": "6eccf346",
   "metadata": {},
   "outputs": [],
   "source": [
    "vv.preprocess(adata, n_gene=2000, min_shared_counts=20)\n",
    "adata.write_h5ad(f'data/{dataset}_pp.h5ad')"
   ]
  },
  {
   "cell_type": "code",
   "execution_count": 3,
   "id": "5762320d",
   "metadata": {},
   "outputs": [],
   "source": [
    "model_path_base = f'checkpoints/{dataset}'\n",
    "figure_path_base = f'figures/{dataset}'\n",
    "data_path = f'data/velovae/continuous/{dataset}'\n",
    "gene_plot = ['Lgr5', 'Apoa1', 'Dgat1', 'Gsta4']"
   ]
  },
  {
   "cell_type": "markdown",
   "id": "754daac7",
   "metadata": {},
   "source": [
    "# Vanilla VAE"
   ]
  },
  {
   "cell_type": "code",
   "execution_count": 4,
   "id": "2024e7f9",
   "metadata": {},
   "outputs": [
    {
     "name": "stdout",
     "output_type": "stream",
     "text": [
      "Initialization using the steady-state and dynamical models.\n",
      "Estimating ODE parameters...\n"
     ]
    },
    {
     "data": {
      "application/vnd.jupyter.widget-view+json": {
       "model_id": "5bc79b47c9124e86b189f67d74b220c5",
       "version_major": 2,
       "version_minor": 0
      },
      "text/plain": [
       "  0%|          | 0/2000 [00:00<?, ?it/s]"
      ]
     },
     "metadata": {},
     "output_type": "display_data"
    },
    {
     "name": "stdout",
     "output_type": "stream",
     "text": [
      "Estimating the variance...\n"
     ]
    },
    {
     "data": {
      "application/vnd.jupyter.widget-view+json": {
       "model_id": "18374dc9231848a5a56af137bf48678d",
       "version_major": 2,
       "version_minor": 0
      },
      "text/plain": [
       "  0%|          | 0/2000 [00:00<?, ?it/s]"
      ]
     },
     "metadata": {},
     "output_type": "display_data"
    },
    {
     "name": "stdout",
     "output_type": "stream",
     "text": [
      "Reinitialize the regular ODE parameters based on estimated global latent time.\n"
     ]
    },
    {
     "data": {
      "application/vnd.jupyter.widget-view+json": {
       "model_id": "1b70a715fb4545acbde22960944bab4a",
       "version_major": 2,
       "version_minor": 0
      },
      "text/plain": [
       "  0%|          | 0/2000 [00:00<?, ?it/s]"
      ]
     },
     "metadata": {},
     "output_type": "display_data"
    },
    {
     "name": "stdout",
     "output_type": "stream",
     "text": [
      "Gaussian Prior.\n",
      "------------------------- Train a Vanilla VAE -------------------------\n",
      "*********        Creating Training/Validation Datasets        *********\n",
      "*********                      Finished.                      *********\n",
      "*********                 Creating optimizers                 *********\n",
      "*********                      Finished.                      *********\n",
      "*********                    Start training                   *********\n",
      "Total Number of Iterations Per Epoch: 21, test iteration: 40\n",
      "********* Early Stop Triggered at epoch 481. *********\n",
      "*********              Finished. Total Time =   0 h :  1 m : 58 s             *********\n",
      "Final: Train ELBO = -601.520,           Test ELBO = -662.537\n"
     ]
    }
   ],
   "source": [
    "figure_path = f'{figure_path_base}/Vanilla'\n",
    "model_path = f'{model_path_base}/Vanilla'\n",
    "\n",
    "torch.manual_seed(2022)\n",
    "np.random.seed(2022)\n",
    "\n",
    "vanilla_vae = vv.VanillaVAE(adata, \n",
    "                            tmax=20, \n",
    "                            device='cuda:0',\n",
    "                            init_method='steady')\n",
    "\n",
    "vanilla_vae.train(adata, plot=False, gene_plot=gene_plot, figure_path=figure_path)\n",
    "vanilla_vae.save_model(model_path, 'encoder', 'decoder')\n",
    "vanilla_vae.save_anndata(adata, 'vanilla', data_path, file_name=f'{dataset}.h5ad')"
   ]
  },
  {
   "cell_type": "markdown",
   "id": "5fecab35",
   "metadata": {},
   "source": [
    "# VeloVAE"
   ]
  },
  {
   "cell_type": "code",
   "execution_count": 5,
   "id": "2e9719f6",
   "metadata": {},
   "outputs": [
    {
     "name": "stdout",
     "output_type": "stream",
     "text": [
      "Initialization using the steady-state and dynamical models.\n",
      "Estimating ODE parameters...\n"
     ]
    },
    {
     "data": {
      "application/vnd.jupyter.widget-view+json": {
       "model_id": "2e71d2e8a25641ce8e5ae438d386e899",
       "version_major": 2,
       "version_minor": 0
      },
      "text/plain": [
       "  0%|          | 0/2000 [00:00<?, ?it/s]"
      ]
     },
     "metadata": {},
     "output_type": "display_data"
    },
    {
     "name": "stdout",
     "output_type": "stream",
     "text": [
      "Estimating the variance...\n"
     ]
    },
    {
     "data": {
      "application/vnd.jupyter.widget-view+json": {
       "model_id": "1a6f921a351247eb9b9867868891c422",
       "version_major": 2,
       "version_minor": 0
      },
      "text/plain": [
       "  0%|          | 0/2000 [00:00<?, ?it/s]"
      ]
     },
     "metadata": {},
     "output_type": "display_data"
    },
    {
     "name": "stdout",
     "output_type": "stream",
     "text": [
      "Reinitialize the regular ODE parameters based on estimated global latent time.\n"
     ]
    },
    {
     "data": {
      "application/vnd.jupyter.widget-view+json": {
       "model_id": "fd455b447de743febf19f8a527056422",
       "version_major": 2,
       "version_minor": 0
      },
      "text/plain": [
       "  0%|          | 0/2000 [00:00<?, ?it/s]"
      ]
     },
     "metadata": {},
     "output_type": "display_data"
    },
    {
     "name": "stdout",
     "output_type": "stream",
     "text": [
      "Gaussian Prior.\n",
      "--------------------------- Train a VeloVAE ---------------------------\n",
      "*********        Creating Training/Validation Datasets        *********\n",
      "*********                      Finished.                      *********\n",
      "*********                 Creating optimizers                 *********\n",
      "*********                      Finished.                      *********\n",
      "*********                    Start training                   *********\n",
      "*********                      Stage  1                       *********\n",
      "Total Number of Iterations Per Epoch: 21, test iteration: 40\n",
      "*********       Stage 1: Early Stop Triggered at epoch 513.       *********\n",
      "*********                      Stage  2                       *********\n",
      "Cell-wise KNN Estimation.\n"
     ]
    },
    {
     "data": {
      "application/vnd.jupyter.widget-view+json": {
       "model_id": "73a1129cd83a400b9e1b884be660f071",
       "version_major": 2,
       "version_minor": 0
      },
      "text/plain": [
       "  0%|          | 0/3829 [00:00<?, ?it/s]"
      ]
     },
     "metadata": {},
     "output_type": "display_data"
    },
    {
     "name": "stdout",
     "output_type": "stream",
     "text": [
      "Percentage of Invalid Sets: 0.142\n",
      "Average Set Size: 179\n",
      "Finished. Actual Time:   0 h :  0 m :  3 s\n",
      "*********       Stage 2: Early Stop Triggered at epoch 822.       *********\n",
      "*********              Finished. Total Time =   0 h :  3 m : 41 s             *********\n",
      "Final: Train ELBO = 3518.875,           Test ELBO = 3487.642\n"
     ]
    }
   ],
   "source": [
    "figure_path = f'{figure_path_base}/VeloVAE'\n",
    "model_path = f'{model_path_base}/VeloVAE'\n",
    "\n",
    "torch.manual_seed(2022)\n",
    "np.random.seed(2022)\n",
    "vae = vv.VAE(adata, \n",
    "             tmax=20, \n",
    "             dim_z=5, \n",
    "             device='cuda:0',\n",
    "             init_method='steady')\n",
    "\n",
    "vae.train(adata, plot=False, gene_plot=gene_plot, figure_path=figure_path)\n",
    "\n",
    "vae.save_model(model_path, 'encoder', 'decoder')\n",
    "vae.save_anndata(adata, 'velovae', data_path, file_name=f'{dataset}.h5ad')"
   ]
  },
  {
   "cell_type": "markdown",
   "id": "8dc4e543",
   "metadata": {},
   "source": [
    "# Full VB"
   ]
  },
  {
   "cell_type": "code",
   "execution_count": 6,
   "id": "adfe8dec",
   "metadata": {},
   "outputs": [
    {
     "name": "stdout",
     "output_type": "stream",
     "text": [
      "Initialization using the steady-state and dynamical models.\n",
      "Estimating ODE parameters...\n"
     ]
    },
    {
     "data": {
      "application/vnd.jupyter.widget-view+json": {
       "model_id": "713dc740cdc64816b3fed2a04bf84c15",
       "version_major": 2,
       "version_minor": 0
      },
      "text/plain": [
       "  0%|          | 0/2000 [00:00<?, ?it/s]"
      ]
     },
     "metadata": {},
     "output_type": "display_data"
    },
    {
     "name": "stdout",
     "output_type": "stream",
     "text": [
      "Estimating the variance...\n"
     ]
    },
    {
     "data": {
      "application/vnd.jupyter.widget-view+json": {
       "model_id": "b04c5ab753394e1a97481fe5b198154a",
       "version_major": 2,
       "version_minor": 0
      },
      "text/plain": [
       "  0%|          | 0/2000 [00:00<?, ?it/s]"
      ]
     },
     "metadata": {},
     "output_type": "display_data"
    },
    {
     "name": "stdout",
     "output_type": "stream",
     "text": [
      "Reinitialize the regular ODE parameters based on estimated global latent time.\n"
     ]
    },
    {
     "data": {
      "application/vnd.jupyter.widget-view+json": {
       "model_id": "f829e9d77a0c4fdb8cfb4f49de964961",
       "version_major": 2,
       "version_minor": 0
      },
      "text/plain": [
       "  0%|          | 0/2000 [00:00<?, ?it/s]"
      ]
     },
     "metadata": {},
     "output_type": "display_data"
    },
    {
     "name": "stdout",
     "output_type": "stream",
     "text": [
      "Gaussian Prior.\n",
      "--------------------------- Train a VeloVAE ---------------------------\n",
      "*********        Creating Training/Validation Datasets        *********\n",
      "*********                      Finished.                      *********\n",
      "*********                 Creating optimizers                 *********\n",
      "*********                      Finished.                      *********\n",
      "*********                    Start training                   *********\n",
      "*********                      Stage  1                       *********\n",
      "Total Number of Iterations Per Epoch: 21, test iteration: 40\n",
      "*********       Stage 1: Early Stop Triggered at epoch 490.       *********\n",
      "*********                      Stage  2                       *********\n",
      "Cell-wise KNN Estimation.\n"
     ]
    },
    {
     "data": {
      "application/vnd.jupyter.widget-view+json": {
       "model_id": "7ffa6db90d934075955b18851b52ad5f",
       "version_major": 2,
       "version_minor": 0
      },
      "text/plain": [
       "  0%|          | 0/3829 [00:00<?, ?it/s]"
      ]
     },
     "metadata": {},
     "output_type": "display_data"
    },
    {
     "name": "stdout",
     "output_type": "stream",
     "text": [
      "Percentage of Invalid Sets: 0.090\n",
      "Average Set Size: 167\n",
      "Finished. Actual Time:   0 h :  0 m :  3 s\n",
      "*********       Stage 2: Early Stop Triggered at epoch 900.       *********\n",
      "*********              Finished. Total Time =   0 h :  4 m : 40 s             *********\n",
      "Final: Train ELBO = 3433.425,           Test ELBO = 3356.509\n"
     ]
    }
   ],
   "source": [
    "figure_path = f'{figure_path_base}/FullVB'\n",
    "model_path = f'{model_path_base}/FullVB'\n",
    "\n",
    "torch.manual_seed(2022)\n",
    "np.random.seed(2022)\n",
    "full_vb = vv.VAEFullVB(adata, \n",
    "                       tmax=20, \n",
    "                       dim_z=5, \n",
    "                       device='cuda:0',\n",
    "                       init_method='steady')\n",
    "\n",
    "full_vb.train(adata, plot=False, gene_plot=gene_plot, figure_path=figure_path)\n",
    "\n",
    "full_vb.save_model(model_path, 'encoder', 'decoder')\n",
    "full_vb.save_anndata(adata, 'fullvb', data_path, file_name=f'{dataset}.h5ad')"
   ]
  },
  {
   "cell_type": "markdown",
   "id": "378275b6",
   "metadata": {},
   "source": [
    "# Branching ODE"
   ]
  },
  {
   "cell_type": "code",
   "execution_count": 7,
   "id": "ca82b274",
   "metadata": {},
   "outputs": [
    {
     "name": "stdout",
     "output_type": "stream",
     "text": [
      "Graph Partition\n",
      "Number of partitions:  2\n",
      "Computing type-to-type transition probability\n",
      "Obtaining the MST in each partition\n",
      "Initialization using type-specific dynamical model.\n"
     ]
    },
    {
     "name": "stderr",
     "output_type": "stream",
     "text": [
      "/home/gyichen/.local/lib/python3.9/site-packages/numpy/core/fromnumeric.py:3432: RuntimeWarning: Mean of empty slice.\n",
      "  return _methods._mean(a, axis=axis, dtype=dtype,\n",
      "/home/gyichen/.local/lib/python3.9/site-packages/numpy/core/_methods.py:182: RuntimeWarning: invalid value encountered in divide\n",
      "  ret = um.true_divide(\n"
     ]
    },
    {
     "name": "stdout",
     "output_type": "stream",
     "text": [
      "------------------------ Train a Branching ODE ------------------------\n",
      "                            Enterocytes  Enteroendocrine  Enteroendocrine progenitor  Goblet cells  Paneth cells  Stem cells  TA cells  Tuft cells\n",
      "Enterocytes                         0.0              0.0                         0.0           0.0           0.0         0.0       1.0         0.0\n",
      "Enteroendocrine                     0.0              0.0                         1.0           0.0           0.0         0.0       0.0         0.0\n",
      "Enteroendocrine progenitor          0.0              0.0                         0.0           0.0           0.0         1.0       0.0         0.0\n",
      "Goblet cells                        0.0              0.0                         0.0           0.0           0.0         1.0       0.0         0.0\n",
      "Paneth cells                        0.0              0.0                         0.0           1.0           0.0         0.0       0.0         0.0\n",
      "Stem cells                          0.0              0.0                         0.0           0.0           0.0         1.0       0.0         0.0\n",
      "TA cells                            0.0              0.0                         0.0           0.0           0.0         1.0       0.0         0.0\n",
      "Tuft cells                          0.0              0.0                         0.0           0.0           0.0         0.0       0.0         1.0\n",
      "*********        Creating Training/Validation Datasets        *********\n",
      "*********                      Finished.                      *********\n",
      "*********                 Creating optimizers                 *********\n",
      "*********                      Finished.                      *********\n",
      "*********                    Start training                   *********\n",
      "Total Number of Iterations Per Epoch: 21, test iteration: 40\n",
      "*********           Early Stop Triggered at epoch 250.            *********\n",
      "*********              Finished. Total Time =   0 h :  6 m : 21 s             *********\n"
     ]
    }
   ],
   "source": [
    "figure_path = f'{figure_path_base}/BrODE'\n",
    "model_path = f'{model_path_base}/BrODE'\n",
    "\n",
    "torch.manual_seed(2022)\n",
    "np.random.seed(2022)\n",
    "brode = vv.BrODE(adata, 'clusters', 'fullvb_time', 'fullvb_z', param_key='fullvb')\n",
    "\n",
    "brode.train(adata, 'fullvb_time', 'clusters', plot=False, gene_plot=gene_plot, figure_path=figure_path)\n",
    "\n",
    "brode.save_model(model_path, 'brode')\n",
    "brode.save_anndata(adata, 'brode', data_path, file_name=f'{dataset}.h5ad')\n",
    "\n",
    "vv.plot_transition_graph(adata, save=f'{figure_path_base}/transition.png')"
   ]
  },
  {
   "cell_type": "markdown",
   "id": "12a865a8",
   "metadata": {},
   "source": [
    "# Evaluation"
   ]
  },
  {
   "cell_type": "code",
   "execution_count": null,
   "id": "4c851923",
   "metadata": {
    "scrolled": false
   },
   "outputs": [],
   "source": [
    "cluster_edges = [('Stem cells', 'TA cells'), ('Stem cells', 'Globet Cells')]\n",
    "vv.post_analysis(adata,\n",
    "                 'eval',\n",
    "                 ['Vanilla VAE','VeloVAE','FullVB','BrODE'],\n",
    "                 ['vanilla','velovae','fullvb','brode'],\n",
    "                 compute_metrics=True,\n",
    "                 genes=gene_plot,\n",
    "                 grid_size=(1,4),\n",
    "                 plot_type=['all'],\n",
    "                 save_path=data_path,\n",
    "                 cluster_edges=cluster_edges)"
   ]
  }
 ],
 "metadata": {
  "kernelspec": {
   "display_name": "Python 3",
   "language": "python",
   "name": "python3"
  },
  "language_info": {
   "codemirror_mode": {
    "name": "ipython",
    "version": 3
   },
   "file_extension": ".py",
   "mimetype": "text/x-python",
   "name": "python",
   "nbconvert_exporter": "python",
   "pygments_lexer": "ipython3",
   "version": "3.9.7"
  }
 },
 "nbformat": 4,
 "nbformat_minor": 5
}
