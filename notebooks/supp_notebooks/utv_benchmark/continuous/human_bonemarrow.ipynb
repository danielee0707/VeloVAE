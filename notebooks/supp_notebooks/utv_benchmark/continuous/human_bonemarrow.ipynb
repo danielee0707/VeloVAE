{
 "cells": [
  {
   "cell_type": "code",
   "execution_count": 1,
   "id": "9e5200ee",
   "metadata": {},
   "outputs": [],
   "source": [
    "import anndata\n",
    "import numpy as np\n",
    "import sys\n",
    "import torch\n",
    "sys.path.append('../../../../')\n",
    "import velovae as vv"
   ]
  },
  {
   "cell_type": "code",
   "execution_count": 2,
   "id": "4b2c0e1a",
   "metadata": {},
   "outputs": [],
   "source": [
    "import scvelo as scv\n",
    "dataset = 'Bonemarrow'\n",
    "#adata = scv.datasets.bonemarrow(file_path=f'data/download/{dataset}.h5ad')\n",
    "adata = anndata.read_h5ad(f'data/{dataset}_pp.h5ad')"
   ]
  },
  {
   "cell_type": "code",
   "execution_count": null,
   "id": "ef445eae",
   "metadata": {},
   "outputs": [],
   "source": [
    "#vv.preprocess(adata, n_gene=2000, min_shared_counts=20)\n",
    "#adata.write_h5ad(f'data/{dataset}_pp.h5ad')"
   ]
  },
  {
   "cell_type": "code",
   "execution_count": 3,
   "id": "cea2e1cf",
   "metadata": {},
   "outputs": [],
   "source": [
    "model_path_base = f'checkpoints/{dataset}'\n",
    "figure_path_base = f'figures/{dataset}'\n",
    "data_path = f'data/velovae/continuous/{dataset}'\n",
    "gene_plot = ['CD44','CELF2','TAOK3']"
   ]
  },
  {
   "cell_type": "markdown",
   "id": "0aa19d52",
   "metadata": {},
   "source": [
    "# Vanilla VAE"
   ]
  },
  {
   "cell_type": "code",
   "execution_count": 5,
   "id": "f62e5aa2",
   "metadata": {},
   "outputs": [
    {
     "name": "stdout",
     "output_type": "stream",
     "text": [
      "Initialization using the steady-state and dynamical models.\n",
      "Estimating ODE parameters...\n"
     ]
    },
    {
     "data": {
      "application/vnd.jupyter.widget-view+json": {
       "model_id": "1cc0a6eee9464709b1629e838bfabe35",
       "version_major": 2,
       "version_minor": 0
      },
      "text/plain": [
       "  0%|          | 0/2000 [00:00<?, ?it/s]"
      ]
     },
     "metadata": {},
     "output_type": "display_data"
    },
    {
     "name": "stdout",
     "output_type": "stream",
     "text": [
      "Estimating the variance...\n"
     ]
    },
    {
     "data": {
      "application/vnd.jupyter.widget-view+json": {
       "model_id": "1a1f990c90c941858b4612851247ef5e",
       "version_major": 2,
       "version_minor": 0
      },
      "text/plain": [
       "  0%|          | 0/2000 [00:00<?, ?it/s]"
      ]
     },
     "metadata": {},
     "output_type": "display_data"
    },
    {
     "name": "stdout",
     "output_type": "stream",
     "text": [
      "Reinitialize the regular ODE parameters based on estimated global latent time.\n"
     ]
    },
    {
     "data": {
      "application/vnd.jupyter.widget-view+json": {
       "model_id": "a966576422c54838a52c92cb9cbc883d",
       "version_major": 2,
       "version_minor": 0
      },
      "text/plain": [
       "  0%|          | 0/2000 [00:00<?, ?it/s]"
      ]
     },
     "metadata": {},
     "output_type": "display_data"
    },
    {
     "name": "stdout",
     "output_type": "stream",
     "text": [
      "Gaussian Prior.\n",
      "------------------------- Train a Vanilla VAE -------------------------\n",
      "*********        Creating Training/Validation Datasets        *********\n",
      "*********                      Finished.                      *********\n",
      "*********                 Creating optimizers                 *********\n",
      "*********                      Finished.                      *********\n",
      "*********                    Start training                   *********\n",
      "Total Number of Iterations Per Epoch: 28, test iteration: 54\n",
      "********* Early Stop Triggered at epoch 357. *********\n",
      "*********              Finished. Total Time =   0 h :  2 m : 10 s             *********\n",
      "Final: Train ELBO = 2612.867,           Test ELBO = 2564.188\n"
     ]
    }
   ],
   "source": [
    "figure_path = f'{figure_path_base}/Vanilla'\n",
    "model_path = f'{model_path_base}/Vanilla'\n",
    "\n",
    "torch.manual_seed(2022)\n",
    "np.random.seed(2022)\n",
    "\n",
    "vanilla_vae = vv.VanillaVAE(adata, \n",
    "                            tmax=20, \n",
    "                            device='cuda:0',\n",
    "                            init_method='steady')\n",
    "\n",
    "vanilla_vae.train(adata, plot=False, gene_plot=gene_plot, figure_path=figure_path, embed='tsne')\n",
    "vanilla_vae.save_model(model_path, 'encoder', 'decoder')\n",
    "vanilla_vae.save_anndata(adata, 'vanilla', data_path, file_name=f'{dataset}.h5ad')"
   ]
  },
  {
   "cell_type": "markdown",
   "id": "5f87d846",
   "metadata": {},
   "source": [
    "# VeloVAE"
   ]
  },
  {
   "cell_type": "code",
   "execution_count": 6,
   "id": "7a724a23",
   "metadata": {},
   "outputs": [
    {
     "name": "stdout",
     "output_type": "stream",
     "text": [
      "Initialization using the steady-state and dynamical models.\n",
      "Estimating ODE parameters...\n"
     ]
    },
    {
     "data": {
      "application/vnd.jupyter.widget-view+json": {
       "model_id": "d6a2474ce9694b7eaf8dd180c696c97a",
       "version_major": 2,
       "version_minor": 0
      },
      "text/plain": [
       "  0%|          | 0/2000 [00:00<?, ?it/s]"
      ]
     },
     "metadata": {},
     "output_type": "display_data"
    },
    {
     "name": "stdout",
     "output_type": "stream",
     "text": [
      "Estimating the variance...\n"
     ]
    },
    {
     "data": {
      "application/vnd.jupyter.widget-view+json": {
       "model_id": "7374c854eca248269aad1d8a00b59e15",
       "version_major": 2,
       "version_minor": 0
      },
      "text/plain": [
       "  0%|          | 0/2000 [00:00<?, ?it/s]"
      ]
     },
     "metadata": {},
     "output_type": "display_data"
    },
    {
     "name": "stdout",
     "output_type": "stream",
     "text": [
      "Reinitialize the regular ODE parameters based on estimated global latent time.\n"
     ]
    },
    {
     "data": {
      "application/vnd.jupyter.widget-view+json": {
       "model_id": "f77cb00b1cde41c59210615de8abc7e9",
       "version_major": 2,
       "version_minor": 0
      },
      "text/plain": [
       "  0%|          | 0/2000 [00:00<?, ?it/s]"
      ]
     },
     "metadata": {},
     "output_type": "display_data"
    },
    {
     "name": "stdout",
     "output_type": "stream",
     "text": [
      "Gaussian Prior.\n",
      "--------------------------- Train a VeloVAE ---------------------------\n",
      "*********        Creating Training/Validation Datasets        *********\n",
      "*********                      Finished.                      *********\n",
      "*********                 Creating optimizers                 *********\n",
      "*********                      Finished.                      *********\n",
      "*********                    Start training                   *********\n",
      "*********                      Stage  1                       *********\n",
      "Total Number of Iterations Per Epoch: 28, test iteration: 54\n",
      "Epoch 1: Train ELBO = -8018.343, Test ELBO = -63392.723, \t Total Time =   0 h :  0 m :  2 s\n",
      "Epoch 100: Train ELBO = 2378.334, Test ELBO = 2292.820, \t Total Time =   0 h :  0 m : 36 s\n",
      "Epoch 200: Train ELBO = 2940.919, Test ELBO = 2904.138, \t Total Time =   0 h :  1 m : 10 s\n",
      "Epoch 300: Train ELBO = 3159.082, Test ELBO = 3138.598, \t Total Time =   0 h :  1 m : 44 s\n",
      "Epoch 400: Train ELBO = 3240.431, Test ELBO = 3235.591, \t Total Time =   0 h :  2 m : 19 s\n",
      "Epoch 500: Train ELBO = 3275.877, Test ELBO = 3277.210, \t Total Time =   0 h :  2 m : 53 s\n",
      "*********       Stage 1: Early Stop Triggered at epoch 541.       *********\n",
      "*********                      Stage  2                       *********\n",
      "Cell-wise KNN Estimation.\n"
     ]
    },
    {
     "data": {
      "application/vnd.jupyter.widget-view+json": {
       "model_id": "9db1a4161c5940db998ae7e34c3bb2aa",
       "version_major": 2,
       "version_minor": 0
      },
      "text/plain": [
       "  0%|          | 0/5028 [00:00<?, ?it/s]"
      ]
     },
     "metadata": {},
     "output_type": "display_data"
    },
    {
     "name": "stdout",
     "output_type": "stream",
     "text": [
      "Percentage of Invalid Sets: 0.035\n",
      "Average Set Size: 156\n",
      "Finished. Actual Time:   0 h :  0 m :  4 s\n",
      "Epoch 542: Train ELBO = 2859.782, Test ELBO = 2716.002, \t Total Time =   0 h :  3 m : 15 s\n",
      "Epoch 600: Train ELBO = 3135.189, Test ELBO = 3117.954, \t Total Time =   0 h :  3 m : 41 s\n",
      "Epoch 700: Train ELBO = 3178.974, Test ELBO = 3158.185, \t Total Time =   0 h :  4 m : 30 s\n",
      "*********       Stage 2: Early Stop Triggered at epoch 783.       *********\n",
      "*********              Finished. Total Time =   0 h :  5 m : 39 s             *********\n",
      "Final: Train ELBO = 3174.538,           Test ELBO = 3172.169\n"
     ]
    }
   ],
   "source": [
    "figure_path = f'{figure_path_base}/VeloVAE'\n",
    "model_path = f'{model_path_base}/VeloVAE'\n",
    "\n",
    "torch.manual_seed(2022)\n",
    "np.random.seed(2022)\n",
    "vae = vv.VAE(adata, \n",
    "             tmax=20, \n",
    "             dim_z=5, \n",
    "             device='cuda:0',\n",
    "             init_method='steady')\n",
    "\n",
    "vae.train(adata, plot=False, gene_plot=gene_plot, figure_path=figure_path, embed='tsne')\n",
    "\n",
    "vae.save_model(model_path, 'encoder', 'decoder')\n",
    "vae.save_anndata(adata, 'velovae', data_path, file_name=f'{dataset}.h5ad')"
   ]
  },
  {
   "cell_type": "markdown",
   "id": "6cc80351",
   "metadata": {},
   "source": [
    "# Full VB"
   ]
  },
  {
   "cell_type": "code",
   "execution_count": 7,
   "id": "a5fd7b60",
   "metadata": {},
   "outputs": [
    {
     "name": "stdout",
     "output_type": "stream",
     "text": [
      "Initialization using the steady-state and dynamical models.\n",
      "Estimating ODE parameters...\n"
     ]
    },
    {
     "data": {
      "application/vnd.jupyter.widget-view+json": {
       "model_id": "176303154145473ba8af31a14d952543",
       "version_major": 2,
       "version_minor": 0
      },
      "text/plain": [
       "  0%|          | 0/2000 [00:00<?, ?it/s]"
      ]
     },
     "metadata": {},
     "output_type": "display_data"
    },
    {
     "name": "stdout",
     "output_type": "stream",
     "text": [
      "Estimating the variance...\n"
     ]
    },
    {
     "data": {
      "application/vnd.jupyter.widget-view+json": {
       "model_id": "6abefbda22bc402393ae7eb833d454c8",
       "version_major": 2,
       "version_minor": 0
      },
      "text/plain": [
       "  0%|          | 0/2000 [00:00<?, ?it/s]"
      ]
     },
     "metadata": {},
     "output_type": "display_data"
    },
    {
     "name": "stdout",
     "output_type": "stream",
     "text": [
      "Reinitialize the regular ODE parameters based on estimated global latent time.\n"
     ]
    },
    {
     "data": {
      "application/vnd.jupyter.widget-view+json": {
       "model_id": "f3bb8d5d8fa4452d9dbae5e9c687ca3c",
       "version_major": 2,
       "version_minor": 0
      },
      "text/plain": [
       "  0%|          | 0/2000 [00:00<?, ?it/s]"
      ]
     },
     "metadata": {},
     "output_type": "display_data"
    },
    {
     "name": "stdout",
     "output_type": "stream",
     "text": [
      "Gaussian Prior.\n",
      "--------------------------- Train a VeloVAE ---------------------------\n",
      "*********        Creating Training/Validation Datasets        *********\n",
      "*********                      Finished.                      *********\n",
      "*********                 Creating optimizers                 *********\n",
      "*********                      Finished.                      *********\n",
      "*********                    Start training                   *********\n",
      "*********                      Stage  1                       *********\n",
      "Total Number of Iterations Per Epoch: 28, test iteration: 54\n",
      "Epoch 1: Train ELBO = -8005.302, Test ELBO = -63441.996, \t Total Time =   0 h :  0 m :  2 s\n",
      "Epoch 100: Train ELBO = 2387.361, Test ELBO = 2281.423, \t Total Time =   0 h :  0 m : 41 s\n",
      "Epoch 200: Train ELBO = 2937.164, Test ELBO = 2865.263, \t Total Time =   0 h :  1 m : 20 s\n",
      "Epoch 300: Train ELBO = 3136.198, Test ELBO = 3098.264, \t Total Time =   0 h :  1 m : 59 s\n",
      "Epoch 400: Train ELBO = 3198.658, Test ELBO = 3164.523, \t Total Time =   0 h :  2 m : 40 s\n",
      "*********       Stage 1: Early Stop Triggered at epoch 492.       *********\n",
      "*********                      Stage  2                       *********\n",
      "Cell-wise KNN Estimation.\n"
     ]
    },
    {
     "data": {
      "application/vnd.jupyter.widget-view+json": {
       "model_id": "a1d89c0fd1ff40ddb4e83728f9ce8946",
       "version_major": 2,
       "version_minor": 0
      },
      "text/plain": [
       "  0%|          | 0/5028 [00:00<?, ?it/s]"
      ]
     },
     "metadata": {},
     "output_type": "display_data"
    },
    {
     "name": "stdout",
     "output_type": "stream",
     "text": [
      "Percentage of Invalid Sets: 0.031\n",
      "Average Set Size: 179\n",
      "Finished. Actual Time:   0 h :  0 m :  4 s\n",
      "Epoch 493: Train ELBO = 2858.462, Test ELBO = 2781.656, \t Total Time =   0 h :  3 m : 24 s\n",
      "Epoch 500: Train ELBO = 3042.335, Test ELBO = 3007.220, \t Total Time =   0 h :  3 m : 31 s\n",
      "*********       Stage 2: Early Stop Triggered at epoch 579.       *********\n",
      "*********              Finished. Total Time =   0 h :  4 m : 41 s             *********\n",
      "Final: Train ELBO = 3104.790,           Test ELBO = 3071.202\n"
     ]
    }
   ],
   "source": [
    "figure_path = f'{figure_path_base}/FullVB'\n",
    "model_path = f'{model_path_base}/FullVB'\n",
    "\n",
    "torch.manual_seed(2022)\n",
    "np.random.seed(2022)\n",
    "full_vb = vv.VAEFullVB(adata, \n",
    "                       tmax=20, \n",
    "                       dim_z=5, \n",
    "                       device='cuda:0',\n",
    "                       init_method='steady')\n",
    "\n",
    "full_vb.train(adata, plot=False, gene_plot=gene_plot, figure_path=figure_path, embed='tsne')\n",
    "\n",
    "full_vb.save_model(model_path, 'encoder', 'decoder')\n",
    "full_vb.save_anndata(adata, 'fullvb', data_path, file_name=f'{dataset}.h5ad')"
   ]
  },
  {
   "cell_type": "markdown",
   "id": "4ad0c6df",
   "metadata": {},
   "source": [
    "# Branching ODE"
   ]
  },
  {
   "cell_type": "code",
   "execution_count": 8,
   "id": "fa8be217",
   "metadata": {},
   "outputs": [
    {
     "name": "stdout",
     "output_type": "stream",
     "text": [
      "Graph Partition\n",
      "Number of partitions:  1\n",
      "Computing type-to-type transition probability\n",
      "Obtaining the MST in each partition\n",
      "Initialization using type-specific dynamical model.\n",
      "            CLP  DCs  Ery_1  Ery_2  HSC_1  HSC_2  Mega  Mono_1  Mono_2  Precursors\n",
      "CLP         0.0  0.0    0.0    0.0    1.0    0.0   0.0     0.0     0.0         0.0\n",
      "DCs         0.0  0.0    0.0    0.0    0.0    0.0   0.0     0.0     1.0         0.0\n",
      "Ery_1       0.0  0.0    0.0    1.0    0.0    0.0   0.0     0.0     0.0         0.0\n",
      "Ery_2       0.0  0.0    0.0    1.0    0.0    0.0   0.0     0.0     0.0         0.0\n",
      "HSC_1       0.0  0.0    0.0    0.0    0.0    1.0   0.0     0.0     0.0         0.0\n",
      "HSC_2       0.0  0.0    0.0    0.0    0.0    0.0   0.0     0.0     0.0         1.0\n",
      "Mega        0.0  0.0    0.0    0.0    1.0    0.0   0.0     0.0     0.0         0.0\n",
      "Mono_1      0.0  0.0    1.0    0.0    0.0    0.0   0.0     0.0     0.0         0.0\n",
      "Mono_2      0.0  0.0    0.0    0.0    0.0    0.0   0.0     1.0     0.0         0.0\n",
      "Precursors  0.0  0.0    0.0    0.0    0.0    0.0   0.0     1.0     0.0         0.0\n",
      "------------------------ Train a Branching ODE ------------------------\n",
      "            CLP  DCs  Ery_1  Ery_2  HSC_1  HSC_2  Mega  Mono_1  Mono_2  Precursors\n",
      "CLP         0.0  0.0    0.0    0.0    1.0    0.0   0.0     0.0     0.0         0.0\n",
      "DCs         0.0  0.0    0.0    0.0    0.0    0.0   0.0     0.0     1.0         0.0\n",
      "Ery_1       0.0  0.0    0.0    1.0    0.0    0.0   0.0     0.0     0.0         0.0\n",
      "Ery_2       0.0  0.0    0.0    1.0    0.0    0.0   0.0     0.0     0.0         0.0\n",
      "HSC_1       0.0  0.0    0.0    0.0    0.0    1.0   0.0     0.0     0.0         0.0\n",
      "HSC_2       0.0  0.0    0.0    0.0    0.0    0.0   0.0     0.0     0.0         1.0\n",
      "Mega        0.0  0.0    0.0    0.0    1.0    0.0   0.0     0.0     0.0         0.0\n",
      "Mono_1      0.0  0.0    1.0    0.0    0.0    0.0   0.0     0.0     0.0         0.0\n",
      "Mono_2      0.0  0.0    0.0    0.0    0.0    0.0   0.0     1.0     0.0         0.0\n",
      "Precursors  0.0  0.0    0.0    0.0    0.0    0.0   0.0     1.0     0.0         0.0\n",
      "*********        Creating Training/Validation Datasets        *********\n",
      "*********                      Finished.                      *********\n",
      "*********                 Creating optimizers                 *********\n",
      "*********                      Finished.                      *********\n",
      "*********                    Start training                   *********\n",
      "Total Number of Iterations Per Epoch: 28, test iteration: 54\n",
      "*********           Early Stop Triggered at epoch 292.            *********\n",
      "*********              Finished. Total Time =   0 h :  9 m : 46 s             *********\n"
     ]
    }
   ],
   "source": [
    "figure_path = f'{figure_path_base}/BrODE'\n",
    "model_path = f'{model_path_base}/BrODE'\n",
    "\n",
    "torch.manual_seed(2022)\n",
    "np.random.seed(2022)\n",
    "brode = vv.BrODE(adata, 'clusters', 'fullvb_time', 'fullvb_z', param_key='fullvb')\n",
    "\n",
    "brode.print_weight()\n",
    "\n",
    "brode.train(adata, 'fullvb_time', 'clusters', plot=False, gene_plot=gene_plot, figure_path=figure_path)\n",
    "\n",
    "brode.save_model(model_path, 'brode')\n",
    "brode.save_anndata(adata, 'brode', data_path, file_name=f'{dataset}.h5ad')\n",
    "\n",
    "vv.plot_transition_graph(adata, save=f'{figure_path_base}/transition.png')"
   ]
  },
  {
   "cell_type": "markdown",
   "id": "f109de84",
   "metadata": {},
   "source": [
    "# Evaluation"
   ]
  },
  {
   "cell_type": "code",
   "execution_count": null,
   "id": "722e9d08",
   "metadata": {},
   "outputs": [],
   "source": [
    "cluster_edges = [('HSC_1', 'Ery_1'), \n",
    "                 ('HSC_1', 'HSC_2'), \n",
    "                 ('Ery_1', 'Ery_2')]\n",
    "vv.post_analysis(adata,\n",
    "                 'eval',\n",
    "                 ['Vanilla VAE', 'VeloVAE', 'FullVB', 'BrODE'],\n",
    "                 ['vanilla', 'velovae', 'fullvb', 'brode'],\n",
    "                 compute_metrics=True,\n",
    "                 genes=gene_plot,\n",
    "                 grid_size=(1,3),\n",
    "                 plot_type=['all'],\n",
    "                 embed='tsne',\n",
    "                 save_path=data_path,\n",
    "                 cluster_edges=cluster_edges)"
   ]
  }
 ],
 "metadata": {
  "kernelspec": {
   "display_name": "Python 3",
   "language": "python",
   "name": "python3"
  },
  "language_info": {
   "codemirror_mode": {
    "name": "ipython",
    "version": 3
   },
   "file_extension": ".py",
   "mimetype": "text/x-python",
   "name": "python",
   "nbconvert_exporter": "python",
   "pygments_lexer": "ipython3",
   "version": "3.9.7"
  }
 },
 "nbformat": 4,
 "nbformat_minor": 5
}
