{
 "cells": [
  {
   "cell_type": "code",
   "execution_count": 1,
   "id": "0b3e97c1",
   "metadata": {},
   "outputs": [],
   "source": [
    "import anndata\n",
    "import numpy as np\n",
    "import scanpy as sc\n",
    "import sys\n",
    "import torch\n",
    "sys.path.append('../../../../')\n",
    "import velovae as vv"
   ]
  },
  {
   "cell_type": "code",
   "execution_count": 2,
   "id": "1a592a6a",
   "metadata": {},
   "outputs": [],
   "source": [
    "dataset = 'Erythroid_Human'\n",
    "adata = anndata.read_h5ad(f'data/{dataset}_pp.h5ad')\n",
    "adata.obs['clusters'] = adata.obs['type2'].to_numpy()"
   ]
  },
  {
   "cell_type": "code",
   "execution_count": null,
   "id": "09e903e2",
   "metadata": {},
   "outputs": [],
   "source": [
    "vv.preprocess(adata, n_gene=2000, min_shared_counts=20)\n",
    "adata.write_h5ad(f'data/{dataset}_pp.h5ad')"
   ]
  },
  {
   "cell_type": "code",
   "execution_count": 3,
   "id": "85cc4954",
   "metadata": {},
   "outputs": [],
   "source": [
    "model_path_base = f'checkpoints/{dataset}'\n",
    "figure_path_base = f'figures/{dataset}'\n",
    "data_path = f'data/velovae/continuous/{dataset}'\n",
    "gene_plot = ['CNN3','CYR61','ABCG2','HBA1']"
   ]
  },
  {
   "cell_type": "markdown",
   "id": "12658ad7",
   "metadata": {},
   "source": [
    "# Vanilla VAE"
   ]
  },
  {
   "cell_type": "code",
   "execution_count": 5,
   "id": "1a0d3cf8",
   "metadata": {},
   "outputs": [
    {
     "name": "stdout",
     "output_type": "stream",
     "text": [
      "Initialization using the steady-state and dynamical models.\n",
      "Estimating ODE parameters...\n"
     ]
    },
    {
     "data": {
      "application/vnd.jupyter.widget-view+json": {
       "model_id": "8ecd5d02c1e4492bbc43849d156b4b0f",
       "version_major": 2,
       "version_minor": 0
      },
      "text/plain": [
       "  0%|          | 0/2000 [00:00<?, ?it/s]"
      ]
     },
     "metadata": {},
     "output_type": "display_data"
    },
    {
     "name": "stdout",
     "output_type": "stream",
     "text": [
      "Estimating the variance...\n"
     ]
    },
    {
     "data": {
      "application/vnd.jupyter.widget-view+json": {
       "model_id": "c831ff44e3364a3d8e23210f717cb83a",
       "version_major": 2,
       "version_minor": 0
      },
      "text/plain": [
       "  0%|          | 0/2000 [00:00<?, ?it/s]"
      ]
     },
     "metadata": {},
     "output_type": "display_data"
    },
    {
     "name": "stdout",
     "output_type": "stream",
     "text": [
      "Reinitialize the regular ODE parameters based on estimated global latent time.\n"
     ]
    },
    {
     "data": {
      "application/vnd.jupyter.widget-view+json": {
       "model_id": "b3fa47823404484caface1e0e619a531",
       "version_major": 2,
       "version_minor": 0
      },
      "text/plain": [
       "  0%|          | 0/2000 [00:00<?, ?it/s]"
      ]
     },
     "metadata": {},
     "output_type": "display_data"
    },
    {
     "name": "stdout",
     "output_type": "stream",
     "text": [
      "Gaussian Prior.\n",
      "------------------------- Train a Vanilla VAE -------------------------\n",
      "*********        Creating Training/Validation Datasets        *********\n",
      "*********                      Finished.                      *********\n",
      "Warning: Gene HBA1 not found! Ignored.\n",
      "*********                 Creating optimizers                 *********\n",
      "*********                      Finished.                      *********\n",
      "*********                    Start training                   *********\n",
      "Total Number of Iterations Per Epoch: 197, test iteration: 392\n",
      "********* Early Stop Triggered at epoch 160. *********\n",
      "*********              Finished. Total Time =   0 h : 12 m : 36 s             *********\n",
      "Final: Train ELBO = 454.334,           Test ELBO = 459.611\n"
     ]
    }
   ],
   "source": [
    "figure_path = f'{figure_path_base}/Vanilla'\n",
    "model_path = f'{model_path_base}/Vanilla'\n",
    "\n",
    "torch.manual_seed(2022)\n",
    "np.random.seed(2022)\n",
    "vanilla_vae = vv.VanillaVAE(adata, \n",
    "                            tmax=20, \n",
    "                            device='cuda:0',\n",
    "                            init_method='steady')\n",
    "vanilla_vae.train(adata, plot=False, gene_plot=gene_plot, figure_path=figure_path)\n",
    "vanilla_vae.save_model(model_path, 'encoder', 'decoder')\n",
    "vanilla_vae.save_anndata(adata, 'vanilla', data_path, file_name=f'{dataset}.h5ad')"
   ]
  },
  {
   "cell_type": "markdown",
   "id": "6b34d5ea",
   "metadata": {},
   "source": [
    "# VeloVAE"
   ]
  },
  {
   "cell_type": "code",
   "execution_count": 6,
   "id": "696b9ea0",
   "metadata": {},
   "outputs": [
    {
     "name": "stdout",
     "output_type": "stream",
     "text": [
      "Initialization using the steady-state and dynamical models.\n",
      "Estimating ODE parameters...\n"
     ]
    },
    {
     "data": {
      "application/vnd.jupyter.widget-view+json": {
       "model_id": "9b3bedb0ff354aa88987eed7eb0bf125",
       "version_major": 2,
       "version_minor": 0
      },
      "text/plain": [
       "  0%|          | 0/2000 [00:00<?, ?it/s]"
      ]
     },
     "metadata": {},
     "output_type": "display_data"
    },
    {
     "name": "stdout",
     "output_type": "stream",
     "text": [
      "Estimating the variance...\n"
     ]
    },
    {
     "data": {
      "application/vnd.jupyter.widget-view+json": {
       "model_id": "d83c07f9ead44f84b97f5a22403cf40a",
       "version_major": 2,
       "version_minor": 0
      },
      "text/plain": [
       "  0%|          | 0/2000 [00:00<?, ?it/s]"
      ]
     },
     "metadata": {},
     "output_type": "display_data"
    },
    {
     "name": "stdout",
     "output_type": "stream",
     "text": [
      "Reinitialize the regular ODE parameters based on estimated global latent time.\n"
     ]
    },
    {
     "data": {
      "application/vnd.jupyter.widget-view+json": {
       "model_id": "213f0c817e87473885d3d046cfcbc8e3",
       "version_major": 2,
       "version_minor": 0
      },
      "text/plain": [
       "  0%|          | 0/2000 [00:00<?, ?it/s]"
      ]
     },
     "metadata": {},
     "output_type": "display_data"
    },
    {
     "name": "stdout",
     "output_type": "stream",
     "text": [
      "Gaussian Prior.\n",
      "--------------------------- Train a VeloVAE ---------------------------\n",
      "*********        Creating Training/Validation Datasets        *********\n",
      "*********                      Finished.                      *********\n",
      "Warning: Gene HBA1 not found! Ignored.\n",
      "*********                 Creating optimizers                 *********\n",
      "*********                      Finished.                      *********\n",
      "*********                    Start training                   *********\n",
      "*********                      Stage  1                       *********\n",
      "Total Number of Iterations Per Epoch: 197, test iteration: 392\n",
      "*********       Stage 1: Early Stop Triggered at epoch 394.       *********\n",
      "*********                      Stage  2                       *********\n",
      "Cell-wise KNN Estimation.\n"
     ]
    },
    {
     "data": {
      "application/vnd.jupyter.widget-view+json": {
       "model_id": "c16362c165a14c3cbe65b941ecc0f47e",
       "version_major": 2,
       "version_minor": 0
      },
      "text/plain": [
       "  0%|          | 0/35877 [00:00<?, ?it/s]"
      ]
     },
     "metadata": {},
     "output_type": "display_data"
    },
    {
     "name": "stdout",
     "output_type": "stream",
     "text": [
      "Percentage of Invalid Sets: 0.070\n",
      "Average Set Size: 1302\n",
      "Finished. Actual Time:   0 h :  0 m : 50 s\n",
      "*********       Stage 2: Early Stop Triggered at epoch 490.       *********\n",
      "*********              Finished. Total Time =   0 h : 28 m : 18 s             *********\n",
      "Final: Train ELBO = 892.100,           Test ELBO = 892.500\n"
     ]
    }
   ],
   "source": [
    "figure_path = f'{figure_path_base}/VeloVAE'\n",
    "model_path = f'{model_path_base}/VeloVAE'\n",
    "\n",
    "torch.manual_seed(2022)\n",
    "np.random.seed(2022)\n",
    "vae = vv.VAE(adata, \n",
    "             tmax=20, \n",
    "             dim_z=5, \n",
    "             device='cuda:0')\n",
    "\n",
    "vae.train(adata, gene_plot=gene_plot, plot=False, figure_path=figure_path)\n",
    "vae.save_model(model_path, 'encoder', 'decoder')\n",
    "vae.save_anndata(adata, 'velovae', data_path, file_name=f'{dataset}.h5ad')"
   ]
  },
  {
   "cell_type": "markdown",
   "id": "5fa4df32",
   "metadata": {},
   "source": [
    "# Full VB"
   ]
  },
  {
   "cell_type": "code",
   "execution_count": 7,
   "id": "3a76c18b",
   "metadata": {},
   "outputs": [
    {
     "name": "stdout",
     "output_type": "stream",
     "text": [
      "Initialization using the steady-state and dynamical models.\n",
      "Estimating ODE parameters...\n"
     ]
    },
    {
     "data": {
      "application/vnd.jupyter.widget-view+json": {
       "model_id": "7e082e7419e843d48f0bc8744f32b7ec",
       "version_major": 2,
       "version_minor": 0
      },
      "text/plain": [
       "  0%|          | 0/2000 [00:00<?, ?it/s]"
      ]
     },
     "metadata": {},
     "output_type": "display_data"
    },
    {
     "name": "stdout",
     "output_type": "stream",
     "text": [
      "Estimating the variance...\n"
     ]
    },
    {
     "data": {
      "application/vnd.jupyter.widget-view+json": {
       "model_id": "4bfc6175b2be458ea77682f1c8041de8",
       "version_major": 2,
       "version_minor": 0
      },
      "text/plain": [
       "  0%|          | 0/2000 [00:00<?, ?it/s]"
      ]
     },
     "metadata": {},
     "output_type": "display_data"
    },
    {
     "name": "stdout",
     "output_type": "stream",
     "text": [
      "Reinitialize the regular ODE parameters based on estimated global latent time.\n"
     ]
    },
    {
     "data": {
      "application/vnd.jupyter.widget-view+json": {
       "model_id": "87b54bf6e1be4d04a0d62305e272cf16",
       "version_major": 2,
       "version_minor": 0
      },
      "text/plain": [
       "  0%|          | 0/2000 [00:00<?, ?it/s]"
      ]
     },
     "metadata": {},
     "output_type": "display_data"
    },
    {
     "name": "stdout",
     "output_type": "stream",
     "text": [
      "Gaussian Prior.\n",
      "--------------------------- Train a VeloVAE ---------------------------\n",
      "*********        Creating Training/Validation Datasets        *********\n",
      "*********                      Finished.                      *********\n",
      "Warning: Gene HBA1 not found! Ignored.\n",
      "*********                 Creating optimizers                 *********\n",
      "*********                      Finished.                      *********\n",
      "*********                    Start training                   *********\n",
      "*********                      Stage  1                       *********\n",
      "Total Number of Iterations Per Epoch: 197, test iteration: 392\n",
      "*********       Stage 1: Early Stop Triggered at epoch 239.       *********\n",
      "*********                      Stage  2                       *********\n",
      "Cell-wise KNN Estimation.\n"
     ]
    },
    {
     "data": {
      "application/vnd.jupyter.widget-view+json": {
       "model_id": "09a1e8064f6d4bd4833ca3b2c51b3744",
       "version_major": 2,
       "version_minor": 0
      },
      "text/plain": [
       "  0%|          | 0/35877 [00:00<?, ?it/s]"
      ]
     },
     "metadata": {},
     "output_type": "display_data"
    },
    {
     "name": "stdout",
     "output_type": "stream",
     "text": [
      "Percentage of Invalid Sets: 0.059\n",
      "Average Set Size: 1068\n",
      "Finished. Actual Time:   0 h :  0 m : 47 s\n",
      "*********       Stage 2: Early Stop Triggered at epoch 313.       *********\n",
      "*********              Finished. Total Time =   0 h : 23 m :  0 s             *********\n",
      "Final: Train ELBO = 860.076,           Test ELBO = 857.640\n"
     ]
    }
   ],
   "source": [
    "figure_path = f'{figure_path_base}/FullVB'\n",
    "model_path = f'{model_path_base}/FullVB'\n",
    "\n",
    "torch.manual_seed(2022)\n",
    "np.random.seed(2022)\n",
    "full_vb = vv.VAEFullVB(adata, \n",
    "                      tmax=20, \n",
    "                      dim_z=5, \n",
    "                      device='cuda:0')\n",
    "\n",
    "full_vb.train(adata, plot=False, gene_plot=gene_plot, figure_path=figure_path)\n",
    "\n",
    "full_vb.save_model(model_path, 'encoder', 'decoder')\n",
    "full_vb.save_anndata(adata, 'fullvb', data_path, file_name=f'{dataset}.h5ad')"
   ]
  },
  {
   "cell_type": "markdown",
   "id": "fa7f2986",
   "metadata": {},
   "source": [
    "# Branching ODE"
   ]
  },
  {
   "cell_type": "code",
   "execution_count": 8,
   "id": "e80238ec",
   "metadata": {},
   "outputs": [
    {
     "name": "stdout",
     "output_type": "stream",
     "text": [
      "Graph Partition\n",
      "Number of partitions:  2\n",
      "Computing type-to-type transition probability\n",
      "Obtaining the MST in each partition\n",
      "Initialization using type-specific dynamical model.\n",
      "Estimating ODE parameters...\n"
     ]
    },
    {
     "data": {
      "application/vnd.jupyter.widget-view+json": {
       "model_id": "684dd32988774a7e8e0d721619afb7ed",
       "version_major": 2,
       "version_minor": 0
      },
      "text/plain": [
       "  0%|          | 0/2000 [00:00<?, ?it/s]"
      ]
     },
     "metadata": {},
     "output_type": "display_data"
    },
    {
     "name": "stdout",
     "output_type": "stream",
     "text": [
      "Estimating the variance...\n"
     ]
    },
    {
     "data": {
      "application/vnd.jupyter.widget-view+json": {
       "model_id": "d95327a5d85841f889ca04424cfdb8d5",
       "version_major": 2,
       "version_minor": 0
      },
      "text/plain": [
       "  0%|          | 0/2000 [00:00<?, ?it/s]"
      ]
     },
     "metadata": {},
     "output_type": "display_data"
    },
    {
     "name": "stdout",
     "output_type": "stream",
     "text": [
      "                 Early Erythroid  Late Erythroid  MEMP  Mid  Erythroid\n",
      "Early Erythroid              0.0             0.0   0.0             1.0\n",
      "Late Erythroid               0.0             1.0   0.0             0.0\n",
      "MEMP                         0.0             0.0   0.0             1.0\n",
      "Mid  Erythroid               0.0             1.0   0.0             0.0\n",
      "------------------------ Train a Branching ODE ------------------------\n",
      "                 Early Erythroid  Late Erythroid  MEMP  Mid  Erythroid\n",
      "Early Erythroid              0.0             0.0   0.0             1.0\n",
      "Late Erythroid               0.0             1.0   0.0             0.0\n",
      "MEMP                         0.0             0.0   0.0             1.0\n",
      "Mid  Erythroid               0.0             1.0   0.0             0.0\n",
      "*********        Creating Training/Validation Datasets        *********\n",
      "*********                      Finished.                      *********\n",
      "Warning: Gene HBA1 not found! Ignored.\n",
      "*********                 Creating optimizers                 *********\n",
      "*********                      Finished.                      *********\n",
      "*********                    Start training                   *********\n",
      "Total Number of Iterations Per Epoch: 197, test iteration: 392\n",
      "*********           Early Stop Triggered at epoch 92.            *********\n",
      "*********              Finished. Total Time =   0 h : 30 m : 18 s             *********\n"
     ]
    }
   ],
   "source": [
    "figure_path = f'{figure_path_base}/BrODE'\n",
    "model_path = f'{model_path_base}/BrODE'\n",
    "\n",
    "torch.manual_seed(2022)\n",
    "np.random.seed(2022)\n",
    "brode = vv.BrODE(adata, 'clusters', 'fullvb_time', 'fullvb_z')\n",
    "\n",
    "brode.print_weight()\n",
    "\n",
    "brode.train(adata, 'fullvb_time', 'clusters', plot=False, gene_plot=gene_plot, figure_path=figure_path)\n",
    "\n",
    "brode.save_model(model_path, 'brode')\n",
    "brode.save_anndata(adata, 'brode', data_path, file_name=f'{dataset}.h5ad')"
   ]
  },
  {
   "cell_type": "markdown",
   "id": "6df2505c",
   "metadata": {},
   "source": [
    "# Evaluation"
   ]
  },
  {
   "cell_type": "code",
   "execution_count": null,
   "id": "887d0e53",
   "metadata": {},
   "outputs": [],
   "source": [
    "cluster_edges = [('MEMP', 'Early Erythroid'), \n",
    "                 ('Early Erythroid', 'Mid  Erythroid'), \n",
    "                 ('Mid  Erythroid', 'Late Erythroid')]\n",
    "vv.post_analysis(adata,\n",
    "                 'eval',\n",
    "                 ['Vanilla VAE','VeloVAE','FullVB','BrODE'],\n",
    "                 ['vanilla','velovae','fullvb','brode'],\n",
    "                 compute_metrics=True,\n",
    "                 genes=gene_plot,\n",
    "                 grid_size=(1,4),\n",
    "                 plot_type=['all'],\n",
    "                 save_path=data_path,\n",
    "                 cluster_edges=cluster_edges)"
   ]
  }
 ],
 "metadata": {
  "kernelspec": {
   "display_name": "Python 3",
   "language": "python",
   "name": "python3"
  },
  "language_info": {
   "codemirror_mode": {
    "name": "ipython",
    "version": 3
   },
   "file_extension": ".py",
   "mimetype": "text/x-python",
   "name": "python",
   "nbconvert_exporter": "python",
   "pygments_lexer": "ipython3",
   "version": "3.9.7"
  }
 },
 "nbformat": 4,
 "nbformat_minor": 5
}
