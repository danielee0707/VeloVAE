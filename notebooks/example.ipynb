{
 "cells": [
  {
   "cell_type": "code",
   "execution_count": 2,
   "id": "a5ea491c",
   "metadata": {},
   "outputs": [],
   "source": [
    "import anndata\n",
    "import numpy as np\n",
    "import scvelo as scv\n",
    "import sys\n",
    "import torch\n",
    "\n",
    "sys.path.append('../')\n",
    "import velovae as vv"
   ]
  },
  {
   "cell_type": "markdown",
   "id": "04f80b4a",
   "metadata": {},
   "source": [
    "# 1. Train a Vanilla VAE\n",
    "## Load the input AnnData Object"
   ]
  },
  {
   "cell_type": "code",
   "execution_count": 4,
   "id": "19f5f2a5",
   "metadata": {},
   "outputs": [],
   "source": [
    "filename = '../data/Pancreas/pancreas.h5ad'\n",
    "adata = anndata.read_h5ad(filename)"
   ]
  },
  {
   "cell_type": "markdown",
   "id": "2a64e4fb",
   "metadata": {},
   "source": [
    "## Preparation Work"
   ]
  },
  {
   "cell_type": "code",
   "execution_count": 5,
   "id": "f5da5bc7",
   "metadata": {},
   "outputs": [
    {
     "name": "stdout",
     "output_type": "stream",
     "text": [
      "Filtered out 22645 genes that are detected 50 counts (shared).\n",
      "Normalized count data: X, spliced, unspliced.\n",
      "Exctracted 2000 highly variable genes.\n",
      "Logarithmized X.\n",
      "computing neighbors\n",
      "    finished (0:00:03) --> added \n",
      "    'distances' and 'connectivities', weighted adjacency matrices (adata.obsp)\n",
      "computing moments based on connectivities\n",
      "    finished (0:00:00) --> added \n",
      "    'Ms' and 'Mu', moments of un/spliced abundances (adata.layers)\n"
     ]
    }
   ],
   "source": [
    "Ngene = 2000\n",
    "vv.preprocess(adata, 2000)\n",
    "\n",
    "figure_path = '../figures/Pancreas/Default'\n",
    "model_path = '../checkpoints/Pancreas/Default'\n",
    "data_path = '../data/Pancreas/Default'"
   ]
  },
  {
   "cell_type": "markdown",
   "id": "d937c426",
   "metadata": {},
   "source": [
    "## Train the model"
   ]
  },
  {
   "cell_type": "code",
   "execution_count": null,
   "id": "ef21801c",
   "metadata": {},
   "outputs": [],
   "source": [
    "gene_plot = ['Pcsk2','Dcdc2a','Gng12','Cpe','Ppp3ca'] #some marker genes\n",
    "config_vae = {\n",
    "    'num_epochs':800, \n",
    "    'test_epoch':50, \n",
    "    'save_epoch':50, \n",
    "    'learning_rate':2e-4, \n",
    "    'learning_rate_ode':2e-4, \n",
    "    'lambda':1e-3, \n",
    "    'reg_t':2.0, \n",
    "    'batch_size':128\n",
    "}\n",
    "\n",
    "model = vv.VanillaVAE(adata, 20, hidden_size=(500, 250), tprior=None, device='gpu')\n",
    "model.train(adata, config=config_vae, gene_plot=gene_plot, figure_path=figure_path)"
   ]
  },
  {
   "cell_type": "markdown",
   "id": "187bc7ce",
   "metadata": {},
   "source": [
    "## Save the model and AnnData with learned ODE parameters"
   ]
  },
  {
   "cell_type": "code",
   "execution_count": null,
   "id": "957dc1ab",
   "metadata": {},
   "outputs": [],
   "source": [
    "model.saveModel(model_path)\n",
    "model.saveAnnData(adata, 'vanilla', data_path, file_name='output.h5ad')"
   ]
  },
  {
   "cell_type": "markdown",
   "id": "589a83f1",
   "metadata": {},
   "source": [
    "## Post-Analysis"
   ]
  },
  {
   "cell_type": "code",
   "execution_count": null,
   "id": "685112b0",
   "metadata": {},
   "outputs": [],
   "source": [
    "adata = anndata.read_h5ad('../data/Pancreas/output.h5ad')\n",
    "print(adata.var.keys())\n",
    "vv.postAnalysis(adata, methods=['vanilla','scvelo'], keys=['vanilla','fit'], genes=['Cpe'], plot_type=['time','signal'])"
   ]
  },
  {
   "cell_type": "code",
   "execution_count": null,
   "id": "fd18875a",
   "metadata": {},
   "outputs": [],
   "source": []
  }
 ],
 "metadata": {
  "kernelspec": {
   "display_name": "Python 3",
   "language": "python",
   "name": "python3"
  },
  "language_info": {
   "codemirror_mode": {
    "name": "ipython",
    "version": 3
   },
   "file_extension": ".py",
   "mimetype": "text/x-python",
   "name": "python",
   "nbconvert_exporter": "python",
   "pygments_lexer": "ipython3",
   "version": "3.6.5"
  }
 },
 "nbformat": 4,
 "nbformat_minor": 5
}
