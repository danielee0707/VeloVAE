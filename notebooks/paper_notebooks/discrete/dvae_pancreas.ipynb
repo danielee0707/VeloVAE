{
 "cells": [
  {
   "cell_type": "code",
   "execution_count": 1,
   "id": "50cc29d2",
   "metadata": {},
   "outputs": [],
   "source": [
    "import anndata\n",
    "import numpy as np\n",
    "import sys\n",
    "import torch\n",
    "sys.path.append('../../../')\n",
    "import velovae as vv"
   ]
  },
  {
   "cell_type": "code",
   "execution_count": 2,
   "id": "a668be50",
   "metadata": {},
   "outputs": [],
   "source": [
    "dataset = 'Pancreas'\n",
    "adata = anndata.read_h5ad(f'data/{dataset}_pp.h5ad')"
   ]
  },
  {
   "cell_type": "code",
   "execution_count": null,
   "id": "1f718ae1",
   "metadata": {},
   "outputs": [],
   "source": [
    "#uncomment the next line if data is not preprocessed\n",
    "#vv.preprocess(adata, n_gene=2000, min_shared_counts=20)"
   ]
  },
  {
   "cell_type": "code",
   "execution_count": 3,
   "id": "f2de2483",
   "metadata": {},
   "outputs": [],
   "source": [
    "model_path_base = f'checkpoints/{dataset}'\n",
    "figure_path_base = f'figures/{dataset}'\n",
    "data_path = f'data/velovae/discrete/{dataset}'\n",
    "gene_plot = ['Cpe','Gng12', 'Ppp3ca', 'Smoc1']"
   ]
  },
  {
   "cell_type": "markdown",
   "id": "9f47dc8d",
   "metadata": {},
   "source": [
    "# Discrete VAE"
   ]
  },
  {
   "cell_type": "code",
   "execution_count": 4,
   "id": "e75d3368",
   "metadata": {},
   "outputs": [
    {
     "name": "stdout",
     "output_type": "stream",
     "text": [
      "Detecting zero scaling factors: 0, 0\n",
      "Random Initialization.\n",
      "Gaussian Prior.\n",
      "Library scale (U): Max=4.93, Min=0.20, Mean=0.98\n",
      "Library scale (S): Max=2.78, Min=0.44, Mean=1.02\n",
      "--------------------------- Train a VeloVAE ---------------------------\n",
      "*********        Creating Training/Validation Datasets        *********\n",
      "*********                      Finished.                      *********\n",
      "*********                 Creating optimizers                 *********\n",
      "*********                      Finished.                      *********\n",
      "*********                    Start training                   *********\n",
      "*********                      Stage  1                       *********\n",
      "Total Number of Iterations Per Epoch: 21, test iteration: 40\n",
      "*********       Stage 1: Early Stop Triggered at epoch 595.       *********\n",
      "*********                      Stage  2                       *********\n"
     ]
    },
    {
     "data": {
      "application/vnd.jupyter.widget-view+json": {
       "model_id": "97ab049d37754b809bf12317c1fab3ea",
       "version_major": 2,
       "version_minor": 0
      },
      "text/plain": [
       "  0%|          | 0/3696 [00:00<?, ?it/s]"
      ]
     },
     "metadata": {},
     "output_type": "display_data"
    },
    {
     "name": "stdout",
     "output_type": "stream",
     "text": [
      "Percentage of Invalid Sets: 0.007\n",
      "Average Set Size: 103\n",
      "*********       Stage 2: Early Stop Triggered at epoch 843.       *********\n",
      "*********              Finished. Total Time =   0 h :  3 m : 55 s             *********\n",
      "Final: Train ELBO = -2280.876,           Test ELBO = -2367.377\n",
      "       Training MSE = 18.314, Test MSE = 17.543\n"
     ]
    }
   ],
   "source": [
    "figure_path = f'{figure_path_base}/DVAE'\n",
    "model_path = f'{model_path_base}/DVAE'\n",
    "\n",
    "torch.manual_seed(2022)\n",
    "np.random.seed(2022)\n",
    "\n",
    "dvae = vv.model.DVAE(adata, \n",
    "                     tmax=20, \n",
    "                     dim_z=5,\n",
    "                     init_method='random',\n",
    "                     device='cuda:0')\n",
    "\n",
    "dvae.train(adata, plot=False, gene_plot=gene_plot, figure_path=figure_path)\n",
    "\n",
    "dvae.save_model(model_path, 'encoder', 'decoder')\n",
    "dvae.save_anndata(adata, 'dvae', data_path, f'{dataset}.h5ad')"
   ]
  },
  {
   "cell_type": "markdown",
   "id": "7feda480",
   "metadata": {},
   "source": [
    "# Discrete Full VB"
   ]
  },
  {
   "cell_type": "code",
   "execution_count": 5,
   "id": "5b9a5510",
   "metadata": {},
   "outputs": [
    {
     "name": "stdout",
     "output_type": "stream",
     "text": [
      "Detecting zero scaling factors: 0, 0\n",
      "Random Initialization.\n",
      "Gaussian Prior.\n",
      "Library scale (U): Max=4.93, Min=0.20, Mean=0.98\n",
      "Library scale (S): Max=2.78, Min=0.44, Mean=1.02\n",
      "--------------------------- Train a VeloVAE ---------------------------\n",
      "*********        Creating Training/Validation Datasets        *********\n",
      "*********                      Finished.                      *********\n",
      "*********                 Creating optimizers                 *********\n",
      "*********                      Finished.                      *********\n",
      "*********                    Start training                   *********\n",
      "*********                      Stage  1                       *********\n",
      "Total Number of Iterations Per Epoch: 21, test iteration: 40\n",
      "*********       Stage 1: Early Stop Triggered at epoch 650.       *********\n",
      "*********                      Stage  2                       *********\n"
     ]
    },
    {
     "data": {
      "application/vnd.jupyter.widget-view+json": {
       "model_id": "a39146ee656543fc8597b62f8d16d1e9",
       "version_major": 2,
       "version_minor": 0
      },
      "text/plain": [
       "  0%|          | 0/3696 [00:00<?, ?it/s]"
      ]
     },
     "metadata": {},
     "output_type": "display_data"
    },
    {
     "name": "stdout",
     "output_type": "stream",
     "text": [
      "Percentage of Invalid Sets: 0.005\n",
      "Average Set Size: 113\n",
      "*********       Stage 2: Early Stop Triggered at epoch 1030.       *********\n",
      "*********              Finished. Total Time =   0 h :  5 m : 30 s             *********\n",
      "Final: Train ELBO = -2221.700,           Test ELBO = -2337.895\n",
      "       Training MSE = 11.245, Test MSE = 13.241\n"
     ]
    }
   ],
   "source": [
    "figure_path = f'{figure_path_base}/DFullVB'\n",
    "model_path = f'{model_path_base}/DFullVB'\n",
    "\n",
    "torch.manual_seed(2022)\n",
    "np.random.seed(2022)\n",
    "\n",
    "dvae = vv.model.DVAEFullVB(adata, \n",
    "                           tmax=20, \n",
    "                           dim_z=5, \n",
    "                           init_method='random',\n",
    "                           device='cuda:0')\n",
    "\n",
    "dvae.train(adata, plot=False, gene_plot=gene_plot, figure_path=figure_path, embed='umap')\n",
    "\n",
    "dvae.save_model(model_path, 'encoder', 'decoder')\n",
    "dvae.save_anndata(adata, 'dfullvb', data_path, f'{dataset}.h5ad')"
   ]
  },
  {
   "cell_type": "markdown",
   "id": "bae44261",
   "metadata": {},
   "source": [
    "# Evaluation"
   ]
  },
  {
   "cell_type": "code",
   "execution_count": null,
   "id": "371faa0a",
   "metadata": {},
   "outputs": [],
   "source": [
    "cluster_edges = [('Ngn3 high EP', 'Pre-endocrine'),\n",
    "                 ('Pre-endocrine', 'Delta'), \n",
    "                 ('Pre-endocrine', 'Beta'), \n",
    "                 ('Pre-endocrine','Epsilon'), \n",
    "                 ('Pre-endocrine','Alpha')]\n",
    "vv.post_analysis(adata,\n",
    "                 'eval',\n",
    "                 ['Discrete VeloVAE', 'Discrete FullVB'],\n",
    "                 ['dvae', 'dfullvb'],\n",
    "                 compute_metrics=True,\n",
    "                 genes=gene_plot,\n",
    "                 grid_size=(1,4),\n",
    "                 plot_type=['all'],\n",
    "                 save_path=data_path,\n",
    "                 cluster_edges=cluster_edges)"
   ]
  }
 ],
 "metadata": {
  "kernelspec": {
   "display_name": "Python 3",
   "language": "python",
   "name": "python3"
  },
  "language_info": {
   "codemirror_mode": {
    "name": "ipython",
    "version": 3
   },
   "file_extension": ".py",
   "mimetype": "text/x-python",
   "name": "python",
   "nbconvert_exporter": "python",
   "pygments_lexer": "ipython3",
   "version": "3.9.7"
  }
 },
 "nbformat": 4,
 "nbformat_minor": 5
}
