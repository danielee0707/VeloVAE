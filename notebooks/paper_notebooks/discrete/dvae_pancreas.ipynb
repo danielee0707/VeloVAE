{
 "cells": [
  {
   "cell_type": "code",
   "execution_count": 1,
   "id": "50cc29d2",
   "metadata": {},
   "outputs": [],
   "source": [
    "import anndata\n",
    "import numpy as np\n",
    "import sys\n",
    "import torch\n",
    "sys.path.append('../../../')\n",
    "import velovae as vv\n",
    "%load_ext autoreload\n",
    "%autoreload 2"
   ]
  },
  {
   "cell_type": "code",
   "execution_count": 2,
   "id": "a668be50",
   "metadata": {},
   "outputs": [],
   "source": [
    "dataset = 'Pancreas'\n",
    "root = \"/scratch/blaauw_root/blaauw1/gyichen\"\n",
    "adata = anndata.read_h5ad(f'{root}/data/{dataset}_pp.h5ad')"
   ]
  },
  {
   "cell_type": "code",
   "execution_count": null,
   "id": "1f718ae1",
   "metadata": {},
   "outputs": [],
   "source": [
    "#uncomment the next line if data is not preprocessed\n",
    "#vv.preprocess(adata, n_gene=2000, min_shared_counts=20)"
   ]
  },
  {
   "cell_type": "code",
   "execution_count": 11,
   "id": "f2de2483",
   "metadata": {},
   "outputs": [],
   "source": [
    "model_path_base = f'{root}/checkpoints/{dataset}'\n",
    "figure_path_base = f'{root}/figures/{dataset}'\n",
    "data_path = f'{root}/data/velovae/discrete/{dataset}'\n",
    "gene_plot = ['Cpe','Gng12', 'Ppp3ca', 'Smoc1']"
   ]
  },
  {
   "cell_type": "markdown",
   "id": "9f47dc8d",
   "metadata": {},
   "source": [
    "# Discrete VAE"
   ]
  },
  {
   "cell_type": "code",
   "execution_count": 14,
   "id": "e75d3368",
   "metadata": {},
   "outputs": [
    {
     "name": "stdout",
     "output_type": "stream",
     "text": [
      "Detecting zero scaling factors: 0, 0\n",
      "Estimating ODE parameters...\n"
     ]
    },
    {
     "data": {
      "application/vnd.jupyter.widget-view+json": {
       "model_id": "ff2fc16f20a448219051fd44ce414873",
       "version_major": 2,
       "version_minor": 0
      },
      "text/plain": [
       "  0%|          | 0/2000 [00:00<?, ?it/s]"
      ]
     },
     "metadata": {},
     "output_type": "display_data"
    },
    {
     "name": "stdout",
     "output_type": "stream",
     "text": [
      "Detected 901 velocity genes.\n",
      "Estimating the variance...\n"
     ]
    },
    {
     "data": {
      "application/vnd.jupyter.widget-view+json": {
       "model_id": "2eb08d6065d5466a9900beb569aa2479",
       "version_major": 2,
       "version_minor": 0
      },
      "text/plain": [
       "  0%|          | 0/2000 [00:00<?, ?it/s]"
      ]
     },
     "metadata": {},
     "output_type": "display_data"
    },
    {
     "name": "stdout",
     "output_type": "stream",
     "text": [
      "3 clusters detected based on gene co-expression.\n",
      "(0.55, 0.317384117041346), (0.45, 0.7672515333922927)\n",
      "(0.57, 0.8124603340211373), (0.43, 0.44375671501048647)\n",
      "(0.49, 0.34814455909332653), (0.51, 0.7329919503301096)\n",
      "KS-test result: [0. 0. 0.]\n",
      "Initial induction: 1164, repression: 836/2000\n",
      "Initialization using the steady-state and dynamical models.\n",
      "Reinitialize the regular ODE parameters based on estimated global latent time.\n"
     ]
    },
    {
     "data": {
      "application/vnd.jupyter.widget-view+json": {
       "model_id": "facfa72c53e84cb1b3282fe3cfa75f18",
       "version_major": 2,
       "version_minor": 0
      },
      "text/plain": [
       "  0%|          | 0/2000 [00:00<?, ?it/s]"
      ]
     },
     "metadata": {},
     "output_type": "display_data"
    },
    {
     "name": "stdout",
     "output_type": "stream",
     "text": [
      "Gaussian Prior.\n",
      "Learning Rate based on Data Sparsity: 0.0002\n",
      "--------------------------- Train a VeloVAE ---------------------------\n",
      "*********        Creating Training/Validation Datasets        *********\n",
      "*********                      Finished.                      *********\n",
      "*********                 Creating optimizers                 *********\n",
      "*********                      Finished.                      *********\n",
      "*********                    Start training                   *********\n",
      "*********                      Stage  1                       *********\n",
      "Total Number of Iterations Per Epoch: 21, test iteration: 40\n",
      "Epoch 1: Train ELBO = -16558.624,\tTest ELBO = -341116.199,\tTotal Time =   0 h :  0 m :  2 s\n",
      "Epoch 100: Train ELBO = -2470.851,\tTest ELBO = -2514.618,\tTotal Time =   0 h :  0 m : 40 s\n",
      "Epoch 200: Train ELBO = -2309.363,\tTest ELBO = -2321.609,\tTotal Time =   0 h :  1 m : 19 s\n",
      "*********       Stage 1: Early Stop Triggered at epoch 263.       *********\n",
      "*********                      Stage  2                       *********\n",
      "*********             Velocity Refinement Round 1              *********\n",
      "Cell-wise KNN Estimation.\n"
     ]
    },
    {
     "data": {
      "application/vnd.jupyter.widget-view+json": {
       "model_id": "e342616fea384849a5bfeefa5fcb119d",
       "version_major": 2,
       "version_minor": 0
      },
      "text/plain": [
       "  0%|          | 0/3696 [00:00<?, ?it/s]"
      ]
     },
     "metadata": {},
     "output_type": "display_data"
    },
    {
     "name": "stdout",
     "output_type": "stream",
     "text": [
      "Percentage of Invalid Sets: 0.042\n",
      "Average Set Size: 74\n",
      "Finished. Actual Time:   0 h :  0 m :  3 s\n",
      "Epoch 264: Train ELBO = -2237.968,\tTest ELBO = -2245.779,\tTotal Time =   0 h :  1 m : 49 s\n",
      "*********       Round 1: Early Stop Triggered at epoch 273.       *********\n",
      "*********             Velocity Refinement Round 2              *********\n",
      "Cell-wise KNN Estimation.\n"
     ]
    },
    {
     "data": {
      "application/vnd.jupyter.widget-view+json": {
       "model_id": "da2aba95881d4d44835ce2be5a352c3c",
       "version_major": 2,
       "version_minor": 0
      },
      "text/plain": [
       "  0%|          | 0/3696 [00:00<?, ?it/s]"
      ]
     },
     "metadata": {},
     "output_type": "display_data"
    },
    {
     "name": "stdout",
     "output_type": "stream",
     "text": [
      "Percentage of Invalid Sets: 0.042\n",
      "Average Set Size: 74\n",
      "Finished. Actual Time:   0 h :  0 m :  3 s\n",
      "Epoch 274: Train ELBO = -2228.584,\tTest ELBO = -2237.120,\tTotal Time =   0 h :  2 m :  2 s\n",
      "*********       Round 2: Early Stop Triggered at epoch 283.       *********\n",
      "Change in x0: 0.38489517396501943\n",
      "*********             Velocity Refinement Round 3              *********\n",
      "Cell-wise KNN Estimation.\n"
     ]
    },
    {
     "data": {
      "application/vnd.jupyter.widget-view+json": {
       "model_id": "93044a269ada4a9488ebcab3aecc4e1e",
       "version_major": 2,
       "version_minor": 0
      },
      "text/plain": [
       "  0%|          | 0/3696 [00:00<?, ?it/s]"
      ]
     },
     "metadata": {},
     "output_type": "display_data"
    },
    {
     "name": "stdout",
     "output_type": "stream",
     "text": [
      "Percentage of Invalid Sets: 0.042\n",
      "Average Set Size: 74\n",
      "Finished. Actual Time:   0 h :  0 m :  3 s\n",
      "Epoch 284: Train ELBO = -2224.787,\tTest ELBO = -2234.290,\tTotal Time =   0 h :  2 m : 11 s\n",
      "*********       Round 3: Early Stop Triggered at epoch 293.       *********\n",
      "Change in x0: 0.315938702647445\n",
      "*********             Velocity Refinement Round 4              *********\n",
      "Cell-wise KNN Estimation.\n"
     ]
    },
    {
     "data": {
      "application/vnd.jupyter.widget-view+json": {
       "model_id": "c80047ae1afd42c4b01726da3461ff84",
       "version_major": 2,
       "version_minor": 0
      },
      "text/plain": [
       "  0%|          | 0/3696 [00:00<?, ?it/s]"
      ]
     },
     "metadata": {},
     "output_type": "display_data"
    },
    {
     "name": "stdout",
     "output_type": "stream",
     "text": [
      "Percentage of Invalid Sets: 0.042\n",
      "Average Set Size: 74\n",
      "Finished. Actual Time:   0 h :  0 m :  3 s\n",
      "Epoch 294: Train ELBO = -2222.672,\tTest ELBO = -2232.684,\tTotal Time =   0 h :  2 m : 22 s\n",
      "Epoch 300: Train ELBO = -2222.340,\tTest ELBO = -2232.647,\tTotal Time =   0 h :  2 m : 27 s\n",
      "*********       Round 4: Early Stop Triggered at epoch 301.       *********\n",
      "Change in x0: 0.27639698035435406\n",
      "*********             Velocity Refinement Round 5              *********\n",
      "Cell-wise KNN Estimation.\n"
     ]
    },
    {
     "data": {
      "application/vnd.jupyter.widget-view+json": {
       "model_id": "07f6f388bb6046a6ac43dffb63102424",
       "version_major": 2,
       "version_minor": 0
      },
      "text/plain": [
       "  0%|          | 0/3696 [00:00<?, ?it/s]"
      ]
     },
     "metadata": {},
     "output_type": "display_data"
    },
    {
     "name": "stdout",
     "output_type": "stream",
     "text": [
      "Percentage of Invalid Sets: 0.042\n",
      "Average Set Size: 74\n",
      "Finished. Actual Time:   0 h :  0 m :  3 s\n",
      "Epoch 302: Train ELBO = -2221.688,\tTest ELBO = -2232.349,\tTotal Time =   0 h :  2 m : 34 s\n",
      "*********       Round 5: Early Stop Triggered at epoch 309.       *********\n",
      "Change in x0: 0.22680120419609776\n",
      "*********             Velocity Refinement Round 6              *********\n",
      "Cell-wise KNN Estimation.\n"
     ]
    },
    {
     "data": {
      "application/vnd.jupyter.widget-view+json": {
       "model_id": "ccbb837d366e42b68cd6d6d32819be9a",
       "version_major": 2,
       "version_minor": 0
      },
      "text/plain": [
       "  0%|          | 0/3696 [00:00<?, ?it/s]"
      ]
     },
     "metadata": {},
     "output_type": "display_data"
    },
    {
     "name": "stdout",
     "output_type": "stream",
     "text": [
      "Percentage of Invalid Sets: 0.042\n",
      "Average Set Size: 74\n",
      "Finished. Actual Time:   0 h :  0 m :  3 s\n",
      "Epoch 310: Train ELBO = -2221.517,\tTest ELBO = -2232.379,\tTotal Time =   0 h :  2 m : 44 s\n",
      "*********       Round 6: Early Stop Triggered at epoch 317.       *********\n",
      "Change in x0: 0.2186922495441062\n",
      "*********             Velocity Refinement Round 7              *********\n",
      "Cell-wise KNN Estimation.\n"
     ]
    },
    {
     "data": {
      "application/vnd.jupyter.widget-view+json": {
       "model_id": "c6619149eac54224b1d13b5092daaab6",
       "version_major": 2,
       "version_minor": 0
      },
      "text/plain": [
       "  0%|          | 0/3696 [00:00<?, ?it/s]"
      ]
     },
     "metadata": {},
     "output_type": "display_data"
    },
    {
     "name": "stdout",
     "output_type": "stream",
     "text": [
      "Percentage of Invalid Sets: 0.042\n",
      "Average Set Size: 74\n",
      "Finished. Actual Time:   0 h :  0 m :  3 s\n",
      "Epoch 318: Train ELBO = -2222.057,\tTest ELBO = -2233.209,\tTotal Time =   0 h :  2 m : 53 s\n",
      "*********       Round 7: Early Stop Triggered at epoch 325.       *********\n",
      "Change in x0: 0.2040761932818923\n",
      "*********             Velocity Refinement Round 8              *********\n",
      "Cell-wise KNN Estimation.\n"
     ]
    },
    {
     "data": {
      "application/vnd.jupyter.widget-view+json": {
       "model_id": "7d37a8dd35e84f4184a0b96627966dda",
       "version_major": 2,
       "version_minor": 0
      },
      "text/plain": [
       "  0%|          | 0/3696 [00:00<?, ?it/s]"
      ]
     },
     "metadata": {},
     "output_type": "display_data"
    },
    {
     "name": "stdout",
     "output_type": "stream",
     "text": [
      "Percentage of Invalid Sets: 0.042\n",
      "Average Set Size: 74\n",
      "Finished. Actual Time:   0 h :  0 m :  3 s\n",
      "Epoch 326: Train ELBO = -2224.373,\tTest ELBO = -2234.813,\tTotal Time =   0 h :  3 m :  2 s\n",
      "*********       Round 8: Early Stop Triggered at epoch 333.       *********\n",
      "Change in x0: 0.18499289283066028\n",
      "*********             Velocity Refinement Round 9              *********\n",
      "Cell-wise KNN Estimation.\n"
     ]
    },
    {
     "data": {
      "application/vnd.jupyter.widget-view+json": {
       "model_id": "0e5741bd47bf4382a771fb6606b30854",
       "version_major": 2,
       "version_minor": 0
      },
      "text/plain": [
       "  0%|          | 0/3696 [00:00<?, ?it/s]"
      ]
     },
     "metadata": {},
     "output_type": "display_data"
    },
    {
     "name": "stdout",
     "output_type": "stream",
     "text": [
      "Percentage of Invalid Sets: 0.042\n",
      "Average Set Size: 74\n",
      "Finished. Actual Time:   0 h :  0 m :  3 s\n",
      "Epoch 334: Train ELBO = -2228.965,\tTest ELBO = -2239.354,\tTotal Time =   0 h :  3 m : 12 s\n",
      "*********       Round 9: Early Stop Triggered at epoch 341.       *********\n",
      "Change in x0: 0.17616277835167077\n",
      "*********             Velocity Refinement Round 10              *********\n",
      "Cell-wise KNN Estimation.\n"
     ]
    },
    {
     "data": {
      "application/vnd.jupyter.widget-view+json": {
       "model_id": "a937cec847c340c5a84a32694f0723a8",
       "version_major": 2,
       "version_minor": 0
      },
      "text/plain": [
       "  0%|          | 0/3696 [00:00<?, ?it/s]"
      ]
     },
     "metadata": {},
     "output_type": "display_data"
    },
    {
     "name": "stdout",
     "output_type": "stream",
     "text": [
      "Percentage of Invalid Sets: 0.042\n",
      "Average Set Size: 74\n",
      "Finished. Actual Time:   0 h :  0 m :  3 s\n",
      "Epoch 342: Train ELBO = -2234.871,\tTest ELBO = -2245.822,\tTotal Time =   0 h :  3 m : 21 s\n",
      "*********       Round 10: Early Stop Triggered at epoch 349.       *********\n",
      "Change in x0: 0.15605382203370985\n",
      "*********             Velocity Refinement Round 11              *********\n",
      "Cell-wise KNN Estimation.\n"
     ]
    },
    {
     "data": {
      "application/vnd.jupyter.widget-view+json": {
       "model_id": "d44ed7f44dea4eafa9b2a180085ff17d",
       "version_major": 2,
       "version_minor": 0
      },
      "text/plain": [
       "  0%|          | 0/3696 [00:00<?, ?it/s]"
      ]
     },
     "metadata": {},
     "output_type": "display_data"
    },
    {
     "name": "stdout",
     "output_type": "stream",
     "text": [
      "Percentage of Invalid Sets: 0.042\n",
      "Average Set Size: 74\n",
      "Finished. Actual Time:   0 h :  0 m :  3 s\n",
      "Epoch 350: Train ELBO = -2240.472,\tTest ELBO = -2251.896,\tTotal Time =   0 h :  3 m : 30 s\n",
      "*********       Round 11: Early Stop Triggered at epoch 357.       *********\n",
      "Change in x0: 0.1402950142363906\n",
      "*********             Velocity Refinement Round 12              *********\n",
      "Cell-wise KNN Estimation.\n"
     ]
    },
    {
     "data": {
      "application/vnd.jupyter.widget-view+json": {
       "model_id": "06d4e4890c7e458ab3a17dc8d820930d",
       "version_major": 2,
       "version_minor": 0
      },
      "text/plain": [
       "  0%|          | 0/3696 [00:00<?, ?it/s]"
      ]
     },
     "metadata": {},
     "output_type": "display_data"
    },
    {
     "name": "stdout",
     "output_type": "stream",
     "text": [
      "Percentage of Invalid Sets: 0.042\n",
      "Average Set Size: 74\n",
      "Finished. Actual Time:   0 h :  0 m :  3 s\n",
      "Epoch 358: Train ELBO = -2245.267,\tTest ELBO = -2257.870,\tTotal Time =   0 h :  3 m : 40 s\n",
      "*********       Round 12: Early Stop Triggered at epoch 365.       *********\n",
      "Change in x0: 0.1259305790685975\n",
      "*********             Velocity Refinement Round 13              *********\n",
      "Cell-wise KNN Estimation.\n"
     ]
    },
    {
     "data": {
      "application/vnd.jupyter.widget-view+json": {
       "model_id": "42c2c86545df46ef9fb08350f9260850",
       "version_major": 2,
       "version_minor": 0
      },
      "text/plain": [
       "  0%|          | 0/3696 [00:00<?, ?it/s]"
      ]
     },
     "metadata": {},
     "output_type": "display_data"
    },
    {
     "name": "stdout",
     "output_type": "stream",
     "text": [
      "Percentage of Invalid Sets: 0.042\n",
      "Average Set Size: 74\n",
      "Finished. Actual Time:   0 h :  0 m :  3 s\n",
      "Epoch 366: Train ELBO = -2249.743,\tTest ELBO = -2262.894,\tTotal Time =   0 h :  3 m : 50 s\n",
      "*********       Round 13: Early Stop Triggered at epoch 373.       *********\n",
      "Change in x0: 0.11480654683666508\n",
      "*********             Velocity Refinement Round 14              *********\n",
      "Cell-wise KNN Estimation.\n"
     ]
    },
    {
     "data": {
      "application/vnd.jupyter.widget-view+json": {
       "model_id": "088c1c5fb0c84cc980bc573c466814d5",
       "version_major": 2,
       "version_minor": 0
      },
      "text/plain": [
       "  0%|          | 0/3696 [00:00<?, ?it/s]"
      ]
     },
     "metadata": {},
     "output_type": "display_data"
    },
    {
     "name": "stdout",
     "output_type": "stream",
     "text": [
      "Percentage of Invalid Sets: 0.042\n",
      "Average Set Size: 74\n",
      "Finished. Actual Time:   0 h :  0 m :  3 s\n",
      "Epoch 374: Train ELBO = -2253.726,\tTest ELBO = -2266.144,\tTotal Time =   0 h :  3 m : 59 s\n",
      "*********       Round 14: Early Stop Triggered at epoch 381.       *********\n",
      "Change in x0: 0.1044711658555112\n",
      "*********             Velocity Refinement Round 15              *********\n",
      "Cell-wise KNN Estimation.\n"
     ]
    },
    {
     "data": {
      "application/vnd.jupyter.widget-view+json": {
       "model_id": "01500789f38b4b9892105d16cbed2cab",
       "version_major": 2,
       "version_minor": 0
      },
      "text/plain": [
       "  0%|          | 0/3696 [00:00<?, ?it/s]"
      ]
     },
     "metadata": {},
     "output_type": "display_data"
    },
    {
     "name": "stdout",
     "output_type": "stream",
     "text": [
      "Percentage of Invalid Sets: 0.042\n",
      "Average Set Size: 74\n",
      "Finished. Actual Time:   0 h :  0 m :  3 s\n",
      "Epoch 382: Train ELBO = -2256.522,\tTest ELBO = -2268.609,\tTotal Time =   0 h :  4 m :  8 s\n",
      "*********       Round 15: Early Stop Triggered at epoch 389.       *********\n",
      "Change in x0: 0.09828559170869353\n",
      "*********             Velocity Refinement Round 16              *********\n",
      "Cell-wise KNN Estimation.\n"
     ]
    },
    {
     "data": {
      "application/vnd.jupyter.widget-view+json": {
       "model_id": "9fda019c0ae344978805dd3564c42020",
       "version_major": 2,
       "version_minor": 0
      },
      "text/plain": [
       "  0%|          | 0/3696 [00:00<?, ?it/s]"
      ]
     },
     "metadata": {},
     "output_type": "display_data"
    },
    {
     "name": "stdout",
     "output_type": "stream",
     "text": [
      "Percentage of Invalid Sets: 0.042\n",
      "Average Set Size: 74\n",
      "Finished. Actual Time:   0 h :  0 m :  3 s\n",
      "Epoch 390: Train ELBO = -2258.518,\tTest ELBO = -2269.739,\tTotal Time =   0 h :  4 m : 17 s\n",
      "*********       Round 16: Early Stop Triggered at epoch 397.       *********\n",
      "Change in x0: 0.09331137946605486\n",
      "*********             Velocity Refinement Round 17              *********\n",
      "Cell-wise KNN Estimation.\n"
     ]
    },
    {
     "data": {
      "application/vnd.jupyter.widget-view+json": {
       "model_id": "70d0fd5dc293431480b670707be6d562",
       "version_major": 2,
       "version_minor": 0
      },
      "text/plain": [
       "  0%|          | 0/3696 [00:00<?, ?it/s]"
      ]
     },
     "metadata": {},
     "output_type": "display_data"
    },
    {
     "name": "stdout",
     "output_type": "stream",
     "text": [
      "Percentage of Invalid Sets: 0.042\n",
      "Average Set Size: 74\n",
      "Finished. Actual Time:   0 h :  0 m :  3 s\n",
      "Epoch 398: Train ELBO = -2259.728,\tTest ELBO = -2270.283,\tTotal Time =   0 h :  4 m : 28 s\n",
      "Epoch 400: Train ELBO = -2259.727,\tTest ELBO = -2270.324,\tTotal Time =   0 h :  4 m : 31 s\n",
      "*********       Round 17: Early Stop Triggered at epoch 405.       *********\n",
      "Change in x0: 0.09109413211240984\n",
      "*********             Velocity Refinement Round 18              *********\n",
      "Cell-wise KNN Estimation.\n"
     ]
    },
    {
     "data": {
      "application/vnd.jupyter.widget-view+json": {
       "model_id": "6e9b76bad2ae4e80960f3ad30004af5c",
       "version_major": 2,
       "version_minor": 0
      },
      "text/plain": [
       "  0%|          | 0/3696 [00:00<?, ?it/s]"
      ]
     },
     "metadata": {},
     "output_type": "display_data"
    },
    {
     "name": "stdout",
     "output_type": "stream",
     "text": [
      "Percentage of Invalid Sets: 0.042\n",
      "Average Set Size: 74\n",
      "Finished. Actual Time:   0 h :  0 m :  3 s\n",
      "Epoch 406: Train ELBO = -2260.368,\tTest ELBO = -2270.541,\tTotal Time =   0 h :  4 m : 40 s\n",
      "*********       Round 18: Early Stop Triggered at epoch 413.       *********\n",
      "Change in x0: 0.08856342829504152\n",
      "*********             Velocity Refinement Round 19              *********\n",
      "Cell-wise KNN Estimation.\n"
     ]
    },
    {
     "data": {
      "application/vnd.jupyter.widget-view+json": {
       "model_id": "16e6c85b635e414791449e4352203bf6",
       "version_major": 2,
       "version_minor": 0
      },
      "text/plain": [
       "  0%|          | 0/3696 [00:00<?, ?it/s]"
      ]
     },
     "metadata": {},
     "output_type": "display_data"
    },
    {
     "name": "stdout",
     "output_type": "stream",
     "text": [
      "Percentage of Invalid Sets: 0.042\n",
      "Average Set Size: 74\n",
      "Finished. Actual Time:   0 h :  0 m :  3 s\n",
      "Epoch 414: Train ELBO = -2260.480,\tTest ELBO = -2270.092,\tTotal Time =   0 h :  4 m : 49 s\n",
      "*********       Round 19: Early Stop Triggered at epoch 421.       *********\n",
      "Change in x0: 0.08713540221818414\n",
      "*********             Velocity Refinement Round 20              *********\n",
      "Cell-wise KNN Estimation.\n"
     ]
    },
    {
     "data": {
      "application/vnd.jupyter.widget-view+json": {
       "model_id": "16b480a5ed7c420aa2078fd1c48059be",
       "version_major": 2,
       "version_minor": 0
      },
      "text/plain": [
       "  0%|          | 0/3696 [00:00<?, ?it/s]"
      ]
     },
     "metadata": {},
     "output_type": "display_data"
    },
    {
     "name": "stdout",
     "output_type": "stream",
     "text": [
      "Percentage of Invalid Sets: 0.042\n",
      "Average Set Size: 74\n",
      "Finished. Actual Time:   0 h :  0 m :  3 s\n",
      "Epoch 422: Train ELBO = -2260.191,\tTest ELBO = -2269.231,\tTotal Time =   0 h :  4 m : 58 s\n",
      "*********       Round 20: Early Stop Triggered at epoch 429.       *********\n",
      "Change in x0: 0.08597631314530559\n",
      "*********              Finished. Total Time =   0 h :  5 m : 31 s             *********\n",
      "Final: Train ELBO = -2259.909,\tTest ELBO = -2268.991\n"
     ]
    }
   ],
   "source": [
    "figure_path = f'{figure_path_base}/discrete'\n",
    "model_path = f'{model_path_base}/discrete'\n",
    "\n",
    "torch.manual_seed(2022)\n",
    "np.random.seed(2022)\n",
    "\n",
    "dvae = vv.model.VAE(adata, \n",
    "                    tmax=20, \n",
    "                    dim_z=5,\n",
    "                    init_method='steady',\n",
    "                    device='cuda:0',\n",
    "                    discrete=True)\n",
    "\n",
    "dvae.train(adata, plot=True, gene_plot=gene_plot, figure_path=figure_path)\n",
    "\n",
    "dvae.save_model(model_path, 'encoder', 'decoder')\n",
    "dvae.save_anndata(adata, 'dvae', data_path, f'{dataset}.h5ad')"
   ]
  },
  {
   "cell_type": "markdown",
   "id": "7feda480",
   "metadata": {},
   "source": [
    "# Discrete Full VB"
   ]
  },
  {
   "cell_type": "code",
   "execution_count": 16,
   "id": "5b9a5510",
   "metadata": {},
   "outputs": [
    {
     "name": "stdout",
     "output_type": "stream",
     "text": [
      "Detecting zero scaling factors: 0, 0\n",
      "Estimating ODE parameters...\n"
     ]
    },
    {
     "data": {
      "application/vnd.jupyter.widget-view+json": {
       "model_id": "f5b3e5540cd941e9a701e42ab1486cc8",
       "version_major": 2,
       "version_minor": 0
      },
      "text/plain": [
       "  0%|          | 0/2000 [00:00<?, ?it/s]"
      ]
     },
     "metadata": {},
     "output_type": "display_data"
    },
    {
     "name": "stdout",
     "output_type": "stream",
     "text": [
      "Detected 901 velocity genes.\n",
      "Estimating the variance...\n"
     ]
    },
    {
     "data": {
      "application/vnd.jupyter.widget-view+json": {
       "model_id": "0ae212afeba541f0a88e25470792738e",
       "version_major": 2,
       "version_minor": 0
      },
      "text/plain": [
       "  0%|          | 0/2000 [00:00<?, ?it/s]"
      ]
     },
     "metadata": {},
     "output_type": "display_data"
    },
    {
     "name": "stdout",
     "output_type": "stream",
     "text": [
      "3 clusters detected based on gene co-expression.\n",
      "(0.55, 0.317384117041346), (0.45, 0.7672515333922927)\n",
      "(0.57, 0.8124603340211373), (0.43, 0.44375671501048647)\n",
      "(0.49, 0.34814455909332653), (0.51, 0.7329919503301096)\n",
      "KS-test result: [0. 0. 0.]\n",
      "Initial induction: 1164, repression: 836/2000\n",
      "Initialization using the steady-state and dynamical models.\n",
      "Reinitialize the regular ODE parameters based on estimated global latent time.\n"
     ]
    },
    {
     "data": {
      "application/vnd.jupyter.widget-view+json": {
       "model_id": "afb8815b740a425db5b21fc08c08cd9e",
       "version_major": 2,
       "version_minor": 0
      },
      "text/plain": [
       "  0%|          | 0/2000 [00:00<?, ?it/s]"
      ]
     },
     "metadata": {},
     "output_type": "display_data"
    },
    {
     "name": "stdout",
     "output_type": "stream",
     "text": [
      "Gaussian Prior.\n",
      "Learning Rate based on Data Sparsity: 0.0002\n",
      "--------------------------- Train a VeloVAE ---------------------------\n",
      "*********        Creating Training/Validation Datasets        *********\n",
      "*********                      Finished.                      *********\n",
      "*********                 Creating optimizers                 *********\n",
      "*********                      Finished.                      *********\n",
      "*********                    Start training                   *********\n",
      "*********                      Stage  1                       *********\n",
      "Total Number of Iterations Per Epoch: 21, test iteration: 40\n",
      "*********       Stage 1: Early Stop Triggered at epoch 427.       *********\n",
      "*********                      Stage  2                       *********\n",
      "*********             Velocity Refinement Round 1              *********\n",
      "Cell-wise KNN Estimation.\n"
     ]
    },
    {
     "data": {
      "application/vnd.jupyter.widget-view+json": {
       "model_id": "16b2b5ea1135418fad751e9a4a05f4eb",
       "version_major": 2,
       "version_minor": 0
      },
      "text/plain": [
       "  0%|          | 0/3696 [00:00<?, ?it/s]"
      ]
     },
     "metadata": {},
     "output_type": "display_data"
    },
    {
     "name": "stdout",
     "output_type": "stream",
     "text": [
      "Percentage of Invalid Sets: 0.040\n",
      "Average Set Size: 75\n",
      "Finished. Actual Time:   0 h :  0 m :  3 s\n",
      "*********       Round 1: Early Stop Triggered at epoch 445.       *********\n",
      "*********             Velocity Refinement Round 2              *********\n",
      "Cell-wise KNN Estimation.\n"
     ]
    },
    {
     "data": {
      "application/vnd.jupyter.widget-view+json": {
       "model_id": "d269d3d58ec5443abceb9ec12c969635",
       "version_major": 2,
       "version_minor": 0
      },
      "text/plain": [
       "  0%|          | 0/3696 [00:00<?, ?it/s]"
      ]
     },
     "metadata": {},
     "output_type": "display_data"
    },
    {
     "name": "stdout",
     "output_type": "stream",
     "text": [
      "Percentage of Invalid Sets: 0.040\n",
      "Average Set Size: 75\n",
      "Finished. Actual Time:   0 h :  0 m :  3 s\n",
      "*********       Round 2: Early Stop Triggered at epoch 457.       *********\n",
      "Change in x0: 0.29970368936023534\n",
      "*********             Velocity Refinement Round 3              *********\n",
      "Cell-wise KNN Estimation.\n"
     ]
    },
    {
     "data": {
      "application/vnd.jupyter.widget-view+json": {
       "model_id": "625367b879c647569095a47b0abb89ea",
       "version_major": 2,
       "version_minor": 0
      },
      "text/plain": [
       "  0%|          | 0/3696 [00:00<?, ?it/s]"
      ]
     },
     "metadata": {},
     "output_type": "display_data"
    },
    {
     "name": "stdout",
     "output_type": "stream",
     "text": [
      "Percentage of Invalid Sets: 0.040\n",
      "Average Set Size: 75\n",
      "Finished. Actual Time:   0 h :  0 m :  3 s\n",
      "*********       Round 3: Early Stop Triggered at epoch 465.       *********\n",
      "Change in x0: 0.27361055114193483\n",
      "*********             Velocity Refinement Round 4              *********\n",
      "Cell-wise KNN Estimation.\n"
     ]
    },
    {
     "data": {
      "application/vnd.jupyter.widget-view+json": {
       "model_id": "aabdcc8343a64d3ea33876cd2d761145",
       "version_major": 2,
       "version_minor": 0
      },
      "text/plain": [
       "  0%|          | 0/3696 [00:00<?, ?it/s]"
      ]
     },
     "metadata": {},
     "output_type": "display_data"
    },
    {
     "name": "stdout",
     "output_type": "stream",
     "text": [
      "Percentage of Invalid Sets: 0.040\n",
      "Average Set Size: 75\n",
      "Finished. Actual Time:   0 h :  0 m :  3 s\n",
      "*********       Round 4: Early Stop Triggered at epoch 473.       *********\n",
      "Change in x0: 0.2718380384855791\n",
      "*********             Velocity Refinement Round 5              *********\n",
      "Cell-wise KNN Estimation.\n"
     ]
    },
    {
     "data": {
      "application/vnd.jupyter.widget-view+json": {
       "model_id": "52a42907d84d4929b196758bfe4b470e",
       "version_major": 2,
       "version_minor": 0
      },
      "text/plain": [
       "  0%|          | 0/3696 [00:00<?, ?it/s]"
      ]
     },
     "metadata": {},
     "output_type": "display_data"
    },
    {
     "name": "stdout",
     "output_type": "stream",
     "text": [
      "Percentage of Invalid Sets: 0.040\n",
      "Average Set Size: 75\n",
      "Finished. Actual Time:   0 h :  0 m :  3 s\n",
      "*********       Round 5: Early Stop Triggered at epoch 481.       *********\n",
      "Change in x0: 0.2747597585927063\n",
      "*********             Velocity Refinement Round 6              *********\n",
      "Stage 2: Early Stop Triggered at round 5.\n",
      "*********              Finished. Total Time =   0 h :  3 m : 15 s             *********\n",
      "Final: Train ELBO = -2533.640,\tTest ELBO = -2571.121\n"
     ]
    }
   ],
   "source": [
    "figure_path = f'{figure_path_base}/discrete'\n",
    "model_path = f'{model_path_base}/discrete'\n",
    "\n",
    "torch.manual_seed(2022)\n",
    "np.random.seed(2022)\n",
    "\n",
    "dvae = vv.model.VAE(adata, \n",
    "                           tmax=20, \n",
    "                           dim_z=5, \n",
    "                           init_method='steady',\n",
    "                           device='cuda:0',\n",
    "                           discrete=True,\n",
    "                           full_vb=True)\n",
    "\n",
    "dvae.train(adata, plot=False, gene_plot=gene_plot, figure_path=figure_path, embed='umap')\n",
    "\n",
    "dvae.save_model(model_path, 'encoder', 'decoder')\n",
    "dvae.save_anndata(adata, 'dfullvb', data_path, f'{dataset}.h5ad')"
   ]
  },
  {
   "cell_type": "markdown",
   "id": "bae44261",
   "metadata": {},
   "source": [
    "# Evaluation"
   ]
  },
  {
   "cell_type": "code",
   "execution_count": 20,
   "id": "371faa0a",
   "metadata": {},
   "outputs": [
    {
     "name": "stdout",
     "output_type": "stream",
     "text": [
      "---   Plotting  Results   ---\n"
     ]
    }
   ],
   "source": [
    "cluster_edges = [('Ngn3 high EP', 'Pre-endocrine'),\n",
    "                 ('Pre-endocrine', 'Delta'), \n",
    "                 ('Pre-endocrine', 'Beta'), \n",
    "                 ('Pre-endocrine','Epsilon'), \n",
    "                 ('Pre-endocrine','Alpha')]\n",
    "vv.post_analysis(adata,\n",
    "                 'eval',\n",
    "                 ['Discrete VeloVAE', 'Discrete FullVB'],\n",
    "                 ['dvae', 'dfullvb'],\n",
    "                 compute_metrics=False,\n",
    "                 raw_count=True,\n",
    "                 genes=gene_plot,\n",
    "                 grid_size=(1,4),\n",
    "                 plot_type=['time', 'signal'],\n",
    "                 save_path=figure_path,\n",
    "                 cluster_edges=cluster_edges)"
   ]
  },
  {
   "cell_type": "code",
   "execution_count": null,
   "id": "7a42119f",
   "metadata": {},
   "outputs": [],
   "source": []
  }
 ],
 "metadata": {
  "kernelspec": {
   "display_name": "Python 3",
   "language": "python",
   "name": "python3"
  },
  "language_info": {
   "codemirror_mode": {
    "name": "ipython",
    "version": 3
   },
   "file_extension": ".py",
   "mimetype": "text/x-python",
   "name": "python",
   "nbconvert_exporter": "python",
   "pygments_lexer": "ipython3",
   "version": "3.9.7"
  }
 },
 "nbformat": 4,
 "nbformat_minor": 5
}
