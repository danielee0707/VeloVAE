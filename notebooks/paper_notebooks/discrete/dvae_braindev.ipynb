{
 "cells": [
  {
   "cell_type": "code",
   "execution_count": 3,
   "id": "0bc80261",
   "metadata": {},
   "outputs": [],
   "source": [
    "import anndata\n",
    "import numpy as np\n",
    "import sys\n",
    "import torch\n",
    "sys.path.append('../../../')\n",
    "import velovae as vv"
   ]
  },
  {
   "cell_type": "code",
   "execution_count": 4,
   "id": "d130b785",
   "metadata": {},
   "outputs": [],
   "source": [
    "dataset = 'Braindev'\n",
    "adata = anndata.read_h5ad(f'data/{dataset}_pp.h5ad')\n",
    "adata.obs['clusters'] = adata.obs['Class'].to_numpy()"
   ]
  },
  {
   "cell_type": "code",
   "execution_count": null,
   "id": "02b1117a",
   "metadata": {},
   "outputs": [],
   "source": [
    "vv.preprocess(adata, n_gene=1000, min_shared_counts=20, compute_umap=True, keep_raw=True)"
   ]
  },
  {
   "cell_type": "code",
   "execution_count": 5,
   "id": "c4313cc6",
   "metadata": {},
   "outputs": [],
   "source": [
    "model_path_base = f'checkpoints/{dataset}'\n",
    "figure_path_base = f'figures/{dataset}'\n",
    "data_path = f'data/velovae/discrete/{dataset}'\n",
    "gene_plot = ['Mapt', 'Tmsb10', 'Fabp7', 'Npm1']"
   ]
  },
  {
   "cell_type": "markdown",
   "id": "8eba73f6",
   "metadata": {},
   "source": [
    "# Informative Time Prior"
   ]
  },
  {
   "cell_type": "code",
   "execution_count": 6,
   "id": "8b7139b2",
   "metadata": {},
   "outputs": [],
   "source": [
    "capture_time = adata.obs['Age'].to_numpy()\n",
    "tprior = np.array([float(x[1:]) for x in capture_time])\n",
    "adata.obs['tprior'] = tprior - tprior.min()"
   ]
  },
  {
   "cell_type": "markdown",
   "id": "80c843d6",
   "metadata": {},
   "source": [
    "## Discrete VAE"
   ]
  },
  {
   "cell_type": "code",
   "execution_count": 7,
   "id": "2e4648e6",
   "metadata": {},
   "outputs": [
    {
     "name": "stdout",
     "output_type": "stream",
     "text": [
      "Detecting zero scaling factors: 5, 0\n",
      "Initialization using prior time.\n"
     ]
    },
    {
     "data": {
      "application/vnd.jupyter.widget-view+json": {
       "model_id": "b6c279ddf0514974b8739c194da09cf4",
       "version_major": 2,
       "version_minor": 0
      },
      "text/plain": [
       "  0%|          | 0/2000 [00:00<?, ?it/s]"
      ]
     },
     "metadata": {},
     "output_type": "display_data"
    },
    {
     "name": "stdout",
     "output_type": "stream",
     "text": [
      "Reinitialize the regular ODE parameters based on estimated global latent time.\n"
     ]
    },
    {
     "data": {
      "application/vnd.jupyter.widget-view+json": {
       "model_id": "44ccf82160564f3a97538268359e0540",
       "version_major": 2,
       "version_minor": 0
      },
      "text/plain": [
       "  0%|          | 0/2000 [00:00<?, ?it/s]"
      ]
     },
     "metadata": {},
     "output_type": "display_data"
    },
    {
     "name": "stdout",
     "output_type": "stream",
     "text": [
      "Gaussian Prior.\n",
      "Using informative time prior.\n",
      "Library scale (U): Max=10.47, Min=0.00, Mean=0.94\n",
      "Library scale (S): Max=17.49, Min=0.16, Mean=1.00\n",
      "--------------------------- Train a VeloVAE ---------------------------\n",
      "*********        Creating Training/Validation Datasets        *********\n",
      "*********                      Finished.                      *********\n",
      "*********                 Creating optimizers                 *********\n",
      "*********                      Finished.                      *********\n",
      "*********                    Start training                   *********\n",
      "*********                      Stage  1                       *********\n",
      "Total Number of Iterations Per Epoch: 164, test iteration: 326\n",
      "Epoch 1: Train ELBO = -2553.180, Test ELBO = -19347.024, \t Total Time =   0 h :  0 m : 10 s\n",
      "Epoch 100: Train ELBO = -1296.207, Test ELBO = -1306.282, \t Total Time =   0 h :  3 m : 27 s\n",
      "*********       Stage 1: Early Stop Triggered at epoch 177.       *********\n",
      "*********                      Stage  2                       *********\n"
     ]
    },
    {
     "data": {
      "application/vnd.jupyter.widget-view+json": {
       "model_id": "8a334242d68a4781bdfed64653f5f185",
       "version_major": 2,
       "version_minor": 0
      },
      "text/plain": [
       "  0%|          | 0/29948 [00:00<?, ?it/s]"
      ]
     },
     "metadata": {},
     "output_type": "display_data"
    },
    {
     "name": "stdout",
     "output_type": "stream",
     "text": [
      "Percentage of Invalid Sets: 0.002\n",
      "Average Set Size: 788\n",
      "Epoch 178: Train ELBO = -1317.090, Test ELBO = -2312.852, \t Total Time =   0 h :  6 m : 43 s\n",
      "*********       Stage 2: Early Stop Triggered at epoch 195.       *********\n",
      "*********              Finished. Total Time =   0 h :  9 m :  7 s             *********\n",
      "Final: Train ELBO = -1285.481,           Test ELBO = -1291.189\n",
      "       Training MSE = 2.424, Test MSE = 2.533\n"
     ]
    }
   ],
   "source": [
    "figure_path = f'{figure_path_base}/DVAE'\n",
    "model_path = f'{model_path_base}/DVAE'\n",
    "\n",
    "\n",
    "torch.manual_seed(2022)\n",
    "np.random.seed(2022)\n",
    "\n",
    "dvae = vv.model.DVAE(adata, \n",
    "                     tmax=20, \n",
    "                     dim_z=5, \n",
    "                     device='cuda:0',\n",
    "                     init_method='tprior',\n",
    "                     init_key='tprior',\n",
    "                     tprior='tprior',\n",
    "                     init_ton_zero=False)\n",
    "\n",
    "dvae.train(adata, plot=True, gene_plot=gene_plot, figure_path=figure_path)\n",
    "\n",
    "dvae.save_model(model_path, 'encoder', 'decoder')\n",
    "dvae.save_anndata(adata, 'dvae', data_path, f'{dataset}.h5ad')"
   ]
  },
  {
   "cell_type": "markdown",
   "id": "eb84f68a",
   "metadata": {},
   "source": [
    "# Discrete FullVB"
   ]
  },
  {
   "cell_type": "code",
   "execution_count": 8,
   "id": "23791e45",
   "metadata": {},
   "outputs": [
    {
     "name": "stdout",
     "output_type": "stream",
     "text": [
      "Detecting zero scaling factors: 5, 0\n",
      "Initialization using prior time.\n"
     ]
    },
    {
     "data": {
      "application/vnd.jupyter.widget-view+json": {
       "model_id": "240cb2b2ee854b838befab4662225e89",
       "version_major": 2,
       "version_minor": 0
      },
      "text/plain": [
       "  0%|          | 0/2000 [00:00<?, ?it/s]"
      ]
     },
     "metadata": {},
     "output_type": "display_data"
    },
    {
     "name": "stdout",
     "output_type": "stream",
     "text": [
      "Reinitialize the regular ODE parameters based on estimated global latent time.\n"
     ]
    },
    {
     "data": {
      "application/vnd.jupyter.widget-view+json": {
       "model_id": "6ab3df8ded6e442ead2e4d575bdf6345",
       "version_major": 2,
       "version_minor": 0
      },
      "text/plain": [
       "  0%|          | 0/2000 [00:00<?, ?it/s]"
      ]
     },
     "metadata": {},
     "output_type": "display_data"
    },
    {
     "name": "stdout",
     "output_type": "stream",
     "text": [
      "Gaussian Prior.\n",
      "Using informative time prior.\n",
      "Library scale (U): Max=10.47, Min=0.00, Mean=0.94\n",
      "Library scale (S): Max=17.49, Min=0.16, Mean=1.00\n",
      "--------------------------- Train a VeloVAE ---------------------------\n",
      "*********        Creating Training/Validation Datasets        *********\n",
      "*********                      Finished.                      *********\n",
      "*********                 Creating optimizers                 *********\n",
      "*********                      Finished.                      *********\n",
      "*********                    Start training                   *********\n",
      "*********                      Stage  1                       *********\n",
      "Total Number of Iterations Per Epoch: 164, test iteration: 326\n",
      "Epoch 1: Train ELBO = -2590.209, Test ELBO = -19448.491, \t Total Time =   0 h :  0 m : 10 s\n",
      "Epoch 100: Train ELBO = -1449.742, Test ELBO = -1441.458, \t Total Time =   0 h :  4 m : 19 s\n",
      "Epoch 200: Train ELBO = -1430.903, Test ELBO = -1438.991, \t Total Time =   0 h :  8 m : 15 s\n",
      "Epoch 300: Train ELBO = -1405.674, Test ELBO = -1424.755, \t Total Time =   0 h : 12 m :  6 s\n",
      "Epoch 400: Train ELBO = -1397.477, Test ELBO = -1429.785, \t Total Time =   0 h : 15 m : 55 s\n",
      "Epoch 500: Train ELBO = -1404.465, Test ELBO = -1423.599, \t Total Time =   0 h : 19 m : 46 s\n",
      "Epoch 600: Train ELBO = -1393.308, Test ELBO = -1417.870, \t Total Time =   0 h : 23 m : 41 s\n",
      "Epoch 700: Train ELBO = -1390.793, Test ELBO = -1412.130, \t Total Time =   0 h : 27 m : 30 s\n",
      "Epoch 800: Train ELBO = -1396.712, Test ELBO = -1407.243, \t Total Time =   0 h : 31 m : 25 s\n",
      "Epoch 900: Train ELBO = -1394.319, Test ELBO = -1416.767, \t Total Time =   0 h : 35 m : 17 s\n",
      "*********       Stage 1: Early Stop Triggered at epoch 953.       *********\n",
      "*********                      Stage  2                       *********\n"
     ]
    },
    {
     "data": {
      "application/vnd.jupyter.widget-view+json": {
       "model_id": "4bf08ed8007b47bd87b801c79f0682fd",
       "version_major": 2,
       "version_minor": 0
      },
      "text/plain": [
       "  0%|          | 0/29948 [00:00<?, ?it/s]"
      ]
     },
     "metadata": {},
     "output_type": "display_data"
    },
    {
     "name": "stdout",
     "output_type": "stream",
     "text": [
      "Percentage of Invalid Sets: 0.002\n",
      "Average Set Size: 782\n",
      "Epoch 954: Train ELBO = -1332.143, Test ELBO = -5388.501, \t Total Time =   0 h : 37 m : 59 s\n",
      "Epoch 1000: Train ELBO = -1321.808, Test ELBO = -1320.518, \t Total Time =   0 h : 40 m :  9 s\n",
      "*********       Stage 2: Early Stop Triggered at epoch 1009.       *********\n",
      "*********              Finished. Total Time =   0 h : 42 m : 25 s             *********\n",
      "Final: Train ELBO = -1324.847,           Test ELBO = -1325.150\n",
      "       Training MSE = 2.575, Test MSE = 2.568\n"
     ]
    }
   ],
   "source": [
    "figure_path = f'{figure_path_base}/DFullVB'\n",
    "model_path = f'{model_path_base}/DFullVB'\n",
    "\n",
    "torch.manual_seed(2022)\n",
    "np.random.seed(2022)\n",
    "dfullvb = vv.model.DVAEFullVB(adata, \n",
    "                              tmax=20, \n",
    "                              dim_z=5, \n",
    "                              device='cuda:0',\n",
    "                              init_method=\"tprior\",\n",
    "                              init_key=\"tprior\",\n",
    "                              tprior=\"tprior\",\n",
    "                              init_ton_zero=False)\n",
    "\n",
    "dfullvb.train(adata, plot=True, gene_plot=gene_plot, figure_path=figure_path)\n",
    "\n",
    "dfullvb.save_model(model_path, 'encoder', 'decoder')\n",
    "dfullvb.save_anndata(adata, 'dfullvb', data_path, f'{dataset}.h5ad')"
   ]
  },
  {
   "cell_type": "markdown",
   "id": "79158389",
   "metadata": {},
   "source": [
    "# Evaluation"
   ]
  },
  {
   "cell_type": "code",
   "execution_count": null,
   "id": "86a181c5",
   "metadata": {},
   "outputs": [],
   "source": [
    "cluster_edges = [('Neural tube','Radial glia'),\n",
    "                 ('Radial glia', 'Neuroblast'),\n",
    "                 ('Radial glia', 'Glioblast'),\n",
    "                 ('Radial glia', 'Oligodendrocyte'),\n",
    "                 ('Radial glia', 'Ependymal'),\n",
    "                 ('Neural crest', 'Mesenchyme'),\n",
    "                 ('Mesenchyme','Fibroblast')]\n",
    "vv.post_analysis(adata,\n",
    "                 'eval',\n",
    "                 ['Discrete VeloVAE','Discrete FullVB'],\n",
    "                 ['dvae','dfullvb'],\n",
    "                 compute_metrics=True,\n",
    "                 genes=gene_plot,\n",
    "                 grid_size=(1,4),\n",
    "                 plot_type=['all'],\n",
    "                 save_path=data_path,\n",
    "                 cluster_edges=cluster_edges)"
   ]
  }
 ],
 "metadata": {
  "kernelspec": {
   "display_name": "Python 3",
   "language": "python",
   "name": "python3"
  },
  "language_info": {
   "codemirror_mode": {
    "name": "ipython",
    "version": 3
   },
   "file_extension": ".py",
   "mimetype": "text/x-python",
   "name": "python",
   "nbconvert_exporter": "python",
   "pygments_lexer": "ipython3",
   "version": "3.9.7"
  }
 },
 "nbformat": 4,
 "nbformat_minor": 5
}
