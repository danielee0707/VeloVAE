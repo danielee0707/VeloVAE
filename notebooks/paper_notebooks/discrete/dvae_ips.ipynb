{
 "cells": [
  {
   "cell_type": "code",
   "execution_count": 1,
   "id": "39acb0e4",
   "metadata": {},
   "outputs": [],
   "source": [
    "import anndata\n",
    "import numpy as np\n",
    "import sys\n",
    "import torch\n",
    "sys.path.append('../../../')\n",
    "import velovae as vv"
   ]
  },
  {
   "cell_type": "code",
   "execution_count": 2,
   "id": "b596a006",
   "metadata": {},
   "outputs": [],
   "source": [
    "dataset = 'IPSC'\n",
    "adata = anndata.read_h5ad(f'data/{dataset}_pp.h5ad')"
   ]
  },
  {
   "cell_type": "code",
   "execution_count": null,
   "id": "134f0b2c",
   "metadata": {},
   "outputs": [],
   "source": [
    "#vv.preprocess(adata, n_gene=2000, min_shared_counts=20, compute_umap=True)"
   ]
  },
  {
   "cell_type": "code",
   "execution_count": 3,
   "id": "e853c679",
   "metadata": {},
   "outputs": [],
   "source": [
    "model_path_base = f'checkpoints/{dataset}'\n",
    "figure_path_base = f'figures/{dataset}'\n",
    "data_path = f'data/velovae/discrete/{dataset}'\n",
    "gene_plot = ['Vim','Nr2f1', 'Krt7', 'H19']"
   ]
  },
  {
   "cell_type": "markdown",
   "id": "c74adfa4",
   "metadata": {},
   "source": [
    "# Informative Time Prior"
   ]
  },
  {
   "cell_type": "code",
   "execution_count": 4,
   "id": "de0cad86",
   "metadata": {},
   "outputs": [],
   "source": [
    "tprior = adata.obs[\"day\"].to_numpy()\n",
    "tprior = np.array([float(x) for x in tprior])\n",
    "adata.obs[\"tprior\"] = tprior - tprior.min()"
   ]
  },
  {
   "cell_type": "markdown",
   "id": "9a8741ea",
   "metadata": {},
   "source": [
    "# Discrete VeloVAE"
   ]
  },
  {
   "cell_type": "code",
   "execution_count": 5,
   "id": "27d0cb22",
   "metadata": {},
   "outputs": [
    {
     "name": "stdout",
     "output_type": "stream",
     "text": [
      "Detecting zero scaling factors: 3, 0\n",
      "Initialization using prior time.\n"
     ]
    },
    {
     "data": {
      "application/vnd.jupyter.widget-view+json": {
       "model_id": "b40aa088aac94fdbae02d08ac891d2f0",
       "version_major": 2,
       "version_minor": 0
      },
      "text/plain": [
       "  0%|          | 0/2000 [00:00<?, ?it/s]"
      ]
     },
     "metadata": {},
     "output_type": "display_data"
    },
    {
     "name": "stdout",
     "output_type": "stream",
     "text": [
      "Reinitialize the regular ODE parameters based on estimated global latent time.\n"
     ]
    },
    {
     "data": {
      "application/vnd.jupyter.widget-view+json": {
       "model_id": "8eeb4c72b76f4225a361708fa3602a55",
       "version_major": 2,
       "version_minor": 0
      },
      "text/plain": [
       "  0%|          | 0/2000 [00:00<?, ?it/s]"
      ]
     },
     "metadata": {},
     "output_type": "display_data"
    },
    {
     "name": "stdout",
     "output_type": "stream",
     "text": [
      "Gaussian Prior.\n",
      "Using informative time prior.\n",
      "Library scale (U): Max=10.35, Min=0.00, Mean=0.89\n",
      "Library scale (S): Max=20.01, Min=0.13, Mean=1.06\n",
      "--------------------------- Train a VeloVAE ---------------------------\n",
      "*********        Creating Training/Validation Datasets        *********\n",
      "*********                      Finished.                      *********\n",
      "*********                 Creating optimizers                 *********\n",
      "*********                      Finished.                      *********\n",
      "*********                    Start training                   *********\n",
      "*********                      Stage  1                       *********\n",
      "Total Number of Iterations Per Epoch: 146, test iteration: 290\n",
      "*********       Stage 1: Early Stop Triggered at epoch 247.       *********\n",
      "*********                      Stage  2                       *********\n"
     ]
    },
    {
     "data": {
      "application/vnd.jupyter.widget-view+json": {
       "model_id": "5de73d4445fc4988930cc464d81cb361",
       "version_major": 2,
       "version_minor": 0
      },
      "text/plain": [
       "  0%|          | 0/26682 [00:00<?, ?it/s]"
      ]
     },
     "metadata": {},
     "output_type": "display_data"
    },
    {
     "name": "stdout",
     "output_type": "stream",
     "text": [
      "Percentage of Invalid Sets: 0.000\n",
      "Average Set Size: 814\n",
      "*********       Stage 2: Early Stop Triggered at epoch 1006.       *********\n",
      "*********              Finished. Total Time =   0 h : 40 m : 29 s             *********\n",
      "Final: Train ELBO = -1884.797,           Test ELBO = -1960.058\n",
      "       Training MSE = 19.435, Test MSE = 26.859\n"
     ]
    }
   ],
   "source": [
    "figure_path = f'{figure_path_base}/DVAE'\n",
    "model_path = f'{model_path_base}/DVAE'\n",
    "\n",
    "torch.manual_seed(2022)\n",
    "np.random.seed(2022)\n",
    "\n",
    "dvae = vv.model.DVAE(adata, \n",
    "                     tmax=20, \n",
    "                     dim_z=5, \n",
    "                     device='cuda:0',\n",
    "                     init_method='tprior',\n",
    "                     init_key='tprior',\n",
    "                     tprior='tprior',\n",
    "                     init_ton_zero=False)\n",
    "\n",
    "dvae.train(adata, plot=False, gene_plot=gene_plot, figure_path=figure_path, embed='embed')\n",
    "\n",
    "dvae.save_model(model_path, 'encoder', 'decoder')\n",
    "dvae.save_anndata(adata, 'dvae', data_path, f'{dataset}.h5ad')"
   ]
  },
  {
   "cell_type": "markdown",
   "id": "eddf1ec1",
   "metadata": {},
   "source": [
    "# Discrete Full VB"
   ]
  },
  {
   "cell_type": "code",
   "execution_count": 6,
   "id": "2f142268",
   "metadata": {},
   "outputs": [
    {
     "name": "stdout",
     "output_type": "stream",
     "text": [
      "Detecting zero scaling factors: 3, 0\n",
      "Initialization using prior time.\n"
     ]
    },
    {
     "data": {
      "application/vnd.jupyter.widget-view+json": {
       "model_id": "6a2cf8379d7a41e5bcdaff18b4f923c0",
       "version_major": 2,
       "version_minor": 0
      },
      "text/plain": [
       "  0%|          | 0/2000 [00:00<?, ?it/s]"
      ]
     },
     "metadata": {},
     "output_type": "display_data"
    },
    {
     "name": "stdout",
     "output_type": "stream",
     "text": [
      "Reinitialize the regular ODE parameters based on estimated global latent time.\n"
     ]
    },
    {
     "data": {
      "application/vnd.jupyter.widget-view+json": {
       "model_id": "e7ce0487450f48719a1846bb5a563131",
       "version_major": 2,
       "version_minor": 0
      },
      "text/plain": [
       "  0%|          | 0/2000 [00:00<?, ?it/s]"
      ]
     },
     "metadata": {},
     "output_type": "display_data"
    },
    {
     "name": "stdout",
     "output_type": "stream",
     "text": [
      "Gaussian Prior.\n",
      "Using informative time prior.\n",
      "Library scale (U): Max=10.35, Min=0.00, Mean=0.89\n",
      "Library scale (S): Max=20.01, Min=0.13, Mean=1.06\n",
      "--------------------------- Train a VeloVAE ---------------------------\n",
      "*********        Creating Training/Validation Datasets        *********\n",
      "*********                      Finished.                      *********\n",
      "*********                 Creating optimizers                 *********\n",
      "*********                      Finished.                      *********\n",
      "*********                    Start training                   *********\n",
      "*********                      Stage  1                       *********\n",
      "Total Number of Iterations Per Epoch: 146, test iteration: 290\n",
      "*********       Stage 1: Early Stop Triggered at epoch 261.       *********\n",
      "*********                      Stage  2                       *********\n"
     ]
    },
    {
     "data": {
      "application/vnd.jupyter.widget-view+json": {
       "model_id": "b967e6734eb344689a6dc126ae05ac3a",
       "version_major": 2,
       "version_minor": 0
      },
      "text/plain": [
       "  0%|          | 0/26682 [00:00<?, ?it/s]"
      ]
     },
     "metadata": {},
     "output_type": "display_data"
    },
    {
     "name": "stdout",
     "output_type": "stream",
     "text": [
      "Percentage of Invalid Sets: 0.001\n",
      "Average Set Size: 813\n",
      "*********       Stage 2: Early Stop Triggered at epoch 1457.       *********\n",
      "*********              Finished. Total Time =   1 h :  5 m : 39 s             *********\n",
      "Final: Train ELBO = -2003.677,           Test ELBO = -2039.654\n",
      "       Training MSE = 23.211, Test MSE = 28.574\n"
     ]
    }
   ],
   "source": [
    "figure_path = f'{figure_path_base}/DFullVB'\n",
    "model_path = f'{model_path_base}/DFullVB'\n",
    "\n",
    "torch.manual_seed(2022)\n",
    "np.random.seed(2022)\n",
    "\n",
    "dvae = vv.model.DVAEFullVB(adata, \n",
    "                           tmax=20, \n",
    "                           dim_z=5, \n",
    "                           device='cuda:0',\n",
    "                           init_method='tprior',\n",
    "                           init_key='tprior',\n",
    "                           tprior='tprior',\n",
    "                           init_ton_zero=False)\n",
    "\n",
    "dvae.train(adata, plot=False, gene_plot=gene_plot, figure_path=figure_path, embed='embed')\n",
    "\n",
    "dvae.save_model(model_path, 'encoder', 'decoder')\n",
    "dvae.save_anndata(adata, 'dfullvb', data_path, f'{dataset}.h5ad')"
   ]
  },
  {
   "cell_type": "markdown",
   "id": "e2cf1b91",
   "metadata": {},
   "source": [
    "# Evaluation"
   ]
  },
  {
   "cell_type": "code",
   "execution_count": null,
   "id": "f42b7837",
   "metadata": {},
   "outputs": [],
   "source": [
    "cluster_edges = [('MET','Epithelial'),\n",
    "                 ('Epithelial','IPS'),\n",
    "                 ('Epithelial','Neural'),\n",
    "                 ('Epithelial','Trophoblast'),\n",
    "                 ('Epithelial','Stromal')]\n",
    "vv.post_analysis(adata,\n",
    "                 'eval',\n",
    "                 ['Discrete VeloVAE','Discrete FullVB'],\n",
    "                 ['dvae','dfullvb'],\n",
    "                 compute_metrics=True,\n",
    "                 genes=gene_plot,\n",
    "                 grid_size=(1,4),\n",
    "                 plot_type=['all'],\n",
    "                 save_path=figure_path_base,\n",
    "                 cluster_edges=cluster_edges)"
   ]
  }
 ],
 "metadata": {
  "kernelspec": {
   "display_name": "Python 3",
   "language": "python",
   "name": "python3"
  },
  "language_info": {
   "codemirror_mode": {
    "name": "ipython",
    "version": 3
   },
   "file_extension": ".py",
   "mimetype": "text/x-python",
   "name": "python",
   "nbconvert_exporter": "python",
   "pygments_lexer": "ipython3",
   "version": "3.9.7"
  }
 },
 "nbformat": 4,
 "nbformat_minor": 5
}
