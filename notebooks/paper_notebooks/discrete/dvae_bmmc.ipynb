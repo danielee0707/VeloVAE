{
 "cells": [
  {
   "cell_type": "code",
   "execution_count": 3,
   "id": "50cc29d2",
   "metadata": {},
   "outputs": [],
   "source": [
    "import anndata\n",
    "import numpy as np\n",
    "import sys\n",
    "import torch\n",
    "sys.path.append('../../../')\n",
    "import velovae as vv"
   ]
  },
  {
   "cell_type": "code",
   "execution_count": 5,
   "id": "a668be50",
   "metadata": {},
   "outputs": [],
   "source": [
    "dataset = 'BMMC'\n",
    "adata = anndata.read_h5ad(f'data/{dataset}_pp.h5ad')\n",
    "adata.obs[\"clusters\"] = adata.obs['celltype.l2'].to_numpy()"
   ]
  },
  {
   "cell_type": "code",
   "execution_count": null,
   "id": "96b86e41",
   "metadata": {
    "scrolled": true
   },
   "outputs": [],
   "source": [
    "vv.preprocess(adata, n_gene=2000, min_shared_counts=20, compute_umap=True)"
   ]
  },
  {
   "cell_type": "code",
   "execution_count": 6,
   "id": "0ca2214c",
   "metadata": {},
   "outputs": [],
   "source": [
    "model_path_base = f'checkpoints/{dataset}'\n",
    "figure_path_base = f'figures/{dataset}'\n",
    "data_path = f'data/velovae/discrete/{dataset}'\n",
    "gene_plot = ['SPINK2', 'AZU1', 'MPO', 'LYZ', 'CD74', 'HBB']"
   ]
  },
  {
   "cell_type": "markdown",
   "id": "9f47dc8d",
   "metadata": {},
   "source": [
    "# Discrete VAE"
   ]
  },
  {
   "cell_type": "code",
   "execution_count": 4,
   "id": "dd3c0f52",
   "metadata": {},
   "outputs": [
    {
     "name": "stdout",
     "output_type": "stream",
     "text": [
      "Detecting zero scaling factors: 0, 0\n",
      "Random Initialization.\n",
      "Gaussian Prior.\n",
      "Library scale (U): Max=17.65, Min=0.00, Mean=1.03\n",
      "Library scale (S): Max=23.48, Min=0.22, Mean=1.13\n",
      "--------------------------- Train a VeloVAE ---------------------------\n",
      "*********        Creating Training/Validation Datasets        *********\n",
      "*********                      Finished.                      *********\n",
      "*********                 Creating optimizers                 *********\n",
      "*********                      Finished.                      *********\n",
      "*********                    Start training                   *********\n",
      "*********                      Stage  1                       *********\n",
      "Total Number of Iterations Per Epoch: 112, test iteration: 222\n",
      "*********       Stage 1: Early Stop Triggered at epoch 197.       *********\n",
      "*********                      Stage  2                       *********\n"
     ]
    },
    {
     "data": {
      "application/vnd.jupyter.widget-view+json": {
       "model_id": "e029a3462f0a44a98a0dec81ee820898",
       "version_major": 2,
       "version_minor": 0
      },
      "text/plain": [
       "  0%|          | 0/20400 [00:00<?, ?it/s]"
      ]
     },
     "metadata": {},
     "output_type": "display_data"
    },
    {
     "name": "stdout",
     "output_type": "stream",
     "text": [
      "Percentage of Invalid Sets: 0.004\n",
      "Average Set Size: 643\n",
      "*********       Stage 2: Early Stop Triggered at epoch 293.       *********\n",
      "*********              Finished. Total Time =   0 h :  7 m : 59 s             *********\n",
      "Final: Train ELBO = -1160.040,           Test ELBO = -1172.535\n",
      "       Training MSE = 4.604, Test MSE = 5.425\n"
     ]
    }
   ],
   "source": [
    "figure_path = f'{figure_path_base}/DVAE'\n",
    "model_path = f'{model_path_base}/DVAE'\n",
    "\n",
    "torch.manual_seed(2022)\n",
    "np.random.seed(2022)\n",
    "\n",
    "dvae = vv.model.DVAE(adata, \n",
    "                     tmax=20, \n",
    "                     dim_z=5,\n",
    "                     init_method='random',\n",
    "                     init_ton_zero=True,\n",
    "                     device='cuda:0')\n",
    "\n",
    "dvae.train(adata, plot=False, gene_plot=gene_plot, figure_path=figure_path)\n",
    "\n",
    "dvae.save_model(model_path, 'encoder', 'decoder')\n",
    "dvae.save_anndata(adata, 'dvae', data_path, f'{dataset}.h5ad')"
   ]
  },
  {
   "cell_type": "markdown",
   "id": "7feda480",
   "metadata": {},
   "source": [
    "# FullVB"
   ]
  },
  {
   "cell_type": "code",
   "execution_count": 11,
   "id": "b918fce8",
   "metadata": {},
   "outputs": [
    {
     "name": "stdout",
     "output_type": "stream",
     "text": [
      "Detecting zero scaling factors: 0, 0\n",
      "Random Initialization.\n",
      "Gaussian Prior.\n",
      "Library scale (U): Max=17.65, Min=0.00, Mean=1.03\n",
      "Library scale (S): Max=23.48, Min=0.22, Mean=1.13\n",
      "--------------------------- Train a VeloVAE ---------------------------\n",
      "*********        Creating Training/Validation Datasets        *********\n",
      "*********                      Finished.                      *********\n",
      "*********                 Creating optimizers                 *********\n",
      "*********                      Finished.                      *********\n",
      "*********                    Start training                   *********\n",
      "*********                      Stage  1                       *********\n",
      "Total Number of Iterations Per Epoch: 112, test iteration: 222\n",
      "*********       Stage 1: Early Stop Triggered at epoch 347.       *********\n",
      "*********                      Stage  2                       *********\n"
     ]
    },
    {
     "data": {
      "application/vnd.jupyter.widget-view+json": {
       "model_id": "7782e0096c354ae1aed76fb4ca124929",
       "version_major": 2,
       "version_minor": 0
      },
      "text/plain": [
       "  0%|          | 0/20400 [00:00<?, ?it/s]"
      ]
     },
     "metadata": {},
     "output_type": "display_data"
    },
    {
     "name": "stdout",
     "output_type": "stream",
     "text": [
      "Percentage of Invalid Sets: 0.016\n",
      "Average Set Size: 632\n",
      "*********       Stage 2: Early Stop Triggered at epoch 373.       *********\n",
      "*********              Finished. Total Time =   0 h : 11 m :  5 s             *********\n",
      "Final: Train ELBO = -1190.224,           Test ELBO = -1198.823\n",
      "       Training MSE = 4.998, Test MSE = 5.271\n"
     ]
    }
   ],
   "source": [
    "figure_path = f'{figure_path_base}/DFullVB'\n",
    "model_path = f'{model_path_base}/DFullVB'\n",
    "\n",
    "torch.manual_seed(2022)\n",
    "np.random.seed(2022)\n",
    "\n",
    "dvae = vv.model.DVAEFullVB(adata, \n",
    "                           tmax=20, \n",
    "                           dim_z=5, \n",
    "                           init_method='random',\n",
    "                           init_ton_zero=True,\n",
    "                           device='cuda:0')\n",
    "\n",
    "dvae.train(adata, plot=False, gene_plot=gene_plot, figure_path=figure_path, embed=\"umap\")\n",
    "\n",
    "dvae.save_model(model_path, 'encoder', 'decoder')\n",
    "dvae.save_anndata(adata, 'dfullvb', data_path, f'{dataset}.h5ad')"
   ]
  },
  {
   "cell_type": "markdown",
   "id": "c04f335c",
   "metadata": {},
   "source": [
    "# Evaluation"
   ]
  },
  {
   "cell_type": "code",
   "execution_count": null,
   "id": "410bfb53",
   "metadata": {},
   "outputs": [],
   "source": [
    "cluster_edges = [('HSC','LMPP'),\n",
    "                 ('LMPP','GMP'),\n",
    "                 ('GMP','CD14 Mono'),\n",
    "                 ('CD14 Mono','CD16 Mono'),\n",
    "                 ('Prog B 1','Prog B 2'), \n",
    "                 ('Prog MK','Prog RBC')]\n",
    "vv.post_analysis(adata,\n",
    "                 'eval',\n",
    "                 ['Discrete VeloVAE', 'Discrete FullVB'],\n",
    "                 ['dvae', 'dfullvb'],\n",
    "                 compute_metrics=True,\n",
    "                 genes=gene_plot,\n",
    "                 grid_size=(1,4),\n",
    "                 plot_type=[],\n",
    "                 save_path=data_path,\n",
    "                 cluster_edges=cluster_edges)"
   ]
  }
 ],
 "metadata": {
  "kernelspec": {
   "display_name": "Python 3",
   "language": "python",
   "name": "python3"
  },
  "language_info": {
   "codemirror_mode": {
    "name": "ipython",
    "version": 3
   },
   "file_extension": ".py",
   "mimetype": "text/x-python",
   "name": "python",
   "nbconvert_exporter": "python",
   "pygments_lexer": "ipython3",
   "version": "3.9.7"
  }
 },
 "nbformat": 4,
 "nbformat_minor": 5
}
