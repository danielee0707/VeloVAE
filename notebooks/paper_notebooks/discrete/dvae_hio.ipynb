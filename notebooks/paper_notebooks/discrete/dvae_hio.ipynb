{
 "cells": [
  {
   "cell_type": "code",
   "execution_count": 1,
   "id": "30d19482",
   "metadata": {},
   "outputs": [],
   "source": [
    "import anndata\n",
    "import numpy as np\n",
    "import sys\n",
    "import torch\n",
    "sys.path.append('../../../')\n",
    "import velovae as vv"
   ]
  },
  {
   "cell_type": "code",
   "execution_count": 2,
   "id": "226bc9e0",
   "metadata": {},
   "outputs": [],
   "source": [
    "dataset = 'HIO'\n",
    "adata = anndata.read_h5ad('data/HIO_pp.h5ad')"
   ]
  },
  {
   "cell_type": "code",
   "execution_count": null,
   "id": "a318d27a",
   "metadata": {},
   "outputs": [],
   "source": [
    "#marker_genes = ['S100B','PLP1','STMN2','ELAVL4','CDH5','KDR','ECSCR','CLDN5','COL1A1','COL1A2',\\\n",
    "#                'DCN','ACTA2','TAGLN','ACTG2','MYLK','EPCAM','CDH1','CDX2','CLDN4']\n",
    "#vv.preprocess(adata, \n",
    "#              n_gene=2000, \n",
    "#              min_shared_counts=20, \n",
    "#              genes_retain=marker_genes, \n",
    "#              compute_umap=True, \n",
    "#              keep_raw=True)"
   ]
  },
  {
   "cell_type": "code",
   "execution_count": 3,
   "id": "df66c63b",
   "metadata": {},
   "outputs": [],
   "source": [
    "model_path_base = f'checkpoints/{dataset}'\n",
    "figure_path_base = f'figures/{dataset}'\n",
    "data_path = f'data/velovae/discrete/{dataset}'\n",
    "gene_plot = ['PLP1', 'ECSCR', 'COL1A1', 'EPCAM']"
   ]
  },
  {
   "cell_type": "markdown",
   "id": "ccb1af72",
   "metadata": {},
   "source": [
    "# Informative Time Prior"
   ]
  },
  {
   "cell_type": "code",
   "execution_count": 4,
   "id": "1393881b",
   "metadata": {},
   "outputs": [],
   "source": [
    "day = adata.obs['Day']\n",
    "tprior = np.array([float(x[1:]) for x in day])\n",
    "adata.obs['tprior'] = tprior - tprior.min()"
   ]
  },
  {
   "cell_type": "markdown",
   "id": "0e9dd783",
   "metadata": {},
   "source": [
    "# Discrete VeloVAE"
   ]
  },
  {
   "cell_type": "code",
   "execution_count": 5,
   "id": "30e2929b",
   "metadata": {},
   "outputs": [
    {
     "name": "stdout",
     "output_type": "stream",
     "text": [
      "Detecting zero scaling factors: 18, 0\n",
      "Initialization using prior time.\n"
     ]
    },
    {
     "data": {
      "application/vnd.jupyter.widget-view+json": {
       "model_id": "2d291b75e4f74e54940cc1180b3bc979",
       "version_major": 2,
       "version_minor": 0
      },
      "text/plain": [
       "  0%|          | 0/2002 [00:00<?, ?it/s]"
      ]
     },
     "metadata": {},
     "output_type": "display_data"
    },
    {
     "name": "stdout",
     "output_type": "stream",
     "text": [
      "Reinitialize the regular ODE parameters based on estimated global latent time.\n"
     ]
    },
    {
     "data": {
      "application/vnd.jupyter.widget-view+json": {
       "model_id": "74ee3227bf0a4f558a3efe8ac9a009aa",
       "version_major": 2,
       "version_minor": 0
      },
      "text/plain": [
       "  0%|          | 0/2002 [00:00<?, ?it/s]"
      ]
     },
     "metadata": {},
     "output_type": "display_data"
    },
    {
     "name": "stdout",
     "output_type": "stream",
     "text": [
      "Gaussian Prior.\n",
      "Using informative time prior.\n",
      "Library scale (U): Max=24.07, Min=0.01, Mean=0.87\n",
      "Library scale (S): Max=48.52, Min=0.02, Mean=1.10\n",
      "--------------------------- Train a VeloVAE ---------------------------\n",
      "*********        Creating Training/Validation Datasets        *********\n",
      "*********                      Finished.                      *********\n",
      "*********                 Creating optimizers                 *********\n",
      "*********                      Finished.                      *********\n",
      "*********                    Start training                   *********\n",
      "*********                      Stage  1                       *********\n",
      "Total Number of Iterations Per Epoch: 149, test iteration: 296\n",
      "*********       Stage 1: Early Stop Triggered at epoch 273.       *********\n",
      "*********                      Stage  2                       *********\n"
     ]
    },
    {
     "data": {
      "application/vnd.jupyter.widget-view+json": {
       "model_id": "58ce8a694fd04629952bb0e61e7986d2",
       "version_major": 2,
       "version_minor": 0
      },
      "text/plain": [
       "  0%|          | 0/27086 [00:00<?, ?it/s]"
      ]
     },
     "metadata": {},
     "output_type": "display_data"
    },
    {
     "name": "stdout",
     "output_type": "stream",
     "text": [
      "Percentage of Invalid Sets: 0.015\n",
      "Average Set Size: 861\n",
      "*********       Stage 2: Early Stop Triggered at epoch 329.       *********\n",
      "*********              Finished. Total Time =   0 h : 13 m : 13 s             *********\n",
      "Final: Train ELBO = -1172.552,           Test ELBO = -1191.927\n",
      "       Training MSE = 12.341, Test MSE = 16.571\n"
     ]
    }
   ],
   "source": [
    "figure_path = f'{figure_path_base}/DVAE'\n",
    "model_path = f'{model_path_base}/DVAE'\n",
    "\n",
    "torch.manual_seed(2022)\n",
    "np.random.seed(2022)\n",
    "dvae = vv.DVAE(adata, \n",
    "               tmax=20, \n",
    "               dim_z=5, \n",
    "               device='cuda:0',\n",
    "               init_method='tprior',\n",
    "               init_key='tprior',\n",
    "               tprior='tprior',\n",
    "               init_ton_zero=False)\n",
    "\n",
    "\n",
    "dvae.train(adata, plot=False, gene_plot=gene_plot, figure_path=figure_path)\n",
    "\n",
    "dvae.save_model(model_path, 'encoder', 'decoder')\n",
    "dvae.save_anndata(adata, 'dvae', data_path, file_name=f'{dataset}.h5ad')"
   ]
  },
  {
   "cell_type": "markdown",
   "id": "e27a19a3",
   "metadata": {},
   "source": [
    "# Full VB"
   ]
  },
  {
   "cell_type": "code",
   "execution_count": 6,
   "id": "d2c932ae",
   "metadata": {},
   "outputs": [
    {
     "name": "stdout",
     "output_type": "stream",
     "text": [
      "Detecting zero scaling factors: 18, 0\n",
      "Initialization using prior time.\n"
     ]
    },
    {
     "data": {
      "application/vnd.jupyter.widget-view+json": {
       "model_id": "31a15910ade940f8bc2b23617d4bc348",
       "version_major": 2,
       "version_minor": 0
      },
      "text/plain": [
       "  0%|          | 0/2002 [00:00<?, ?it/s]"
      ]
     },
     "metadata": {},
     "output_type": "display_data"
    },
    {
     "name": "stdout",
     "output_type": "stream",
     "text": [
      "Reinitialize the regular ODE parameters based on estimated global latent time.\n"
     ]
    },
    {
     "data": {
      "application/vnd.jupyter.widget-view+json": {
       "model_id": "96955e52ebbe42a1a0b41cfecdf09833",
       "version_major": 2,
       "version_minor": 0
      },
      "text/plain": [
       "  0%|          | 0/2002 [00:00<?, ?it/s]"
      ]
     },
     "metadata": {},
     "output_type": "display_data"
    },
    {
     "name": "stdout",
     "output_type": "stream",
     "text": [
      "Gaussian Prior.\n",
      "Using informative time prior.\n",
      "Library scale (U): Max=24.07, Min=0.01, Mean=0.87\n",
      "Library scale (S): Max=48.52, Min=0.02, Mean=1.10\n",
      "--------------------------- Train a VeloVAE ---------------------------\n",
      "*********        Creating Training/Validation Datasets        *********\n",
      "*********                      Finished.                      *********\n",
      "*********                 Creating optimizers                 *********\n",
      "*********                      Finished.                      *********\n",
      "*********                    Start training                   *********\n",
      "*********                      Stage  1                       *********\n",
      "Total Number of Iterations Per Epoch: 149, test iteration: 296\n",
      "*********       Stage 1: Early Stop Triggered at epoch 883.       *********\n",
      "*********                      Stage  2                       *********\n"
     ]
    },
    {
     "data": {
      "application/vnd.jupyter.widget-view+json": {
       "model_id": "dc1024fd9a0f4affbb14a510eb15b506",
       "version_major": 2,
       "version_minor": 0
      },
      "text/plain": [
       "  0%|          | 0/27086 [00:00<?, ?it/s]"
      ]
     },
     "metadata": {},
     "output_type": "display_data"
    },
    {
     "name": "stdout",
     "output_type": "stream",
     "text": [
      "Percentage of Invalid Sets: 0.002\n",
      "Average Set Size: 748\n",
      "*********       Stage 2: Early Stop Triggered at epoch 907.       *********\n",
      "*********              Finished. Total Time =   0 h : 35 m : 53 s             *********\n",
      "Final: Train ELBO = -1188.732,           Test ELBO = -1201.923\n",
      "       Training MSE = 11.048, Test MSE = 15.144\n"
     ]
    }
   ],
   "source": [
    "figure_path = f'{figure_path_base}/DFullVB'\n",
    "model_path = f'{model_path_base}/DFullVB'\n",
    "\n",
    "torch.manual_seed(2022)\n",
    "np.random.seed(2022)\n",
    "dfull_vb = vv.DVAEFullVB(adata, \n",
    "                         tmax=20, \n",
    "                         dim_z=5, \n",
    "                         device='cuda:0',\n",
    "                         init_method='tprior',\n",
    "                         init_key='tprior',\n",
    "                         tprior='tprior',\n",
    "                         init_ton_zero=False)\n",
    "\n",
    "dfull_vb.train(adata, plot=False, gene_plot=gene_plot, figure_path=figure_path)\n",
    "\n",
    "dfull_vb.save_model(model_path, 'encoder','decoder')\n",
    "dfull_vb.save_anndata(adata, 'dfullvb', data_path, file_name=f'{dataset}.h5ad')"
   ]
  },
  {
   "cell_type": "markdown",
   "id": "28188e24",
   "metadata": {},
   "source": [
    "# Evaluation"
   ]
  },
  {
   "cell_type": "code",
   "execution_count": null,
   "id": "4524ecd0",
   "metadata": {
    "scrolled": false
   },
   "outputs": [],
   "source": [
    "vv.post_analysis(adata,\n",
    "                 'eval',\n",
    "                 ['Discrete VeloVAE','Discrete FullVB'],\n",
    "                 ['dvae', 'dfullvb'],\n",
    "                 compute_metrics=False,\n",
    "                 plot_type=['all'],\n",
    "                 genes=gene_plot,\n",
    "                 grid_size=(1,4),\n",
    "                 save_path=data_path)"
   ]
  }
 ],
 "metadata": {
  "kernelspec": {
   "display_name": "Python 3",
   "language": "python",
   "name": "python3"
  },
  "language_info": {
   "codemirror_mode": {
    "name": "ipython",
    "version": 3
   },
   "file_extension": ".py",
   "mimetype": "text/x-python",
   "name": "python",
   "nbconvert_exporter": "python",
   "pygments_lexer": "ipython3",
   "version": "3.9.7"
  }
 },
 "nbformat": 4,
 "nbformat_minor": 5
}
