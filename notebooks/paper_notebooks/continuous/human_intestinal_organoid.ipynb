{
 "cells": [
  {
   "cell_type": "code",
   "execution_count": 1,
   "id": "30d19482",
   "metadata": {},
   "outputs": [],
   "source": [
    "import anndata\n",
    "import numpy as np\n",
    "import sys\n",
    "import torch\n",
    "sys.path.append('../../../')\n",
    "import velovae as vv"
   ]
  },
  {
   "cell_type": "code",
   "execution_count": 2,
   "id": "f99db8a1",
   "metadata": {},
   "outputs": [],
   "source": [
    "dataset = 'HIO'\n",
    "adata = anndata.read_h5ad('data/HIO_pp.h5ad')"
   ]
  },
  {
   "cell_type": "code",
   "execution_count": null,
   "id": "a318d27a",
   "metadata": {},
   "outputs": [],
   "source": [
    "#marker_genes = ['S100B','PLP1','STMN2','ELAVL4','CDH5','KDR','ECSCR','CLDN5','COL1A1','COL1A2',\\\n",
    "#                'DCN','ACTA2','TAGLN','ACTG2','MYLK','EPCAM','CDH1','CDX2','CLDN4']\n",
    "#vv.preprocess(adata, \n",
    "#              n_gene=2000, \n",
    "#              min_shared_counts=20, \n",
    "#              genes_retain=marker_genes, \n",
    "#              compute_umap=True, \n",
    "#              keep_raw=True)"
   ]
  },
  {
   "cell_type": "code",
   "execution_count": 3,
   "id": "df66c63b",
   "metadata": {},
   "outputs": [],
   "source": [
    "model_path_base = f'checkpoints/{dataset}'\n",
    "figure_path_base = f'figures/{dataset}'\n",
    "data_path = f'data/velovae/continuous/{dataset}'\n",
    "gene_plot = ['PLP1','ECSCR', 'COL1A1', 'EPCAM']"
   ]
  },
  {
   "cell_type": "markdown",
   "id": "ccb1af72",
   "metadata": {},
   "source": [
    "# Informative Time Prior"
   ]
  },
  {
   "cell_type": "code",
   "execution_count": 4,
   "id": "1393881b",
   "metadata": {},
   "outputs": [],
   "source": [
    "day = adata.obs['Day']\n",
    "tprior = np.array([float(x[1:]) for x in day])\n",
    "adata.obs['tprior'] = tprior - tprior.min()"
   ]
  },
  {
   "cell_type": "markdown",
   "id": "34702612",
   "metadata": {},
   "source": [
    "# Vanilla VAE"
   ]
  },
  {
   "cell_type": "code",
   "execution_count": 5,
   "id": "2f718253",
   "metadata": {},
   "outputs": [
    {
     "name": "stdout",
     "output_type": "stream",
     "text": [
      "Initialization using prior time.\n",
      "Estimating ODE parameters...\n"
     ]
    },
    {
     "data": {
      "application/vnd.jupyter.widget-view+json": {
       "model_id": "44148f7db6f84b7db244324ab63148b0",
       "version_major": 2,
       "version_minor": 0
      },
      "text/plain": [
       "  0%|          | 0/2002 [00:00<?, ?it/s]"
      ]
     },
     "metadata": {},
     "output_type": "display_data"
    },
    {
     "name": "stdout",
     "output_type": "stream",
     "text": [
      "Estimating the variance...\n"
     ]
    },
    {
     "data": {
      "application/vnd.jupyter.widget-view+json": {
       "model_id": "3a5bfba3814e4e39905a22718077f4a6",
       "version_major": 2,
       "version_minor": 0
      },
      "text/plain": [
       "  0%|          | 0/2002 [00:00<?, ?it/s]"
      ]
     },
     "metadata": {},
     "output_type": "display_data"
    },
    {
     "name": "stdout",
     "output_type": "stream",
     "text": [
      "Reinitialize the regular ODE parameters based on estimated global latent time.\n"
     ]
    },
    {
     "data": {
      "application/vnd.jupyter.widget-view+json": {
       "model_id": "cd8b9cca75ba4defa98177eb7997fe90",
       "version_major": 2,
       "version_minor": 0
      },
      "text/plain": [
       "  0%|          | 0/2002 [00:00<?, ?it/s]"
      ]
     },
     "metadata": {},
     "output_type": "display_data"
    },
    {
     "name": "stdout",
     "output_type": "stream",
     "text": [
      "Gaussian Prior.\n",
      "Using informative time prior.\n",
      "------------------------- Train a Vanilla VAE -------------------------\n",
      "*********        Creating Training/Validation Datasets        *********\n",
      "*********                      Finished.                      *********\n",
      "*********                 Creating optimizers                 *********\n",
      "*********                      Finished.                      *********\n",
      "*********                    Start training                   *********\n",
      "Total Number of Iterations Per Epoch: 149, test iteration: 296\n",
      "********* Early Stop Triggered at epoch 106. *********\n",
      "*********              Finished. Total Time =   0 h :  3 m : 25 s             *********\n",
      "Final: Train ELBO = 3643.568,           Test ELBO = 3639.790\n"
     ]
    }
   ],
   "source": [
    "figure_path = f'{figure_path_base}/Vanilla'\n",
    "model_path = f'{model_path_base}/Vanilla'\n",
    "\n",
    "torch.manual_seed(2022)\n",
    "np.random.seed(2022)\n",
    "\n",
    "vanilla_vae = vv.VanillaVAE(adata, \n",
    "                            tmax=20, \n",
    "                            device='cuda:0',\n",
    "                            init_method='tprior',\n",
    "                            init_key='tprior',\n",
    "                            tprior='tprior')\n",
    "\n",
    "vanilla_vae.train(adata, plot=False, gene_plot=gene_plot, figure_path=figure_path)\n",
    "\n",
    "vanilla_vae.save_model(model_path, 'encoder','decoder')\n",
    "vanilla_vae.save_anndata(adata, 'vanilla', data_path, file_name=f'{dataset}.h5ad')"
   ]
  },
  {
   "cell_type": "markdown",
   "id": "0e9dd783",
   "metadata": {},
   "source": [
    "# VeloVAE"
   ]
  },
  {
   "cell_type": "code",
   "execution_count": 6,
   "id": "30e2929b",
   "metadata": {},
   "outputs": [
    {
     "name": "stdout",
     "output_type": "stream",
     "text": [
      "Initialization using prior time.\n",
      "Estimating ODE parameters...\n"
     ]
    },
    {
     "data": {
      "application/vnd.jupyter.widget-view+json": {
       "model_id": "f171ded21495461fbb6ea139bbc82412",
       "version_major": 2,
       "version_minor": 0
      },
      "text/plain": [
       "  0%|          | 0/2002 [00:00<?, ?it/s]"
      ]
     },
     "metadata": {},
     "output_type": "display_data"
    },
    {
     "name": "stdout",
     "output_type": "stream",
     "text": [
      "Estimating the variance...\n"
     ]
    },
    {
     "data": {
      "application/vnd.jupyter.widget-view+json": {
       "model_id": "bd3947e4f94441ae9e3a7a5e3094ef84",
       "version_major": 2,
       "version_minor": 0
      },
      "text/plain": [
       "  0%|          | 0/2002 [00:00<?, ?it/s]"
      ]
     },
     "metadata": {},
     "output_type": "display_data"
    },
    {
     "name": "stdout",
     "output_type": "stream",
     "text": [
      "Reinitialize the regular ODE parameters based on estimated global latent time.\n"
     ]
    },
    {
     "data": {
      "application/vnd.jupyter.widget-view+json": {
       "model_id": "91e3a4047cff4b8babd97937b670c9a1",
       "version_major": 2,
       "version_minor": 0
      },
      "text/plain": [
       "  0%|          | 0/2002 [00:00<?, ?it/s]"
      ]
     },
     "metadata": {},
     "output_type": "display_data"
    },
    {
     "name": "stdout",
     "output_type": "stream",
     "text": [
      "Gaussian Prior.\n",
      "Using informative time prior.\n",
      "--------------------------- Train a VeloVAE ---------------------------\n",
      "*********        Creating Training/Validation Datasets        *********\n",
      "*********                      Finished.                      *********\n",
      "*********                 Creating optimizers                 *********\n",
      "*********                      Finished.                      *********\n",
      "*********                    Start training                   *********\n",
      "*********                      Stage  1                       *********\n",
      "Total Number of Iterations Per Epoch: 149, test iteration: 296\n",
      "*********       Stage 1: Early Stop Triggered at epoch 146.       *********\n",
      "*********                      Stage  2                       *********\n",
      "Cell-wise KNN Estimation.\n"
     ]
    },
    {
     "data": {
      "application/vnd.jupyter.widget-view+json": {
       "model_id": "ed2a7e05ec424537a53464e0c31fb80c",
       "version_major": 2,
       "version_minor": 0
      },
      "text/plain": [
       "  0%|          | 0/27086 [00:00<?, ?it/s]"
      ]
     },
     "metadata": {},
     "output_type": "display_data"
    },
    {
     "name": "stdout",
     "output_type": "stream",
     "text": [
      "Percentage of Invalid Sets: 0.017\n",
      "Average Set Size: 1031\n",
      "Finished. Actual Time:   0 h :  0 m : 35 s\n",
      "*********       Stage 2: Early Stop Triggered at epoch 168.       *********\n",
      "*********              Finished. Total Time =   0 h :  6 m : 31 s             *********\n",
      "Final: Train ELBO = 3886.803,           Test ELBO = 3879.228\n"
     ]
    }
   ],
   "source": [
    "figure_path = f'{figure_path_base}/VeloVAE'\n",
    "model_path = f'{model_path_base}/VeloVAE'\n",
    "\n",
    "torch.manual_seed(2022)\n",
    "np.random.seed(2022)\n",
    "vae = vv.VAE(adata, \n",
    "             tmax=20, \n",
    "             dim_z=5, \n",
    "             device='cuda:0',\n",
    "             init_method='tprior',\n",
    "             init_key='tprior',\n",
    "             tprior='tprior',\n",
    "             init_ton_zero=False)\n",
    "\n",
    "\n",
    "vae.train(adata, plot=False, gene_plot=gene_plot, figure_path=figure_path)\n",
    "\n",
    "vae.save_model(model_path, 'encoder', 'decoder')\n",
    "vae.save_anndata(adata, 'velovae', data_path, file_name=f'{dataset}.h5ad')"
   ]
  },
  {
   "cell_type": "markdown",
   "id": "e27a19a3",
   "metadata": {},
   "source": [
    "# Full VB"
   ]
  },
  {
   "cell_type": "code",
   "execution_count": 7,
   "id": "d2c932ae",
   "metadata": {},
   "outputs": [
    {
     "name": "stdout",
     "output_type": "stream",
     "text": [
      "Initialization using prior time.\n",
      "Estimating ODE parameters...\n"
     ]
    },
    {
     "data": {
      "application/vnd.jupyter.widget-view+json": {
       "model_id": "d1f07690a70c4236bd7ced1a5eb7874d",
       "version_major": 2,
       "version_minor": 0
      },
      "text/plain": [
       "  0%|          | 0/2002 [00:00<?, ?it/s]"
      ]
     },
     "metadata": {},
     "output_type": "display_data"
    },
    {
     "name": "stdout",
     "output_type": "stream",
     "text": [
      "Estimating the variance...\n"
     ]
    },
    {
     "data": {
      "application/vnd.jupyter.widget-view+json": {
       "model_id": "3061728e692b49d8b4c644f6cd0844ac",
       "version_major": 2,
       "version_minor": 0
      },
      "text/plain": [
       "  0%|          | 0/2002 [00:00<?, ?it/s]"
      ]
     },
     "metadata": {},
     "output_type": "display_data"
    },
    {
     "name": "stdout",
     "output_type": "stream",
     "text": [
      "Reinitialize the regular ODE parameters based on estimated global latent time.\n"
     ]
    },
    {
     "data": {
      "application/vnd.jupyter.widget-view+json": {
       "model_id": "5da6ac149afa441cacab7bf22a9df047",
       "version_major": 2,
       "version_minor": 0
      },
      "text/plain": [
       "  0%|          | 0/2002 [00:00<?, ?it/s]"
      ]
     },
     "metadata": {},
     "output_type": "display_data"
    },
    {
     "name": "stdout",
     "output_type": "stream",
     "text": [
      "Gaussian Prior.\n",
      "Using informative time prior.\n",
      "--------------------------- Train a VeloVAE ---------------------------\n",
      "*********        Creating Training/Validation Datasets        *********\n",
      "*********                      Finished.                      *********\n",
      "*********                 Creating optimizers                 *********\n",
      "*********                      Finished.                      *********\n",
      "*********                    Start training                   *********\n",
      "*********                      Stage  1                       *********\n",
      "Total Number of Iterations Per Epoch: 149, test iteration: 296\n",
      "*********       Stage 1: Early Stop Triggered at epoch 185.       *********\n",
      "*********                      Stage  2                       *********\n",
      "Cell-wise KNN Estimation.\n"
     ]
    },
    {
     "data": {
      "application/vnd.jupyter.widget-view+json": {
       "model_id": "4a9bcbe914d04513ab3efb2bd912860c",
       "version_major": 2,
       "version_minor": 0
      },
      "text/plain": [
       "  0%|          | 0/27086 [00:00<?, ?it/s]"
      ]
     },
     "metadata": {},
     "output_type": "display_data"
    },
    {
     "name": "stdout",
     "output_type": "stream",
     "text": [
      "Percentage of Invalid Sets: 0.043\n",
      "Average Set Size: 951\n",
      "Finished. Actual Time:   0 h :  0 m : 34 s\n",
      "*********       Stage 2: Early Stop Triggered at epoch 213.       *********\n",
      "*********              Finished. Total Time =   0 h :  8 m : 58 s             *********\n",
      "Final: Train ELBO = 3871.534,           Test ELBO = 3860.804\n"
     ]
    }
   ],
   "source": [
    "figure_path = f'{figure_path_base}/FullVB'\n",
    "model_path = f'{model_path_base}/FullVB'\n",
    "\n",
    "torch.manual_seed(2022)\n",
    "np.random.seed(2022)\n",
    "full_vb = vv.VAEFullVB(adata, \n",
    "                       tmax=20, \n",
    "                       dim_z=5, \n",
    "                       device='cuda:0',\n",
    "                       init_method='tprior',\n",
    "                       init_key='tprior',\n",
    "                       tprior='tprior',\n",
    "                       init_ton_zero=False)\n",
    "\n",
    "full_vb.train(adata, plot=False, gene_plot=gene_plot, figure_path=figure_path)\n",
    "\n",
    "full_vb.save_model(model_path, 'encoder','decoder')\n",
    "full_vb.save_anndata(adata, 'fullvb', data_path, file_name=f'{dataset}.h5ad')"
   ]
  },
  {
   "cell_type": "markdown",
   "id": "28188e24",
   "metadata": {},
   "source": [
    "# Evaluation"
   ]
  },
  {
   "cell_type": "code",
   "execution_count": 9,
   "id": "4524ecd0",
   "metadata": {
    "scrolled": false
   },
   "outputs": [
    {
     "name": "stdout",
     "output_type": "stream",
     "text": [
      "---     Computing Peformance Metrics     ---\n",
      "Dataset Size: 27086 cells, 2002 genes\n",
      "---   Plotting  Results   ---\n"
     ]
    },
    {
     "data": {
      "text/html": [
       "<div>\n",
       "<style scoped>\n",
       "    .dataframe tbody tr th:only-of-type {\n",
       "        vertical-align: middle;\n",
       "    }\n",
       "\n",
       "    .dataframe tbody tr th {\n",
       "        vertical-align: top;\n",
       "    }\n",
       "\n",
       "    .dataframe thead th {\n",
       "        text-align: right;\n",
       "    }\n",
       "</style>\n",
       "<table border=\"1\" class=\"dataframe\">\n",
       "  <thead>\n",
       "    <tr style=\"text-align: right;\">\n",
       "      <th></th>\n",
       "      <th>Vanilla VAE</th>\n",
       "      <th>VeloVAE</th>\n",
       "      <th>FullVB</th>\n",
       "    </tr>\n",
       "  </thead>\n",
       "  <tbody>\n",
       "    <tr>\n",
       "      <th>MSE Train</th>\n",
       "      <td>2.591</td>\n",
       "      <td>0.279</td>\n",
       "      <td>0.388</td>\n",
       "    </tr>\n",
       "    <tr>\n",
       "      <th>MSE Test</th>\n",
       "      <td>2.625</td>\n",
       "      <td>0.294</td>\n",
       "      <td>0.413</td>\n",
       "    </tr>\n",
       "    <tr>\n",
       "      <th>MAE Train</th>\n",
       "      <td>0.208</td>\n",
       "      <td>0.112</td>\n",
       "      <td>0.120</td>\n",
       "    </tr>\n",
       "    <tr>\n",
       "      <th>MAE Test</th>\n",
       "      <td>0.208</td>\n",
       "      <td>0.113</td>\n",
       "      <td>0.122</td>\n",
       "    </tr>\n",
       "    <tr>\n",
       "      <th>LL Train</th>\n",
       "      <td>3648.673</td>\n",
       "      <td>3904.186</td>\n",
       "      <td>3890.291</td>\n",
       "    </tr>\n",
       "    <tr>\n",
       "      <th>LL Test</th>\n",
       "      <td>3644.886</td>\n",
       "      <td>3896.514</td>\n",
       "      <td>3882.405</td>\n",
       "    </tr>\n",
       "    <tr>\n",
       "      <th>corr</th>\n",
       "      <td>-0.336</td>\n",
       "      <td>0.884</td>\n",
       "      <td>0.889</td>\n",
       "    </tr>\n",
       "    <tr>\n",
       "      <th>In-Cluster Coherence</th>\n",
       "      <td>0.925</td>\n",
       "      <td>0.615</td>\n",
       "      <td>0.791</td>\n",
       "    </tr>\n",
       "  </tbody>\n",
       "</table>\n",
       "</div>"
      ],
      "text/plain": [
       "                      Vanilla VAE   VeloVAE    FullVB\n",
       "MSE Train                   2.591     0.279     0.388\n",
       "MSE Test                    2.625     0.294     0.413\n",
       "MAE Train                   0.208     0.112     0.120\n",
       "MAE Test                    0.208     0.113     0.122\n",
       "LL Train                 3648.673  3904.186  3890.291\n",
       "LL Test                  3644.886  3896.514  3882.405\n",
       "corr                       -0.336     0.884     0.889\n",
       "In-Cluster Coherence        0.925     0.615     0.791"
      ]
     },
     "execution_count": 9,
     "metadata": {},
     "output_type": "execute_result"
    }
   ],
   "source": [
    "vv.post_analysis(adata,\n",
    "                 'eval',\n",
    "                 ['Vanilla VAE', 'VeloVAE', 'FullVB'],\n",
    "                 ['vanilla', 'velovae', 'fullvb'],\n",
    "                 compute_metrics=True,\n",
    "                 plot_type=[],\n",
    "                 genes=gene_plot,\n",
    "                 grid_size=(1,4),\n",
    "                 save_path=data_path)"
   ]
  }
 ],
 "metadata": {
  "kernelspec": {
   "display_name": "Python 3",
   "language": "python",
   "name": "python3"
  },
  "language_info": {
   "codemirror_mode": {
    "name": "ipython",
    "version": 3
   },
   "file_extension": ".py",
   "mimetype": "text/x-python",
   "name": "python",
   "nbconvert_exporter": "python",
   "pygments_lexer": "ipython3",
   "version": "3.9.7"
  }
 },
 "nbformat": 4,
 "nbformat_minor": 5
}
