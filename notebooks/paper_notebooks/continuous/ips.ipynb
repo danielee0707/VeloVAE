{
 "cells": [
  {
   "cell_type": "code",
   "execution_count": 1,
   "id": "544a343d",
   "metadata": {},
   "outputs": [],
   "source": [
    "import anndata\n",
    "import numpy as np\n",
    "import sys\n",
    "import torch\n",
    "sys.path.append('../../../')\n",
    "import velovae as vv"
   ]
  },
  {
   "cell_type": "code",
   "execution_count": 2,
   "id": "225e7263",
   "metadata": {},
   "outputs": [],
   "source": [
    "dataset = 'IPSC'\n",
    "adata = anndata.read_h5ad(f'data/{dataset}_pp.h5ad')"
   ]
  },
  {
   "cell_type": "code",
   "execution_count": null,
   "id": "71a1b409",
   "metadata": {},
   "outputs": [],
   "source": [
    "#vv.preprocess(adata, n_gene=2000, min_shared_counts=20, compute_umap=True)\n",
    "#adata.write_h5ad(f'data/{dataset}_pp.h5ad')"
   ]
  },
  {
   "cell_type": "code",
   "execution_count": 3,
   "id": "eca6d730",
   "metadata": {},
   "outputs": [],
   "source": [
    "model_path_base = f'checkpoints/{dataset}'\n",
    "figure_path_base = f'figures/{dataset}'\n",
    "data_path = f'data/velovae/continuous/{dataset}'\n",
    "gene_plot = ['Vim','Nr2f1', 'Krt7', 'H19']"
   ]
  },
  {
   "cell_type": "markdown",
   "id": "6b8619f6",
   "metadata": {},
   "source": [
    "# Informative Time Prior"
   ]
  },
  {
   "cell_type": "code",
   "execution_count": 4,
   "id": "ccbd7ec0",
   "metadata": {},
   "outputs": [],
   "source": [
    "tprior = adata.obs[\"day\"].to_numpy()\n",
    "tprior = np.array([float(x) for x in tprior])\n",
    "adata.obs[\"tprior\"] = tprior - tprior.min()"
   ]
  },
  {
   "cell_type": "markdown",
   "id": "050c3695",
   "metadata": {},
   "source": [
    "# Train a Vanilla VAE"
   ]
  },
  {
   "cell_type": "code",
   "execution_count": 5,
   "id": "b0fd3f3c",
   "metadata": {},
   "outputs": [
    {
     "name": "stdout",
     "output_type": "stream",
     "text": [
      "Initialization using prior time.\n",
      "Estimating ODE parameters...\n"
     ]
    },
    {
     "data": {
      "application/vnd.jupyter.widget-view+json": {
       "model_id": "db6fcfa33cde4ec8a4b4dbba3d61595f",
       "version_major": 2,
       "version_minor": 0
      },
      "text/plain": [
       "  0%|          | 0/2000 [00:00<?, ?it/s]"
      ]
     },
     "metadata": {},
     "output_type": "display_data"
    },
    {
     "name": "stdout",
     "output_type": "stream",
     "text": [
      "Estimating the variance...\n"
     ]
    },
    {
     "data": {
      "application/vnd.jupyter.widget-view+json": {
       "model_id": "74bd34d0262548cca152704a6930f768",
       "version_major": 2,
       "version_minor": 0
      },
      "text/plain": [
       "  0%|          | 0/2000 [00:00<?, ?it/s]"
      ]
     },
     "metadata": {},
     "output_type": "display_data"
    },
    {
     "name": "stdout",
     "output_type": "stream",
     "text": [
      "Reinitialize the regular ODE parameters based on estimated global latent time.\n"
     ]
    },
    {
     "data": {
      "application/vnd.jupyter.widget-view+json": {
       "model_id": "d0ff7cfbc29f4434bda58c9a30c4d1d7",
       "version_major": 2,
       "version_minor": 0
      },
      "text/plain": [
       "  0%|          | 0/2000 [00:00<?, ?it/s]"
      ]
     },
     "metadata": {},
     "output_type": "display_data"
    },
    {
     "name": "stdout",
     "output_type": "stream",
     "text": [
      "Gaussian Prior.\n",
      "Using informative time prior.\n",
      "------------------------- Train a Vanilla VAE -------------------------\n",
      "*********        Creating Training/Validation Datasets        *********\n",
      "*********                      Finished.                      *********\n",
      "*********                 Creating optimizers                 *********\n",
      "*********                      Finished.                      *********\n",
      "*********                    Start training                   *********\n",
      "Total Number of Iterations Per Epoch: 146, test iteration: 290\n",
      "********* Early Stop Triggered at epoch 181. *********\n",
      "*********              Finished. Total Time =   0 h :  5 m :  2 s             *********\n",
      "Final: Train ELBO = 82.072,           Test ELBO = 81.929\n"
     ]
    }
   ],
   "source": [
    "figure_path = f'{figure_path_base}/Vanilla'\n",
    "model_path = f'{model_path_base}/Vanilla'\n",
    "\n",
    "torch.manual_seed(2022)\n",
    "np.random.seed(2022)\n",
    "\n",
    "vanilla_vae = vv.VanillaVAE(adata, \n",
    "                            tmax=20, \n",
    "                            device='cuda:0',\n",
    "                            init_method='tprior',\n",
    "                            init_key='tprior',\n",
    "                            tprior='tprior')\n",
    "\n",
    "vanilla_vae.train(adata, plot=False, gene_plot=gene_plot, figure_path=figure_path, embed='embed')\n",
    "\n",
    "vanilla_vae.save_model(model_path, 'encoder', 'decoder')\n",
    "vanilla_vae.save_anndata(adata, 'vanilla', data_path, file_name=f'{dataset}.h5ad')"
   ]
  },
  {
   "cell_type": "markdown",
   "id": "65b87b45",
   "metadata": {},
   "source": [
    "# Train a VeloVAE"
   ]
  },
  {
   "cell_type": "code",
   "execution_count": 6,
   "id": "a0833051",
   "metadata": {},
   "outputs": [
    {
     "name": "stdout",
     "output_type": "stream",
     "text": [
      "Initialization using prior time.\n",
      "Estimating ODE parameters...\n"
     ]
    },
    {
     "data": {
      "application/vnd.jupyter.widget-view+json": {
       "model_id": "ef7f3fdf0ec94d53a55bb512e6acbeb3",
       "version_major": 2,
       "version_minor": 0
      },
      "text/plain": [
       "  0%|          | 0/2000 [00:00<?, ?it/s]"
      ]
     },
     "metadata": {},
     "output_type": "display_data"
    },
    {
     "name": "stdout",
     "output_type": "stream",
     "text": [
      "Estimating the variance...\n"
     ]
    },
    {
     "data": {
      "application/vnd.jupyter.widget-view+json": {
       "model_id": "5ea85770a9e84e25be6d94af32bd2877",
       "version_major": 2,
       "version_minor": 0
      },
      "text/plain": [
       "  0%|          | 0/2000 [00:00<?, ?it/s]"
      ]
     },
     "metadata": {},
     "output_type": "display_data"
    },
    {
     "name": "stdout",
     "output_type": "stream",
     "text": [
      "Reinitialize the regular ODE parameters based on estimated global latent time.\n"
     ]
    },
    {
     "data": {
      "application/vnd.jupyter.widget-view+json": {
       "model_id": "6b383c7609914f03a9b0fa5d87075a51",
       "version_major": 2,
       "version_minor": 0
      },
      "text/plain": [
       "  0%|          | 0/2000 [00:00<?, ?it/s]"
      ]
     },
     "metadata": {},
     "output_type": "display_data"
    },
    {
     "name": "stdout",
     "output_type": "stream",
     "text": [
      "Gaussian Prior.\n",
      "Using informative time prior.\n",
      "--------------------------- Train a VeloVAE ---------------------------\n",
      "*********        Creating Training/Validation Datasets        *********\n",
      "*********                      Finished.                      *********\n",
      "*********                 Creating optimizers                 *********\n",
      "*********                      Finished.                      *********\n",
      "*********                    Start training                   *********\n",
      "*********                      Stage  1                       *********\n",
      "Total Number of Iterations Per Epoch: 146, test iteration: 290\n",
      "*********       Stage 1: Early Stop Triggered at epoch 390.       *********\n",
      "*********                      Stage  2                       *********\n",
      "Cell-wise KNN Estimation.\n"
     ]
    },
    {
     "data": {
      "application/vnd.jupyter.widget-view+json": {
       "model_id": "e4a5eb1249aa432f9978257b5d1834aa",
       "version_major": 2,
       "version_minor": 0
      },
      "text/plain": [
       "  0%|          | 0/26682 [00:00<?, ?it/s]"
      ]
     },
     "metadata": {},
     "output_type": "display_data"
    },
    {
     "name": "stdout",
     "output_type": "stream",
     "text": [
      "Percentage of Invalid Sets: 0.017\n",
      "Average Set Size: 773\n",
      "Finished. Actual Time:   0 h :  0 m : 31 s\n",
      "*********       Stage 2: Early Stop Triggered at epoch 547.       *********\n",
      "*********              Finished. Total Time =   0 h : 17 m : 21 s             *********\n",
      "Final: Train ELBO = 1373.160,           Test ELBO = 1375.326\n"
     ]
    }
   ],
   "source": [
    "figure_path = f'{figure_path_base}/VeloVAE'\n",
    "model_path = f'{model_path_base}/VeloVAE'\n",
    "\n",
    "torch.manual_seed(2022)\n",
    "np.random.seed(2022)\n",
    "vae = vv.VAE(adata, \n",
    "             tmax=20, \n",
    "             dim_z=5, \n",
    "             device='cuda:0',\n",
    "             init_method='tprior',\n",
    "             init_key='tprior',\n",
    "             tprior='tprior',\n",
    "             init_ton_zero=False)\n",
    "\n",
    "vae.train(adata, plot=False, gene_plot=gene_plot, figure_path=figure_path, embed='embed')\n",
    "\n",
    "vae.save_model(model_path, 'encoder', 'decoder')\n",
    "vae.save_anndata(adata, 'velovae', data_path, file_name=f'{dataset}.h5ad')"
   ]
  },
  {
   "cell_type": "markdown",
   "id": "6044ee2c",
   "metadata": {},
   "source": [
    "# Train a FullVB"
   ]
  },
  {
   "cell_type": "code",
   "execution_count": 7,
   "id": "7f65a53d",
   "metadata": {},
   "outputs": [
    {
     "name": "stdout",
     "output_type": "stream",
     "text": [
      "Initialization using prior time.\n",
      "Estimating ODE parameters...\n"
     ]
    },
    {
     "data": {
      "application/vnd.jupyter.widget-view+json": {
       "model_id": "584954cf54f641b3affd2c57c9e43429",
       "version_major": 2,
       "version_minor": 0
      },
      "text/plain": [
       "  0%|          | 0/2000 [00:00<?, ?it/s]"
      ]
     },
     "metadata": {},
     "output_type": "display_data"
    },
    {
     "name": "stdout",
     "output_type": "stream",
     "text": [
      "Estimating the variance...\n"
     ]
    },
    {
     "data": {
      "application/vnd.jupyter.widget-view+json": {
       "model_id": "7f67643540e14b7abb768255e7292065",
       "version_major": 2,
       "version_minor": 0
      },
      "text/plain": [
       "  0%|          | 0/2000 [00:00<?, ?it/s]"
      ]
     },
     "metadata": {},
     "output_type": "display_data"
    },
    {
     "name": "stdout",
     "output_type": "stream",
     "text": [
      "Reinitialize the regular ODE parameters based on estimated global latent time.\n"
     ]
    },
    {
     "data": {
      "application/vnd.jupyter.widget-view+json": {
       "model_id": "7192fbff2b1144718a115100d8394707",
       "version_major": 2,
       "version_minor": 0
      },
      "text/plain": [
       "  0%|          | 0/2000 [00:00<?, ?it/s]"
      ]
     },
     "metadata": {},
     "output_type": "display_data"
    },
    {
     "name": "stdout",
     "output_type": "stream",
     "text": [
      "Gaussian Prior.\n",
      "Using informative time prior.\n",
      "--------------------------- Train a VeloVAE ---------------------------\n",
      "*********        Creating Training/Validation Datasets        *********\n",
      "*********                      Finished.                      *********\n",
      "*********                 Creating optimizers                 *********\n",
      "*********                      Finished.                      *********\n",
      "*********                    Start training                   *********\n",
      "*********                      Stage  1                       *********\n",
      "Total Number of Iterations Per Epoch: 146, test iteration: 290\n",
      "*********       Stage 1: Early Stop Triggered at epoch 221.       *********\n",
      "*********                      Stage  2                       *********\n",
      "Cell-wise KNN Estimation.\n"
     ]
    },
    {
     "data": {
      "application/vnd.jupyter.widget-view+json": {
       "model_id": "ea964ea7a45d45298462178a4cca28b9",
       "version_major": 2,
       "version_minor": 0
      },
      "text/plain": [
       "  0%|          | 0/26682 [00:00<?, ?it/s]"
      ]
     },
     "metadata": {},
     "output_type": "display_data"
    },
    {
     "name": "stdout",
     "output_type": "stream",
     "text": [
      "Percentage of Invalid Sets: 0.011\n",
      "Average Set Size: 836\n",
      "Finished. Actual Time:   0 h :  0 m : 33 s\n",
      "*********       Stage 2: Early Stop Triggered at epoch 275.       *********\n",
      "*********              Finished. Total Time =   0 h : 10 m : 41 s             *********\n",
      "Final: Train ELBO = 1337.518,           Test ELBO = 1334.156\n"
     ]
    }
   ],
   "source": [
    "figure_path = f'{figure_path_base}/FullVB'\n",
    "model_path = f'{model_path_base}/FullVB'\n",
    "\n",
    "torch.manual_seed(2022)\n",
    "np.random.seed(2022)\n",
    "full_vb = vv.VAEFullVB(adata, \n",
    "                       tmax=20, \n",
    "                       dim_z=5, \n",
    "                       device='cuda:0',\n",
    "                       init_method='tprior',\n",
    "                       init_key='tprior',\n",
    "                       tprior='tprior',\n",
    "                       init_ton_zero=False)\n",
    "\n",
    "full_vb.train(adata, plot=False, gene_plot=gene_plot, figure_path=figure_path, embed='embed')\n",
    "\n",
    "full_vb.save_model(model_path, 'encoder','decoder')\n",
    "full_vb.save_anndata(adata, 'fullvb', data_path, file_name=f'{dataset}.h5ad')"
   ]
  },
  {
   "cell_type": "markdown",
   "id": "ddc7ad47",
   "metadata": {},
   "source": [
    "# Train a Branching ODE"
   ]
  },
  {
   "cell_type": "code",
   "execution_count": 8,
   "id": "eb8cbbe3",
   "metadata": {},
   "outputs": [
    {
     "name": "stdout",
     "output_type": "stream",
     "text": [
      "Graph Partition\n",
      "Number of partitions:  2\n",
      "Computing type-to-type transition probability\n",
      "Obtaining the MST in each partition\n",
      "Initialization using type-specific dynamical model.\n",
      "Estimating ODE parameters...\n"
     ]
    },
    {
     "data": {
      "application/vnd.jupyter.widget-view+json": {
       "model_id": "4c52090944ec4292845af64da900b840",
       "version_major": 2,
       "version_minor": 0
      },
      "text/plain": [
       "  0%|          | 0/2000 [00:00<?, ?it/s]"
      ]
     },
     "metadata": {},
     "output_type": "display_data"
    },
    {
     "name": "stdout",
     "output_type": "stream",
     "text": [
      "Estimating the variance...\n"
     ]
    },
    {
     "data": {
      "application/vnd.jupyter.widget-view+json": {
       "model_id": "86fbdad614bb453fbbe08f915e8d7413",
       "version_major": 2,
       "version_minor": 0
      },
      "text/plain": [
       "  0%|          | 0/2000 [00:00<?, ?it/s]"
      ]
     },
     "metadata": {},
     "output_type": "display_data"
    },
    {
     "name": "stdout",
     "output_type": "stream",
     "text": [
      "------------------------ Train a Branching ODE ------------------------\n",
      "             Epithelial  IPS  MET  Neural  Stromal  Trophoblast\n",
      "Epithelial          0.0  0.0  1.0     0.0      0.0          0.0\n",
      "IPS                 0.0  0.0  1.0     0.0      0.0          0.0\n",
      "MET                 0.0  0.0  1.0     0.0      0.0          0.0\n",
      "Neural              0.0  0.0  1.0     0.0      0.0          0.0\n",
      "Stromal             1.0  0.0  0.0     0.0      0.0          0.0\n",
      "Trophoblast         1.0  0.0  0.0     0.0      0.0          0.0\n",
      "*********        Creating Training/Validation Datasets        *********\n",
      "*********                      Finished.                      *********\n",
      "*********                 Creating optimizers                 *********\n",
      "*********                      Finished.                      *********\n",
      "*********                    Start training                   *********\n",
      "Total Number of Iterations Per Epoch: 146, test iteration: 290\n",
      "*********           Early Stop Triggered at epoch 112.            *********\n",
      "*********              Finished. Total Time =   0 h : 24 m : 36 s             *********\n"
     ]
    }
   ],
   "source": [
    "figure_path = f'{figure_path_base}/BrODE'\n",
    "model_path = f'{model_path_base}/BrODE'\n",
    "\n",
    "torch.manual_seed(2022)\n",
    "np.random.seed(2022)\n",
    "brode = vv.BrODE(adata, 'clusters', 'fullvb_time', 'fullvb_z')\n",
    "\n",
    "brode.train(adata, 'fullvb_time', 'clusters', plot=False, gene_plot=gene_plot, figure_path=figure_path)\n",
    "\n",
    "brode.save_model(model_path, 'brode')\n",
    "brode.save_anndata(adata, 'brode', data_path, file_name=f'{dataset}.h5ad')\n",
    "\n",
    "vv.plot_transition_graph(adata, save=f'{figure_path_base}/transition.png')"
   ]
  },
  {
   "cell_type": "markdown",
   "id": "fcc94af6",
   "metadata": {},
   "source": [
    "# Evaluation"
   ]
  },
  {
   "cell_type": "code",
   "execution_count": null,
   "id": "e6bda897",
   "metadata": {
    "scrolled": false
   },
   "outputs": [],
   "source": [
    "cluster_edges = [('MET','Epithelial'),\n",
    "                 ('Epithelial','IPS'),\n",
    "                 ('Epithelial','Neural'),\n",
    "                 ('Epithelial','Trophoblast'),\n",
    "                 ('Epithelial','Stromal')]\n",
    "vv.post_analysis(adata,\n",
    "                 'eval',\n",
    "                 ['Vanilla VAE','VeloVAE','FullVB','BrODE'],\n",
    "                 ['vanilla','velovae','fullvb','brode'],\n",
    "                 compute_metrics=True,\n",
    "                 genes=gene_plot,\n",
    "                 grid_size=(1,4),\n",
    "                 plot_type=['all'],\n",
    "                 save_path=figure_path_base,\n",
    "                 cluster_edges=cluster_edges)"
   ]
  }
 ],
 "metadata": {
  "kernelspec": {
   "display_name": "Python 3",
   "language": "python",
   "name": "python3"
  },
  "language_info": {
   "codemirror_mode": {
    "name": "ipython",
    "version": 3
   },
   "file_extension": ".py",
   "mimetype": "text/x-python",
   "name": "python",
   "nbconvert_exporter": "python",
   "pygments_lexer": "ipython3",
   "version": "3.9.7"
  }
 },
 "nbformat": 4,
 "nbformat_minor": 5
}
