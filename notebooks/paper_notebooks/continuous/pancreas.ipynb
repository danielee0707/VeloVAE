{
 "cells": [
  {
   "cell_type": "code",
   "execution_count": 1,
   "id": "544a343d",
   "metadata": {},
   "outputs": [],
   "source": [
    "import anndata\n",
    "import numpy as np\n",
    "import sys\n",
    "import torch\n",
    "sys.path.append('../../../')\n",
    "import velovae as vv"
   ]
  },
  {
   "cell_type": "code",
   "execution_count": 2,
   "id": "225e7263",
   "metadata": {},
   "outputs": [],
   "source": [
    "dataset = 'Pancreas'\n",
    "import scvelo as scv\n",
    "#adata = scv.datasets.pancreas()\n",
    "adata = anndata.read_h5ad(f'data/{dataset}_pp.h5ad')"
   ]
  },
  {
   "cell_type": "code",
   "execution_count": null,
   "id": "71a1b409",
   "metadata": {},
   "outputs": [],
   "source": [
    "# Uncomment this if data is not preprocessed\n",
    "#vv.preprocess(adata, n_gene=2000, min_shared_counts=20)\n",
    "#adata.write_h5ad(f'data/{dataset}_pp.h5ad')"
   ]
  },
  {
   "cell_type": "code",
   "execution_count": 3,
   "id": "2a48f21f",
   "metadata": {},
   "outputs": [],
   "source": [
    "model_path_base = f'checkpoints/{dataset}'\n",
    "figure_path_base = f'figures/{dataset}'\n",
    "data_path = f'data/velovae/continuous/{dataset}'\n",
    "gene_plot = ['Cpe','Gng12', 'Ppp3ca', 'Smoc1']"
   ]
  },
  {
   "cell_type": "markdown",
   "id": "050c3695",
   "metadata": {},
   "source": [
    "# Vanilla VAE"
   ]
  },
  {
   "cell_type": "code",
   "execution_count": 4,
   "id": "b0fd3f3c",
   "metadata": {},
   "outputs": [
    {
     "name": "stdout",
     "output_type": "stream",
     "text": [
      "Initialization using the steady-state and dynamical models.\n",
      "Estimating ODE parameters...\n"
     ]
    },
    {
     "data": {
      "application/vnd.jupyter.widget-view+json": {
       "model_id": "bb92267633f141a39248c0ef170a7e2f",
       "version_major": 2,
       "version_minor": 0
      },
      "text/plain": [
       "  0%|          | 0/2000 [00:00<?, ?it/s]"
      ]
     },
     "metadata": {},
     "output_type": "display_data"
    },
    {
     "name": "stdout",
     "output_type": "stream",
     "text": [
      "Estimating the variance...\n"
     ]
    },
    {
     "data": {
      "application/vnd.jupyter.widget-view+json": {
       "model_id": "60ad28644e79405eaaebf3c880be7b5e",
       "version_major": 2,
       "version_minor": 0
      },
      "text/plain": [
       "  0%|          | 0/2000 [00:00<?, ?it/s]"
      ]
     },
     "metadata": {},
     "output_type": "display_data"
    },
    {
     "name": "stdout",
     "output_type": "stream",
     "text": [
      "Reinitialize the regular ODE parameters based on estimated global latent time.\n"
     ]
    },
    {
     "data": {
      "application/vnd.jupyter.widget-view+json": {
       "model_id": "9cf31fbd392e4e90bd1387c4bf79b6af",
       "version_major": 2,
       "version_minor": 0
      },
      "text/plain": [
       "  0%|          | 0/2000 [00:00<?, ?it/s]"
      ]
     },
     "metadata": {},
     "output_type": "display_data"
    },
    {
     "name": "stdout",
     "output_type": "stream",
     "text": [
      "Gaussian Prior.\n",
      "------------------------- Train a Vanilla VAE -------------------------\n",
      "*********        Creating Training/Validation Datasets        *********\n",
      "*********                      Finished.                      *********\n",
      "*********                 Creating optimizers                 *********\n",
      "*********                      Finished.                      *********\n",
      "*********                    Start training                   *********\n",
      "Total Number of Iterations Per Epoch: 21, test iteration: 40\n",
      "********* Early Stop Triggered at epoch 471. *********\n",
      "*********              Finished. Total Time =   0 h :  2 m :  6 s             *********\n",
      "Final: Train ELBO = 1434.077,           Test ELBO = 1455.904\n"
     ]
    }
   ],
   "source": [
    "figure_path = f'{figure_path_base}/Vanilla'\n",
    "model_path = f'{model_path_base}/Vanilla'\n",
    "\n",
    "torch.manual_seed(2022)\n",
    "np.random.seed(2022)\n",
    "\n",
    "vanilla_vae = vv.VanillaVAE(adata, tmax=20, device='cuda:0')\n",
    "\n",
    "vanilla_vae.train(adata, plot=False, gene_plot=gene_plot, figure_path=figure_path)\n",
    "\n",
    "vanilla_vae.save_model(model_path, 'encoder', 'decoder')\n",
    "vanilla_vae.save_anndata(adata, 'vanilla', data_path, file_name=f'{dataset}.h5ad')"
   ]
  },
  {
   "cell_type": "markdown",
   "id": "65b87b45",
   "metadata": {},
   "source": [
    "# VeloVAE"
   ]
  },
  {
   "cell_type": "code",
   "execution_count": 5,
   "id": "a0833051",
   "metadata": {},
   "outputs": [
    {
     "name": "stdout",
     "output_type": "stream",
     "text": [
      "Initialization using the steady-state and dynamical models.\n",
      "Estimating ODE parameters...\n"
     ]
    },
    {
     "data": {
      "application/vnd.jupyter.widget-view+json": {
       "model_id": "f6221ba807c54706ad0ced4f55f9df28",
       "version_major": 2,
       "version_minor": 0
      },
      "text/plain": [
       "  0%|          | 0/2000 [00:00<?, ?it/s]"
      ]
     },
     "metadata": {},
     "output_type": "display_data"
    },
    {
     "name": "stdout",
     "output_type": "stream",
     "text": [
      "Estimating the variance...\n"
     ]
    },
    {
     "data": {
      "application/vnd.jupyter.widget-view+json": {
       "model_id": "9951f87c7d7e4ac98e7d4ff38e3834e1",
       "version_major": 2,
       "version_minor": 0
      },
      "text/plain": [
       "  0%|          | 0/2000 [00:00<?, ?it/s]"
      ]
     },
     "metadata": {},
     "output_type": "display_data"
    },
    {
     "name": "stdout",
     "output_type": "stream",
     "text": [
      "Reinitialize the regular ODE parameters based on estimated global latent time.\n"
     ]
    },
    {
     "data": {
      "application/vnd.jupyter.widget-view+json": {
       "model_id": "3f934537c2d342a7a9ecb041022aa35b",
       "version_major": 2,
       "version_minor": 0
      },
      "text/plain": [
       "  0%|          | 0/2000 [00:00<?, ?it/s]"
      ]
     },
     "metadata": {},
     "output_type": "display_data"
    },
    {
     "name": "stdout",
     "output_type": "stream",
     "text": [
      "Gaussian Prior.\n",
      "--------------------------- Train a VeloVAE ---------------------------\n",
      "*********        Creating Training/Validation Datasets        *********\n",
      "*********                      Finished.                      *********\n",
      "*********                 Creating optimizers                 *********\n",
      "*********                      Finished.                      *********\n",
      "*********                    Start training                   *********\n",
      "*********                      Stage  1                       *********\n",
      "Total Number of Iterations Per Epoch: 21, test iteration: 40\n",
      "*********       Stage 1: Early Stop Triggered at epoch 631.       *********\n",
      "*********                      Stage  2                       *********\n",
      "Cell-wise KNN Estimation.\n"
     ]
    },
    {
     "data": {
      "application/vnd.jupyter.widget-view+json": {
       "model_id": "33a5831a660b4e36a55dfc54f926e9db",
       "version_major": 2,
       "version_minor": 0
      },
      "text/plain": [
       "  0%|          | 0/3696 [00:00<?, ?it/s]"
      ]
     },
     "metadata": {},
     "output_type": "display_data"
    },
    {
     "name": "stdout",
     "output_type": "stream",
     "text": [
      "Percentage of Invalid Sets: 0.069\n",
      "Average Set Size: 107\n",
      "Finished. Actual Time:   0 h :  0 m :  3 s\n",
      "*********       Stage 2: Early Stop Triggered at epoch 950.       *********\n",
      "*********              Finished. Total Time =   0 h :  4 m : 50 s             *********\n",
      "Final: Train ELBO = 2025.948,           Test ELBO = 2028.874\n"
     ]
    }
   ],
   "source": [
    "figure_path = f'{figure_path_base}/VeloVAE'\n",
    "model_path = f'{model_path_base}/VeloVAE'\n",
    "\n",
    "torch.manual_seed(2022)\n",
    "np.random.seed(2022)\n",
    "\n",
    "vae = vv.VAE(adata, \n",
    "             tmax=20, \n",
    "             dim_z=5, \n",
    "             device='cuda:0')\n",
    "\n",
    "vae.train(adata, plot=False, gene_plot=gene_plot, figure_path=figure_path)\n",
    "\n",
    "vae.save_model(model_path, 'encoder', 'decoder')\n",
    "vae.save_anndata(adata, 'velovae', data_path, file_name=f'{dataset}.h5ad')"
   ]
  },
  {
   "cell_type": "markdown",
   "id": "6044ee2c",
   "metadata": {},
   "source": [
    "# Full VB"
   ]
  },
  {
   "cell_type": "code",
   "execution_count": 6,
   "id": "b7dfe7dd",
   "metadata": {},
   "outputs": [
    {
     "name": "stdout",
     "output_type": "stream",
     "text": [
      "Initialization using the steady-state and dynamical models.\n",
      "Estimating ODE parameters...\n"
     ]
    },
    {
     "data": {
      "application/vnd.jupyter.widget-view+json": {
       "model_id": "bb98182d82c24012822f31411db5df99",
       "version_major": 2,
       "version_minor": 0
      },
      "text/plain": [
       "  0%|          | 0/2000 [00:00<?, ?it/s]"
      ]
     },
     "metadata": {},
     "output_type": "display_data"
    },
    {
     "name": "stdout",
     "output_type": "stream",
     "text": [
      "Estimating the variance...\n"
     ]
    },
    {
     "data": {
      "application/vnd.jupyter.widget-view+json": {
       "model_id": "a2883d9c23644c908e9c35927b48c419",
       "version_major": 2,
       "version_minor": 0
      },
      "text/plain": [
       "  0%|          | 0/2000 [00:00<?, ?it/s]"
      ]
     },
     "metadata": {},
     "output_type": "display_data"
    },
    {
     "name": "stdout",
     "output_type": "stream",
     "text": [
      "Reinitialize the regular ODE parameters based on estimated global latent time.\n"
     ]
    },
    {
     "data": {
      "application/vnd.jupyter.widget-view+json": {
       "model_id": "b65d497abbbd409e870d74ddd5dffaf5",
       "version_major": 2,
       "version_minor": 0
      },
      "text/plain": [
       "  0%|          | 0/2000 [00:00<?, ?it/s]"
      ]
     },
     "metadata": {},
     "output_type": "display_data"
    },
    {
     "name": "stdout",
     "output_type": "stream",
     "text": [
      "Gaussian Prior.\n",
      "--------------------------- Train a VeloVAE ---------------------------\n",
      "*********        Creating Training/Validation Datasets        *********\n",
      "*********                      Finished.                      *********\n",
      "*********                 Creating optimizers                 *********\n",
      "*********                      Finished.                      *********\n",
      "*********                    Start training                   *********\n",
      "*********                      Stage  1                       *********\n",
      "Total Number of Iterations Per Epoch: 21, test iteration: 40\n",
      "*********       Stage 1: Early Stop Triggered at epoch 562.       *********\n",
      "*********                      Stage  2                       *********\n",
      "Cell-wise KNN Estimation.\n"
     ]
    },
    {
     "data": {
      "application/vnd.jupyter.widget-view+json": {
       "model_id": "36cb7e84eb724c589d36b18d902fe099",
       "version_major": 2,
       "version_minor": 0
      },
      "text/plain": [
       "  0%|          | 0/3696 [00:00<?, ?it/s]"
      ]
     },
     "metadata": {},
     "output_type": "display_data"
    },
    {
     "name": "stdout",
     "output_type": "stream",
     "text": [
      "Percentage of Invalid Sets: 0.061\n",
      "Average Set Size: 97\n",
      "Finished. Actual Time:   0 h :  0 m :  6 s\n",
      "*********       Stage 2: Early Stop Triggered at epoch 949.       *********\n",
      "*********              Finished. Total Time =   0 h :  9 m : 17 s             *********\n",
      "Final: Train ELBO = 1993.427,           Test ELBO = 1960.510\n"
     ]
    }
   ],
   "source": [
    "figure_path = f'{figure_path_base}/FullVB'\n",
    "model_path = f'{model_path_base}/FullVB'\n",
    "\n",
    "torch.manual_seed(2022)\n",
    "np.random.seed(2022)\n",
    "\n",
    "full_vb = vv.VAEFullVB(adata, \n",
    "                      tmax=20, \n",
    "                      dim_z=5, \n",
    "                      device='cuda:0')\n",
    "\n",
    "full_vb.train(adata, plot=False, gene_plot=gene_plot, figure_path=figure_path)\n",
    "\n",
    "full_vb.save_model(model_path, 'encoder', 'decoder')\n",
    "full_vb.save_anndata(adata, 'fullvb', data_path, file_name=f'{dataset}.h5ad')"
   ]
  },
  {
   "cell_type": "markdown",
   "id": "ddc7ad47",
   "metadata": {},
   "source": [
    "# Train a Branching ODE"
   ]
  },
  {
   "cell_type": "code",
   "execution_count": 7,
   "id": "7341f78f",
   "metadata": {},
   "outputs": [
    {
     "name": "stdout",
     "output_type": "stream",
     "text": [
      "Graph Partition\n",
      "Number of partitions:  1\n",
      "Computing type-to-type transition probability\n",
      "Obtaining the MST in each partition\n",
      "{0: [1, 2], 1: [2], 2: [], 3: [0, 1, 2, 3, 4, 5, 6, 7], 4: [0, 1, 2], 5: [0, 1, 2, 4, 7], 6: [0, 1, 2, 4, 5, 7], 7: [0, 1, 2, 4]}\n",
      "Initialization using type-specific dynamical model.\n",
      "Estimating ODE parameters...\n"
     ]
    },
    {
     "data": {
      "application/vnd.jupyter.widget-view+json": {
       "model_id": "e6643b6496d9444da83330460704a68b",
       "version_major": 2,
       "version_minor": 0
      },
      "text/plain": [
       "  0%|          | 0/2000 [00:00<?, ?it/s]"
      ]
     },
     "metadata": {},
     "output_type": "display_data"
    },
    {
     "name": "stdout",
     "output_type": "stream",
     "text": [
      "Estimating the variance...\n"
     ]
    },
    {
     "data": {
      "application/vnd.jupyter.widget-view+json": {
       "model_id": "a41794477c4c4ec9a33a3faad111ef5b",
       "version_major": 2,
       "version_minor": 0
      },
      "text/plain": [
       "  0%|          | 0/2000 [00:00<?, ?it/s]"
      ]
     },
     "metadata": {},
     "output_type": "display_data"
    },
    {
     "name": "stdout",
     "output_type": "stream",
     "text": [
      "               Alpha  Beta  Delta  Ductal  Epsilon  Ngn3 high EP  Ngn3 low EP  Pre-endocrine\n",
      "Alpha            0.0   0.0    0.0     0.0      0.0           0.0          0.0            1.0\n",
      "Beta             0.0   0.0    0.0     0.0      0.0           0.0          0.0            1.0\n",
      "Delta            1.0   0.0    0.0     0.0      0.0           0.0          0.0            0.0\n",
      "Ductal           0.0   0.0    0.0     1.0      0.0           0.0          0.0            0.0\n",
      "Epsilon          0.0   0.0    0.0     0.0      0.0           0.0          0.0            1.0\n",
      "Ngn3 high EP     0.0   0.0    0.0     0.0      0.0           0.0          1.0            0.0\n",
      "Ngn3 low EP      0.0   0.0    0.0     1.0      0.0           0.0          0.0            0.0\n",
      "Pre-endocrine    0.0   0.0    0.0     0.0      0.0           1.0          0.0            0.0\n",
      "------------------------ Train a Branching ODE ------------------------\n",
      "               Alpha  Beta  Delta  Ductal  Epsilon  Ngn3 high EP  Ngn3 low EP  Pre-endocrine\n",
      "Alpha            0.0   0.0    0.0     0.0      0.0           0.0          0.0            1.0\n",
      "Beta             0.0   0.0    0.0     0.0      0.0           0.0          0.0            1.0\n",
      "Delta            1.0   0.0    0.0     0.0      0.0           0.0          0.0            0.0\n",
      "Ductal           0.0   0.0    0.0     1.0      0.0           0.0          0.0            0.0\n",
      "Epsilon          0.0   0.0    0.0     0.0      0.0           0.0          0.0            1.0\n",
      "Ngn3 high EP     0.0   0.0    0.0     0.0      0.0           0.0          1.0            0.0\n",
      "Ngn3 low EP      0.0   0.0    0.0     1.0      0.0           0.0          0.0            0.0\n",
      "Pre-endocrine    0.0   0.0    0.0     0.0      0.0           1.0          0.0            0.0\n",
      "*********        Creating Training/Validation Datasets        *********\n",
      "*********                      Finished.                      *********\n",
      "*********                 Creating optimizers                 *********\n",
      "*********                      Finished.                      *********\n",
      "*********                    Start training                   *********\n",
      "Total Number of Iterations Per Epoch: 21, test iteration: 40\n",
      "*********           Early Stop Triggered at epoch 374.            *********\n",
      "*********              Finished. Total Time =   0 h : 10 m : 48 s             *********\n",
      "               Alpha  Beta  Delta  Ductal  Epsilon  Ngn3 high EP  Ngn3 low EP  Pre-endocrine\n",
      "Alpha            0.0   0.0    0.0     0.0      0.0           0.0          0.0            1.0\n",
      "Beta             0.0   0.0    0.0     0.0      0.0           0.0          0.0            1.0\n",
      "Delta            1.0   0.0    0.0     0.0      0.0           0.0          0.0            0.0\n",
      "Ductal           0.0   0.0    0.0     1.0      0.0           0.0          0.0            0.0\n",
      "Epsilon          0.0   0.0    0.0     0.0      0.0           0.0          0.0            1.0\n",
      "Ngn3 high EP     0.0   0.0    0.0     0.0      0.0           0.0          1.0            0.0\n",
      "Ngn3 low EP      0.0   0.0    0.0     1.0      0.0           0.0          0.0            0.0\n",
      "Pre-endocrine    0.0   0.0    0.0     0.0      0.0           1.0          0.0            0.0\n"
     ]
    }
   ],
   "source": [
    "figure_path = f'{figure_path_base}/BrODE'\n",
    "model_path = f'{model_path_base}/BrODE'\n",
    "\n",
    "torch.manual_seed(2022)\n",
    "np.random.seed(2022)\n",
    "brode = vv.BrODE(adata, 'clusters', 'fullvb_time', 'fullvb_z')\n",
    "\n",
    "brode.print_weight()\n",
    "brode.train(adata, 'fullvb_time', 'clusters', plot=False, gene_plot=gene_plot, figure_path=figure_path)\n",
    "\n",
    "brode.print_weight()\n",
    "\n",
    "brode.save_model(model_path, 'brode')\n",
    "brode.save_anndata(adata, 'brode', data_path, file_name=f'{dataset}.h5ad')\n",
    "\n",
    "vv.plot_transition_graph(adata, save=f'{figure_path_base}/transition.png')"
   ]
  },
  {
   "cell_type": "markdown",
   "id": "1cd0c192",
   "metadata": {},
   "source": [
    "# Evaluation"
   ]
  },
  {
   "cell_type": "code",
   "execution_count": null,
   "id": "6617151b",
   "metadata": {
    "scrolled": false
   },
   "outputs": [],
   "source": [
    "cluster_edges = [('Ngn3 high EP', 'Pre-endocrine'),\n",
    "                 ('Pre-endocrine', 'Delta'), \n",
    "                 ('Pre-endocrine', 'Beta'), \n",
    "                 ('Pre-endocrine','Epsilon'), \n",
    "                 ('Pre-endocrine','Alpha')]\n",
    "vv.post_analysis(adata,\n",
    "                 'eval',\n",
    "                 ['Vanilla VAE', 'VeloVAE', 'FullVB', 'BrODE'],\n",
    "                 ['vanilla', 'velovae', 'fullvb', 'brode'],\n",
    "                 compute_metrics=True,\n",
    "                 genes=gene_plot,\n",
    "                 grid_size=(1,4),\n",
    "                 plot_type=['all'],\n",
    "                 save_path=data_path,\n",
    "                 cluster_edges=cluster_edges)"
   ]
  }
 ],
 "metadata": {
  "kernelspec": {
   "display_name": "Python 3",
   "language": "python",
   "name": "python3"
  },
  "language_info": {
   "codemirror_mode": {
    "name": "ipython",
    "version": 3
   },
   "file_extension": ".py",
   "mimetype": "text/x-python",
   "name": "python",
   "nbconvert_exporter": "python",
   "pygments_lexer": "ipython3",
   "version": "3.9.7"
  }
 },
 "nbformat": 4,
 "nbformat_minor": 5
}
