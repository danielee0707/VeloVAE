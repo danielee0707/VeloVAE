{
 "cells": [
  {
   "cell_type": "code",
   "execution_count": 1,
   "id": "fc5e135c",
   "metadata": {},
   "outputs": [],
   "source": [
    "import anndata\n",
    "import numpy as np\n",
    "import sys\n",
    "import torch\n",
    "sys.path.append('../../../')\n",
    "import velovae as vv"
   ]
  },
  {
   "cell_type": "code",
   "execution_count": 2,
   "id": "e7c7a8b5",
   "metadata": {},
   "outputs": [],
   "source": [
    "dataset = 'BMMC'\n",
    "adata = anndata.read_h5ad('data/BMMC_pp.h5ad')\n",
    "adata.obs[\"clusters\"] = adata.obs['celltype.l2'].to_numpy()"
   ]
  },
  {
   "cell_type": "code",
   "execution_count": null,
   "id": "f5f66c8e",
   "metadata": {},
   "outputs": [],
   "source": [
    "# Uncomment this if data has not been preprocessed\n",
    "#vv.preprocess(adata, n_gene=2000, min_shared_counts=20, compute_umap=True)\n",
    "#adata.write_h5ad(f'{dataset}_pp.h5ad')"
   ]
  },
  {
   "cell_type": "code",
   "execution_count": 3,
   "id": "a93be94b",
   "metadata": {},
   "outputs": [],
   "source": [
    "model_path_base = f'checkpoints/{dataset}'\n",
    "figure_path_base = f'figures/{dataset}'\n",
    "data_path = f'data/velovae/continuous/{dataset}'\n",
    "gene_plot = ['SPINK2', 'AZU1', 'MPO', 'LYZ', 'CD74', 'HBB']"
   ]
  },
  {
   "cell_type": "markdown",
   "id": "3e1ebf1d",
   "metadata": {},
   "source": [
    "# Vanilla VAE"
   ]
  },
  {
   "cell_type": "code",
   "execution_count": 4,
   "id": "0ef9cb85",
   "metadata": {},
   "outputs": [
    {
     "name": "stdout",
     "output_type": "stream",
     "text": [
      "Initialization using the steady-state and dynamical models.\n",
      "Estimating ODE parameters...\n"
     ]
    },
    {
     "data": {
      "application/vnd.jupyter.widget-view+json": {
       "model_id": "3284cf17c8e0413dbb04f17678db1a84",
       "version_major": 2,
       "version_minor": 0
      },
      "text/plain": [
       "  0%|          | 0/2000 [00:00<?, ?it/s]"
      ]
     },
     "metadata": {},
     "output_type": "display_data"
    },
    {
     "name": "stdout",
     "output_type": "stream",
     "text": [
      "Estimating the variance...\n"
     ]
    },
    {
     "data": {
      "application/vnd.jupyter.widget-view+json": {
       "model_id": "82ce56a36d7943148f354039d3401081",
       "version_major": 2,
       "version_minor": 0
      },
      "text/plain": [
       "  0%|          | 0/2000 [00:00<?, ?it/s]"
      ]
     },
     "metadata": {},
     "output_type": "display_data"
    },
    {
     "name": "stdout",
     "output_type": "stream",
     "text": [
      "Reinitialize the regular ODE parameters based on estimated global latent time.\n"
     ]
    },
    {
     "data": {
      "application/vnd.jupyter.widget-view+json": {
       "model_id": "17b63857436841eb8882c8ebb0d56ec3",
       "version_major": 2,
       "version_minor": 0
      },
      "text/plain": [
       "  0%|          | 0/2000 [00:00<?, ?it/s]"
      ]
     },
     "metadata": {},
     "output_type": "display_data"
    },
    {
     "name": "stdout",
     "output_type": "stream",
     "text": [
      "Gaussian Prior.\n",
      "------------------------- Train a Vanilla VAE -------------------------\n",
      "*********        Creating Training/Validation Datasets        *********\n",
      "*********                      Finished.                      *********\n",
      "*********                 Creating optimizers                 *********\n",
      "*********                      Finished.                      *********\n",
      "*********                    Start training                   *********\n",
      "Total Number of Iterations Per Epoch: 112, test iteration: 222\n",
      "********* Early Stop Triggered at epoch 121. *********\n",
      "*********              Finished. Total Time =   0 h :  5 m : 10 s             *********\n",
      "Final: Train ELBO = 3495.039,           Test ELBO = 3506.253\n"
     ]
    }
   ],
   "source": [
    "figure_path = f'{figure_path_base}/Vanilla'\n",
    "model_path = f'{model_path_base}/Vanilla'\n",
    "\n",
    "torch.manual_seed(2023)\n",
    "np.random.seed(2023)\n",
    "\n",
    "vanilla_vae = vv.VanillaVAE(adata, tmax=20, device='cuda:0')\n",
    "\n",
    "vanilla_vae.train(adata, plot=False, gene_plot=gene_plot, figure_path=figure_path)\n",
    "\n",
    "vanilla_vae.save_model(model_path, 'encoder', 'decoder')\n",
    "vanilla_vae.save_anndata(adata, 'vanilla', data_path, file_name=f'{dataset}.h5ad')"
   ]
  },
  {
   "cell_type": "markdown",
   "id": "aff55841",
   "metadata": {},
   "source": [
    "# VeloVAE"
   ]
  },
  {
   "cell_type": "code",
   "execution_count": 5,
   "id": "b474c1db",
   "metadata": {},
   "outputs": [
    {
     "name": "stdout",
     "output_type": "stream",
     "text": [
      "Initialization using the steady-state and dynamical models.\n",
      "Estimating ODE parameters...\n"
     ]
    },
    {
     "data": {
      "application/vnd.jupyter.widget-view+json": {
       "model_id": "7ed26517740f473586816b5be6e6e9b5",
       "version_major": 2,
       "version_minor": 0
      },
      "text/plain": [
       "  0%|          | 0/2000 [00:00<?, ?it/s]"
      ]
     },
     "metadata": {},
     "output_type": "display_data"
    },
    {
     "name": "stdout",
     "output_type": "stream",
     "text": [
      "Estimating the variance...\n"
     ]
    },
    {
     "data": {
      "application/vnd.jupyter.widget-view+json": {
       "model_id": "b2e361d5e1ef40bfb48dd3ccf68fc019",
       "version_major": 2,
       "version_minor": 0
      },
      "text/plain": [
       "  0%|          | 0/2000 [00:00<?, ?it/s]"
      ]
     },
     "metadata": {},
     "output_type": "display_data"
    },
    {
     "name": "stdout",
     "output_type": "stream",
     "text": [
      "Reinitialize the regular ODE parameters based on estimated global latent time.\n"
     ]
    },
    {
     "data": {
      "application/vnd.jupyter.widget-view+json": {
       "model_id": "0a371ea7e0ae47a197198ca3f5f7b3fd",
       "version_major": 2,
       "version_minor": 0
      },
      "text/plain": [
       "  0%|          | 0/2000 [00:00<?, ?it/s]"
      ]
     },
     "metadata": {},
     "output_type": "display_data"
    },
    {
     "name": "stdout",
     "output_type": "stream",
     "text": [
      "Gaussian Prior.\n",
      "--------------------------- Train a VeloVAE ---------------------------\n",
      "*********        Creating Training/Validation Datasets        *********\n",
      "*********                      Finished.                      *********\n",
      "*********                 Creating optimizers                 *********\n",
      "*********                      Finished.                      *********\n",
      "*********                    Start training                   *********\n",
      "*********                      Stage  1                       *********\n",
      "Total Number of Iterations Per Epoch: 112, test iteration: 222\n",
      "*********       Stage 1: Early Stop Triggered at epoch 217.       *********\n",
      "*********                      Stage  2                       *********\n",
      "Cell-wise KNN Estimation.\n"
     ]
    },
    {
     "data": {
      "application/vnd.jupyter.widget-view+json": {
       "model_id": "f588edc819714d318cad9aac71cf56e8",
       "version_major": 2,
       "version_minor": 0
      },
      "text/plain": [
       "  0%|          | 0/20400 [00:00<?, ?it/s]"
      ]
     },
     "metadata": {},
     "output_type": "display_data"
    },
    {
     "name": "stdout",
     "output_type": "stream",
     "text": [
      "Percentage of Invalid Sets: 0.269\n",
      "Average Set Size: 576\n",
      "Finished. Actual Time:   0 h :  0 m : 19 s\n",
      "*********       Stage 2: Early Stop Triggered at epoch 372.       *********\n",
      "*********              Finished. Total Time =   0 h : 12 m : 16 s             *********\n",
      "Final: Train ELBO = 3942.816,           Test ELBO = 3945.155\n"
     ]
    }
   ],
   "source": [
    "figure_path = f'{figure_path_base}/VeloVAE'\n",
    "model_path = f'{model_path_base}/VeloVAE'\n",
    "\n",
    "torch.manual_seed(2022)\n",
    "np.random.seed(2022)\n",
    "\n",
    "vae = vv.VAE(adata, \n",
    "             tmax=20, \n",
    "             dim_z=5, \n",
    "             device='cuda:0')\n",
    "\n",
    "vae.train(adata, gene_plot=gene_plot, plot=False, figure_path=figure_path)\n",
    "vae.save_model(model_path, 'encoder', 'decoder')\n",
    "vae.save_anndata(adata, 'velovae', data_path, file_name=f'{dataset}.h5ad')"
   ]
  },
  {
   "cell_type": "markdown",
   "id": "0c592b29",
   "metadata": {},
   "source": [
    "# Full VB"
   ]
  },
  {
   "cell_type": "code",
   "execution_count": 6,
   "id": "b5a0024a",
   "metadata": {},
   "outputs": [
    {
     "name": "stdout",
     "output_type": "stream",
     "text": [
      "Initialization using the steady-state and dynamical models.\n",
      "Estimating ODE parameters...\n"
     ]
    },
    {
     "data": {
      "application/vnd.jupyter.widget-view+json": {
       "model_id": "2e8694bc8e074227aea5e57f22a57026",
       "version_major": 2,
       "version_minor": 0
      },
      "text/plain": [
       "  0%|          | 0/2000 [00:00<?, ?it/s]"
      ]
     },
     "metadata": {},
     "output_type": "display_data"
    },
    {
     "name": "stdout",
     "output_type": "stream",
     "text": [
      "Estimating the variance...\n"
     ]
    },
    {
     "data": {
      "application/vnd.jupyter.widget-view+json": {
       "model_id": "c995e4558d4d41799b606ca26bb1c048",
       "version_major": 2,
       "version_minor": 0
      },
      "text/plain": [
       "  0%|          | 0/2000 [00:00<?, ?it/s]"
      ]
     },
     "metadata": {},
     "output_type": "display_data"
    },
    {
     "name": "stdout",
     "output_type": "stream",
     "text": [
      "Reinitialize the regular ODE parameters based on estimated global latent time.\n"
     ]
    },
    {
     "data": {
      "application/vnd.jupyter.widget-view+json": {
       "model_id": "dc9f8dafa95b4c5c8868ba682c7ac08c",
       "version_major": 2,
       "version_minor": 0
      },
      "text/plain": [
       "  0%|          | 0/2000 [00:00<?, ?it/s]"
      ]
     },
     "metadata": {},
     "output_type": "display_data"
    },
    {
     "name": "stdout",
     "output_type": "stream",
     "text": [
      "Gaussian Prior.\n",
      "--------------------------- Train a VeloVAE ---------------------------\n",
      "*********        Creating Training/Validation Datasets        *********\n",
      "*********                      Finished.                      *********\n",
      "*********                 Creating optimizers                 *********\n",
      "*********                      Finished.                      *********\n",
      "*********                    Start training                   *********\n",
      "*********                      Stage  1                       *********\n",
      "Total Number of Iterations Per Epoch: 112, test iteration: 222\n",
      "*********       Stage 1: Early Stop Triggered at epoch 256.       *********\n",
      "*********                      Stage  2                       *********\n",
      "Cell-wise KNN Estimation.\n"
     ]
    },
    {
     "data": {
      "application/vnd.jupyter.widget-view+json": {
       "model_id": "bed6a8fe5c384e43a0179538618e8e74",
       "version_major": 2,
       "version_minor": 0
      },
      "text/plain": [
       "  0%|          | 0/20400 [00:00<?, ?it/s]"
      ]
     },
     "metadata": {},
     "output_type": "display_data"
    },
    {
     "name": "stdout",
     "output_type": "stream",
     "text": [
      "Percentage of Invalid Sets: 0.270\n",
      "Average Set Size: 609\n",
      "Finished. Actual Time:   0 h :  0 m : 20 s\n",
      "*********       Stage 2: Early Stop Triggered at epoch 369.       *********\n",
      "*********              Finished. Total Time =   0 h : 13 m : 43 s             *********\n",
      "Final: Train ELBO = 3917.174,           Test ELBO = 3918.884\n"
     ]
    }
   ],
   "source": [
    "figure_path = f'{figure_path_base}/FullVB'\n",
    "model_path = f'{model_path_base}/FullVB'\n",
    "\n",
    "torch.manual_seed(2022)\n",
    "np.random.seed(2022)\n",
    "\n",
    "full_vb = vv.VAEFullVB(adata, \n",
    "                      tmax=20, \n",
    "                      dim_z=5, \n",
    "                      device='cuda:0')\n",
    "\n",
    "full_vb.train(adata, plot=False, gene_plot=gene_plot, figure_path=figure_path)\n",
    "\n",
    "full_vb.save_model(model_path, 'encoder', 'decoder')\n",
    "full_vb.save_anndata(adata, 'fullvb', data_path, file_name=f'{dataset}.h5ad')"
   ]
  },
  {
   "cell_type": "markdown",
   "id": "f4403ae9",
   "metadata": {},
   "source": [
    "# Train a Branching ODE"
   ]
  },
  {
   "cell_type": "code",
   "execution_count": 7,
   "id": "ee7e1bea",
   "metadata": {
    "scrolled": false
   },
   "outputs": [
    {
     "name": "stdout",
     "output_type": "stream",
     "text": [
      "Graph Partition\n",
      "Number of partitions:  2\n",
      "Computing type-to-type transition probability\n",
      "Obtaining the MST in each partition\n",
      "Initialization using type-specific dynamical model.\n",
      "Estimating ODE parameters...\n"
     ]
    },
    {
     "data": {
      "application/vnd.jupyter.widget-view+json": {
       "model_id": "f1e00de8d35045068e3e0a124fd731bf",
       "version_major": 2,
       "version_minor": 0
      },
      "text/plain": [
       "  0%|          | 0/2000 [00:00<?, ?it/s]"
      ]
     },
     "metadata": {},
     "output_type": "display_data"
    },
    {
     "name": "stdout",
     "output_type": "stream",
     "text": [
      "Estimating the variance...\n"
     ]
    },
    {
     "data": {
      "application/vnd.jupyter.widget-view+json": {
       "model_id": "2f76f74c23b241cd93f50c326347648c",
       "version_major": 2,
       "version_minor": 0
      },
      "text/plain": [
       "  0%|          | 0/2000 [00:00<?, ?it/s]"
      ]
     },
     "metadata": {},
     "output_type": "display_data"
    },
    {
     "name": "stdout",
     "output_type": "stream",
     "text": [
      "                CD14 Mono  CD16 Mono  CD4 Memory  CD4 Naive  CD56 bright NK  CD8 Effector_1  CD8 Effector_2  CD8 Memory_1  CD8 Memory_2  CD8 Naive  GMP  HSC  LMPP  MAIT  Memory B   NK  Naive B  \\\n",
      "CD14 Mono             0.0        0.0         0.0        0.0             0.0             0.0             0.0           0.0           0.0        0.0  0.0  0.0   0.0   0.0       0.0  0.0      0.0   \n",
      "CD16 Mono             1.0        0.0         0.0        0.0             0.0             0.0             0.0           0.0           0.0        0.0  0.0  0.0   0.0   0.0       0.0  0.0      0.0   \n",
      "CD4 Memory            0.0        0.0         0.0        1.0             0.0             0.0             0.0           0.0           0.0        0.0  0.0  0.0   0.0   0.0       0.0  0.0      0.0   \n",
      "CD4 Naive             0.0        0.0         0.0        1.0             0.0             0.0             0.0           0.0           0.0        0.0  0.0  0.0   0.0   0.0       0.0  0.0      0.0   \n",
      "CD56 bright NK        0.0        0.0         1.0        0.0             0.0             0.0             0.0           0.0           0.0        0.0  0.0  0.0   0.0   0.0       0.0  0.0      0.0   \n",
      "CD8 Effector_1        0.0        0.0         0.0        0.0             0.0             0.0             0.0           0.0           1.0        0.0  0.0  0.0   0.0   0.0       0.0  0.0      0.0   \n",
      "CD8 Effector_2        0.0        0.0         0.0        0.0             0.0             0.0             0.0           0.0           1.0        0.0  0.0  0.0   0.0   0.0       0.0  0.0      0.0   \n",
      "CD8 Memory_1          0.0        0.0         1.0        0.0             0.0             0.0             0.0           0.0           0.0        0.0  0.0  0.0   0.0   0.0       0.0  0.0      0.0   \n",
      "CD8 Memory_2          0.0        0.0         0.0        0.0             0.0             0.0             0.0           1.0           0.0        0.0  0.0  0.0   0.0   0.0       0.0  0.0      0.0   \n",
      "CD8 Naive             0.0        0.0         0.0        1.0             0.0             0.0             0.0           0.0           0.0        0.0  0.0  0.0   0.0   0.0       0.0  0.0      0.0   \n",
      "GMP                   0.0        0.0         0.0        0.0             0.0             0.0             0.0           0.0           0.0        0.0  0.0  0.0   1.0   0.0       0.0  0.0      0.0   \n",
      "HSC                   0.0        0.0         0.0        0.0             0.0             0.0             0.0           0.0           0.0        0.0  0.0  0.0   0.0   0.0       1.0  0.0      0.0   \n",
      "LMPP                  0.0        0.0         0.0        0.0             0.0             0.0             0.0           0.0           0.0        0.0  0.0  1.0   0.0   0.0       0.0  0.0      0.0   \n",
      "MAIT                  0.0        0.0         1.0        0.0             0.0             0.0             0.0           0.0           0.0        0.0  0.0  0.0   0.0   0.0       0.0  0.0      0.0   \n",
      "Memory B              0.0        0.0         0.0        0.0             0.0             0.0             0.0           0.0           0.0        0.0  0.0  0.0   0.0   0.0       1.0  0.0      0.0   \n",
      "NK                    0.0        0.0         0.0        0.0             1.0             0.0             0.0           0.0           0.0        0.0  0.0  0.0   0.0   0.0       0.0  0.0      0.0   \n",
      "Naive B               0.0        0.0         0.0        0.0             0.0             0.0             0.0           0.0           0.0        0.0  0.0  0.0   0.0   0.0       1.0  0.0      0.0   \n",
      "Plasmablast           0.0        0.0         0.0        0.0             0.0             0.0             0.0           0.0           0.0        0.0  0.0  0.0   0.0   0.0       1.0  0.0      0.0   \n",
      "Prog_B 1              0.0        0.0         0.0        0.0             0.0             0.0             0.0           0.0           0.0        0.0  0.0  0.0   1.0   0.0       0.0  0.0      0.0   \n",
      "Prog_B 2              0.0        0.0         0.0        0.0             0.0             0.0             0.0           0.0           0.0        0.0  0.0  0.0   0.0   0.0       0.0  0.0      0.0   \n",
      "Prog_DC               0.0        0.0         0.0        0.0             0.0             0.0             0.0           0.0           0.0        0.0  0.0  0.0   1.0   0.0       0.0  0.0      0.0   \n",
      "Prog_Mk               0.0        0.0         0.0        0.0             0.0             0.0             0.0           0.0           0.0        0.0  0.0  1.0   0.0   0.0       0.0  0.0      0.0   \n",
      "Prog_RBC              0.0        0.0         0.0        0.0             0.0             0.0             0.0           0.0           0.0        0.0  0.0  0.0   0.0   0.0       0.0  0.0      0.0   \n",
      "Treg                  0.0        0.0         0.0        1.0             0.0             0.0             0.0           0.0           0.0        0.0  0.0  0.0   0.0   0.0       0.0  0.0      0.0   \n",
      "cDC2                  0.0        0.0         0.0        0.0             0.0             0.0             0.0           0.0           0.0        0.0  0.0  0.0   0.0   0.0       0.0  0.0      0.0   \n",
      "gdT                   0.0        0.0         0.0        0.0             0.0             0.0             0.0           0.0           0.0        0.0  0.0  0.0   0.0   1.0       0.0  0.0      0.0   \n",
      "pDC                   0.0        0.0         0.0        0.0             0.0             0.0             0.0           0.0           0.0        0.0  0.0  0.0   0.0   0.0       1.0  0.0      0.0   \n",
      "\n",
      "                Plasmablast  Prog_B 1  Prog_B 2  Prog_DC  Prog_Mk  Prog_RBC  Treg  cDC2  gdT  pDC  \n",
      "CD14 Mono               0.0       0.0       0.0      0.0      0.0       0.0   0.0   1.0  0.0  0.0  \n",
      "CD16 Mono               0.0       0.0       0.0      0.0      0.0       0.0   0.0   0.0  0.0  0.0  \n",
      "CD4 Memory              0.0       0.0       0.0      0.0      0.0       0.0   0.0   0.0  0.0  0.0  \n",
      "CD4 Naive               0.0       0.0       0.0      0.0      0.0       0.0   0.0   0.0  0.0  0.0  \n",
      "CD56 bright NK          0.0       0.0       0.0      0.0      0.0       0.0   0.0   0.0  0.0  0.0  \n",
      "CD8 Effector_1          0.0       0.0       0.0      0.0      0.0       0.0   0.0   0.0  0.0  0.0  \n",
      "CD8 Effector_2          0.0       0.0       0.0      0.0      0.0       0.0   0.0   0.0  0.0  0.0  \n",
      "CD8 Memory_1            0.0       0.0       0.0      0.0      0.0       0.0   0.0   0.0  0.0  0.0  \n",
      "CD8 Memory_2            0.0       0.0       0.0      0.0      0.0       0.0   0.0   0.0  0.0  0.0  \n",
      "CD8 Naive               0.0       0.0       0.0      0.0      0.0       0.0   0.0   0.0  0.0  0.0  \n",
      "GMP                     0.0       0.0       0.0      0.0      0.0       0.0   0.0   0.0  0.0  0.0  \n",
      "HSC                     0.0       0.0       0.0      0.0      0.0       0.0   0.0   0.0  0.0  0.0  \n",
      "LMPP                    0.0       0.0       0.0      0.0      0.0       0.0   0.0   0.0  0.0  0.0  \n",
      "MAIT                    0.0       0.0       0.0      0.0      0.0       0.0   0.0   0.0  0.0  0.0  \n",
      "Memory B                0.0       0.0       0.0      0.0      0.0       0.0   0.0   0.0  0.0  0.0  \n",
      "NK                      0.0       0.0       0.0      0.0      0.0       0.0   0.0   0.0  0.0  0.0  \n",
      "Naive B                 0.0       0.0       0.0      0.0      0.0       0.0   0.0   0.0  0.0  0.0  \n",
      "Plasmablast             0.0       0.0       0.0      0.0      0.0       0.0   0.0   0.0  0.0  0.0  \n",
      "Prog_B 1                0.0       0.0       0.0      0.0      0.0       0.0   0.0   0.0  0.0  0.0  \n",
      "Prog_B 2                0.0       1.0       0.0      0.0      0.0       0.0   0.0   0.0  0.0  0.0  \n",
      "Prog_DC                 0.0       0.0       0.0      0.0      0.0       0.0   0.0   0.0  0.0  0.0  \n",
      "Prog_Mk                 0.0       0.0       0.0      0.0      0.0       0.0   0.0   0.0  0.0  0.0  \n",
      "Prog_RBC                0.0       0.0       0.0      0.0      1.0       0.0   0.0   0.0  0.0  0.0  \n",
      "Treg                    0.0       0.0       0.0      0.0      0.0       0.0   0.0   0.0  0.0  0.0  \n",
      "cDC2                    0.0       0.0       0.0      1.0      0.0       0.0   0.0   0.0  0.0  0.0  \n",
      "gdT                     0.0       0.0       0.0      0.0      0.0       0.0   0.0   0.0  0.0  0.0  \n",
      "pDC                     0.0       0.0       0.0      0.0      0.0       0.0   0.0   0.0  0.0  0.0  \n",
      "------------------------ Train a Branching ODE ------------------------\n"
     ]
    },
    {
     "name": "stdout",
     "output_type": "stream",
     "text": [
      "                CD14 Mono  CD16 Mono  CD4 Memory  CD4 Naive  CD56 bright NK  CD8 Effector_1  CD8 Effector_2  CD8 Memory_1  CD8 Memory_2  CD8 Naive  GMP  HSC  LMPP  MAIT  Memory B   NK  Naive B  \\\n",
      "CD14 Mono             0.0        0.0         0.0        0.0             0.0             0.0             0.0           0.0           0.0        0.0  0.0  0.0   0.0   0.0       0.0  0.0      0.0   \n",
      "CD16 Mono             1.0        0.0         0.0        0.0             0.0             0.0             0.0           0.0           0.0        0.0  0.0  0.0   0.0   0.0       0.0  0.0      0.0   \n",
      "CD4 Memory            0.0        0.0         0.0        1.0             0.0             0.0             0.0           0.0           0.0        0.0  0.0  0.0   0.0   0.0       0.0  0.0      0.0   \n",
      "CD4 Naive             0.0        0.0         0.0        1.0             0.0             0.0             0.0           0.0           0.0        0.0  0.0  0.0   0.0   0.0       0.0  0.0      0.0   \n",
      "CD56 bright NK        0.0        0.0         1.0        0.0             0.0             0.0             0.0           0.0           0.0        0.0  0.0  0.0   0.0   0.0       0.0  0.0      0.0   \n",
      "CD8 Effector_1        0.0        0.0         0.0        0.0             0.0             0.0             0.0           0.0           1.0        0.0  0.0  0.0   0.0   0.0       0.0  0.0      0.0   \n",
      "CD8 Effector_2        0.0        0.0         0.0        0.0             0.0             0.0             0.0           0.0           1.0        0.0  0.0  0.0   0.0   0.0       0.0  0.0      0.0   \n",
      "CD8 Memory_1          0.0        0.0         1.0        0.0             0.0             0.0             0.0           0.0           0.0        0.0  0.0  0.0   0.0   0.0       0.0  0.0      0.0   \n",
      "CD8 Memory_2          0.0        0.0         0.0        0.0             0.0             0.0             0.0           1.0           0.0        0.0  0.0  0.0   0.0   0.0       0.0  0.0      0.0   \n",
      "CD8 Naive             0.0        0.0         0.0        1.0             0.0             0.0             0.0           0.0           0.0        0.0  0.0  0.0   0.0   0.0       0.0  0.0      0.0   \n",
      "GMP                   0.0        0.0         0.0        0.0             0.0             0.0             0.0           0.0           0.0        0.0  0.0  0.0   1.0   0.0       0.0  0.0      0.0   \n",
      "HSC                   0.0        0.0         0.0        0.0             0.0             0.0             0.0           0.0           0.0        0.0  0.0  0.0   0.0   0.0       1.0  0.0      0.0   \n",
      "LMPP                  0.0        0.0         0.0        0.0             0.0             0.0             0.0           0.0           0.0        0.0  0.0  1.0   0.0   0.0       0.0  0.0      0.0   \n",
      "MAIT                  0.0        0.0         1.0        0.0             0.0             0.0             0.0           0.0           0.0        0.0  0.0  0.0   0.0   0.0       0.0  0.0      0.0   \n",
      "Memory B              0.0        0.0         0.0        0.0             0.0             0.0             0.0           0.0           0.0        0.0  0.0  0.0   0.0   0.0       1.0  0.0      0.0   \n",
      "NK                    0.0        0.0         0.0        0.0             1.0             0.0             0.0           0.0           0.0        0.0  0.0  0.0   0.0   0.0       0.0  0.0      0.0   \n",
      "Naive B               0.0        0.0         0.0        0.0             0.0             0.0             0.0           0.0           0.0        0.0  0.0  0.0   0.0   0.0       1.0  0.0      0.0   \n",
      "Plasmablast           0.0        0.0         0.0        0.0             0.0             0.0             0.0           0.0           0.0        0.0  0.0  0.0   0.0   0.0       1.0  0.0      0.0   \n",
      "Prog_B 1              0.0        0.0         0.0        0.0             0.0             0.0             0.0           0.0           0.0        0.0  0.0  0.0   1.0   0.0       0.0  0.0      0.0   \n",
      "Prog_B 2              0.0        0.0         0.0        0.0             0.0             0.0             0.0           0.0           0.0        0.0  0.0  0.0   0.0   0.0       0.0  0.0      0.0   \n",
      "Prog_DC               0.0        0.0         0.0        0.0             0.0             0.0             0.0           0.0           0.0        0.0  0.0  0.0   1.0   0.0       0.0  0.0      0.0   \n",
      "Prog_Mk               0.0        0.0         0.0        0.0             0.0             0.0             0.0           0.0           0.0        0.0  0.0  1.0   0.0   0.0       0.0  0.0      0.0   \n",
      "Prog_RBC              0.0        0.0         0.0        0.0             0.0             0.0             0.0           0.0           0.0        0.0  0.0  0.0   0.0   0.0       0.0  0.0      0.0   \n",
      "Treg                  0.0        0.0         0.0        1.0             0.0             0.0             0.0           0.0           0.0        0.0  0.0  0.0   0.0   0.0       0.0  0.0      0.0   \n",
      "cDC2                  0.0        0.0         0.0        0.0             0.0             0.0             0.0           0.0           0.0        0.0  0.0  0.0   0.0   0.0       0.0  0.0      0.0   \n",
      "gdT                   0.0        0.0         0.0        0.0             0.0             0.0             0.0           0.0           0.0        0.0  0.0  0.0   0.0   1.0       0.0  0.0      0.0   \n",
      "pDC                   0.0        0.0         0.0        0.0             0.0             0.0             0.0           0.0           0.0        0.0  0.0  0.0   0.0   0.0       1.0  0.0      0.0   \n",
      "\n",
      "                Plasmablast  Prog_B 1  Prog_B 2  Prog_DC  Prog_Mk  Prog_RBC  Treg  cDC2  gdT  pDC  \n",
      "CD14 Mono               0.0       0.0       0.0      0.0      0.0       0.0   0.0   1.0  0.0  0.0  \n",
      "CD16 Mono               0.0       0.0       0.0      0.0      0.0       0.0   0.0   0.0  0.0  0.0  \n",
      "CD4 Memory              0.0       0.0       0.0      0.0      0.0       0.0   0.0   0.0  0.0  0.0  \n",
      "CD4 Naive               0.0       0.0       0.0      0.0      0.0       0.0   0.0   0.0  0.0  0.0  \n",
      "CD56 bright NK          0.0       0.0       0.0      0.0      0.0       0.0   0.0   0.0  0.0  0.0  \n",
      "CD8 Effector_1          0.0       0.0       0.0      0.0      0.0       0.0   0.0   0.0  0.0  0.0  \n",
      "CD8 Effector_2          0.0       0.0       0.0      0.0      0.0       0.0   0.0   0.0  0.0  0.0  \n",
      "CD8 Memory_1            0.0       0.0       0.0      0.0      0.0       0.0   0.0   0.0  0.0  0.0  \n",
      "CD8 Memory_2            0.0       0.0       0.0      0.0      0.0       0.0   0.0   0.0  0.0  0.0  \n",
      "CD8 Naive               0.0       0.0       0.0      0.0      0.0       0.0   0.0   0.0  0.0  0.0  \n",
      "GMP                     0.0       0.0       0.0      0.0      0.0       0.0   0.0   0.0  0.0  0.0  \n",
      "HSC                     0.0       0.0       0.0      0.0      0.0       0.0   0.0   0.0  0.0  0.0  \n",
      "LMPP                    0.0       0.0       0.0      0.0      0.0       0.0   0.0   0.0  0.0  0.0  \n",
      "MAIT                    0.0       0.0       0.0      0.0      0.0       0.0   0.0   0.0  0.0  0.0  \n",
      "Memory B                0.0       0.0       0.0      0.0      0.0       0.0   0.0   0.0  0.0  0.0  \n",
      "NK                      0.0       0.0       0.0      0.0      0.0       0.0   0.0   0.0  0.0  0.0  \n",
      "Naive B                 0.0       0.0       0.0      0.0      0.0       0.0   0.0   0.0  0.0  0.0  \n",
      "Plasmablast             0.0       0.0       0.0      0.0      0.0       0.0   0.0   0.0  0.0  0.0  \n",
      "Prog_B 1                0.0       0.0       0.0      0.0      0.0       0.0   0.0   0.0  0.0  0.0  \n",
      "Prog_B 2                0.0       1.0       0.0      0.0      0.0       0.0   0.0   0.0  0.0  0.0  \n",
      "Prog_DC                 0.0       0.0       0.0      0.0      0.0       0.0   0.0   0.0  0.0  0.0  \n",
      "Prog_Mk                 0.0       0.0       0.0      0.0      0.0       0.0   0.0   0.0  0.0  0.0  \n",
      "Prog_RBC                0.0       0.0       0.0      0.0      1.0       0.0   0.0   0.0  0.0  0.0  \n",
      "Treg                    0.0       0.0       0.0      0.0      0.0       0.0   0.0   0.0  0.0  0.0  \n",
      "cDC2                    0.0       0.0       0.0      1.0      0.0       0.0   0.0   0.0  0.0  0.0  \n",
      "gdT                     0.0       0.0       0.0      0.0      0.0       0.0   0.0   0.0  0.0  0.0  \n",
      "pDC                     0.0       0.0       0.0      0.0      0.0       0.0   0.0   0.0  0.0  0.0  \n",
      "*********        Creating Training/Validation Datasets        *********\n"
     ]
    },
    {
     "name": "stdout",
     "output_type": "stream",
     "text": [
      "*********                      Finished.                      *********\n",
      "*********                 Creating optimizers                 *********\n",
      "*********                      Finished.                      *********\n",
      "*********                    Start training                   *********\n",
      "Total Number of Iterations Per Epoch: 112, test iteration: 222\n",
      "*********           Early Stop Triggered at epoch 165.            *********\n",
      "*********              Finished. Total Time =   0 h : 30 m : 56 s             *********\n"
     ]
    }
   ],
   "source": [
    "figure_path = f'{figure_path_base}/BrODE'\n",
    "model_path = f'{model_path_base}/BrODE'\n",
    "\n",
    "torch.manual_seed(2022)\n",
    "np.random.seed(2022)\n",
    "brode = vv.BrODE(adata, 'clusters', 'fullvb_time', 'fullvb_z')\n",
    "\n",
    "brode.print_weight()\n",
    "\n",
    "brode.train(adata, 'fullvb_time', 'clusters', plot=False, gene_plot=gene_plot, figure_path=figure_path)\n",
    "\n",
    "brode.save_model(model_path, 'brode')\n",
    "brode.save_anndata(adata, 'brode', data_path, file_name=f'{dataset}.h5ad')\n",
    "\n",
    "vv.plot_transition_graph(adata, save=f'{figure_path_base}/transition.png')"
   ]
  },
  {
   "cell_type": "markdown",
   "id": "f9079f1c",
   "metadata": {},
   "source": [
    "# Evaluation"
   ]
  },
  {
   "cell_type": "code",
   "execution_count": null,
   "id": "4da1a482",
   "metadata": {},
   "outputs": [],
   "source": [
    "cluster_edges = [('HSC','LMPP'),\n",
    "                 ('LMPP','GMP'),\n",
    "                 ('GMP','CD14 Mono'),\n",
    "                 ('CD14 Mono','CD16 Mono'),\n",
    "                 ('Prog DC','cDc2'),\n",
    "                 ('Prog B 1','Prog B 2'), \n",
    "                 ('Prog MK','Prog RBC')]\n",
    "vv.post_analysis(adata,\n",
    "                 'eval',\n",
    "                 ['Vanilla VAE', 'VeloVAE', 'FullVB'],\n",
    "                 ['vanilla', 'velovae', 'fullvb'],\n",
    "                 compute_metrics=True,\n",
    "                 genes=gene_plot,\n",
    "                 grid_size=(2,3),\n",
    "                 plot_type=['all'],\n",
    "                 save_path=data_path,\n",
    "                 cluster_edges=cluster_edges)"
   ]
  }
 ],
 "metadata": {
  "kernelspec": {
   "display_name": "Python 3",
   "language": "python",
   "name": "python3"
  },
  "language_info": {
   "codemirror_mode": {
    "name": "ipython",
    "version": 3
   },
   "file_extension": ".py",
   "mimetype": "text/x-python",
   "name": "python",
   "nbconvert_exporter": "python",
   "pygments_lexer": "ipython3",
   "version": "3.9.7"
  }
 },
 "nbformat": 4,
 "nbformat_minor": 5
}
