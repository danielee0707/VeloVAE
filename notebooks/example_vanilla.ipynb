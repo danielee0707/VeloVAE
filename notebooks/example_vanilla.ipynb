{
 "cells": [
  {
   "cell_type": "code",
   "execution_count": null,
   "id": "962b515c",
   "metadata": {},
   "outputs": [],
   "source": [
    "import anndata\n",
    "import numpy as np\n",
    "import scvelo as scv\n",
    "import sys\n",
    "import torch\n",
    "import os.path\n",
    "sys.path.append('../')\n",
    "import velovae as vv"
   ]
  },
  {
   "cell_type": "code",
   "execution_count": null,
   "id": "68134a5e",
   "metadata": {},
   "outputs": [],
   "source": [
    "filename = '/scratch/blaauw_root/blaauw1/gyichen/output_braindev.h5ad'\n",
    "adata = anndata.read_h5ad(filename)\n",
    "#adata.obs['clusters'] = adata.obs['leiden'].to_numpy()\n",
    "adata.layers"
   ]
  },
  {
   "cell_type": "code",
   "execution_count": null,
   "id": "8b997391",
   "metadata": {},
   "outputs": [],
   "source": [
    "Ngene = 1000\n",
    "vv.preprocess(adata, Ngene)"
   ]
  },
  {
   "cell_type": "code",
   "execution_count": null,
   "id": "9fd730bc",
   "metadata": {},
   "outputs": [],
   "source": [
    "figure_path = '../figures/Braindev/Default'\n",
    "model_path = '../checkpoints/Braindev/Default'\n",
    "data_path = '/scratch/blaauw_root/blaauw1/gyichen'\n",
    "adata.X.shape\n",
    "#os.mkdir(figure_path)\n",
    "#os.mkdir(model_path)"
   ]
  },
  {
   "cell_type": "code",
   "execution_count": null,
   "id": "d0bb1744",
   "metadata": {},
   "outputs": [],
   "source": [
    "def sampleGenes(adata, n):\n",
    "    variable = adata.var['highly_variable'].to_numpy()\n",
    "    total = adata.var['total_counts'].to_numpy()\n",
    "    idx_sort = np.flip(np.argsort(total))\n",
    "    genes = adata.var_names.to_numpy()\n",
    "    #sort genes based total counts\n",
    "    print(total[idx_sort][:10])\n",
    "    variable = variable[idx_sort]\n",
    "    genes = genes[idx_sort]\n",
    "    \n",
    "    genes = genes[variable]\n",
    "    idx = np.random.choice(np.sum(variable), n, replace=False)\n",
    "    return genes[idx]\n",
    "gene_plot = sampleGenes(adata, 8)\n",
    "gene_plot"
   ]
  },
  {
   "cell_type": "code",
   "execution_count": null,
   "id": "cf8e7d08",
   "metadata": {},
   "outputs": [],
   "source": [
    "gene_plot = ['Auts2', 'Dync1i1', 'Gm3764', 'Mapt', 'Nfib', 'Rbfox1', 'Satb2', 'Slc6a13', 'Srrm4', 'Tcf4']#some marker genes\n",
    "config_vae = {\n",
    "    'num_epochs':800, \n",
    "    'test_epoch':50, \n",
    "    'save_epoch':50, \n",
    "    'learning_rate':2e-4, \n",
    "    'learning_rate_ode':2e-4, \n",
    "    'lambda':1e-8, \n",
    "    'reg_t':1.0, \n",
    "    'batch_size':128,\n",
    "}\n",
    "\n",
    "model = vv.VanillaVAE(adata, 20, hidden_size=(500, 250), tprior='tprior', device='gpu')"
   ]
  },
  {
   "cell_type": "code",
   "execution_count": null,
   "id": "93761afa",
   "metadata": {},
   "outputs": [],
   "source": [
    "model.train(adata, config=config_vae, gene_plot=gene_plot, figure_path=figure_path)"
   ]
  },
  {
   "cell_type": "code",
   "execution_count": null,
   "id": "4185ab45",
   "metadata": {},
   "outputs": [],
   "source": [
    "model.saveModel(model_path)\n",
    "model.saveAnnData(adata, 'vanilla', data_path, file_name='output_braindev.h5ad')"
   ]
  },
  {
   "cell_type": "code",
   "execution_count": null,
   "id": "293e5f56",
   "metadata": {},
   "outputs": [],
   "source": []
  }
 ],
 "metadata": {
  "kernelspec": {
   "display_name": "Python 3",
   "language": "python",
   "name": "python3"
  },
  "language_info": {
   "codemirror_mode": {
    "name": "ipython",
    "version": 3
   },
   "file_extension": ".py",
   "mimetype": "text/x-python",
   "name": "python",
   "nbconvert_exporter": "python",
   "pygments_lexer": "ipython3",
   "version": "3.6.5"
  }
 },
 "nbformat": 4,
 "nbformat_minor": 5
}
